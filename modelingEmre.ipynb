{
 "cells": [
  {
   "cell_type": "markdown",
   "metadata": {},
   "source": [
    "# Machine Learning\n",
    "\n",
    "In this file, instructions how to approach the challenge can be found."
   ]
  },
  {
   "cell_type": "markdown",
   "metadata": {},
   "source": [
    "We are going to work on different types of Machine Learning problems:\n",
    "\n",
    "- **Regression Problem**: The goal is to predict delay of flights.\n",
    "- **(Stretch) Multiclass Classification**: If the plane was delayed, we will predict what type of delay it is (will be).\n",
    "- **(Stretch) Binary Classification**: The goal is to predict if the flight will be cancelled."
   ]
  },
  {
   "cell_type": "code",
   "execution_count": 23,
   "metadata": {},
   "outputs": [],
   "source": [
    "import pandas as pd\n",
    "from scipy.stats import shapiro\n",
    "from scipy.stats import ttest_1samp\n",
    "import numpy as np\n",
    "import psycopg2\n",
    "import seaborn as sns\n",
    "import matplotlib.pyplot as plt\n",
    "import xgboost as xgb\n",
    "from sklearn.metrics import mean_squared_error, r2_score\n",
    "from sklearn.model_selection import train_test_split\n",
    "from sklearn.linear_model import LinearRegression\n",
    "from sklearn.preprocessing import StandardScaler\n"
   ]
  },
  {
   "cell_type": "code",
   "execution_count": 2,
   "metadata": {},
   "outputs": [],
   "source": [
    "test = pd.read_csv('flights_test.csv')"
   ]
  },
  {
   "cell_type": "code",
   "execution_count": 3,
   "metadata": {},
   "outputs": [],
   "source": [
    "df = pd.read_csv('flights_merged.csv', index_col=0)"
   ]
  },
  {
   "cell_type": "code",
   "execution_count": 4,
   "metadata": {},
   "outputs": [],
   "source": [
    "df = df.sample(frac=0.01)"
   ]
  },
  {
   "cell_type": "code",
   "execution_count": 5,
   "metadata": {},
   "outputs": [
    {
     "data": {
      "text/html": [
       "<div>\n",
       "<style scoped>\n",
       "    .dataframe tbody tr th:only-of-type {\n",
       "        vertical-align: middle;\n",
       "    }\n",
       "\n",
       "    .dataframe tbody tr th {\n",
       "        vertical-align: top;\n",
       "    }\n",
       "\n",
       "    .dataframe thead th {\n",
       "        text-align: right;\n",
       "    }\n",
       "</style>\n",
       "<table border=\"1\" class=\"dataframe\">\n",
       "  <thead>\n",
       "    <tr style=\"text-align: right;\">\n",
       "      <th></th>\n",
       "      <th>fl_date</th>\n",
       "      <th>mkt_unique_carrier</th>\n",
       "      <th>branded_code_share</th>\n",
       "      <th>mkt_carrier</th>\n",
       "      <th>mkt_carrier_fl_num</th>\n",
       "      <th>op_unique_carrier</th>\n",
       "      <th>tail_num</th>\n",
       "      <th>op_carrier_fl_num</th>\n",
       "      <th>origin_airport_id</th>\n",
       "      <th>origin</th>\n",
       "      <th>...</th>\n",
       "      <th>distance</th>\n",
       "      <th>passengers</th>\n",
       "      <th>capacity</th>\n",
       "      <th>total_gallons</th>\n",
       "      <th>dep_delay_y</th>\n",
       "      <th>nas_delay_y</th>\n",
       "      <th>security_delay_y</th>\n",
       "      <th>late_aircraft_delay_y</th>\n",
       "      <th>weather_delay_y</th>\n",
       "      <th>carrier_delay_y</th>\n",
       "    </tr>\n",
       "  </thead>\n",
       "  <tbody>\n",
       "    <tr>\n",
       "      <th>518617</th>\n",
       "      <td>2019-02-21</td>\n",
       "      <td>UA</td>\n",
       "      <td>UA</td>\n",
       "      <td>UA</td>\n",
       "      <td>448</td>\n",
       "      <td>UA</td>\n",
       "      <td>N39450</td>\n",
       "      <td>448</td>\n",
       "      <td>10721</td>\n",
       "      <td>BOS</td>\n",
       "      <td>...</td>\n",
       "      <td>1754.0</td>\n",
       "      <td>3508.571429</td>\n",
       "      <td>481.428571</td>\n",
       "      <td>2.975601e+08</td>\n",
       "      <td>37.281407</td>\n",
       "      <td>19.603015</td>\n",
       "      <td>0.000000</td>\n",
       "      <td>19.296482</td>\n",
       "      <td>2.502513</td>\n",
       "      <td>9.075377</td>\n",
       "    </tr>\n",
       "    <tr>\n",
       "      <th>492127</th>\n",
       "      <td>2019-04-11</td>\n",
       "      <td>DL</td>\n",
       "      <td>DL</td>\n",
       "      <td>DL</td>\n",
       "      <td>860</td>\n",
       "      <td>DL</td>\n",
       "      <td>N910DL</td>\n",
       "      <td>860</td>\n",
       "      <td>13931</td>\n",
       "      <td>ORF</td>\n",
       "      <td>...</td>\n",
       "      <td>516.0</td>\n",
       "      <td>5331.571429</td>\n",
       "      <td>824.428571</td>\n",
       "      <td>3.087060e+08</td>\n",
       "      <td>50.089947</td>\n",
       "      <td>13.502646</td>\n",
       "      <td>0.000000</td>\n",
       "      <td>21.322751</td>\n",
       "      <td>2.661376</td>\n",
       "      <td>14.439153</td>\n",
       "    </tr>\n",
       "    <tr>\n",
       "      <th>6661</th>\n",
       "      <td>2019-08-16</td>\n",
       "      <td>AA</td>\n",
       "      <td>AA</td>\n",
       "      <td>AA</td>\n",
       "      <td>2373</td>\n",
       "      <td>AA</td>\n",
       "      <td>N833AW</td>\n",
       "      <td>2373</td>\n",
       "      <td>11298</td>\n",
       "      <td>DFW</td>\n",
       "      <td>...</td>\n",
       "      <td>925.0</td>\n",
       "      <td>146.400000</td>\n",
       "      <td>29.600000</td>\n",
       "      <td>3.079852e+08</td>\n",
       "      <td>56.134078</td>\n",
       "      <td>5.614525</td>\n",
       "      <td>0.000000</td>\n",
       "      <td>24.865922</td>\n",
       "      <td>2.346369</td>\n",
       "      <td>23.122905</td>\n",
       "    </tr>\n",
       "    <tr>\n",
       "      <th>159024</th>\n",
       "      <td>2019-10-22</td>\n",
       "      <td>AA</td>\n",
       "      <td>AA_CODESHARE</td>\n",
       "      <td>AA</td>\n",
       "      <td>3241</td>\n",
       "      <td>OO</td>\n",
       "      <td>N770SK</td>\n",
       "      <td>3241</td>\n",
       "      <td>13930</td>\n",
       "      <td>ORD</td>\n",
       "      <td>...</td>\n",
       "      <td>621.0</td>\n",
       "      <td>3024.333333</td>\n",
       "      <td>315.333333</td>\n",
       "      <td>8.602255e+06</td>\n",
       "      <td>49.114894</td>\n",
       "      <td>11.395745</td>\n",
       "      <td>0.000000</td>\n",
       "      <td>19.821277</td>\n",
       "      <td>4.923404</td>\n",
       "      <td>17.621277</td>\n",
       "    </tr>\n",
       "    <tr>\n",
       "      <th>554206</th>\n",
       "      <td>2019-11-21</td>\n",
       "      <td>UA</td>\n",
       "      <td>UA</td>\n",
       "      <td>UA</td>\n",
       "      <td>386</td>\n",
       "      <td>UA</td>\n",
       "      <td>N66803</td>\n",
       "      <td>386</td>\n",
       "      <td>11292</td>\n",
       "      <td>DEN</td>\n",
       "      <td>...</td>\n",
       "      <td>1754.0</td>\n",
       "      <td>4611.000000</td>\n",
       "      <td>370.750000</td>\n",
       "      <td>2.975601e+08</td>\n",
       "      <td>56.534247</td>\n",
       "      <td>27.297945</td>\n",
       "      <td>0.000000</td>\n",
       "      <td>20.184932</td>\n",
       "      <td>4.821918</td>\n",
       "      <td>8.993151</td>\n",
       "    </tr>\n",
       "    <tr>\n",
       "      <th>...</th>\n",
       "      <td>...</td>\n",
       "      <td>...</td>\n",
       "      <td>...</td>\n",
       "      <td>...</td>\n",
       "      <td>...</td>\n",
       "      <td>...</td>\n",
       "      <td>...</td>\n",
       "      <td>...</td>\n",
       "      <td>...</td>\n",
       "      <td>...</td>\n",
       "      <td>...</td>\n",
       "      <td>...</td>\n",
       "      <td>...</td>\n",
       "      <td>...</td>\n",
       "      <td>...</td>\n",
       "      <td>...</td>\n",
       "      <td>...</td>\n",
       "      <td>...</td>\n",
       "      <td>...</td>\n",
       "      <td>...</td>\n",
       "      <td>...</td>\n",
       "    </tr>\n",
       "    <tr>\n",
       "      <th>210578</th>\n",
       "      <td>2019-08-01</td>\n",
       "      <td>UA</td>\n",
       "      <td>UA</td>\n",
       "      <td>UA</td>\n",
       "      <td>2223</td>\n",
       "      <td>UA</td>\n",
       "      <td>N64809</td>\n",
       "      <td>2223</td>\n",
       "      <td>11292</td>\n",
       "      <td>DEN</td>\n",
       "      <td>...</td>\n",
       "      <td>1024.0</td>\n",
       "      <td>2618.000000</td>\n",
       "      <td>240.000000</td>\n",
       "      <td>2.975601e+08</td>\n",
       "      <td>37.808050</td>\n",
       "      <td>16.321981</td>\n",
       "      <td>0.000000</td>\n",
       "      <td>18.684211</td>\n",
       "      <td>3.554180</td>\n",
       "      <td>8.092879</td>\n",
       "    </tr>\n",
       "    <tr>\n",
       "      <th>330074</th>\n",
       "      <td>2019-05-20</td>\n",
       "      <td>AA</td>\n",
       "      <td>AA</td>\n",
       "      <td>AA</td>\n",
       "      <td>792</td>\n",
       "      <td>AA</td>\n",
       "      <td>N352PS</td>\n",
       "      <td>792</td>\n",
       "      <td>11298</td>\n",
       "      <td>DFW</td>\n",
       "      <td>...</td>\n",
       "      <td>1303.0</td>\n",
       "      <td>7075.400000</td>\n",
       "      <td>865.700000</td>\n",
       "      <td>3.079852e+08</td>\n",
       "      <td>55.219697</td>\n",
       "      <td>10.293939</td>\n",
       "      <td>0.004545</td>\n",
       "      <td>19.810606</td>\n",
       "      <td>2.603030</td>\n",
       "      <td>24.628788</td>\n",
       "    </tr>\n",
       "    <tr>\n",
       "      <th>143938</th>\n",
       "      <td>2019-03-09</td>\n",
       "      <td>UA</td>\n",
       "      <td>UA</td>\n",
       "      <td>UA</td>\n",
       "      <td>2273</td>\n",
       "      <td>UA</td>\n",
       "      <td>N850UA</td>\n",
       "      <td>2273</td>\n",
       "      <td>13931</td>\n",
       "      <td>ORF</td>\n",
       "      <td>...</td>\n",
       "      <td>1553.0</td>\n",
       "      <td>1125.000000</td>\n",
       "      <td>203.000000</td>\n",
       "      <td>2.975601e+08</td>\n",
       "      <td>44.081633</td>\n",
       "      <td>9.653061</td>\n",
       "      <td>0.000000</td>\n",
       "      <td>0.000000</td>\n",
       "      <td>0.387755</td>\n",
       "      <td>38.551020</td>\n",
       "    </tr>\n",
       "    <tr>\n",
       "      <th>177276</th>\n",
       "      <td>2019-11-18</td>\n",
       "      <td>DL</td>\n",
       "      <td>DL_CODESHARE</td>\n",
       "      <td>DL</td>\n",
       "      <td>5725</td>\n",
       "      <td>CP</td>\n",
       "      <td>N621CZ</td>\n",
       "      <td>5725</td>\n",
       "      <td>12892</td>\n",
       "      <td>LAX</td>\n",
       "      <td>...</td>\n",
       "      <td>308.0</td>\n",
       "      <td>42.000000</td>\n",
       "      <td>102.000000</td>\n",
       "      <td>0.000000e+00</td>\n",
       "      <td>52.239437</td>\n",
       "      <td>5.881690</td>\n",
       "      <td>0.000000</td>\n",
       "      <td>25.225352</td>\n",
       "      <td>0.171831</td>\n",
       "      <td>22.608451</td>\n",
       "    </tr>\n",
       "    <tr>\n",
       "      <th>104792</th>\n",
       "      <td>2019-03-07</td>\n",
       "      <td>DL</td>\n",
       "      <td>DL_CODESHARE</td>\n",
       "      <td>DL</td>\n",
       "      <td>5706</td>\n",
       "      <td>CP</td>\n",
       "      <td>N629CZ</td>\n",
       "      <td>5706</td>\n",
       "      <td>14057</td>\n",
       "      <td>PDX</td>\n",
       "      <td>...</td>\n",
       "      <td>129.0</td>\n",
       "      <td>155.333333</td>\n",
       "      <td>77.666667</td>\n",
       "      <td>0.000000e+00</td>\n",
       "      <td>42.076316</td>\n",
       "      <td>15.781579</td>\n",
       "      <td>0.000000</td>\n",
       "      <td>27.139474</td>\n",
       "      <td>1.500000</td>\n",
       "      <td>4.321053</td>\n",
       "    </tr>\n",
       "  </tbody>\n",
       "</table>\n",
       "<p>8071 rows × 41 columns</p>\n",
       "</div>"
      ],
      "text/plain": [
       "           fl_date mkt_unique_carrier branded_code_share mkt_carrier  \\\n",
       "518617  2019-02-21                 UA                 UA          UA   \n",
       "492127  2019-04-11                 DL                 DL          DL   \n",
       "6661    2019-08-16                 AA                 AA          AA   \n",
       "159024  2019-10-22                 AA       AA_CODESHARE          AA   \n",
       "554206  2019-11-21                 UA                 UA          UA   \n",
       "...            ...                ...                ...         ...   \n",
       "210578  2019-08-01                 UA                 UA          UA   \n",
       "330074  2019-05-20                 AA                 AA          AA   \n",
       "143938  2019-03-09                 UA                 UA          UA   \n",
       "177276  2019-11-18                 DL       DL_CODESHARE          DL   \n",
       "104792  2019-03-07                 DL       DL_CODESHARE          DL   \n",
       "\n",
       "        mkt_carrier_fl_num op_unique_carrier tail_num  op_carrier_fl_num  \\\n",
       "518617                 448                UA   N39450                448   \n",
       "492127                 860                DL   N910DL                860   \n",
       "6661                  2373                AA   N833AW               2373   \n",
       "159024                3241                OO   N770SK               3241   \n",
       "554206                 386                UA   N66803                386   \n",
       "...                    ...               ...      ...                ...   \n",
       "210578                2223                UA   N64809               2223   \n",
       "330074                 792                AA   N352PS                792   \n",
       "143938                2273                UA   N850UA               2273   \n",
       "177276                5725                CP   N621CZ               5725   \n",
       "104792                5706                CP   N629CZ               5706   \n",
       "\n",
       "        origin_airport_id origin  ... distance   passengers    capacity  \\\n",
       "518617              10721    BOS  ...   1754.0  3508.571429  481.428571   \n",
       "492127              13931    ORF  ...    516.0  5331.571429  824.428571   \n",
       "6661                11298    DFW  ...    925.0   146.400000   29.600000   \n",
       "159024              13930    ORD  ...    621.0  3024.333333  315.333333   \n",
       "554206              11292    DEN  ...   1754.0  4611.000000  370.750000   \n",
       "...                   ...    ...  ...      ...          ...         ...   \n",
       "210578              11292    DEN  ...   1024.0  2618.000000  240.000000   \n",
       "330074              11298    DFW  ...   1303.0  7075.400000  865.700000   \n",
       "143938              13931    ORF  ...   1553.0  1125.000000  203.000000   \n",
       "177276              12892    LAX  ...    308.0    42.000000  102.000000   \n",
       "104792              14057    PDX  ...    129.0   155.333333   77.666667   \n",
       "\n",
       "       total_gallons  dep_delay_y  nas_delay_y  security_delay_y  \\\n",
       "518617  2.975601e+08    37.281407    19.603015          0.000000   \n",
       "492127  3.087060e+08    50.089947    13.502646          0.000000   \n",
       "6661    3.079852e+08    56.134078     5.614525          0.000000   \n",
       "159024  8.602255e+06    49.114894    11.395745          0.000000   \n",
       "554206  2.975601e+08    56.534247    27.297945          0.000000   \n",
       "...              ...          ...          ...               ...   \n",
       "210578  2.975601e+08    37.808050    16.321981          0.000000   \n",
       "330074  3.079852e+08    55.219697    10.293939          0.004545   \n",
       "143938  2.975601e+08    44.081633     9.653061          0.000000   \n",
       "177276  0.000000e+00    52.239437     5.881690          0.000000   \n",
       "104792  0.000000e+00    42.076316    15.781579          0.000000   \n",
       "\n",
       "        late_aircraft_delay_y  weather_delay_y  carrier_delay_y  \n",
       "518617              19.296482         2.502513         9.075377  \n",
       "492127              21.322751         2.661376        14.439153  \n",
       "6661                24.865922         2.346369        23.122905  \n",
       "159024              19.821277         4.923404        17.621277  \n",
       "554206              20.184932         4.821918         8.993151  \n",
       "...                       ...              ...              ...  \n",
       "210578              18.684211         3.554180         8.092879  \n",
       "330074              19.810606         2.603030        24.628788  \n",
       "143938               0.000000         0.387755        38.551020  \n",
       "177276              25.225352         0.171831        22.608451  \n",
       "104792              27.139474         1.500000         4.321053  \n",
       "\n",
       "[8071 rows x 41 columns]"
      ]
     },
     "execution_count": 5,
     "metadata": {},
     "output_type": "execute_result"
    }
   ],
   "source": [
    "df"
   ]
  },
  {
   "cell_type": "code",
   "execution_count": 6,
   "metadata": {},
   "outputs": [],
   "source": [
    "y= df['arr_delay']"
   ]
  },
  {
   "cell_type": "code",
   "execution_count": 7,
   "metadata": {},
   "outputs": [],
   "source": [
    "X = df"
   ]
  },
  {
   "cell_type": "code",
   "execution_count": 8,
   "metadata": {},
   "outputs": [],
   "source": [
    "X = X.drop(columns=['arr_delay'])"
   ]
  },
  {
   "cell_type": "code",
   "execution_count": 9,
   "metadata": {},
   "outputs": [],
   "source": [
    "#X.fl_date = X.fl_date.apply(pd.to_datetime)"
   ]
  },
  {
   "cell_type": "markdown",
   "metadata": {},
   "source": [
    "## Main Task: Regression Problem"
   ]
  },
  {
   "cell_type": "markdown",
   "metadata": {},
   "source": [
    "The target variable is **ARR_DELAY**. We need to be careful which columns to use and which don't. For example, DEP_DELAY is going to be the perfect predictor, but we can't use it because in real-life scenario, we want to predict the delay before the flight takes of --> We can use average delay from earlier days but not the one from the actual flight we predict.  \n",
    "\n",
    "For example, variables **CARRIER_DELAY, WEATHER_DELAY, NAS_DELAY, SECURITY_DELAY, LATE_AIRCRAFT_DELAY** shouldn't be used directly as predictors as well. However, we can create various transformations from earlier values.\n",
    "\n",
    "We will be evaluating your models by predicting the ARR_DELAY for all flights **1 week in advance**."
   ]
  },
  {
   "cell_type": "code",
   "execution_count": 10,
   "metadata": {},
   "outputs": [
    {
     "data": {
      "text/plain": [
       "Index(['fl_date', 'mkt_unique_carrier', 'branded_code_share', 'mkt_carrier',\n",
       "       'mkt_carrier_fl_num', 'op_unique_carrier', 'tail_num',\n",
       "       'op_carrier_fl_num', 'origin_airport_id', 'origin', 'origin_city_name',\n",
       "       'dest_airport_id', 'dest', 'dest_city_name', 'crs_dep_time', 'dep_time',\n",
       "       'taxi_out', 'wheels_off', 'wheels_on', 'taxi_in', 'crs_arr_time',\n",
       "       'arr_time', 'cancelled', 'cancellation_code', 'diverted', 'dup',\n",
       "       'crs_elapsed_time', 'actual_elapsed_time', 'air_time', 'flights',\n",
       "       'distance', 'passengers', 'capacity', 'total_gallons', 'dep_delay_y',\n",
       "       'nas_delay_y', 'security_delay_y', 'late_aircraft_delay_y',\n",
       "       'weather_delay_y', 'carrier_delay_y'],\n",
       "      dtype='object')"
      ]
     },
     "execution_count": 10,
     "metadata": {},
     "output_type": "execute_result"
    }
   ],
   "source": [
    "X.columns"
   ]
  },
  {
   "cell_type": "code",
   "execution_count": 10,
   "metadata": {},
   "outputs": [],
   "source": [
    "X = X[['origin_airport_id', 'dest_airport_id', 'air_time', 'distance', 'passengers', 'crs_elapsed_time','capacity', 'total_gallons', 'dep_delay_y',\n",
    "       'nas_delay_y', 'security_delay_y', 'late_aircraft_delay_y',\n",
    "       'weather_delay_y', 'carrier_delay_y']]\n",
    "#dropped flight date :( "
   ]
  },
  {
   "cell_type": "code",
   "execution_count": 11,
   "metadata": {},
   "outputs": [
    {
     "data": {
      "text/html": [
       "<div>\n",
       "<style scoped>\n",
       "    .dataframe tbody tr th:only-of-type {\n",
       "        vertical-align: middle;\n",
       "    }\n",
       "\n",
       "    .dataframe tbody tr th {\n",
       "        vertical-align: top;\n",
       "    }\n",
       "\n",
       "    .dataframe thead th {\n",
       "        text-align: right;\n",
       "    }\n",
       "</style>\n",
       "<table border=\"1\" class=\"dataframe\">\n",
       "  <thead>\n",
       "    <tr style=\"text-align: right;\">\n",
       "      <th></th>\n",
       "      <th>origin_airport_id</th>\n",
       "      <th>dest_airport_id</th>\n",
       "      <th>air_time</th>\n",
       "      <th>flights</th>\n",
       "      <th>distance</th>\n",
       "      <th>passengers</th>\n",
       "      <th>crs_elapsed_time</th>\n",
       "      <th>capacity</th>\n",
       "      <th>total_gallons</th>\n",
       "      <th>dep_delay_y</th>\n",
       "      <th>nas_delay_y</th>\n",
       "      <th>security_delay_y</th>\n",
       "      <th>late_aircraft_delay_y</th>\n",
       "      <th>weather_delay_y</th>\n",
       "      <th>carrier_delay_y</th>\n",
       "    </tr>\n",
       "  </thead>\n",
       "  <tbody>\n",
       "    <tr>\n",
       "      <th>518617</th>\n",
       "      <td>10721</td>\n",
       "      <td>11292</td>\n",
       "      <td>286.0</td>\n",
       "      <td>1.0</td>\n",
       "      <td>1754.0</td>\n",
       "      <td>3508.571429</td>\n",
       "      <td>284.0</td>\n",
       "      <td>481.428571</td>\n",
       "      <td>2.975601e+08</td>\n",
       "      <td>37.281407</td>\n",
       "      <td>19.603015</td>\n",
       "      <td>0.000000</td>\n",
       "      <td>19.296482</td>\n",
       "      <td>2.502513</td>\n",
       "      <td>9.075377</td>\n",
       "    </tr>\n",
       "    <tr>\n",
       "      <th>492127</th>\n",
       "      <td>13931</td>\n",
       "      <td>10397</td>\n",
       "      <td>86.0</td>\n",
       "      <td>1.0</td>\n",
       "      <td>516.0</td>\n",
       "      <td>5331.571429</td>\n",
       "      <td>113.0</td>\n",
       "      <td>824.428571</td>\n",
       "      <td>3.087060e+08</td>\n",
       "      <td>50.089947</td>\n",
       "      <td>13.502646</td>\n",
       "      <td>0.000000</td>\n",
       "      <td>21.322751</td>\n",
       "      <td>2.661376</td>\n",
       "      <td>14.439153</td>\n",
       "    </tr>\n",
       "    <tr>\n",
       "      <th>6661</th>\n",
       "      <td>11298</td>\n",
       "      <td>14685</td>\n",
       "      <td>118.0</td>\n",
       "      <td>1.0</td>\n",
       "      <td>925.0</td>\n",
       "      <td>146.400000</td>\n",
       "      <td>144.0</td>\n",
       "      <td>29.600000</td>\n",
       "      <td>3.079852e+08</td>\n",
       "      <td>56.134078</td>\n",
       "      <td>5.614525</td>\n",
       "      <td>0.000000</td>\n",
       "      <td>24.865922</td>\n",
       "      <td>2.346369</td>\n",
       "      <td>23.122905</td>\n",
       "    </tr>\n",
       "    <tr>\n",
       "      <th>159024</th>\n",
       "      <td>13930</td>\n",
       "      <td>10821</td>\n",
       "      <td>91.0</td>\n",
       "      <td>1.0</td>\n",
       "      <td>621.0</td>\n",
       "      <td>3024.333333</td>\n",
       "      <td>122.0</td>\n",
       "      <td>315.333333</td>\n",
       "      <td>8.602255e+06</td>\n",
       "      <td>49.114894</td>\n",
       "      <td>11.395745</td>\n",
       "      <td>0.000000</td>\n",
       "      <td>19.821277</td>\n",
       "      <td>4.923404</td>\n",
       "      <td>17.621277</td>\n",
       "    </tr>\n",
       "    <tr>\n",
       "      <th>554206</th>\n",
       "      <td>11292</td>\n",
       "      <td>10721</td>\n",
       "      <td>191.0</td>\n",
       "      <td>1.0</td>\n",
       "      <td>1754.0</td>\n",
       "      <td>4611.000000</td>\n",
       "      <td>228.0</td>\n",
       "      <td>370.750000</td>\n",
       "      <td>2.975601e+08</td>\n",
       "      <td>56.534247</td>\n",
       "      <td>27.297945</td>\n",
       "      <td>0.000000</td>\n",
       "      <td>20.184932</td>\n",
       "      <td>4.821918</td>\n",
       "      <td>8.993151</td>\n",
       "    </tr>\n",
       "    <tr>\n",
       "      <th>...</th>\n",
       "      <td>...</td>\n",
       "      <td>...</td>\n",
       "      <td>...</td>\n",
       "      <td>...</td>\n",
       "      <td>...</td>\n",
       "      <td>...</td>\n",
       "      <td>...</td>\n",
       "      <td>...</td>\n",
       "      <td>...</td>\n",
       "      <td>...</td>\n",
       "      <td>...</td>\n",
       "      <td>...</td>\n",
       "      <td>...</td>\n",
       "      <td>...</td>\n",
       "      <td>...</td>\n",
       "    </tr>\n",
       "    <tr>\n",
       "      <th>210578</th>\n",
       "      <td>11292</td>\n",
       "      <td>14747</td>\n",
       "      <td>138.0</td>\n",
       "      <td>1.0</td>\n",
       "      <td>1024.0</td>\n",
       "      <td>2618.000000</td>\n",
       "      <td>180.0</td>\n",
       "      <td>240.000000</td>\n",
       "      <td>2.975601e+08</td>\n",
       "      <td>37.808050</td>\n",
       "      <td>16.321981</td>\n",
       "      <td>0.000000</td>\n",
       "      <td>18.684211</td>\n",
       "      <td>3.554180</td>\n",
       "      <td>8.092879</td>\n",
       "    </tr>\n",
       "    <tr>\n",
       "      <th>330074</th>\n",
       "      <td>11298</td>\n",
       "      <td>14100</td>\n",
       "      <td>163.0</td>\n",
       "      <td>1.0</td>\n",
       "      <td>1303.0</td>\n",
       "      <td>7075.400000</td>\n",
       "      <td>195.0</td>\n",
       "      <td>865.700000</td>\n",
       "      <td>3.079852e+08</td>\n",
       "      <td>55.219697</td>\n",
       "      <td>10.293939</td>\n",
       "      <td>0.004545</td>\n",
       "      <td>19.810606</td>\n",
       "      <td>2.603030</td>\n",
       "      <td>24.628788</td>\n",
       "    </tr>\n",
       "    <tr>\n",
       "      <th>143938</th>\n",
       "      <td>13931</td>\n",
       "      <td>11292</td>\n",
       "      <td>226.0</td>\n",
       "      <td>1.0</td>\n",
       "      <td>1553.0</td>\n",
       "      <td>1125.000000</td>\n",
       "      <td>245.0</td>\n",
       "      <td>203.000000</td>\n",
       "      <td>2.975601e+08</td>\n",
       "      <td>44.081633</td>\n",
       "      <td>9.653061</td>\n",
       "      <td>0.000000</td>\n",
       "      <td>0.000000</td>\n",
       "      <td>0.387755</td>\n",
       "      <td>38.551020</td>\n",
       "    </tr>\n",
       "    <tr>\n",
       "      <th>177276</th>\n",
       "      <td>12892</td>\n",
       "      <td>14831</td>\n",
       "      <td>48.0</td>\n",
       "      <td>1.0</td>\n",
       "      <td>308.0</td>\n",
       "      <td>42.000000</td>\n",
       "      <td>80.0</td>\n",
       "      <td>102.000000</td>\n",
       "      <td>0.000000e+00</td>\n",
       "      <td>52.239437</td>\n",
       "      <td>5.881690</td>\n",
       "      <td>0.000000</td>\n",
       "      <td>25.225352</td>\n",
       "      <td>0.171831</td>\n",
       "      <td>22.608451</td>\n",
       "    </tr>\n",
       "    <tr>\n",
       "      <th>104792</th>\n",
       "      <td>14057</td>\n",
       "      <td>14747</td>\n",
       "      <td>32.0</td>\n",
       "      <td>1.0</td>\n",
       "      <td>129.0</td>\n",
       "      <td>155.333333</td>\n",
       "      <td>90.0</td>\n",
       "      <td>77.666667</td>\n",
       "      <td>0.000000e+00</td>\n",
       "      <td>42.076316</td>\n",
       "      <td>15.781579</td>\n",
       "      <td>0.000000</td>\n",
       "      <td>27.139474</td>\n",
       "      <td>1.500000</td>\n",
       "      <td>4.321053</td>\n",
       "    </tr>\n",
       "  </tbody>\n",
       "</table>\n",
       "<p>8071 rows × 15 columns</p>\n",
       "</div>"
      ],
      "text/plain": [
       "        origin_airport_id  dest_airport_id  air_time  flights  distance  \\\n",
       "518617              10721            11292     286.0      1.0    1754.0   \n",
       "492127              13931            10397      86.0      1.0     516.0   \n",
       "6661                11298            14685     118.0      1.0     925.0   \n",
       "159024              13930            10821      91.0      1.0     621.0   \n",
       "554206              11292            10721     191.0      1.0    1754.0   \n",
       "...                   ...              ...       ...      ...       ...   \n",
       "210578              11292            14747     138.0      1.0    1024.0   \n",
       "330074              11298            14100     163.0      1.0    1303.0   \n",
       "143938              13931            11292     226.0      1.0    1553.0   \n",
       "177276              12892            14831      48.0      1.0     308.0   \n",
       "104792              14057            14747      32.0      1.0     129.0   \n",
       "\n",
       "         passengers  crs_elapsed_time    capacity  total_gallons  dep_delay_y  \\\n",
       "518617  3508.571429             284.0  481.428571   2.975601e+08    37.281407   \n",
       "492127  5331.571429             113.0  824.428571   3.087060e+08    50.089947   \n",
       "6661     146.400000             144.0   29.600000   3.079852e+08    56.134078   \n",
       "159024  3024.333333             122.0  315.333333   8.602255e+06    49.114894   \n",
       "554206  4611.000000             228.0  370.750000   2.975601e+08    56.534247   \n",
       "...             ...               ...         ...            ...          ...   \n",
       "210578  2618.000000             180.0  240.000000   2.975601e+08    37.808050   \n",
       "330074  7075.400000             195.0  865.700000   3.079852e+08    55.219697   \n",
       "143938  1125.000000             245.0  203.000000   2.975601e+08    44.081633   \n",
       "177276    42.000000              80.0  102.000000   0.000000e+00    52.239437   \n",
       "104792   155.333333              90.0   77.666667   0.000000e+00    42.076316   \n",
       "\n",
       "        nas_delay_y  security_delay_y  late_aircraft_delay_y  weather_delay_y  \\\n",
       "518617    19.603015          0.000000              19.296482         2.502513   \n",
       "492127    13.502646          0.000000              21.322751         2.661376   \n",
       "6661       5.614525          0.000000              24.865922         2.346369   \n",
       "159024    11.395745          0.000000              19.821277         4.923404   \n",
       "554206    27.297945          0.000000              20.184932         4.821918   \n",
       "...             ...               ...                    ...              ...   \n",
       "210578    16.321981          0.000000              18.684211         3.554180   \n",
       "330074    10.293939          0.004545              19.810606         2.603030   \n",
       "143938     9.653061          0.000000               0.000000         0.387755   \n",
       "177276     5.881690          0.000000              25.225352         0.171831   \n",
       "104792    15.781579          0.000000              27.139474         1.500000   \n",
       "\n",
       "        carrier_delay_y  \n",
       "518617         9.075377  \n",
       "492127        14.439153  \n",
       "6661          23.122905  \n",
       "159024        17.621277  \n",
       "554206         8.993151  \n",
       "...                 ...  \n",
       "210578         8.092879  \n",
       "330074        24.628788  \n",
       "143938        38.551020  \n",
       "177276        22.608451  \n",
       "104792         4.321053  \n",
       "\n",
       "[8071 rows x 15 columns]"
      ]
     },
     "execution_count": 11,
     "metadata": {},
     "output_type": "execute_result"
    }
   ],
   "source": [
    "X"
   ]
  },
  {
   "cell_type": "code",
   "execution_count": null,
   "metadata": {},
   "outputs": [],
   "source": []
  },
  {
   "cell_type": "markdown",
   "metadata": {},
   "source": [
    "### Feature Engineering"
   ]
  },
  {
   "cell_type": "markdown",
   "metadata": {},
   "source": [
    "Feature engineering will play a crucial role in this problems. We have only very little attributes so we need to create some features that will have some predictive power.\n",
    "\n",
    "- weather: we can use some weather API to look for the weather in time of the scheduled departure and scheduled arrival.\n",
    "- statistics (avg, mean, median, std, min, max...): we can take a look at previous delays and compute descriptive statistics\n",
    "- airports encoding: we need to think about what to do with the airports and other categorical variables\n",
    "- time of the day: the delay probably depends on the airport traffic which varies during the day.\n",
    "- airport traffic\n",
    "- unsupervised learning as feature engineering?\n",
    "- **what are the additional options?**: Think about what we could do more to improve the model."
   ]
  },
  {
   "cell_type": "code",
   "execution_count": null,
   "metadata": {},
   "outputs": [],
   "source": []
  },
  {
   "cell_type": "code",
   "execution_count": null,
   "metadata": {},
   "outputs": [],
   "source": []
  },
  {
   "cell_type": "code",
   "execution_count": null,
   "metadata": {},
   "outputs": [],
   "source": []
  },
  {
   "cell_type": "code",
   "execution_count": null,
   "metadata": {},
   "outputs": [],
   "source": []
  },
  {
   "cell_type": "code",
   "execution_count": null,
   "metadata": {},
   "outputs": [],
   "source": []
  },
  {
   "cell_type": "markdown",
   "metadata": {},
   "source": [
    "### Feature Selection / Dimensionality Reduction"
   ]
  },
  {
   "cell_type": "markdown",
   "metadata": {},
   "source": [
    "We need to apply different selection techniques to find out which one will be the best for our problems.\n",
    "\n",
    "- Original Features vs. PCA conponents?"
   ]
  },
  {
   "cell_type": "code",
   "execution_count": null,
   "metadata": {},
   "outputs": [],
   "source": []
  },
  {
   "cell_type": "code",
   "execution_count": null,
   "metadata": {},
   "outputs": [],
   "source": []
  },
  {
   "cell_type": "code",
   "execution_count": null,
   "metadata": {},
   "outputs": [],
   "source": []
  },
  {
   "cell_type": "code",
   "execution_count": null,
   "metadata": {},
   "outputs": [],
   "source": []
  },
  {
   "cell_type": "code",
   "execution_count": null,
   "metadata": {},
   "outputs": [],
   "source": []
  },
  {
   "cell_type": "markdown",
   "metadata": {},
   "source": [
    "### Modeling"
   ]
  },
  {
   "cell_type": "markdown",
   "metadata": {},
   "source": [
    "Use different ML techniques to predict each problem.\n",
    "\n",
    "- linear / logistic / multinomial logistic regression\n",
    "- Naive Bayes\n",
    "- Random Forest\n",
    "- SVM\n",
    "- XGBoost\n",
    "- The ensemble of your own choice"
   ]
  },
  {
   "cell_type": "code",
   "execution_count": 12,
   "metadata": {},
   "outputs": [],
   "source": [
    "#data_dmatrix = xgb.DMatrix(data=X,label=y, enable_categorical=True)"
   ]
  },
  {
   "cell_type": "code",
   "execution_count": null,
   "metadata": {},
   "outputs": [],
   "source": [
    "#objective ='reg:squarederror', colsample_bytree = 0.3, learning_rate = 0.1, max_depth = 7, alpha = 0.1,"
   ]
  },
  {
   "cell_type": "code",
   "execution_count": 24,
   "metadata": {},
   "outputs": [],
   "source": [
    "scaler = StandardScaler()"
   ]
  },
  {
   "cell_type": "code",
   "execution_count": 25,
   "metadata": {},
   "outputs": [],
   "source": [
    "X = pd.DataFrame(scaler.fit_transform(X))"
   ]
  },
  {
   "cell_type": "code",
   "execution_count": 26,
   "metadata": {},
   "outputs": [],
   "source": [
    "X_train, X_test, y_train, y_test = train_test_split(X, y, shuffle=True, train_size=0.8)\n"
   ]
  },
  {
   "cell_type": "code",
   "execution_count": 27,
   "metadata": {},
   "outputs": [],
   "source": [
    "lr = LinearRegression()"
   ]
  },
  {
   "cell_type": "code",
   "execution_count": 28,
   "metadata": {},
   "outputs": [
    {
     "data": {
      "text/plain": [
       "LinearRegression()"
      ]
     },
     "execution_count": 28,
     "metadata": {},
     "output_type": "execute_result"
    }
   ],
   "source": [
    "lr.fit(X_train, y_train) "
   ]
  },
  {
   "cell_type": "code",
   "execution_count": 29,
   "metadata": {},
   "outputs": [
    {
     "data": {
      "text/plain": [
       "0.03548352555792911"
      ]
     },
     "execution_count": 29,
     "metadata": {},
     "output_type": "execute_result"
    }
   ],
   "source": [
    "lr.score(X_train, y_train)"
   ]
  },
  {
   "cell_type": "code",
   "execution_count": 30,
   "metadata": {},
   "outputs": [
    {
     "data": {
      "text/plain": [
       "0.030917921003375093"
      ]
     },
     "execution_count": 30,
     "metadata": {},
     "output_type": "execute_result"
    }
   ],
   "source": [
    "lr.score(X_test, y_test)"
   ]
  },
  {
   "cell_type": "markdown",
   "metadata": {},
   "source": [
    "### Random Forest"
   ]
  },
  {
   "cell_type": "code",
   "execution_count": null,
   "metadata": {},
   "outputs": [],
   "source": []
  },
  {
   "cell_type": "code",
   "execution_count": null,
   "metadata": {},
   "outputs": [],
   "source": []
  },
  {
   "cell_type": "code",
   "execution_count": null,
   "metadata": {},
   "outputs": [],
   "source": []
  },
  {
   "cell_type": "code",
   "execution_count": null,
   "metadata": {},
   "outputs": [],
   "source": []
  },
  {
   "cell_type": "markdown",
   "metadata": {},
   "source": [
    "### Evaluation"
   ]
  },
  {
   "cell_type": "markdown",
   "metadata": {},
   "source": [
    "You have data from 2018 and 2019 to develop models. Use different evaluation metrics for each problem and compare the performance of different models.\n",
    "\n",
    "You are required to predict delays on **out of sample** data from **first 7 days (1st-7th) of January 2020** and to share the file with LighthouseLabs. Sample submission can be found in the file **_sample_submission.csv_**"
   ]
  },
  {
   "cell_type": "code",
   "execution_count": null,
   "metadata": {},
   "outputs": [],
   "source": []
  },
  {
   "cell_type": "code",
   "execution_count": null,
   "metadata": {},
   "outputs": [],
   "source": []
  },
  {
   "cell_type": "code",
   "execution_count": null,
   "metadata": {},
   "outputs": [],
   "source": []
  },
  {
   "cell_type": "code",
   "execution_count": null,
   "metadata": {},
   "outputs": [],
   "source": []
  },
  {
   "cell_type": "markdown",
   "metadata": {},
   "source": [
    "======================================================================\n",
    "## Stretch Tasks"
   ]
  },
  {
   "cell_type": "markdown",
   "metadata": {},
   "source": [
    "### Multiclass Classification"
   ]
  },
  {
   "cell_type": "markdown",
   "metadata": {},
   "source": [
    "The target variables are **CARRIER_DELAY, WEATHER_DELAY, NAS_DELAY, SECURITY_DELAY, LATE_AIRCRAFT_DELAY**. We need to do additional transformations because these variables are not binary but continuos. For each flight that was delayed, we need to have one of these variables as 1 and others 0.\n",
    "\n",
    "It can happen that we have two types of delays with more than 0 minutes. In this case, take the bigger one as 1 and others as 0."
   ]
  },
  {
   "cell_type": "code",
   "execution_count": null,
   "metadata": {},
   "outputs": [],
   "source": []
  },
  {
   "cell_type": "code",
   "execution_count": null,
   "metadata": {},
   "outputs": [],
   "source": []
  },
  {
   "cell_type": "code",
   "execution_count": null,
   "metadata": {},
   "outputs": [],
   "source": []
  },
  {
   "cell_type": "markdown",
   "metadata": {},
   "source": [
    "### Binary Classification"
   ]
  },
  {
   "cell_type": "markdown",
   "metadata": {},
   "source": [
    "The target variable is **CANCELLED**. The main problem here is going to be huge class imbalance. We have only very little cancelled flights with comparison to all flights. It is important to do the right sampling before training and to choose correct evaluation metrics."
   ]
  },
  {
   "cell_type": "code",
   "execution_count": null,
   "metadata": {},
   "outputs": [],
   "source": []
  },
  {
   "cell_type": "code",
   "execution_count": null,
   "metadata": {},
   "outputs": [],
   "source": []
  },
  {
   "cell_type": "code",
   "execution_count": null,
   "metadata": {},
   "outputs": [],
   "source": []
  }
 ],
 "metadata": {
  "kernelspec": {
   "display_name": "Python 3 (ipykernel)",
   "language": "python",
   "name": "python3"
  },
  "language_info": {
   "codemirror_mode": {
    "name": "ipython",
    "version": 3
   },
   "file_extension": ".py",
   "mimetype": "text/x-python",
   "name": "python",
   "nbconvert_exporter": "python",
   "pygments_lexer": "ipython3",
   "version": "3.9.7"
  }
 },
 "nbformat": 4,
 "nbformat_minor": 4
}
