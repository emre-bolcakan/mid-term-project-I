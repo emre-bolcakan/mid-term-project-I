{
 "cells": [
  {
   "cell_type": "markdown",
   "metadata": {},
   "source": [
    "# Machine Learning\n",
    "\n",
    "In this file, instructions how to approach the challenge can be found."
   ]
  },
  {
   "cell_type": "markdown",
   "metadata": {},
   "source": [
    "We are going to work on different types of Machine Learning problems:\n",
    "\n",
    "- **Regression Problem**: The goal is to predict delay of flights.\n",
    "- **(Stretch) Multiclass Classification**: If the plane was delayed, we will predict what type of delay it is (will be).\n",
    "- **(Stretch) Binary Classification**: The goal is to predict if the flight will be cancelled."
   ]
  },
  {
   "cell_type": "code",
   "execution_count": 141,
   "metadata": {},
   "outputs": [],
   "source": [
    "import pandas as pd\n",
    "from scipy.stats import shapiro\n",
    "from scipy.stats import ttest_1samp\n",
    "import numpy as np\n",
    "import psycopg2\n",
    "import seaborn as sns\n",
    "import matplotlib.pyplot as plt\n",
    "import xgboost as xgb\n",
    "from sklearn.metrics import mean_squared_error, r2_score, mean_absolute_error, mean_squared_error \n",
    "from sklearn.model_selection import train_test_split\n",
    "from sklearn.linear_model import LinearRegression\n",
    "from sklearn.preprocessing import StandardScaler\n",
    "from sklearn.metrics import roc_auc_score\n",
    "from sklearn.metrics import confusion_matrix\n",
    "from sklearn.ensemble import RandomForestRegressor\n",
    "from sklearn.model_selection import GridSearchCV"
   ]
  },
  {
   "cell_type": "code",
   "execution_count": 142,
   "metadata": {},
   "outputs": [],
   "source": [
    "test = pd.read_csv('flights_test.csv')"
   ]
  },
  {
   "cell_type": "code",
   "execution_count": 143,
   "metadata": {},
   "outputs": [],
   "source": [
    "df = pd.read_csv('flights_merged.csv', index_col=0)"
   ]
  },
  {
   "cell_type": "code",
   "execution_count": 144,
   "metadata": {},
   "outputs": [],
   "source": [
    "df = df.dropna(axis=0, subset=['crs_elapsed_time'])"
   ]
  },
  {
   "cell_type": "code",
   "execution_count": 159,
   "metadata": {},
   "outputs": [],
   "source": [
    "df = df.sample(frac=0.1)"
   ]
  },
  {
   "cell_type": "code",
   "execution_count": 160,
   "metadata": {},
   "outputs": [
    {
     "data": {
      "text/html": [
       "<div>\n",
       "<style scoped>\n",
       "    .dataframe tbody tr th:only-of-type {\n",
       "        vertical-align: middle;\n",
       "    }\n",
       "\n",
       "    .dataframe tbody tr th {\n",
       "        vertical-align: top;\n",
       "    }\n",
       "\n",
       "    .dataframe thead th {\n",
       "        text-align: right;\n",
       "    }\n",
       "</style>\n",
       "<table border=\"1\" class=\"dataframe\">\n",
       "  <thead>\n",
       "    <tr style=\"text-align: right;\">\n",
       "      <th></th>\n",
       "      <th>fl_date</th>\n",
       "      <th>mkt_unique_carrier</th>\n",
       "      <th>branded_code_share</th>\n",
       "      <th>mkt_carrier</th>\n",
       "      <th>mkt_carrier_fl_num</th>\n",
       "      <th>op_unique_carrier</th>\n",
       "      <th>tail_num</th>\n",
       "      <th>op_carrier_fl_num</th>\n",
       "      <th>origin_airport_id</th>\n",
       "      <th>origin</th>\n",
       "      <th>...</th>\n",
       "      <th>distance</th>\n",
       "      <th>passengers</th>\n",
       "      <th>capacity</th>\n",
       "      <th>total_gallons</th>\n",
       "      <th>dep_delay</th>\n",
       "      <th>nas_delay</th>\n",
       "      <th>security_delay</th>\n",
       "      <th>late_aircraft_delay</th>\n",
       "      <th>weather_delay</th>\n",
       "      <th>carrier_delay</th>\n",
       "    </tr>\n",
       "  </thead>\n",
       "  <tbody>\n",
       "    <tr>\n",
       "      <th>619085</th>\n",
       "      <td>2019-07-22</td>\n",
       "      <td>WN</td>\n",
       "      <td>WN</td>\n",
       "      <td>WN</td>\n",
       "      <td>2206</td>\n",
       "      <td>WN</td>\n",
       "      <td>N250WN</td>\n",
       "      <td>2206</td>\n",
       "      <td>14635</td>\n",
       "      <td>RSW</td>\n",
       "      <td>...</td>\n",
       "      <td>919.0</td>\n",
       "      <td>2167.666667</td>\n",
       "      <td>924.000000</td>\n",
       "      <td>1.723195e+08</td>\n",
       "      <td>58.890244</td>\n",
       "      <td>8.189024</td>\n",
       "      <td>0.000000</td>\n",
       "      <td>35.274390</td>\n",
       "      <td>1.609756</td>\n",
       "      <td>9.798780</td>\n",
       "    </tr>\n",
       "    <tr>\n",
       "      <th>320120</th>\n",
       "      <td>2019-01-13</td>\n",
       "      <td>AA</td>\n",
       "      <td>AA</td>\n",
       "      <td>AA</td>\n",
       "      <td>872</td>\n",
       "      <td>AA</td>\n",
       "      <td>N93003</td>\n",
       "      <td>872</td>\n",
       "      <td>12266</td>\n",
       "      <td>IAH</td>\n",
       "      <td>...</td>\n",
       "      <td>964.0</td>\n",
       "      <td>119.000000</td>\n",
       "      <td>62.000000</td>\n",
       "      <td>3.079852e+08</td>\n",
       "      <td>43.928571</td>\n",
       "      <td>11.721805</td>\n",
       "      <td>0.097744</td>\n",
       "      <td>24.165414</td>\n",
       "      <td>1.639098</td>\n",
       "      <td>12.454887</td>\n",
       "    </tr>\n",
       "    <tr>\n",
       "      <th>381846</th>\n",
       "      <td>2019-09-22</td>\n",
       "      <td>AS</td>\n",
       "      <td>AS</td>\n",
       "      <td>AS</td>\n",
       "      <td>828</td>\n",
       "      <td>AS</td>\n",
       "      <td>N508AS</td>\n",
       "      <td>828</td>\n",
       "      <td>10299</td>\n",
       "      <td>ANC</td>\n",
       "      <td>...</td>\n",
       "      <td>2777.0</td>\n",
       "      <td>3745.000000</td>\n",
       "      <td>1025.000000</td>\n",
       "      <td>6.101888e+07</td>\n",
       "      <td>37.761905</td>\n",
       "      <td>10.333333</td>\n",
       "      <td>0.000000</td>\n",
       "      <td>14.285714</td>\n",
       "      <td>0.000000</td>\n",
       "      <td>18.904762</td>\n",
       "    </tr>\n",
       "    <tr>\n",
       "      <th>788776</th>\n",
       "      <td>2019-07-03</td>\n",
       "      <td>F9</td>\n",
       "      <td>F9</td>\n",
       "      <td>F9</td>\n",
       "      <td>502</td>\n",
       "      <td>F9</td>\n",
       "      <td>N318FR</td>\n",
       "      <td>502</td>\n",
       "      <td>11292</td>\n",
       "      <td>DEN</td>\n",
       "      <td>...</td>\n",
       "      <td>1620.0</td>\n",
       "      <td>1922.250000</td>\n",
       "      <td>203.250000</td>\n",
       "      <td>2.353042e+07</td>\n",
       "      <td>39.877193</td>\n",
       "      <td>36.263158</td>\n",
       "      <td>0.000000</td>\n",
       "      <td>9.666667</td>\n",
       "      <td>1.631579</td>\n",
       "      <td>2.807018</td>\n",
       "    </tr>\n",
       "    <tr>\n",
       "      <th>624999</th>\n",
       "      <td>2019-07-08</td>\n",
       "      <td>WN</td>\n",
       "      <td>WN</td>\n",
       "      <td>WN</td>\n",
       "      <td>768</td>\n",
       "      <td>WN</td>\n",
       "      <td>N7717D</td>\n",
       "      <td>768</td>\n",
       "      <td>14771</td>\n",
       "      <td>SFO</td>\n",
       "      <td>...</td>\n",
       "      <td>447.0</td>\n",
       "      <td>11223.000000</td>\n",
       "      <td>3482.500000</td>\n",
       "      <td>1.723195e+08</td>\n",
       "      <td>60.090909</td>\n",
       "      <td>5.023923</td>\n",
       "      <td>0.002392</td>\n",
       "      <td>41.277512</td>\n",
       "      <td>0.610048</td>\n",
       "      <td>9.131579</td>\n",
       "    </tr>\n",
       "    <tr>\n",
       "      <th>...</th>\n",
       "      <td>...</td>\n",
       "      <td>...</td>\n",
       "      <td>...</td>\n",
       "      <td>...</td>\n",
       "      <td>...</td>\n",
       "      <td>...</td>\n",
       "      <td>...</td>\n",
       "      <td>...</td>\n",
       "      <td>...</td>\n",
       "      <td>...</td>\n",
       "      <td>...</td>\n",
       "      <td>...</td>\n",
       "      <td>...</td>\n",
       "      <td>...</td>\n",
       "      <td>...</td>\n",
       "      <td>...</td>\n",
       "      <td>...</td>\n",
       "      <td>...</td>\n",
       "      <td>...</td>\n",
       "      <td>...</td>\n",
       "      <td>...</td>\n",
       "    </tr>\n",
       "    <tr>\n",
       "      <th>324460</th>\n",
       "      <td>2019-02-20</td>\n",
       "      <td>AA</td>\n",
       "      <td>AA</td>\n",
       "      <td>AA</td>\n",
       "      <td>2423</td>\n",
       "      <td>AA</td>\n",
       "      <td>N390AA</td>\n",
       "      <td>2423</td>\n",
       "      <td>11298</td>\n",
       "      <td>DFW</td>\n",
       "      <td>...</td>\n",
       "      <td>1391.0</td>\n",
       "      <td>572.500000</td>\n",
       "      <td>118.500000</td>\n",
       "      <td>3.079852e+08</td>\n",
       "      <td>61.485106</td>\n",
       "      <td>19.514894</td>\n",
       "      <td>0.000000</td>\n",
       "      <td>20.055319</td>\n",
       "      <td>3.463830</td>\n",
       "      <td>21.357447</td>\n",
       "    </tr>\n",
       "    <tr>\n",
       "      <th>225241</th>\n",
       "      <td>2019-06-17</td>\n",
       "      <td>AA</td>\n",
       "      <td>AA_CODESHARE</td>\n",
       "      <td>AA</td>\n",
       "      <td>4155</td>\n",
       "      <td>MQ</td>\n",
       "      <td>N264NN</td>\n",
       "      <td>4155</td>\n",
       "      <td>11278</td>\n",
       "      <td>DCA</td>\n",
       "      <td>...</td>\n",
       "      <td>562.0</td>\n",
       "      <td>130.000000</td>\n",
       "      <td>49.000000</td>\n",
       "      <td>0.000000e+00</td>\n",
       "      <td>56.665072</td>\n",
       "      <td>10.100478</td>\n",
       "      <td>0.000000</td>\n",
       "      <td>34.009569</td>\n",
       "      <td>2.430622</td>\n",
       "      <td>15.507177</td>\n",
       "    </tr>\n",
       "    <tr>\n",
       "      <th>337055</th>\n",
       "      <td>2019-12-09</td>\n",
       "      <td>AA</td>\n",
       "      <td>AA_CODESHARE</td>\n",
       "      <td>AA</td>\n",
       "      <td>5695</td>\n",
       "      <td>OH</td>\n",
       "      <td>N556NN</td>\n",
       "      <td>5695</td>\n",
       "      <td>12339</td>\n",
       "      <td>IND</td>\n",
       "      <td>...</td>\n",
       "      <td>588.0</td>\n",
       "      <td>80.000000</td>\n",
       "      <td>80.000000</td>\n",
       "      <td>0.000000e+00</td>\n",
       "      <td>45.072727</td>\n",
       "      <td>23.466667</td>\n",
       "      <td>0.036364</td>\n",
       "      <td>19.696970</td>\n",
       "      <td>1.872727</td>\n",
       "      <td>7.151515</td>\n",
       "    </tr>\n",
       "    <tr>\n",
       "      <th>331864</th>\n",
       "      <td>2019-01-15</td>\n",
       "      <td>AA</td>\n",
       "      <td>AA_CODESHARE</td>\n",
       "      <td>AA</td>\n",
       "      <td>4408</td>\n",
       "      <td>YX</td>\n",
       "      <td>N434YX</td>\n",
       "      <td>4408</td>\n",
       "      <td>15016</td>\n",
       "      <td>STL</td>\n",
       "      <td>...</td>\n",
       "      <td>1068.0</td>\n",
       "      <td>4176.000000</td>\n",
       "      <td>816.000000</td>\n",
       "      <td>2.209100e+04</td>\n",
       "      <td>38.000000</td>\n",
       "      <td>16.056338</td>\n",
       "      <td>0.000000</td>\n",
       "      <td>10.619718</td>\n",
       "      <td>1.084507</td>\n",
       "      <td>20.492958</td>\n",
       "    </tr>\n",
       "    <tr>\n",
       "      <th>500643</th>\n",
       "      <td>2019-05-23</td>\n",
       "      <td>UA</td>\n",
       "      <td>UA</td>\n",
       "      <td>UA</td>\n",
       "      <td>1742</td>\n",
       "      <td>UA</td>\n",
       "      <td>N776UA</td>\n",
       "      <td>1742</td>\n",
       "      <td>13930</td>\n",
       "      <td>ORD</td>\n",
       "      <td>...</td>\n",
       "      <td>1846.0</td>\n",
       "      <td>10469.555556</td>\n",
       "      <td>1530.888889</td>\n",
       "      <td>2.975601e+08</td>\n",
       "      <td>52.786693</td>\n",
       "      <td>27.387476</td>\n",
       "      <td>0.000000</td>\n",
       "      <td>20.642857</td>\n",
       "      <td>1.781800</td>\n",
       "      <td>10.558708</td>\n",
       "    </tr>\n",
       "  </tbody>\n",
       "</table>\n",
       "<p>79083 rows × 41 columns</p>\n",
       "</div>"
      ],
      "text/plain": [
       "           fl_date mkt_unique_carrier branded_code_share mkt_carrier  \\\n",
       "619085  2019-07-22                 WN                 WN          WN   \n",
       "320120  2019-01-13                 AA                 AA          AA   \n",
       "381846  2019-09-22                 AS                 AS          AS   \n",
       "788776  2019-07-03                 F9                 F9          F9   \n",
       "624999  2019-07-08                 WN                 WN          WN   \n",
       "...            ...                ...                ...         ...   \n",
       "324460  2019-02-20                 AA                 AA          AA   \n",
       "225241  2019-06-17                 AA       AA_CODESHARE          AA   \n",
       "337055  2019-12-09                 AA       AA_CODESHARE          AA   \n",
       "331864  2019-01-15                 AA       AA_CODESHARE          AA   \n",
       "500643  2019-05-23                 UA                 UA          UA   \n",
       "\n",
       "        mkt_carrier_fl_num op_unique_carrier tail_num  op_carrier_fl_num  \\\n",
       "619085                2206                WN   N250WN               2206   \n",
       "320120                 872                AA   N93003                872   \n",
       "381846                 828                AS   N508AS                828   \n",
       "788776                 502                F9   N318FR                502   \n",
       "624999                 768                WN   N7717D                768   \n",
       "...                    ...               ...      ...                ...   \n",
       "324460                2423                AA   N390AA               2423   \n",
       "225241                4155                MQ   N264NN               4155   \n",
       "337055                5695                OH   N556NN               5695   \n",
       "331864                4408                YX   N434YX               4408   \n",
       "500643                1742                UA   N776UA               1742   \n",
       "\n",
       "        origin_airport_id origin  ... distance    passengers     capacity  \\\n",
       "619085              14635    RSW  ...    919.0   2167.666667   924.000000   \n",
       "320120              12266    IAH  ...    964.0    119.000000    62.000000   \n",
       "381846              10299    ANC  ...   2777.0   3745.000000  1025.000000   \n",
       "788776              11292    DEN  ...   1620.0   1922.250000   203.250000   \n",
       "624999              14771    SFO  ...    447.0  11223.000000  3482.500000   \n",
       "...                   ...    ...  ...      ...           ...          ...   \n",
       "324460              11298    DFW  ...   1391.0    572.500000   118.500000   \n",
       "225241              11278    DCA  ...    562.0    130.000000    49.000000   \n",
       "337055              12339    IND  ...    588.0     80.000000    80.000000   \n",
       "331864              15016    STL  ...   1068.0   4176.000000   816.000000   \n",
       "500643              13930    ORD  ...   1846.0  10469.555556  1530.888889   \n",
       "\n",
       "       total_gallons  dep_delay  nas_delay  security_delay  \\\n",
       "619085  1.723195e+08  58.890244   8.189024        0.000000   \n",
       "320120  3.079852e+08  43.928571  11.721805        0.097744   \n",
       "381846  6.101888e+07  37.761905  10.333333        0.000000   \n",
       "788776  2.353042e+07  39.877193  36.263158        0.000000   \n",
       "624999  1.723195e+08  60.090909   5.023923        0.002392   \n",
       "...              ...        ...        ...             ...   \n",
       "324460  3.079852e+08  61.485106  19.514894        0.000000   \n",
       "225241  0.000000e+00  56.665072  10.100478        0.000000   \n",
       "337055  0.000000e+00  45.072727  23.466667        0.036364   \n",
       "331864  2.209100e+04  38.000000  16.056338        0.000000   \n",
       "500643  2.975601e+08  52.786693  27.387476        0.000000   \n",
       "\n",
       "        late_aircraft_delay  weather_delay  carrier_delay  \n",
       "619085            35.274390       1.609756       9.798780  \n",
       "320120            24.165414       1.639098      12.454887  \n",
       "381846            14.285714       0.000000      18.904762  \n",
       "788776             9.666667       1.631579       2.807018  \n",
       "624999            41.277512       0.610048       9.131579  \n",
       "...                     ...            ...            ...  \n",
       "324460            20.055319       3.463830      21.357447  \n",
       "225241            34.009569       2.430622      15.507177  \n",
       "337055            19.696970       1.872727       7.151515  \n",
       "331864            10.619718       1.084507      20.492958  \n",
       "500643            20.642857       1.781800      10.558708  \n",
       "\n",
       "[79083 rows x 41 columns]"
      ]
     },
     "execution_count": 160,
     "metadata": {},
     "output_type": "execute_result"
    }
   ],
   "source": [
    "df"
   ]
  },
  {
   "cell_type": "code",
   "execution_count": 161,
   "metadata": {},
   "outputs": [],
   "source": [
    "y= df['arr_delay']"
   ]
  },
  {
   "cell_type": "code",
   "execution_count": 162,
   "metadata": {},
   "outputs": [],
   "source": [
    "X = df"
   ]
  },
  {
   "cell_type": "code",
   "execution_count": 163,
   "metadata": {},
   "outputs": [],
   "source": [
    "X = X.drop(columns=['arr_delay'])"
   ]
  },
  {
   "cell_type": "code",
   "execution_count": 88,
   "metadata": {},
   "outputs": [],
   "source": [
    "#X.fl_date = X.fl_date.apply(pd.to_datetime)"
   ]
  },
  {
   "cell_type": "markdown",
   "metadata": {},
   "source": [
    "## Main Task: Regression Problem"
   ]
  },
  {
   "cell_type": "markdown",
   "metadata": {},
   "source": [
    "The target variable is **ARR_DELAY**. We need to be careful which columns to use and which don't. For example, DEP_DELAY is going to be the perfect predictor, but we can't use it because in real-life scenario, we want to predict the delay before the flight takes of --> We can use average delay from earlier days but not the one from the actual flight we predict.  \n",
    "\n",
    "For example, variables **CARRIER_DELAY, WEATHER_DELAY, NAS_DELAY, SECURITY_DELAY, LATE_AIRCRAFT_DELAY** shouldn't be used directly as predictors as well. However, we can create various transformations from earlier values.\n",
    "\n",
    "We will be evaluating your models by predicting the ARR_DELAY for all flights **1 week in advance**."
   ]
  },
  {
   "cell_type": "code",
   "execution_count": null,
   "metadata": {},
   "outputs": [],
   "source": []
  },
  {
   "cell_type": "code",
   "execution_count": null,
   "metadata": {},
   "outputs": [],
   "source": []
  },
  {
   "cell_type": "code",
   "execution_count": null,
   "metadata": {},
   "outputs": [],
   "source": []
  },
  {
   "cell_type": "code",
   "execution_count": null,
   "metadata": {},
   "outputs": [],
   "source": []
  },
  {
   "cell_type": "markdown",
   "metadata": {},
   "source": [
    "### Feature Engineering"
   ]
  },
  {
   "cell_type": "markdown",
   "metadata": {},
   "source": [
    "Feature engineering will play a crucial role in this problems. We have only very little attributes so we need to create some features that will have some predictive power.\n",
    "\n",
    "- weather: we can use some weather API to look for the weather in time of the scheduled departure and scheduled arrival.\n",
    "- statistics (avg, mean, median, std, min, max...): we can take a look at previous delays and compute descriptive statistics\n",
    "- airports encoding: we need to think about what to do with the airports and other categorical variables\n",
    "- time of the day: the delay probably depends on the airport traffic which varies during the day.\n",
    "- airport traffic\n",
    "- unsupervised learning as feature engineering?\n",
    "- **what are the additional options?**: Think about what we could do more to improve the model."
   ]
  },
  {
   "cell_type": "code",
   "execution_count": 164,
   "metadata": {},
   "outputs": [],
   "source": [
    "X = X[['origin_airport_id', 'dest_airport_id', 'air_time', 'distance', 'passengers', 'crs_elapsed_time','capacity', 'total_gallons', 'dep_delay',\n",
    "       'nas_delay', 'security_delay', 'late_aircraft_delay',\n",
    "       'weather_delay', 'carrier_delay']]\n",
    "#dropped flight date :( "
   ]
  },
  {
   "cell_type": "code",
   "execution_count": 165,
   "metadata": {},
   "outputs": [],
   "source": [
    "scaler = StandardScaler()"
   ]
  },
  {
   "cell_type": "code",
   "execution_count": 166,
   "metadata": {},
   "outputs": [],
   "source": [
    "X = pd.DataFrame(scaler.fit_transform(X))"
   ]
  },
  {
   "cell_type": "code",
   "execution_count": 167,
   "metadata": {},
   "outputs": [],
   "source": [
    "X_train, X_test, y_train, y_test = train_test_split(X, y, shuffle=True, train_size=0.8)\n"
   ]
  },
  {
   "cell_type": "code",
   "execution_count": null,
   "metadata": {},
   "outputs": [],
   "source": []
  },
  {
   "cell_type": "markdown",
   "metadata": {},
   "source": [
    "### Feature Selection / Dimensionality Reduction"
   ]
  },
  {
   "cell_type": "markdown",
   "metadata": {},
   "source": [
    "We need to apply different selection techniques to find out which one will be the best for our problems.\n",
    "\n",
    "- Original Features vs. PCA conponents?"
   ]
  },
  {
   "cell_type": "code",
   "execution_count": null,
   "metadata": {},
   "outputs": [],
   "source": []
  },
  {
   "cell_type": "code",
   "execution_count": null,
   "metadata": {},
   "outputs": [],
   "source": []
  },
  {
   "cell_type": "code",
   "execution_count": null,
   "metadata": {},
   "outputs": [],
   "source": []
  },
  {
   "cell_type": "code",
   "execution_count": null,
   "metadata": {},
   "outputs": [],
   "source": []
  },
  {
   "cell_type": "code",
   "execution_count": null,
   "metadata": {},
   "outputs": [],
   "source": []
  },
  {
   "cell_type": "markdown",
   "metadata": {},
   "source": [
    "### Modeling"
   ]
  },
  {
   "cell_type": "markdown",
   "metadata": {},
   "source": [
    "Use different ML techniques to predict each problem.\n",
    "\n",
    "- linear / logistic / multinomial logistic regression\n",
    "- Naive Bayes\n",
    "- Random Forest\n",
    "- SVM\n",
    "- XGBoost\n",
    "- The ensemble of your own choice"
   ]
  },
  {
   "cell_type": "code",
   "execution_count": 92,
   "metadata": {},
   "outputs": [],
   "source": [
    "#data_dmatrix = xgb.DMatrix(data=X,label=y, enable_categorical=True)"
   ]
  },
  {
   "cell_type": "code",
   "execution_count": 93,
   "metadata": {},
   "outputs": [],
   "source": [
    "#objective ='reg:squarederror', colsample_bytree = 0.3, learning_rate = 0.1, max_depth = 7, alpha = 0.1,"
   ]
  },
  {
   "cell_type": "code",
   "execution_count": 116,
   "metadata": {},
   "outputs": [],
   "source": []
  },
  {
   "cell_type": "code",
   "execution_count": 117,
   "metadata": {},
   "outputs": [],
   "source": []
  },
  {
   "cell_type": "code",
   "execution_count": 118,
   "metadata": {},
   "outputs": [],
   "source": []
  },
  {
   "cell_type": "code",
   "execution_count": 119,
   "metadata": {},
   "outputs": [],
   "source": [
    "lr = LinearRegression()"
   ]
  },
  {
   "cell_type": "code",
   "execution_count": 120,
   "metadata": {},
   "outputs": [
    {
     "data": {
      "text/plain": [
       "LinearRegression()"
      ]
     },
     "execution_count": 120,
     "metadata": {},
     "output_type": "execute_result"
    }
   ],
   "source": [
    "lr.fit(X_train, y_train) "
   ]
  },
  {
   "cell_type": "code",
   "execution_count": 121,
   "metadata": {},
   "outputs": [
    {
     "data": {
      "text/plain": [
       "0.03795838486980141"
      ]
     },
     "execution_count": 121,
     "metadata": {},
     "output_type": "execute_result"
    }
   ],
   "source": [
    "lr.score(X_train, y_train)"
   ]
  },
  {
   "cell_type": "code",
   "execution_count": 122,
   "metadata": {},
   "outputs": [
    {
     "data": {
      "text/plain": [
       "0.03657385654892786"
      ]
     },
     "execution_count": 122,
     "metadata": {},
     "output_type": "execute_result"
    }
   ],
   "source": [
    "lr.score(X_test, y_test)"
   ]
  },
  {
   "cell_type": "markdown",
   "metadata": {},
   "source": [
    "### Random Forest"
   ]
  },
  {
   "cell_type": "code",
   "execution_count": 123,
   "metadata": {},
   "outputs": [
    {
     "data": {
      "text/plain": [
       "RandomForestRegressor()"
      ]
     },
     "execution_count": 123,
     "metadata": {},
     "output_type": "execute_result"
    }
   ],
   "source": []
  },
  {
   "cell_type": "code",
   "execution_count": 168,
   "metadata": {},
   "outputs": [],
   "source": [
    " # create regressor object\n",
    "regressor = RandomForestRegressor(n_estimators = 100)\n",
    " "
   ]
  },
  {
   "cell_type": "code",
   "execution_count": null,
   "metadata": {},
   "outputs": [],
   "source": []
  },
  {
   "cell_type": "code",
   "execution_count": 169,
   "metadata": {},
   "outputs": [
    {
     "data": {
      "text/plain": [
       "RandomForestRegressor()"
      ]
     },
     "execution_count": 169,
     "metadata": {},
     "output_type": "execute_result"
    }
   ],
   "source": [
    "# fit the regressor with x and y data\n",
    "regressor.fit(X_train, y_train) "
   ]
  },
  {
   "cell_type": "code",
   "execution_count": 170,
   "metadata": {},
   "outputs": [],
   "source": [
    "y_pred = regressor.predict(X_test)"
   ]
  },
  {
   "cell_type": "code",
   "execution_count": 171,
   "metadata": {},
   "outputs": [
    {
     "name": "stdout",
     "output_type": "stream",
     "text": [
      "Mean Absolute Error: 33.3062775799608\n",
      "Mean Squared Error: 1957.192259450817\n",
      "Root Mean Squared Error: 44.24016568064384\n"
     ]
    }
   ],
   "source": [
    "print('Mean Absolute Error:', mean_absolute_error(y_test, y_pred))\n",
    "print('Mean Squared Error:', mean_squared_error(y_test, y_pred))\n",
    "print('Root Mean Squared Error:', np.sqrt(mean_squared_error(y_test, y_pred)))"
   ]
  },
  {
   "cell_type": "code",
   "execution_count": null,
   "metadata": {},
   "outputs": [],
   "source": []
  },
  {
   "cell_type": "code",
   "execution_count": null,
   "metadata": {},
   "outputs": [],
   "source": []
  },
  {
   "cell_type": "code",
   "execution_count": 172,
   "metadata": {},
   "outputs": [],
   "source": [
    "params = {'n_estimators' : [100, 150, 200, 300], 'max_depth': [3, 10, 20, 30]}"
   ]
  },
  {
   "cell_type": "code",
   "execution_count": 173,
   "metadata": {},
   "outputs": [],
   "source": [
    "grid = GridSearchCV(regressor, params)"
   ]
  },
  {
   "cell_type": "code",
   "execution_count": null,
   "metadata": {},
   "outputs": [],
   "source": [
    "grid_result = grid.fit(X_train, y_train)"
   ]
  },
  {
   "cell_type": "code",
   "execution_count": null,
   "metadata": {},
   "outputs": [],
   "source": [
    "print(grid_result.best_score_)\n",
    "print( grid_result.best_params_['n_estimators'])\n",
    "print( grid_result.best_params_['max_depth'])"
   ]
  },
  {
   "cell_type": "code",
   "execution_count": null,
   "metadata": {},
   "outputs": [],
   "source": []
  },
  {
   "cell_type": "markdown",
   "metadata": {},
   "source": [
    "### Evaluation"
   ]
  },
  {
   "cell_type": "markdown",
   "metadata": {},
   "source": [
    "You have data from 2018 and 2019 to develop models. Use different evaluation metrics for each problem and compare the performance of different models.\n",
    "\n",
    "You are required to predict delays on **out of sample** data from **first 7 days (1st-7th) of January 2020** and to share the file with LighthouseLabs. Sample submission can be found in the file **_sample_submission.csv_**"
   ]
  },
  {
   "cell_type": "code",
   "execution_count": null,
   "metadata": {},
   "outputs": [],
   "source": []
  },
  {
   "cell_type": "code",
   "execution_count": null,
   "metadata": {},
   "outputs": [],
   "source": []
  },
  {
   "cell_type": "code",
   "execution_count": null,
   "metadata": {},
   "outputs": [],
   "source": []
  },
  {
   "cell_type": "code",
   "execution_count": null,
   "metadata": {},
   "outputs": [],
   "source": []
  },
  {
   "cell_type": "markdown",
   "metadata": {},
   "source": [
    "======================================================================\n",
    "## Stretch Tasks"
   ]
  },
  {
   "cell_type": "markdown",
   "metadata": {},
   "source": [
    "### Multiclass Classification"
   ]
  },
  {
   "cell_type": "markdown",
   "metadata": {},
   "source": [
    "The target variables are **CARRIER_DELAY, WEATHER_DELAY, NAS_DELAY, SECURITY_DELAY, LATE_AIRCRAFT_DELAY**. We need to do additional transformations because these variables are not binary but continuos. For each flight that was delayed, we need to have one of these variables as 1 and others 0.\n",
    "\n",
    "It can happen that we have two types of delays with more than 0 minutes. In this case, take the bigger one as 1 and others as 0."
   ]
  },
  {
   "cell_type": "code",
   "execution_count": null,
   "metadata": {},
   "outputs": [],
   "source": []
  },
  {
   "cell_type": "code",
   "execution_count": null,
   "metadata": {},
   "outputs": [],
   "source": []
  },
  {
   "cell_type": "code",
   "execution_count": null,
   "metadata": {},
   "outputs": [],
   "source": []
  },
  {
   "cell_type": "markdown",
   "metadata": {},
   "source": [
    "### Binary Classification"
   ]
  },
  {
   "cell_type": "markdown",
   "metadata": {},
   "source": [
    "The target variable is **CANCELLED**. The main problem here is going to be huge class imbalance. We have only very little cancelled flights with comparison to all flights. It is important to do the right sampling before training and to choose correct evaluation metrics."
   ]
  },
  {
   "cell_type": "code",
   "execution_count": null,
   "metadata": {},
   "outputs": [],
   "source": []
  },
  {
   "cell_type": "code",
   "execution_count": null,
   "metadata": {},
   "outputs": [],
   "source": []
  },
  {
   "cell_type": "code",
   "execution_count": null,
   "metadata": {},
   "outputs": [],
   "source": []
  }
 ],
 "metadata": {
  "kernelspec": {
   "display_name": "Python 3 (ipykernel)",
   "language": "python",
   "name": "python3"
  },
  "language_info": {
   "codemirror_mode": {
    "name": "ipython",
    "version": 3
   },
   "file_extension": ".py",
   "mimetype": "text/x-python",
   "name": "python",
   "nbconvert_exporter": "python",
   "pygments_lexer": "ipython3",
   "version": "3.9.7"
  }
 },
 "nbformat": 4,
 "nbformat_minor": 4
}
