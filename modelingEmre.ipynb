{
 "cells": [
  {
   "cell_type": "markdown",
   "metadata": {},
   "source": [
    "# Machine Learning\n",
    "\n",
    "In this file, instructions how to approach the challenge can be found."
   ]
  },
  {
   "cell_type": "markdown",
   "metadata": {},
   "source": [
    "We are going to work on different types of Machine Learning problems:\n",
    "\n",
    "- **Regression Problem**: The goal is to predict delay of flights.\n",
    "- **(Stretch) Multiclass Classification**: If the plane was delayed, we will predict what type of delay it is (will be).\n",
    "- **(Stretch) Binary Classification**: The goal is to predict if the flight will be cancelled."
   ]
  },
  {
   "cell_type": "code",
   "execution_count": 200,
   "metadata": {},
   "outputs": [],
   "source": [
    "import pandas as pd\n",
    "from scipy.stats import shapiro\n",
    "from scipy.stats import ttest_1samp\n",
    "import numpy as np\n",
    "import psycopg2\n",
    "import seaborn as sns\n",
    "import matplotlib.pyplot as plt\n",
    "import xgboost as xgb\n",
    "from sklearn.metrics import mean_squared_error, r2_score, mean_absolute_error, mean_squared_error \n",
    "from sklearn.model_selection import train_test_split\n",
    "from sklearn.linear_model import LinearRegression\n",
    "from sklearn.preprocessing import StandardScaler\n",
    "from sklearn.metrics import roc_auc_score\n",
    "from sklearn.metrics import confusion_matrix\n",
    "from sklearn.ensemble import RandomForestRegressor\n",
    "from sklearn.model_selection import GridSearchCV"
   ]
  },
  {
   "cell_type": "code",
   "execution_count": 201,
   "metadata": {},
   "outputs": [],
   "source": [
    "test = pd.read_csv('flights_test.csv')"
   ]
  },
  {
   "cell_type": "code",
   "execution_count": 202,
   "metadata": {},
   "outputs": [],
   "source": [
    "df = pd.read_csv('flights_merged.csv', index_col=0)"
   ]
  },
  {
   "cell_type": "code",
   "execution_count": 203,
   "metadata": {},
   "outputs": [],
   "source": [
    "df = df.dropna(axis=0, subset=['crs_elapsed_time'])"
   ]
  },
  {
   "cell_type": "code",
   "execution_count": 204,
   "metadata": {},
   "outputs": [],
   "source": [
    "df = df.sample(frac=0.1)"
   ]
  },
  {
   "cell_type": "code",
   "execution_count": 205,
   "metadata": {},
   "outputs": [
    {
     "data": {
      "text/html": [
       "<div>\n",
       "<style scoped>\n",
       "    .dataframe tbody tr th:only-of-type {\n",
       "        vertical-align: middle;\n",
       "    }\n",
       "\n",
       "    .dataframe tbody tr th {\n",
       "        vertical-align: top;\n",
       "    }\n",
       "\n",
       "    .dataframe thead th {\n",
       "        text-align: right;\n",
       "    }\n",
       "</style>\n",
       "<table border=\"1\" class=\"dataframe\">\n",
       "  <thead>\n",
       "    <tr style=\"text-align: right;\">\n",
       "      <th></th>\n",
       "      <th>fl_date</th>\n",
       "      <th>mkt_unique_carrier</th>\n",
       "      <th>branded_code_share</th>\n",
       "      <th>mkt_carrier</th>\n",
       "      <th>mkt_carrier_fl_num</th>\n",
       "      <th>op_unique_carrier</th>\n",
       "      <th>tail_num</th>\n",
       "      <th>op_carrier_fl_num</th>\n",
       "      <th>origin_airport_id</th>\n",
       "      <th>origin</th>\n",
       "      <th>...</th>\n",
       "      <th>distance</th>\n",
       "      <th>passengers</th>\n",
       "      <th>capacity</th>\n",
       "      <th>total_gallons</th>\n",
       "      <th>dep_delay</th>\n",
       "      <th>nas_delay</th>\n",
       "      <th>security_delay</th>\n",
       "      <th>late_aircraft_delay</th>\n",
       "      <th>weather_delay</th>\n",
       "      <th>carrier_delay</th>\n",
       "    </tr>\n",
       "  </thead>\n",
       "  <tbody>\n",
       "    <tr>\n",
       "      <th>729986</th>\n",
       "      <td>2019-01-25</td>\n",
       "      <td>B6</td>\n",
       "      <td>B6</td>\n",
       "      <td>B6</td>\n",
       "      <td>205</td>\n",
       "      <td>B6</td>\n",
       "      <td>N589JB</td>\n",
       "      <td>205</td>\n",
       "      <td>11618</td>\n",
       "      <td>EWR</td>\n",
       "      <td>...</td>\n",
       "      <td>1065.0</td>\n",
       "      <td>343.600000</td>\n",
       "      <td>26.400000</td>\n",
       "      <td>7.403417e+07</td>\n",
       "      <td>49.988345</td>\n",
       "      <td>12.564103</td>\n",
       "      <td>0.044289</td>\n",
       "      <td>24.757576</td>\n",
       "      <td>0.363636</td>\n",
       "      <td>19.125874</td>\n",
       "    </tr>\n",
       "    <tr>\n",
       "      <th>213756</th>\n",
       "      <td>2019-11-15</td>\n",
       "      <td>AA</td>\n",
       "      <td>AA</td>\n",
       "      <td>AA</td>\n",
       "      <td>190</td>\n",
       "      <td>AA</td>\n",
       "      <td>N9010R</td>\n",
       "      <td>190</td>\n",
       "      <td>11298</td>\n",
       "      <td>DFW</td>\n",
       "      <td>...</td>\n",
       "      <td>925.0</td>\n",
       "      <td>1867.666667</td>\n",
       "      <td>703.666667</td>\n",
       "      <td>3.079852e+08</td>\n",
       "      <td>55.833333</td>\n",
       "      <td>5.661111</td>\n",
       "      <td>0.000000</td>\n",
       "      <td>24.738889</td>\n",
       "      <td>2.333333</td>\n",
       "      <td>22.994444</td>\n",
       "    </tr>\n",
       "    <tr>\n",
       "      <th>627503</th>\n",
       "      <td>2019-04-04</td>\n",
       "      <td>WN</td>\n",
       "      <td>WN</td>\n",
       "      <td>WN</td>\n",
       "      <td>767</td>\n",
       "      <td>WN</td>\n",
       "      <td>N226WN</td>\n",
       "      <td>767</td>\n",
       "      <td>14869</td>\n",
       "      <td>SLC</td>\n",
       "      <td>...</td>\n",
       "      <td>391.0</td>\n",
       "      <td>1375.333333</td>\n",
       "      <td>364.000000</td>\n",
       "      <td>1.723195e+08</td>\n",
       "      <td>47.058020</td>\n",
       "      <td>14.129693</td>\n",
       "      <td>0.000000</td>\n",
       "      <td>20.682594</td>\n",
       "      <td>0.423208</td>\n",
       "      <td>11.894198</td>\n",
       "    </tr>\n",
       "    <tr>\n",
       "      <th>377680</th>\n",
       "      <td>2019-04-26</td>\n",
       "      <td>AS</td>\n",
       "      <td>AS</td>\n",
       "      <td>AS</td>\n",
       "      <td>524</td>\n",
       "      <td>AS</td>\n",
       "      <td>N492AS</td>\n",
       "      <td>524</td>\n",
       "      <td>15304</td>\n",
       "      <td>TPA</td>\n",
       "      <td>...</td>\n",
       "      <td>2520.0</td>\n",
       "      <td>5742.666667</td>\n",
       "      <td>487.333333</td>\n",
       "      <td>6.101888e+07</td>\n",
       "      <td>38.283333</td>\n",
       "      <td>16.016667</td>\n",
       "      <td>0.000000</td>\n",
       "      <td>19.833333</td>\n",
       "      <td>2.950000</td>\n",
       "      <td>8.866667</td>\n",
       "    </tr>\n",
       "    <tr>\n",
       "      <th>530669</th>\n",
       "      <td>2019-06-10</td>\n",
       "      <td>UA</td>\n",
       "      <td>UA</td>\n",
       "      <td>UA</td>\n",
       "      <td>2163</td>\n",
       "      <td>UA</td>\n",
       "      <td>N37290</td>\n",
       "      <td>2163</td>\n",
       "      <td>14679</td>\n",
       "      <td>SAN</td>\n",
       "      <td>...</td>\n",
       "      <td>2425.0</td>\n",
       "      <td>8807.000000</td>\n",
       "      <td>821.000000</td>\n",
       "      <td>2.975601e+08</td>\n",
       "      <td>54.469274</td>\n",
       "      <td>38.145251</td>\n",
       "      <td>0.000000</td>\n",
       "      <td>14.972067</td>\n",
       "      <td>0.000000</td>\n",
       "      <td>5.944134</td>\n",
       "    </tr>\n",
       "    <tr>\n",
       "      <th>...</th>\n",
       "      <td>...</td>\n",
       "      <td>...</td>\n",
       "      <td>...</td>\n",
       "      <td>...</td>\n",
       "      <td>...</td>\n",
       "      <td>...</td>\n",
       "      <td>...</td>\n",
       "      <td>...</td>\n",
       "      <td>...</td>\n",
       "      <td>...</td>\n",
       "      <td>...</td>\n",
       "      <td>...</td>\n",
       "      <td>...</td>\n",
       "      <td>...</td>\n",
       "      <td>...</td>\n",
       "      <td>...</td>\n",
       "      <td>...</td>\n",
       "      <td>...</td>\n",
       "      <td>...</td>\n",
       "      <td>...</td>\n",
       "      <td>...</td>\n",
       "    </tr>\n",
       "    <tr>\n",
       "      <th>392402</th>\n",
       "      <td>2019-11-09</td>\n",
       "      <td>DL</td>\n",
       "      <td>DL</td>\n",
       "      <td>DL</td>\n",
       "      <td>2128</td>\n",
       "      <td>DL</td>\n",
       "      <td>N587NW</td>\n",
       "      <td>2128</td>\n",
       "      <td>11433</td>\n",
       "      <td>DTW</td>\n",
       "      <td>...</td>\n",
       "      <td>957.0</td>\n",
       "      <td>24361.000000</td>\n",
       "      <td>3950.000000</td>\n",
       "      <td>3.087060e+08</td>\n",
       "      <td>40.737828</td>\n",
       "      <td>15.479401</td>\n",
       "      <td>0.000000</td>\n",
       "      <td>9.580524</td>\n",
       "      <td>2.625468</td>\n",
       "      <td>23.756554</td>\n",
       "    </tr>\n",
       "    <tr>\n",
       "      <th>19030</th>\n",
       "      <td>2019-05-01</td>\n",
       "      <td>NK</td>\n",
       "      <td>NK</td>\n",
       "      <td>NK</td>\n",
       "      <td>841</td>\n",
       "      <td>NK</td>\n",
       "      <td>N625NK</td>\n",
       "      <td>841</td>\n",
       "      <td>14524</td>\n",
       "      <td>RIC</td>\n",
       "      <td>...</td>\n",
       "      <td>667.0</td>\n",
       "      <td>3810.666667</td>\n",
       "      <td>721.000000</td>\n",
       "      <td>3.937194e+07</td>\n",
       "      <td>33.500000</td>\n",
       "      <td>16.676471</td>\n",
       "      <td>0.000000</td>\n",
       "      <td>17.882353</td>\n",
       "      <td>0.000000</td>\n",
       "      <td>8.823529</td>\n",
       "    </tr>\n",
       "    <tr>\n",
       "      <th>543300</th>\n",
       "      <td>2019-12-18</td>\n",
       "      <td>WN</td>\n",
       "      <td>WN</td>\n",
       "      <td>WN</td>\n",
       "      <td>632</td>\n",
       "      <td>WN</td>\n",
       "      <td>N239WN</td>\n",
       "      <td>632</td>\n",
       "      <td>10693</td>\n",
       "      <td>BNA</td>\n",
       "      <td>...</td>\n",
       "      <td>471.0</td>\n",
       "      <td>8381.750000</td>\n",
       "      <td>2083.250000</td>\n",
       "      <td>1.723195e+08</td>\n",
       "      <td>40.321429</td>\n",
       "      <td>5.984694</td>\n",
       "      <td>0.500000</td>\n",
       "      <td>22.260204</td>\n",
       "      <td>1.265306</td>\n",
       "      <td>12.153061</td>\n",
       "    </tr>\n",
       "    <tr>\n",
       "      <th>303535</th>\n",
       "      <td>2019-03-26</td>\n",
       "      <td>AA</td>\n",
       "      <td>AA</td>\n",
       "      <td>AA</td>\n",
       "      <td>2836</td>\n",
       "      <td>AA</td>\n",
       "      <td>N563UW</td>\n",
       "      <td>2836</td>\n",
       "      <td>11057</td>\n",
       "      <td>CLT</td>\n",
       "      <td>...</td>\n",
       "      <td>544.0</td>\n",
       "      <td>160.000000</td>\n",
       "      <td>0.000000</td>\n",
       "      <td>3.079852e+08</td>\n",
       "      <td>46.669797</td>\n",
       "      <td>23.748044</td>\n",
       "      <td>0.173709</td>\n",
       "      <td>17.161189</td>\n",
       "      <td>0.957746</td>\n",
       "      <td>11.226917</td>\n",
       "    </tr>\n",
       "    <tr>\n",
       "      <th>773472</th>\n",
       "      <td>2019-07-21</td>\n",
       "      <td>F9</td>\n",
       "      <td>F9</td>\n",
       "      <td>F9</td>\n",
       "      <td>280</td>\n",
       "      <td>F9</td>\n",
       "      <td>N347FR</td>\n",
       "      <td>280</td>\n",
       "      <td>11292</td>\n",
       "      <td>DEN</td>\n",
       "      <td>...</td>\n",
       "      <td>770.0</td>\n",
       "      <td>1083.750000</td>\n",
       "      <td>213.750000</td>\n",
       "      <td>2.353042e+07</td>\n",
       "      <td>58.640625</td>\n",
       "      <td>13.929688</td>\n",
       "      <td>0.000000</td>\n",
       "      <td>21.492188</td>\n",
       "      <td>2.382812</td>\n",
       "      <td>23.164062</td>\n",
       "    </tr>\n",
       "  </tbody>\n",
       "</table>\n",
       "<p>79083 rows × 41 columns</p>\n",
       "</div>"
      ],
      "text/plain": [
       "           fl_date mkt_unique_carrier branded_code_share mkt_carrier  \\\n",
       "729986  2019-01-25                 B6                 B6          B6   \n",
       "213756  2019-11-15                 AA                 AA          AA   \n",
       "627503  2019-04-04                 WN                 WN          WN   \n",
       "377680  2019-04-26                 AS                 AS          AS   \n",
       "530669  2019-06-10                 UA                 UA          UA   \n",
       "...            ...                ...                ...         ...   \n",
       "392402  2019-11-09                 DL                 DL          DL   \n",
       "19030   2019-05-01                 NK                 NK          NK   \n",
       "543300  2019-12-18                 WN                 WN          WN   \n",
       "303535  2019-03-26                 AA                 AA          AA   \n",
       "773472  2019-07-21                 F9                 F9          F9   \n",
       "\n",
       "        mkt_carrier_fl_num op_unique_carrier tail_num  op_carrier_fl_num  \\\n",
       "729986                 205                B6   N589JB                205   \n",
       "213756                 190                AA   N9010R                190   \n",
       "627503                 767                WN   N226WN                767   \n",
       "377680                 524                AS   N492AS                524   \n",
       "530669                2163                UA   N37290               2163   \n",
       "...                    ...               ...      ...                ...   \n",
       "392402                2128                DL   N587NW               2128   \n",
       "19030                  841                NK   N625NK                841   \n",
       "543300                 632                WN   N239WN                632   \n",
       "303535                2836                AA   N563UW               2836   \n",
       "773472                 280                F9   N347FR                280   \n",
       "\n",
       "        origin_airport_id origin  ... distance    passengers     capacity  \\\n",
       "729986              11618    EWR  ...   1065.0    343.600000    26.400000   \n",
       "213756              11298    DFW  ...    925.0   1867.666667   703.666667   \n",
       "627503              14869    SLC  ...    391.0   1375.333333   364.000000   \n",
       "377680              15304    TPA  ...   2520.0   5742.666667   487.333333   \n",
       "530669              14679    SAN  ...   2425.0   8807.000000   821.000000   \n",
       "...                   ...    ...  ...      ...           ...          ...   \n",
       "392402              11433    DTW  ...    957.0  24361.000000  3950.000000   \n",
       "19030               14524    RIC  ...    667.0   3810.666667   721.000000   \n",
       "543300              10693    BNA  ...    471.0   8381.750000  2083.250000   \n",
       "303535              11057    CLT  ...    544.0    160.000000     0.000000   \n",
       "773472              11292    DEN  ...    770.0   1083.750000   213.750000   \n",
       "\n",
       "       total_gallons  dep_delay  nas_delay  security_delay  \\\n",
       "729986  7.403417e+07  49.988345  12.564103        0.044289   \n",
       "213756  3.079852e+08  55.833333   5.661111        0.000000   \n",
       "627503  1.723195e+08  47.058020  14.129693        0.000000   \n",
       "377680  6.101888e+07  38.283333  16.016667        0.000000   \n",
       "530669  2.975601e+08  54.469274  38.145251        0.000000   \n",
       "...              ...        ...        ...             ...   \n",
       "392402  3.087060e+08  40.737828  15.479401        0.000000   \n",
       "19030   3.937194e+07  33.500000  16.676471        0.000000   \n",
       "543300  1.723195e+08  40.321429   5.984694        0.500000   \n",
       "303535  3.079852e+08  46.669797  23.748044        0.173709   \n",
       "773472  2.353042e+07  58.640625  13.929688        0.000000   \n",
       "\n",
       "        late_aircraft_delay  weather_delay  carrier_delay  \n",
       "729986            24.757576       0.363636      19.125874  \n",
       "213756            24.738889       2.333333      22.994444  \n",
       "627503            20.682594       0.423208      11.894198  \n",
       "377680            19.833333       2.950000       8.866667  \n",
       "530669            14.972067       0.000000       5.944134  \n",
       "...                     ...            ...            ...  \n",
       "392402             9.580524       2.625468      23.756554  \n",
       "19030             17.882353       0.000000       8.823529  \n",
       "543300            22.260204       1.265306      12.153061  \n",
       "303535            17.161189       0.957746      11.226917  \n",
       "773472            21.492188       2.382812      23.164062  \n",
       "\n",
       "[79083 rows x 41 columns]"
      ]
     },
     "execution_count": 205,
     "metadata": {},
     "output_type": "execute_result"
    }
   ],
   "source": [
    "df"
   ]
  },
  {
   "cell_type": "code",
   "execution_count": 206,
   "metadata": {},
   "outputs": [],
   "source": [
    "y= df['arr_delay']"
   ]
  },
  {
   "cell_type": "code",
   "execution_count": 207,
   "metadata": {},
   "outputs": [],
   "source": [
    "X = df"
   ]
  },
  {
   "cell_type": "code",
   "execution_count": 208,
   "metadata": {},
   "outputs": [],
   "source": [
    "X = X.drop(columns=['arr_delay'])"
   ]
  },
  {
   "cell_type": "code",
   "execution_count": 227,
   "metadata": {},
   "outputs": [
    {
     "ename": "AttributeError",
     "evalue": "'DataFrame' object has no attribute 'fl_date'",
     "output_type": "error",
     "traceback": [
      "\u001b[0;31m---------------------------------------------------------------------------\u001b[0m",
      "\u001b[0;31mAttributeError\u001b[0m                            Traceback (most recent call last)",
      "\u001b[0;32m/var/folders/v3/tlw8h42110q8xv05pjkdtcpc0000gp/T/ipykernel_1557/930624602.py\u001b[0m in \u001b[0;36m<module>\u001b[0;34m\u001b[0m\n\u001b[0;32m----> 1\u001b[0;31m \u001b[0mX\u001b[0m\u001b[0;34m.\u001b[0m\u001b[0mfl_date\u001b[0m \u001b[0;34m=\u001b[0m \u001b[0mX\u001b[0m\u001b[0;34m.\u001b[0m\u001b[0mfl_date\u001b[0m\u001b[0;34m.\u001b[0m\u001b[0mapply\u001b[0m\u001b[0;34m(\u001b[0m\u001b[0mpd\u001b[0m\u001b[0;34m.\u001b[0m\u001b[0mto_datetime\u001b[0m\u001b[0;34m)\u001b[0m\u001b[0;34m\u001b[0m\u001b[0;34m\u001b[0m\u001b[0m\n\u001b[0m",
      "\u001b[0;32m/opt/anaconda3/lib/python3.9/site-packages/pandas/core/generic.py\u001b[0m in \u001b[0;36m__getattr__\u001b[0;34m(self, name)\u001b[0m\n\u001b[1;32m   5485\u001b[0m         ):\n\u001b[1;32m   5486\u001b[0m             \u001b[0;32mreturn\u001b[0m \u001b[0mself\u001b[0m\u001b[0;34m[\u001b[0m\u001b[0mname\u001b[0m\u001b[0;34m]\u001b[0m\u001b[0;34m\u001b[0m\u001b[0;34m\u001b[0m\u001b[0m\n\u001b[0;32m-> 5487\u001b[0;31m         \u001b[0;32mreturn\u001b[0m \u001b[0mobject\u001b[0m\u001b[0;34m.\u001b[0m\u001b[0m__getattribute__\u001b[0m\u001b[0;34m(\u001b[0m\u001b[0mself\u001b[0m\u001b[0;34m,\u001b[0m \u001b[0mname\u001b[0m\u001b[0;34m)\u001b[0m\u001b[0;34m\u001b[0m\u001b[0;34m\u001b[0m\u001b[0m\n\u001b[0m\u001b[1;32m   5488\u001b[0m \u001b[0;34m\u001b[0m\u001b[0m\n\u001b[1;32m   5489\u001b[0m     \u001b[0;32mdef\u001b[0m \u001b[0m__setattr__\u001b[0m\u001b[0;34m(\u001b[0m\u001b[0mself\u001b[0m\u001b[0;34m,\u001b[0m \u001b[0mname\u001b[0m\u001b[0;34m:\u001b[0m \u001b[0mstr\u001b[0m\u001b[0;34m,\u001b[0m \u001b[0mvalue\u001b[0m\u001b[0;34m)\u001b[0m \u001b[0;34m->\u001b[0m \u001b[0;32mNone\u001b[0m\u001b[0;34m:\u001b[0m\u001b[0;34m\u001b[0m\u001b[0;34m\u001b[0m\u001b[0m\n",
      "\u001b[0;31mAttributeError\u001b[0m: 'DataFrame' object has no attribute 'fl_date'"
     ]
    }
   ],
   "source": [
    "X.fl_date = X.fl_date.apply(pd.to_datetime)"
   ]
  },
  {
   "cell_type": "markdown",
   "metadata": {},
   "source": [
    "## Main Task: Regression Problem"
   ]
  },
  {
   "cell_type": "markdown",
   "metadata": {},
   "source": [
    "The target variable is **ARR_DELAY**. We need to be careful which columns to use and which don't. For example, DEP_DELAY is going to be the perfect predictor, but we can't use it because in real-life scenario, we want to predict the delay before the flight takes of --> We can use average delay from earlier days but not the one from the actual flight we predict.  \n",
    "\n",
    "For example, variables **CARRIER_DELAY, WEATHER_DELAY, NAS_DELAY, SECURITY_DELAY, LATE_AIRCRAFT_DELAY** shouldn't be used directly as predictors as well. However, we can create various transformations from earlier values.\n",
    "\n",
    "We will be evaluating your models by predicting the ARR_DELAY for all flights **1 week in advance**."
   ]
  },
  {
   "cell_type": "code",
   "execution_count": null,
   "metadata": {},
   "outputs": [],
   "source": []
  },
  {
   "cell_type": "code",
   "execution_count": null,
   "metadata": {},
   "outputs": [],
   "source": []
  },
  {
   "cell_type": "code",
   "execution_count": null,
   "metadata": {},
   "outputs": [],
   "source": []
  },
  {
   "cell_type": "code",
   "execution_count": null,
   "metadata": {},
   "outputs": [],
   "source": []
  },
  {
   "cell_type": "markdown",
   "metadata": {},
   "source": [
    "### Feature Engineering"
   ]
  },
  {
   "cell_type": "markdown",
   "metadata": {},
   "source": [
    "Feature engineering will play a crucial role in this problems. We have only very little attributes so we need to create some features that will have some predictive power.\n",
    "\n",
    "- weather: we can use some weather API to look for the weather in time of the scheduled departure and scheduled arrival.\n",
    "- statistics (avg, mean, median, std, min, max...): we can take a look at previous delays and compute descriptive statistics\n",
    "- airports encoding: we need to think about what to do with the airports and other categorical variables\n",
    "- time of the day: the delay probably depends on the airport traffic which varies during the day.\n",
    "- airport traffic\n",
    "- unsupervised learning as feature engineering?\n",
    "- **what are the additional options?**: Think about what we could do more to improve the model."
   ]
  },
  {
   "cell_type": "code",
   "execution_count": 210,
   "metadata": {},
   "outputs": [],
   "source": [
    "X = X[['origin_airport_id', 'dest_airport_id', 'distance', 'passengers', 'crs_elapsed_time','capacity', 'total_gallons', 'dep_delay',\n",
    "       'nas_delay', 'security_delay', 'late_aircraft_delay',\n",
    "       'weather_delay', 'carrier_delay']]\n",
    "#dropped flight date :( "
   ]
  },
  {
   "cell_type": "code",
   "execution_count": 211,
   "metadata": {},
   "outputs": [],
   "source": [
    "x_label = X.columns"
   ]
  },
  {
   "cell_type": "code",
   "execution_count": 212,
   "metadata": {},
   "outputs": [],
   "source": [
    "scaler = StandardScaler()"
   ]
  },
  {
   "cell_type": "code",
   "execution_count": 213,
   "metadata": {},
   "outputs": [],
   "source": [
    "X = pd.DataFrame(scaler.fit_transform(X))"
   ]
  },
  {
   "cell_type": "code",
   "execution_count": 214,
   "metadata": {},
   "outputs": [],
   "source": [
    "X_train, X_test, y_train, y_test = train_test_split(X, y, shuffle=True, train_size=0.8)\n"
   ]
  },
  {
   "cell_type": "code",
   "execution_count": null,
   "metadata": {},
   "outputs": [],
   "source": []
  },
  {
   "cell_type": "markdown",
   "metadata": {},
   "source": [
    "### Feature Selection / Dimensionality Reduction"
   ]
  },
  {
   "cell_type": "markdown",
   "metadata": {},
   "source": [
    "We need to apply different selection techniques to find out which one will be the best for our problems.\n",
    "\n",
    "- Original Features vs. PCA conponents?"
   ]
  },
  {
   "cell_type": "code",
   "execution_count": null,
   "metadata": {},
   "outputs": [],
   "source": []
  },
  {
   "cell_type": "code",
   "execution_count": null,
   "metadata": {},
   "outputs": [],
   "source": []
  },
  {
   "cell_type": "code",
   "execution_count": null,
   "metadata": {},
   "outputs": [],
   "source": []
  },
  {
   "cell_type": "code",
   "execution_count": null,
   "metadata": {},
   "outputs": [],
   "source": []
  },
  {
   "cell_type": "code",
   "execution_count": null,
   "metadata": {},
   "outputs": [],
   "source": []
  },
  {
   "cell_type": "markdown",
   "metadata": {},
   "source": [
    "### Modeling"
   ]
  },
  {
   "cell_type": "markdown",
   "metadata": {},
   "source": [
    "Use different ML techniques to predict each problem.\n",
    "\n",
    "- linear / logistic / multinomial logistic regression\n",
    "- Naive Bayes\n",
    "- Random Forest\n",
    "- SVM\n",
    "- XGBoost\n",
    "- The ensemble of your own choice"
   ]
  },
  {
   "cell_type": "code",
   "execution_count": 215,
   "metadata": {},
   "outputs": [],
   "source": [
    "#data_dmatrix = xgb.DMatrix(data=X,label=y, enable_categorical=True)"
   ]
  },
  {
   "cell_type": "code",
   "execution_count": 216,
   "metadata": {},
   "outputs": [],
   "source": [
    "#objective ='reg:squarederror', colsample_bytree = 0.3, learning_rate = 0.1, max_depth = 7, alpha = 0.1,"
   ]
  },
  {
   "cell_type": "code",
   "execution_count": 116,
   "metadata": {},
   "outputs": [],
   "source": []
  },
  {
   "cell_type": "code",
   "execution_count": 117,
   "metadata": {},
   "outputs": [],
   "source": []
  },
  {
   "cell_type": "code",
   "execution_count": 118,
   "metadata": {},
   "outputs": [],
   "source": []
  },
  {
   "cell_type": "code",
   "execution_count": 217,
   "metadata": {},
   "outputs": [],
   "source": [
    "lr = LinearRegression()"
   ]
  },
  {
   "cell_type": "code",
   "execution_count": 218,
   "metadata": {},
   "outputs": [
    {
     "data": {
      "text/plain": [
       "LinearRegression()"
      ]
     },
     "execution_count": 218,
     "metadata": {},
     "output_type": "execute_result"
    }
   ],
   "source": [
    "lr.fit(X_train, y_train) "
   ]
  },
  {
   "cell_type": "code",
   "execution_count": 219,
   "metadata": {},
   "outputs": [
    {
     "data": {
      "text/plain": [
       "0.03475286398060684"
      ]
     },
     "execution_count": 219,
     "metadata": {},
     "output_type": "execute_result"
    }
   ],
   "source": [
    "lr.score(X_train, y_train)"
   ]
  },
  {
   "cell_type": "code",
   "execution_count": 220,
   "metadata": {},
   "outputs": [
    {
     "data": {
      "text/plain": [
       "0.033550358543344094"
      ]
     },
     "execution_count": 220,
     "metadata": {},
     "output_type": "execute_result"
    }
   ],
   "source": [
    "lr.score(X_test, y_test)"
   ]
  },
  {
   "cell_type": "markdown",
   "metadata": {},
   "source": [
    "### Random Forest"
   ]
  },
  {
   "cell_type": "code",
   "execution_count": 123,
   "metadata": {},
   "outputs": [
    {
     "data": {
      "text/plain": [
       "RandomForestRegressor()"
      ]
     },
     "execution_count": 123,
     "metadata": {},
     "output_type": "execute_result"
    }
   ],
   "source": []
  },
  {
   "cell_type": "code",
   "execution_count": 221,
   "metadata": {},
   "outputs": [],
   "source": [
    " # create regressor object\n",
    "regressor = RandomForestRegressor(n_estimators = 100)\n",
    " "
   ]
  },
  {
   "cell_type": "code",
   "execution_count": null,
   "metadata": {},
   "outputs": [],
   "source": []
  },
  {
   "cell_type": "code",
   "execution_count": 222,
   "metadata": {},
   "outputs": [
    {
     "data": {
      "text/plain": [
       "RandomForestRegressor()"
      ]
     },
     "execution_count": 222,
     "metadata": {},
     "output_type": "execute_result"
    }
   ],
   "source": [
    "# fit the regressor with x and y data\n",
    "regressor.fit(X_train, y_train) "
   ]
  },
  {
   "cell_type": "code",
   "execution_count": 223,
   "metadata": {},
   "outputs": [],
   "source": [
    "y_pred = regressor.predict(X_test)"
   ]
  },
  {
   "cell_type": "code",
   "execution_count": 224,
   "metadata": {},
   "outputs": [
    {
     "name": "stdout",
     "output_type": "stream",
     "text": [
      "Mean Absolute Error: 33.84939850414698\n",
      "Mean Squared Error: 2053.7701070852418\n",
      "Root Mean Squared Error: 45.3185404341892\n"
     ]
    }
   ],
   "source": [
    "print('Mean Absolute Error:', mean_absolute_error(y_test, y_pred))\n",
    "print('Mean Squared Error:', mean_squared_error(y_test, y_pred))\n",
    "print('Root Mean Squared Error:', np.sqrt(mean_squared_error(y_test, y_pred)))"
   ]
  },
  {
   "cell_type": "code",
   "execution_count": 225,
   "metadata": {},
   "outputs": [
    {
     "data": {
      "text/plain": [
       "crs_elapsed_time       0.582456\n",
       "dep_delay              0.073987\n",
       "total_gallons          0.048307\n",
       "nas_delay              0.041661\n",
       "carrier_delay          0.033204\n",
       "weather_delay          0.032092\n",
       "late_aircraft_delay    0.031892\n",
       "capacity               0.030632\n",
       "passengers             0.029467\n",
       "distance               0.029427\n",
       "origin_airport_id      0.027557\n",
       "dest_airport_id        0.026043\n",
       "security_delay         0.013274\n",
       "dtype: float64"
      ]
     },
     "execution_count": 225,
     "metadata": {},
     "output_type": "execute_result"
    }
   ],
   "source": [
    "feature_importance= pd.Series(regressor.feature_importances_, index= x_label).sort_values(ascending=False)\n",
    "feature_importance"
   ]
  },
  {
   "cell_type": "code",
   "execution_count": null,
   "metadata": {},
   "outputs": [],
   "source": []
  },
  {
   "cell_type": "code",
   "execution_count": 172,
   "metadata": {},
   "outputs": [],
   "source": [
    "params = {'n_estimators' : [100, 150, 200, 300], 'max_depth': [3, 10, 20, 30]}"
   ]
  },
  {
   "cell_type": "code",
   "execution_count": 173,
   "metadata": {},
   "outputs": [],
   "source": [
    "grid = GridSearchCV(regressor, params)"
   ]
  },
  {
   "cell_type": "code",
   "execution_count": null,
   "metadata": {},
   "outputs": [],
   "source": [
    "grid_result = grid.fit(X_train, y_train)"
   ]
  },
  {
   "cell_type": "code",
   "execution_count": null,
   "metadata": {},
   "outputs": [],
   "source": [
    "print(grid_result.best_score_)\n",
    "print( grid_result.best_params_['n_estimators'])\n",
    "print( grid_result.best_params_['max_depth'])"
   ]
  },
  {
   "cell_type": "code",
   "execution_count": null,
   "metadata": {},
   "outputs": [],
   "source": []
  },
  {
   "cell_type": "markdown",
   "metadata": {},
   "source": [
    "### Evaluation"
   ]
  },
  {
   "cell_type": "markdown",
   "metadata": {},
   "source": [
    "You have data from 2018 and 2019 to develop models. Use different evaluation metrics for each problem and compare the performance of different models.\n",
    "\n",
    "You are required to predict delays on **out of sample** data from **first 7 days (1st-7th) of January 2020** and to share the file with LighthouseLabs. Sample submission can be found in the file **_sample_submission.csv_**"
   ]
  },
  {
   "cell_type": "code",
   "execution_count": null,
   "metadata": {},
   "outputs": [],
   "source": []
  },
  {
   "cell_type": "code",
   "execution_count": null,
   "metadata": {},
   "outputs": [],
   "source": []
  },
  {
   "cell_type": "code",
   "execution_count": null,
   "metadata": {},
   "outputs": [],
   "source": []
  },
  {
   "cell_type": "code",
   "execution_count": null,
   "metadata": {},
   "outputs": [],
   "source": []
  },
  {
   "cell_type": "markdown",
   "metadata": {},
   "source": [
    "======================================================================\n",
    "## Stretch Tasks"
   ]
  },
  {
   "cell_type": "markdown",
   "metadata": {},
   "source": [
    "### Multiclass Classification"
   ]
  },
  {
   "cell_type": "markdown",
   "metadata": {},
   "source": [
    "The target variables are **CARRIER_DELAY, WEATHER_DELAY, NAS_DELAY, SECURITY_DELAY, LATE_AIRCRAFT_DELAY**. We need to do additional transformations because these variables are not binary but continuos. For each flight that was delayed, we need to have one of these variables as 1 and others 0.\n",
    "\n",
    "It can happen that we have two types of delays with more than 0 minutes. In this case, take the bigger one as 1 and others as 0."
   ]
  },
  {
   "cell_type": "code",
   "execution_count": null,
   "metadata": {},
   "outputs": [],
   "source": []
  },
  {
   "cell_type": "code",
   "execution_count": null,
   "metadata": {},
   "outputs": [],
   "source": []
  },
  {
   "cell_type": "code",
   "execution_count": null,
   "metadata": {},
   "outputs": [],
   "source": []
  },
  {
   "cell_type": "markdown",
   "metadata": {},
   "source": [
    "### Binary Classification"
   ]
  },
  {
   "cell_type": "markdown",
   "metadata": {},
   "source": [
    "The target variable is **CANCELLED**. The main problem here is going to be huge class imbalance. We have only very little cancelled flights with comparison to all flights. It is important to do the right sampling before training and to choose correct evaluation metrics."
   ]
  },
  {
   "cell_type": "code",
   "execution_count": null,
   "metadata": {},
   "outputs": [],
   "source": []
  },
  {
   "cell_type": "code",
   "execution_count": null,
   "metadata": {},
   "outputs": [],
   "source": []
  },
  {
   "cell_type": "code",
   "execution_count": null,
   "metadata": {},
   "outputs": [],
   "source": []
  }
 ],
 "metadata": {
  "kernelspec": {
   "display_name": "Python 3 (ipykernel)",
   "language": "python",
   "name": "python3"
  },
  "language_info": {
   "codemirror_mode": {
    "name": "ipython",
    "version": 3
   },
   "file_extension": ".py",
   "mimetype": "text/x-python",
   "name": "python",
   "nbconvert_exporter": "python",
   "pygments_lexer": "ipython3",
   "version": "3.9.7"
  }
 },
 "nbformat": 4,
 "nbformat_minor": 4
}
