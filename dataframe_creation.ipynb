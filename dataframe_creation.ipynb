{
 "cells": [
  {
   "cell_type": "code",
   "execution_count": 16,
   "id": "7da6e0ca-4d46-44a8-8708-244721cfc4c2",
   "metadata": {},
   "outputs": [],
   "source": [
    "import pandas as pd\n",
    "from scipy.stats import shapiro\n",
    "from scipy.stats import ttest_1samp\n",
    "import numpy as np\n",
    "import psycopg2\n",
    "import seaborn as sns\n",
    "import matplotlib.pyplot as plt"
   ]
  },
  {
   "cell_type": "code",
   "execution_count": 52,
   "id": "3ee4c4d8-c934-416e-82dc-7c52fbcc37e8",
   "metadata": {},
   "outputs": [],
   "source": [
    "#opening connection & cursor\n",
    "conn = psycopg2.connect(\n",
    "                            host=\"lhl-data-bootcamp.crzjul5qln0e.ca-central-1.rds.amazonaws.com\",\n",
    "                            database=\"mid_term_project\",\n",
    "                            user=\"lhl_student\",\n",
    "                            password=\"lhl_student\")\n",
    "cursor = conn.cursor()\n",
    "\n",
    "def create_pandas_table(sql_query, database = conn):\n",
    "    table = pd.read_sql_query(sql_query, database)\n",
    "    return table"
   ]
  },
  {
   "cell_type": "code",
   "execution_count": 95,
   "id": "35db18fe-d970-4e2a-854c-3d2e69a7dbba",
   "metadata": {},
   "outputs": [],
   "source": [
    "\n",
    "# for i in range(1, 13):\n",
    "#     if i == 1:\n",
    "#         test2 = f\"SELECT * FROM flights WHERE arr_delay IS NOT NULL AND weather_delay IS NOT NULL AND arr_delay < 200 AND WHERE fl_date IN ('2018-01-01','2018-01-02','2018-01-03','2018-01-04','2018-01-05','2018-01-06','2018-01-07','2019-01-01','2019-01-02','2019-01-03','2019-01-04','2019-01-05','2019-01-06','2019-01-07');\"\n",
    "#         df = create_pandas_table(test2)\n",
    "#     else:\n",
    "#         test2 = f\"SELECT * FROM flights WHERE arr_delay IS NOT NULL AND weather_delay IS NOT NULL AND arr_delay < 200 AND EXTRACT(month from CAST(fl_date as date)) = {i} AND EXTRACT(year from CAST(fl_date as date)) = 2019 LIMIT 100000;\"\n",
    "#         test_pd_table = create_pandas_table(test2)\n",
    "#         df = pd.concat([df, test_pd_table]) \n",
    "test2 = \"SELECT * FROM flights WHERE arr_delay IS NOT NULL AND weather_delay IS NOT NULL AND arr_delay < 200 AND fl_date IN ('2018-01-01','2018-01-02','2018-01-03','2018-01-04','2018-01-05','2018-01-06','2018-01-07','2019-01-01','2019-01-02','2019-01-03','2019-01-04','2019-01-05','2019-01-06','2019-01-07');\"\n",
    "df = create_pandas_table(test2)"
   ]
  },
  {
   "cell_type": "code",
   "execution_count": 97,
   "id": "61561635-08f5-4c05-9109-be55bc85343b",
   "metadata": {},
   "outputs": [
    {
     "data": {
      "text/plain": [
       "(55739, 42)"
      ]
     },
     "execution_count": 97,
     "metadata": {},
     "output_type": "execute_result"
    }
   ],
   "source": [
    "df.shape"
   ]
  },
  {
   "cell_type": "code",
   "execution_count": 98,
   "id": "8494cd38-2897-445a-9f9c-291b77b78a8b",
   "metadata": {},
   "outputs": [
    {
     "data": {
      "text/plain": [
       "array(['2019-01-01', '2019-01-02', '2019-01-03', '2019-01-04',\n",
       "       '2019-01-05', '2019-01-06', '2019-01-07', '2018-01-01',\n",
       "       '2018-01-02', '2018-01-03', '2018-01-04', '2018-01-05',\n",
       "       '2018-01-06', '2018-01-07'], dtype=object)"
      ]
     },
     "execution_count": 98,
     "metadata": {},
     "output_type": "execute_result"
    }
   ],
   "source": [
    "df.fl_date.unique()"
   ]
  },
  {
   "cell_type": "code",
   "execution_count": 67,
   "id": "49b40578-df99-4b4e-a0be-670a8c0739b2",
   "metadata": {},
   "outputs": [],
   "source": [
    "passengers = create_pandas_table(\"SELECT * FROM passengers TABLESAMPLE SYSTEM(10) WHERE year >= 2019 \")"
   ]
  },
  {
   "cell_type": "code",
   "execution_count": 68,
   "id": "e9ad84da-4b1f-4c6e-abbd-102113a24be9",
   "metadata": {},
   "outputs": [
    {
     "data": {
      "text/plain": [
       "(48575, 38)"
      ]
     },
     "execution_count": 68,
     "metadata": {},
     "output_type": "execute_result"
    }
   ],
   "source": [
    "passengers.shape"
   ]
  },
  {
   "cell_type": "code",
   "execution_count": 69,
   "id": "878c25e7-f3d3-47b6-bc30-9052af2a66c4",
   "metadata": {},
   "outputs": [
    {
     "data": {
      "text/plain": [
       "66868.0"
      ]
     },
     "execution_count": 69,
     "metadata": {},
     "output_type": "execute_result"
    }
   ],
   "source": [
    "passengers.passengers.max()"
   ]
  },
  {
   "cell_type": "code",
   "execution_count": 70,
   "id": "8faf6104-13e6-404b-ae82-80dfd2045493",
   "metadata": {},
   "outputs": [],
   "source": [
    "fuel = create_pandas_table(\"SELECT * FROM fuel_comsumption WHERE year >= 2019 \")"
   ]
  },
  {
   "cell_type": "code",
   "execution_count": 71,
   "id": "a3e6a2b3-821a-4895-b679-6248253be875",
   "metadata": {},
   "outputs": [
    {
     "data": {
      "text/plain": [
       "0        1235210.0\n",
       "1              0.0\n",
       "2          60821.0\n",
       "3              0.0\n",
       "4         410186.0\n",
       "          ...     \n",
       "453      3943414.0\n",
       "454            0.0\n",
       "455            0.0\n",
       "456        22895.0\n",
       "457    162505172.0\n",
       "Name: total_gallons, Length: 458, dtype: float64"
      ]
     },
     "execution_count": 71,
     "metadata": {},
     "output_type": "execute_result"
    }
   ],
   "source": [
    "fuel.shape\n",
    "fuel.total_gallons"
   ]
  },
  {
   "cell_type": "code",
   "execution_count": null,
   "id": "68c73f7a-5059-45f1-87c1-2731a2eb6c34",
   "metadata": {},
   "outputs": [],
   "source": []
  },
  {
   "cell_type": "code",
   "execution_count": null,
   "id": "93aacff0-fac6-44a7-a141-cfd34899140c",
   "metadata": {},
   "outputs": [],
   "source": []
  },
  {
   "cell_type": "code",
   "execution_count": 72,
   "id": "13c69f02-9271-44b2-94b5-ffde8d29b9f9",
   "metadata": {},
   "outputs": [],
   "source": [
    "fuel_mean=fuel[['unique_carrier','total_gallons']].groupby(['unique_carrier'],as_index=False).mean()"
   ]
  },
  {
   "cell_type": "code",
   "execution_count": 73,
   "id": "8e8cdabc-a5ed-498c-9e02-d84a0150a7d3",
   "metadata": {},
   "outputs": [],
   "source": [
    "fuel_mean.rename(columns={'unique_carrier':'op_unique_carrier'},inplace=True)\n"
   ]
  },
  {
   "cell_type": "code",
   "execution_count": 74,
   "id": "7d019f02-6d49-4dfc-af2f-6923917e4649",
   "metadata": {},
   "outputs": [],
   "source": [
    "passengers['capacity'] = passengers['seats'] - passengers['passengers']\n"
   ]
  },
  {
   "cell_type": "code",
   "execution_count": 75,
   "id": "70f98808-147b-4c20-87fc-180325481836",
   "metadata": {},
   "outputs": [],
   "source": [
    "passengers.rename(columns={'unique_carrier':'mkt_unique_carrier'},inplace=True)\n"
   ]
  },
  {
   "cell_type": "code",
   "execution_count": 76,
   "id": "9c684b93-c8f6-44a8-99f1-485e91f40fca",
   "metadata": {},
   "outputs": [],
   "source": [
    "passengers_mean=passengers[['mkt_unique_carrier','origin','dest','passengers', 'capacity']].groupby(['mkt_unique_carrier','origin','dest', ],as_index=False).mean()"
   ]
  },
  {
   "cell_type": "code",
   "execution_count": 77,
   "id": "4e32340f-455d-4743-9184-9aff748d45a9",
   "metadata": {},
   "outputs": [
    {
     "data": {
      "text/html": [
       "<div>\n",
       "<style scoped>\n",
       "    .dataframe tbody tr th:only-of-type {\n",
       "        vertical-align: middle;\n",
       "    }\n",
       "\n",
       "    .dataframe tbody tr th {\n",
       "        vertical-align: top;\n",
       "    }\n",
       "\n",
       "    .dataframe thead th {\n",
       "        text-align: right;\n",
       "    }\n",
       "</style>\n",
       "<table border=\"1\" class=\"dataframe\">\n",
       "  <thead>\n",
       "    <tr style=\"text-align: right;\">\n",
       "      <th></th>\n",
       "      <th>mkt_unique_carrier</th>\n",
       "      <th>origin</th>\n",
       "      <th>dest</th>\n",
       "      <th>passengers</th>\n",
       "      <th>capacity</th>\n",
       "    </tr>\n",
       "  </thead>\n",
       "  <tbody>\n",
       "    <tr>\n",
       "      <th>0</th>\n",
       "      <td>04Q</td>\n",
       "      <td>ACK</td>\n",
       "      <td>BED</td>\n",
       "      <td>1.000000</td>\n",
       "      <td>7.000000</td>\n",
       "    </tr>\n",
       "    <tr>\n",
       "      <th>1</th>\n",
       "      <td>04Q</td>\n",
       "      <td>ACK</td>\n",
       "      <td>BOS</td>\n",
       "      <td>1.000000</td>\n",
       "      <td>7.000000</td>\n",
       "    </tr>\n",
       "    <tr>\n",
       "      <th>2</th>\n",
       "      <td>04Q</td>\n",
       "      <td>ACK</td>\n",
       "      <td>BVY</td>\n",
       "      <td>4.000000</td>\n",
       "      <td>4.000000</td>\n",
       "    </tr>\n",
       "    <tr>\n",
       "      <th>3</th>\n",
       "      <td>04Q</td>\n",
       "      <td>ACK</td>\n",
       "      <td>EWR</td>\n",
       "      <td>2.000000</td>\n",
       "      <td>6.000000</td>\n",
       "    </tr>\n",
       "    <tr>\n",
       "      <th>4</th>\n",
       "      <td>04Q</td>\n",
       "      <td>ACK</td>\n",
       "      <td>HPN</td>\n",
       "      <td>357.666667</td>\n",
       "      <td>183.666667</td>\n",
       "    </tr>\n",
       "  </tbody>\n",
       "</table>\n",
       "</div>"
      ],
      "text/plain": [
       "  mkt_unique_carrier origin dest  passengers    capacity\n",
       "0                04Q    ACK  BED    1.000000    7.000000\n",
       "1                04Q    ACK  BOS    1.000000    7.000000\n",
       "2                04Q    ACK  BVY    4.000000    4.000000\n",
       "3                04Q    ACK  EWR    2.000000    6.000000\n",
       "4                04Q    ACK  HPN  357.666667  183.666667"
      ]
     },
     "execution_count": 77,
     "metadata": {},
     "output_type": "execute_result"
    }
   ],
   "source": [
    "passengers_mean.head()"
   ]
  },
  {
   "cell_type": "code",
   "execution_count": 99,
   "id": "3bfb85ac-770b-48ee-8bcc-7c3b4962e66b",
   "metadata": {},
   "outputs": [],
   "source": [
    "df_merged=pd.merge(df,passengers_mean,on=['mkt_unique_carrier', 'origin','dest'], how='inner') "
   ]
  },
  {
   "cell_type": "code",
   "execution_count": 100,
   "id": "711cf2bd-27f9-4a6b-85aa-bd3b7f013aca",
   "metadata": {},
   "outputs": [
    {
     "data": {
      "text/plain": [
       "(38221, 44)"
      ]
     },
     "execution_count": 100,
     "metadata": {},
     "output_type": "execute_result"
    }
   ],
   "source": [
    "df_merged.shape"
   ]
  },
  {
   "cell_type": "code",
   "execution_count": 79,
   "id": "2091e41d-a6e0-4f5f-a368-aeef28d30d15",
   "metadata": {},
   "outputs": [],
   "source": [
    "df_merged=pd.merge(df_merged,fuel_mean, on=['op_unique_carrier'], how='inner') "
   ]
  },
  {
   "cell_type": "code",
   "execution_count": 80,
   "id": "045c69b7-0804-4775-9215-733e25276a97",
   "metadata": {},
   "outputs": [
    {
     "data": {
      "text/plain": [
       "(37449, 45)"
      ]
     },
     "execution_count": 80,
     "metadata": {},
     "output_type": "execute_result"
    }
   ],
   "source": [
    "df_merged.shape"
   ]
  },
  {
   "cell_type": "code",
   "execution_count": 81,
   "id": "5c7ffa5a-62f1-4338-8daf-114826e4a94b",
   "metadata": {},
   "outputs": [
    {
     "data": {
      "text/plain": [
       "fl_date                    0\n",
       "mkt_unique_carrier         0\n",
       "branded_code_share         0\n",
       "mkt_carrier                0\n",
       "mkt_carrier_fl_num         0\n",
       "op_unique_carrier          0\n",
       "tail_num                   0\n",
       "op_carrier_fl_num          0\n",
       "origin_airport_id          0\n",
       "origin                     0\n",
       "origin_city_name           0\n",
       "dest_airport_id            0\n",
       "dest                       0\n",
       "dest_city_name             0\n",
       "crs_dep_time               0\n",
       "dep_time                   0\n",
       "dep_delay                  4\n",
       "taxi_out                   0\n",
       "wheels_off                 0\n",
       "wheels_on                  0\n",
       "taxi_in                    0\n",
       "crs_arr_time               0\n",
       "arr_time                   0\n",
       "arr_delay                  0\n",
       "cancelled                  0\n",
       "cancellation_code      17868\n",
       "diverted                   0\n",
       "dup                        0\n",
       "crs_elapsed_time           0\n",
       "actual_elapsed_time        0\n",
       "air_time                   0\n",
       "flights                    0\n",
       "distance                   0\n",
       "carrier_delay              0\n",
       "weather_delay              0\n",
       "nas_delay                  0\n",
       "security_delay             0\n",
       "late_aircraft_delay        0\n",
       "first_dep_time         17450\n",
       "total_add_gtime        36579\n",
       "longest_add_gtime      36579\n",
       "no_name                37449\n",
       "passengers                 0\n",
       "capacity                   0\n",
       "total_gallons              0\n",
       "dtype: int64"
      ]
     },
     "execution_count": 81,
     "metadata": {},
     "output_type": "execute_result"
    }
   ],
   "source": [
    "df_merged.isna().sum()"
   ]
  },
  {
   "cell_type": "code",
   "execution_count": 84,
   "id": "560409cb-be6e-4437-9f77-7d2dac201f90",
   "metadata": {},
   "outputs": [],
   "source": [
    "df_merged.dropna(axis=0, subset=['dep_delay'], inplace=True)"
   ]
  },
  {
   "cell_type": "code",
   "execution_count": 34,
   "id": "1bb34cf1-7e63-4ca8-be5a-b028580e1d0b",
   "metadata": {},
   "outputs": [],
   "source": [
    "# remember to close connection to allow for others to use the bandwidth\n",
    "cursor.close()\n",
    "conn.close()"
   ]
  },
  {
   "cell_type": "code",
   "execution_count": 85,
   "id": "387cadd8-e226-4b1a-8b5f-e40f2a12a761",
   "metadata": {},
   "outputs": [
    {
     "data": {
      "text/plain": [
       "array([ 7215.        ,  6091.5       ,  8405.        , ...,\n",
       "       10855.        ,  7247.        ,  6460.33333333])"
      ]
     },
     "execution_count": 85,
     "metadata": {},
     "output_type": "execute_result"
    }
   ],
   "source": [
    "df_merged.passengers.unique()"
   ]
  },
  {
   "cell_type": "code",
   "execution_count": null,
   "id": "e3ef0076-85e9-49b7-a872-be417eaedeae",
   "metadata": {},
   "outputs": [],
   "source": []
  },
  {
   "cell_type": "code",
   "execution_count": 36,
   "id": "3a4f881f-f030-437a-92e9-5b22b005fdcd",
   "metadata": {},
   "outputs": [
    {
     "data": {
      "text/plain": [
       "array(['AA', 'NK', 'AS', 'DL', 'UA', 'WN', 'G4', 'HA', 'B6', 'F9'],\n",
       "      dtype=object)"
      ]
     },
     "execution_count": 36,
     "metadata": {},
     "output_type": "execute_result"
    }
   ],
   "source": [
    "df.mkt_unique_carrier.unique()"
   ]
  },
  {
   "cell_type": "code",
   "execution_count": 37,
   "id": "3db3c77e-9a10-4ad1-9177-a361d990b033",
   "metadata": {},
   "outputs": [
    {
     "data": {
      "text/plain": [
       "(1179349, 42)"
      ]
     },
     "execution_count": 37,
     "metadata": {},
     "output_type": "execute_result"
    }
   ],
   "source": [
    "df.shape"
   ]
  },
  {
   "cell_type": "code",
   "execution_count": 86,
   "id": "5430925f-b43c-4108-adc0-9a2493b4f1ff",
   "metadata": {},
   "outputs": [
    {
     "data": {
      "text/plain": [
       "(37445, 45)"
      ]
     },
     "execution_count": 86,
     "metadata": {},
     "output_type": "execute_result"
    }
   ],
   "source": [
    "df_merged.shape"
   ]
  },
  {
   "cell_type": "code",
   "execution_count": 87,
   "id": "c2714103-b2fb-44e2-9619-c42d4ffb537e",
   "metadata": {},
   "outputs": [
    {
     "data": {
      "text/html": [
       "<div>\n",
       "<style scoped>\n",
       "    .dataframe tbody tr th:only-of-type {\n",
       "        vertical-align: middle;\n",
       "    }\n",
       "\n",
       "    .dataframe tbody tr th {\n",
       "        vertical-align: top;\n",
       "    }\n",
       "\n",
       "    .dataframe thead th {\n",
       "        text-align: right;\n",
       "    }\n",
       "</style>\n",
       "<table border=\"1\" class=\"dataframe\">\n",
       "  <thead>\n",
       "    <tr style=\"text-align: right;\">\n",
       "      <th></th>\n",
       "      <th>fl_date</th>\n",
       "      <th>mkt_unique_carrier</th>\n",
       "      <th>branded_code_share</th>\n",
       "      <th>mkt_carrier</th>\n",
       "      <th>mkt_carrier_fl_num</th>\n",
       "      <th>op_unique_carrier</th>\n",
       "      <th>tail_num</th>\n",
       "      <th>op_carrier_fl_num</th>\n",
       "      <th>origin_airport_id</th>\n",
       "      <th>origin</th>\n",
       "      <th>...</th>\n",
       "      <th>nas_delay</th>\n",
       "      <th>security_delay</th>\n",
       "      <th>late_aircraft_delay</th>\n",
       "      <th>first_dep_time</th>\n",
       "      <th>total_add_gtime</th>\n",
       "      <th>longest_add_gtime</th>\n",
       "      <th>no_name</th>\n",
       "      <th>passengers</th>\n",
       "      <th>capacity</th>\n",
       "      <th>total_gallons</th>\n",
       "    </tr>\n",
       "  </thead>\n",
       "  <tbody>\n",
       "    <tr>\n",
       "      <th>0</th>\n",
       "      <td>2019-01-01</td>\n",
       "      <td>NK</td>\n",
       "      <td>NK</td>\n",
       "      <td>NK</td>\n",
       "      <td>811</td>\n",
       "      <td>NK</td>\n",
       "      <td>N640NK</td>\n",
       "      <td>811</td>\n",
       "      <td>13204</td>\n",
       "      <td>MCO</td>\n",
       "      <td>...</td>\n",
       "      <td>14.0</td>\n",
       "      <td>0.0</td>\n",
       "      <td>0.0</td>\n",
       "      <td>None</td>\n",
       "      <td>NaN</td>\n",
       "      <td>NaN</td>\n",
       "      <td>None</td>\n",
       "      <td>7215.0</td>\n",
       "      <td>706.0</td>\n",
       "      <td>3.937194e+07</td>\n",
       "    </tr>\n",
       "    <tr>\n",
       "      <th>1</th>\n",
       "      <td>2019-01-01</td>\n",
       "      <td>NK</td>\n",
       "      <td>NK</td>\n",
       "      <td>NK</td>\n",
       "      <td>803</td>\n",
       "      <td>NK</td>\n",
       "      <td>N625NK</td>\n",
       "      <td>803</td>\n",
       "      <td>13204</td>\n",
       "      <td>MCO</td>\n",
       "      <td>...</td>\n",
       "      <td>1.0</td>\n",
       "      <td>0.0</td>\n",
       "      <td>66.0</td>\n",
       "      <td>None</td>\n",
       "      <td>NaN</td>\n",
       "      <td>NaN</td>\n",
       "      <td>None</td>\n",
       "      <td>7215.0</td>\n",
       "      <td>706.0</td>\n",
       "      <td>3.937194e+07</td>\n",
       "    </tr>\n",
       "    <tr>\n",
       "      <th>2</th>\n",
       "      <td>2019-01-02</td>\n",
       "      <td>NK</td>\n",
       "      <td>NK</td>\n",
       "      <td>NK</td>\n",
       "      <td>811</td>\n",
       "      <td>NK</td>\n",
       "      <td>N646NK</td>\n",
       "      <td>811</td>\n",
       "      <td>13204</td>\n",
       "      <td>MCO</td>\n",
       "      <td>...</td>\n",
       "      <td>15.0</td>\n",
       "      <td>0.0</td>\n",
       "      <td>0.0</td>\n",
       "      <td>None</td>\n",
       "      <td>NaN</td>\n",
       "      <td>NaN</td>\n",
       "      <td>None</td>\n",
       "      <td>7215.0</td>\n",
       "      <td>706.0</td>\n",
       "      <td>3.937194e+07</td>\n",
       "    </tr>\n",
       "    <tr>\n",
       "      <th>3</th>\n",
       "      <td>2019-01-03</td>\n",
       "      <td>NK</td>\n",
       "      <td>NK</td>\n",
       "      <td>NK</td>\n",
       "      <td>803</td>\n",
       "      <td>NK</td>\n",
       "      <td>N605NK</td>\n",
       "      <td>803</td>\n",
       "      <td>13204</td>\n",
       "      <td>MCO</td>\n",
       "      <td>...</td>\n",
       "      <td>1.0</td>\n",
       "      <td>0.0</td>\n",
       "      <td>39.0</td>\n",
       "      <td>None</td>\n",
       "      <td>NaN</td>\n",
       "      <td>NaN</td>\n",
       "      <td>None</td>\n",
       "      <td>7215.0</td>\n",
       "      <td>706.0</td>\n",
       "      <td>3.937194e+07</td>\n",
       "    </tr>\n",
       "    <tr>\n",
       "      <th>4</th>\n",
       "      <td>2019-01-04</td>\n",
       "      <td>NK</td>\n",
       "      <td>NK</td>\n",
       "      <td>NK</td>\n",
       "      <td>811</td>\n",
       "      <td>NK</td>\n",
       "      <td>N635NK</td>\n",
       "      <td>811</td>\n",
       "      <td>13204</td>\n",
       "      <td>MCO</td>\n",
       "      <td>...</td>\n",
       "      <td>11.0</td>\n",
       "      <td>0.0</td>\n",
       "      <td>0.0</td>\n",
       "      <td>None</td>\n",
       "      <td>NaN</td>\n",
       "      <td>NaN</td>\n",
       "      <td>None</td>\n",
       "      <td>7215.0</td>\n",
       "      <td>706.0</td>\n",
       "      <td>3.937194e+07</td>\n",
       "    </tr>\n",
       "  </tbody>\n",
       "</table>\n",
       "<p>5 rows × 45 columns</p>\n",
       "</div>"
      ],
      "text/plain": [
       "      fl_date mkt_unique_carrier branded_code_share mkt_carrier  \\\n",
       "0  2019-01-01                 NK                 NK          NK   \n",
       "1  2019-01-01                 NK                 NK          NK   \n",
       "2  2019-01-02                 NK                 NK          NK   \n",
       "3  2019-01-03                 NK                 NK          NK   \n",
       "4  2019-01-04                 NK                 NK          NK   \n",
       "\n",
       "   mkt_carrier_fl_num op_unique_carrier tail_num  op_carrier_fl_num  \\\n",
       "0                 811                NK   N640NK                811   \n",
       "1                 803                NK   N625NK                803   \n",
       "2                 811                NK   N646NK                811   \n",
       "3                 803                NK   N605NK                803   \n",
       "4                 811                NK   N635NK                811   \n",
       "\n",
       "   origin_airport_id origin  ... nas_delay  security_delay  \\\n",
       "0              13204    MCO  ...      14.0             0.0   \n",
       "1              13204    MCO  ...       1.0             0.0   \n",
       "2              13204    MCO  ...      15.0             0.0   \n",
       "3              13204    MCO  ...       1.0             0.0   \n",
       "4              13204    MCO  ...      11.0             0.0   \n",
       "\n",
       "  late_aircraft_delay first_dep_time  total_add_gtime  longest_add_gtime  \\\n",
       "0                 0.0           None              NaN                NaN   \n",
       "1                66.0           None              NaN                NaN   \n",
       "2                 0.0           None              NaN                NaN   \n",
       "3                39.0           None              NaN                NaN   \n",
       "4                 0.0           None              NaN                NaN   \n",
       "\n",
       "   no_name  passengers  capacity  total_gallons  \n",
       "0     None      7215.0     706.0   3.937194e+07  \n",
       "1     None      7215.0     706.0   3.937194e+07  \n",
       "2     None      7215.0     706.0   3.937194e+07  \n",
       "3     None      7215.0     706.0   3.937194e+07  \n",
       "4     None      7215.0     706.0   3.937194e+07  \n",
       "\n",
       "[5 rows x 45 columns]"
      ]
     },
     "execution_count": 87,
     "metadata": {},
     "output_type": "execute_result"
    }
   ],
   "source": [
    "df_merged.head()"
   ]
  },
  {
   "cell_type": "code",
   "execution_count": 88,
   "id": "10c5b82a-27ef-42d2-b2e2-f459ee73c398",
   "metadata": {},
   "outputs": [],
   "source": [
    "df_test = df_merged[['mkt_unique_carrier','origin','dest','dep_delay', 'nas_delay', 'security_delay', 'late_aircraft_delay', 'weather_delay', 'carrier_delay']].groupby(['mkt_unique_carrier','origin','dest', ],as_index=False).mean()"
   ]
  },
  {
   "cell_type": "code",
   "execution_count": 89,
   "id": "efc7aae9-1ac4-47ed-bb29-ffffefacc088",
   "metadata": {},
   "outputs": [],
   "source": [
    "df_merged.drop(columns=['first_dep_time','total_add_gtime','longest_add_gtime', 'no_name', 'dep_delay', 'carrier_delay', 'weather_delay', 'nas_delay', 'security_delay',\n",
    "       'late_aircraft_delay'], inplace=True)"
   ]
  },
  {
   "cell_type": "code",
   "execution_count": 90,
   "id": "4c3a3c55-99c0-48df-b86b-98bb155fcc79",
   "metadata": {},
   "outputs": [],
   "source": [
    "df_merged = pd.merge(df_merged, df_test, on=['mkt_unique_carrier', 'origin', 'dest'] )"
   ]
  },
  {
   "cell_type": "code",
   "execution_count": null,
   "id": "31e42b13-48ac-4d0c-ac31-b3ac4013f069",
   "metadata": {},
   "outputs": [],
   "source": []
  },
  {
   "cell_type": "code",
   "execution_count": 69,
   "id": "c45f60e0-9f80-4a7c-93ab-a467ec5421b5",
   "metadata": {},
   "outputs": [],
   "source": [
    "# df_merged = df_merged.drop(columns=['dep_delay_x', 'carrier_delay_x', 'weather_delay_x', 'nas_delay_x', 'security_delay_x',\n",
    "#        'late_aircraft_delay_x',])"
   ]
  },
  {
   "cell_type": "code",
   "execution_count": null,
   "id": "f072ee26-1d6e-4531-99e3-dc4779f93690",
   "metadata": {},
   "outputs": [],
   "source": []
  },
  {
   "cell_type": "code",
   "execution_count": 91,
   "id": "1125c1de-6982-4f11-9405-d17d1e9e50d8",
   "metadata": {},
   "outputs": [
    {
     "data": {
      "text/plain": [
       "41"
      ]
     },
     "execution_count": 91,
     "metadata": {},
     "output_type": "execute_result"
    }
   ],
   "source": [
    "len(df_merged.columns)"
   ]
  },
  {
   "cell_type": "code",
   "execution_count": null,
   "id": "30176a03-c20a-4395-86f1-c57366a39cd1",
   "metadata": {},
   "outputs": [],
   "source": []
  },
  {
   "cell_type": "code",
   "execution_count": 92,
   "id": "0adac0cd-f508-403c-b5e0-7b71a50de27e",
   "metadata": {},
   "outputs": [
    {
     "data": {
      "text/html": [
       "<div>\n",
       "<style scoped>\n",
       "    .dataframe tbody tr th:only-of-type {\n",
       "        vertical-align: middle;\n",
       "    }\n",
       "\n",
       "    .dataframe tbody tr th {\n",
       "        vertical-align: top;\n",
       "    }\n",
       "\n",
       "    .dataframe thead th {\n",
       "        text-align: right;\n",
       "    }\n",
       "</style>\n",
       "<table border=\"1\" class=\"dataframe\">\n",
       "  <thead>\n",
       "    <tr style=\"text-align: right;\">\n",
       "      <th></th>\n",
       "      <th>fl_date</th>\n",
       "      <th>mkt_unique_carrier</th>\n",
       "      <th>branded_code_share</th>\n",
       "      <th>mkt_carrier</th>\n",
       "      <th>mkt_carrier_fl_num</th>\n",
       "      <th>op_unique_carrier</th>\n",
       "      <th>tail_num</th>\n",
       "      <th>op_carrier_fl_num</th>\n",
       "      <th>origin_airport_id</th>\n",
       "      <th>origin</th>\n",
       "      <th>...</th>\n",
       "      <th>distance</th>\n",
       "      <th>passengers</th>\n",
       "      <th>capacity</th>\n",
       "      <th>total_gallons</th>\n",
       "      <th>dep_delay</th>\n",
       "      <th>nas_delay</th>\n",
       "      <th>security_delay</th>\n",
       "      <th>late_aircraft_delay</th>\n",
       "      <th>weather_delay</th>\n",
       "      <th>carrier_delay</th>\n",
       "    </tr>\n",
       "  </thead>\n",
       "  <tbody>\n",
       "    <tr>\n",
       "      <th>0</th>\n",
       "      <td>2019-01-01</td>\n",
       "      <td>NK</td>\n",
       "      <td>NK</td>\n",
       "      <td>NK</td>\n",
       "      <td>811</td>\n",
       "      <td>NK</td>\n",
       "      <td>N640NK</td>\n",
       "      <td>811</td>\n",
       "      <td>13204</td>\n",
       "      <td>MCO</td>\n",
       "      <td>...</td>\n",
       "      <td>1189.0</td>\n",
       "      <td>7215.000000</td>\n",
       "      <td>706.000000</td>\n",
       "      <td>3.937194e+07</td>\n",
       "      <td>47.846154</td>\n",
       "      <td>6.538462</td>\n",
       "      <td>0.0</td>\n",
       "      <td>21.000000</td>\n",
       "      <td>0.0</td>\n",
       "      <td>18.692308</td>\n",
       "    </tr>\n",
       "    <tr>\n",
       "      <th>1</th>\n",
       "      <td>2019-01-01</td>\n",
       "      <td>NK</td>\n",
       "      <td>NK</td>\n",
       "      <td>NK</td>\n",
       "      <td>803</td>\n",
       "      <td>NK</td>\n",
       "      <td>N625NK</td>\n",
       "      <td>803</td>\n",
       "      <td>13204</td>\n",
       "      <td>MCO</td>\n",
       "      <td>...</td>\n",
       "      <td>1189.0</td>\n",
       "      <td>7215.000000</td>\n",
       "      <td>706.000000</td>\n",
       "      <td>3.937194e+07</td>\n",
       "      <td>47.846154</td>\n",
       "      <td>6.538462</td>\n",
       "      <td>0.0</td>\n",
       "      <td>21.000000</td>\n",
       "      <td>0.0</td>\n",
       "      <td>18.692308</td>\n",
       "    </tr>\n",
       "    <tr>\n",
       "      <th>2</th>\n",
       "      <td>2019-01-02</td>\n",
       "      <td>NK</td>\n",
       "      <td>NK</td>\n",
       "      <td>NK</td>\n",
       "      <td>811</td>\n",
       "      <td>NK</td>\n",
       "      <td>N646NK</td>\n",
       "      <td>811</td>\n",
       "      <td>13204</td>\n",
       "      <td>MCO</td>\n",
       "      <td>...</td>\n",
       "      <td>1189.0</td>\n",
       "      <td>7215.000000</td>\n",
       "      <td>706.000000</td>\n",
       "      <td>3.937194e+07</td>\n",
       "      <td>47.846154</td>\n",
       "      <td>6.538462</td>\n",
       "      <td>0.0</td>\n",
       "      <td>21.000000</td>\n",
       "      <td>0.0</td>\n",
       "      <td>18.692308</td>\n",
       "    </tr>\n",
       "    <tr>\n",
       "      <th>3</th>\n",
       "      <td>2019-01-03</td>\n",
       "      <td>NK</td>\n",
       "      <td>NK</td>\n",
       "      <td>NK</td>\n",
       "      <td>803</td>\n",
       "      <td>NK</td>\n",
       "      <td>N605NK</td>\n",
       "      <td>803</td>\n",
       "      <td>13204</td>\n",
       "      <td>MCO</td>\n",
       "      <td>...</td>\n",
       "      <td>1189.0</td>\n",
       "      <td>7215.000000</td>\n",
       "      <td>706.000000</td>\n",
       "      <td>3.937194e+07</td>\n",
       "      <td>47.846154</td>\n",
       "      <td>6.538462</td>\n",
       "      <td>0.0</td>\n",
       "      <td>21.000000</td>\n",
       "      <td>0.0</td>\n",
       "      <td>18.692308</td>\n",
       "    </tr>\n",
       "    <tr>\n",
       "      <th>4</th>\n",
       "      <td>2019-01-04</td>\n",
       "      <td>NK</td>\n",
       "      <td>NK</td>\n",
       "      <td>NK</td>\n",
       "      <td>811</td>\n",
       "      <td>NK</td>\n",
       "      <td>N635NK</td>\n",
       "      <td>811</td>\n",
       "      <td>13204</td>\n",
       "      <td>MCO</td>\n",
       "      <td>...</td>\n",
       "      <td>1189.0</td>\n",
       "      <td>7215.000000</td>\n",
       "      <td>706.000000</td>\n",
       "      <td>3.937194e+07</td>\n",
       "      <td>47.846154</td>\n",
       "      <td>6.538462</td>\n",
       "      <td>0.0</td>\n",
       "      <td>21.000000</td>\n",
       "      <td>0.0</td>\n",
       "      <td>18.692308</td>\n",
       "    </tr>\n",
       "    <tr>\n",
       "      <th>...</th>\n",
       "      <td>...</td>\n",
       "      <td>...</td>\n",
       "      <td>...</td>\n",
       "      <td>...</td>\n",
       "      <td>...</td>\n",
       "      <td>...</td>\n",
       "      <td>...</td>\n",
       "      <td>...</td>\n",
       "      <td>...</td>\n",
       "      <td>...</td>\n",
       "      <td>...</td>\n",
       "      <td>...</td>\n",
       "      <td>...</td>\n",
       "      <td>...</td>\n",
       "      <td>...</td>\n",
       "      <td>...</td>\n",
       "      <td>...</td>\n",
       "      <td>...</td>\n",
       "      <td>...</td>\n",
       "      <td>...</td>\n",
       "      <td>...</td>\n",
       "    </tr>\n",
       "    <tr>\n",
       "      <th>37440</th>\n",
       "      <td>2018-01-05</td>\n",
       "      <td>HA</td>\n",
       "      <td>HA</td>\n",
       "      <td>HA</td>\n",
       "      <td>152</td>\n",
       "      <td>HA</td>\n",
       "      <td>N475HA</td>\n",
       "      <td>152</td>\n",
       "      <td>13830</td>\n",
       "      <td>OGG</td>\n",
       "      <td>...</td>\n",
       "      <td>121.0</td>\n",
       "      <td>2597.000000</td>\n",
       "      <td>1435.000000</td>\n",
       "      <td>2.239415e+07</td>\n",
       "      <td>22.333333</td>\n",
       "      <td>0.000000</td>\n",
       "      <td>0.0</td>\n",
       "      <td>18.333333</td>\n",
       "      <td>0.0</td>\n",
       "      <td>2.666667</td>\n",
       "    </tr>\n",
       "    <tr>\n",
       "      <th>37441</th>\n",
       "      <td>2018-01-06</td>\n",
       "      <td>HA</td>\n",
       "      <td>HA</td>\n",
       "      <td>HA</td>\n",
       "      <td>152</td>\n",
       "      <td>HA</td>\n",
       "      <td>N486HA</td>\n",
       "      <td>152</td>\n",
       "      <td>13830</td>\n",
       "      <td>OGG</td>\n",
       "      <td>...</td>\n",
       "      <td>121.0</td>\n",
       "      <td>2597.000000</td>\n",
       "      <td>1435.000000</td>\n",
       "      <td>2.239415e+07</td>\n",
       "      <td>22.333333</td>\n",
       "      <td>0.000000</td>\n",
       "      <td>0.0</td>\n",
       "      <td>18.333333</td>\n",
       "      <td>0.0</td>\n",
       "      <td>2.666667</td>\n",
       "    </tr>\n",
       "    <tr>\n",
       "      <th>37442</th>\n",
       "      <td>2018-01-05</td>\n",
       "      <td>HA</td>\n",
       "      <td>HA</td>\n",
       "      <td>HA</td>\n",
       "      <td>244</td>\n",
       "      <td>HA</td>\n",
       "      <td>N487HA</td>\n",
       "      <td>244</td>\n",
       "      <td>12982</td>\n",
       "      <td>LIH</td>\n",
       "      <td>...</td>\n",
       "      <td>201.0</td>\n",
       "      <td>10855.000000</td>\n",
       "      <td>2713.000000</td>\n",
       "      <td>2.239415e+07</td>\n",
       "      <td>13.000000</td>\n",
       "      <td>1.000000</td>\n",
       "      <td>0.0</td>\n",
       "      <td>12.000000</td>\n",
       "      <td>0.0</td>\n",
       "      <td>3.000000</td>\n",
       "    </tr>\n",
       "    <tr>\n",
       "      <th>37443</th>\n",
       "      <td>2018-01-05</td>\n",
       "      <td>HA</td>\n",
       "      <td>HA</td>\n",
       "      <td>HA</td>\n",
       "      <td>35</td>\n",
       "      <td>HA</td>\n",
       "      <td>N583HA</td>\n",
       "      <td>35</td>\n",
       "      <td>14107</td>\n",
       "      <td>PHX</td>\n",
       "      <td>...</td>\n",
       "      <td>2917.0</td>\n",
       "      <td>7247.000000</td>\n",
       "      <td>1232.000000</td>\n",
       "      <td>2.239415e+07</td>\n",
       "      <td>12.000000</td>\n",
       "      <td>0.000000</td>\n",
       "      <td>0.0</td>\n",
       "      <td>0.000000</td>\n",
       "      <td>0.0</td>\n",
       "      <td>21.000000</td>\n",
       "    </tr>\n",
       "    <tr>\n",
       "      <th>37444</th>\n",
       "      <td>2018-01-06</td>\n",
       "      <td>HA</td>\n",
       "      <td>HA</td>\n",
       "      <td>HA</td>\n",
       "      <td>349</td>\n",
       "      <td>HA</td>\n",
       "      <td>N487HA</td>\n",
       "      <td>349</td>\n",
       "      <td>12758</td>\n",
       "      <td>KOA</td>\n",
       "      <td>...</td>\n",
       "      <td>84.0</td>\n",
       "      <td>6460.333333</td>\n",
       "      <td>1568.333333</td>\n",
       "      <td>2.239415e+07</td>\n",
       "      <td>26.000000</td>\n",
       "      <td>0.000000</td>\n",
       "      <td>0.0</td>\n",
       "      <td>26.000000</td>\n",
       "      <td>0.0</td>\n",
       "      <td>0.000000</td>\n",
       "    </tr>\n",
       "  </tbody>\n",
       "</table>\n",
       "<p>37445 rows × 41 columns</p>\n",
       "</div>"
      ],
      "text/plain": [
       "          fl_date mkt_unique_carrier branded_code_share mkt_carrier  \\\n",
       "0      2019-01-01                 NK                 NK          NK   \n",
       "1      2019-01-01                 NK                 NK          NK   \n",
       "2      2019-01-02                 NK                 NK          NK   \n",
       "3      2019-01-03                 NK                 NK          NK   \n",
       "4      2019-01-04                 NK                 NK          NK   \n",
       "...           ...                ...                ...         ...   \n",
       "37440  2018-01-05                 HA                 HA          HA   \n",
       "37441  2018-01-06                 HA                 HA          HA   \n",
       "37442  2018-01-05                 HA                 HA          HA   \n",
       "37443  2018-01-05                 HA                 HA          HA   \n",
       "37444  2018-01-06                 HA                 HA          HA   \n",
       "\n",
       "       mkt_carrier_fl_num op_unique_carrier tail_num  op_carrier_fl_num  \\\n",
       "0                     811                NK   N640NK                811   \n",
       "1                     803                NK   N625NK                803   \n",
       "2                     811                NK   N646NK                811   \n",
       "3                     803                NK   N605NK                803   \n",
       "4                     811                NK   N635NK                811   \n",
       "...                   ...               ...      ...                ...   \n",
       "37440                 152                HA   N475HA                152   \n",
       "37441                 152                HA   N486HA                152   \n",
       "37442                 244                HA   N487HA                244   \n",
       "37443                  35                HA   N583HA                 35   \n",
       "37444                 349                HA   N487HA                349   \n",
       "\n",
       "       origin_airport_id origin  ... distance    passengers     capacity  \\\n",
       "0                  13204    MCO  ...   1189.0   7215.000000   706.000000   \n",
       "1                  13204    MCO  ...   1189.0   7215.000000   706.000000   \n",
       "2                  13204    MCO  ...   1189.0   7215.000000   706.000000   \n",
       "3                  13204    MCO  ...   1189.0   7215.000000   706.000000   \n",
       "4                  13204    MCO  ...   1189.0   7215.000000   706.000000   \n",
       "...                  ...    ...  ...      ...           ...          ...   \n",
       "37440              13830    OGG  ...    121.0   2597.000000  1435.000000   \n",
       "37441              13830    OGG  ...    121.0   2597.000000  1435.000000   \n",
       "37442              12982    LIH  ...    201.0  10855.000000  2713.000000   \n",
       "37443              14107    PHX  ...   2917.0   7247.000000  1232.000000   \n",
       "37444              12758    KOA  ...     84.0   6460.333333  1568.333333   \n",
       "\n",
       "      total_gallons  dep_delay  nas_delay  security_delay  \\\n",
       "0      3.937194e+07  47.846154   6.538462             0.0   \n",
       "1      3.937194e+07  47.846154   6.538462             0.0   \n",
       "2      3.937194e+07  47.846154   6.538462             0.0   \n",
       "3      3.937194e+07  47.846154   6.538462             0.0   \n",
       "4      3.937194e+07  47.846154   6.538462             0.0   \n",
       "...             ...        ...        ...             ...   \n",
       "37440  2.239415e+07  22.333333   0.000000             0.0   \n",
       "37441  2.239415e+07  22.333333   0.000000             0.0   \n",
       "37442  2.239415e+07  13.000000   1.000000             0.0   \n",
       "37443  2.239415e+07  12.000000   0.000000             0.0   \n",
       "37444  2.239415e+07  26.000000   0.000000             0.0   \n",
       "\n",
       "       late_aircraft_delay  weather_delay  carrier_delay  \n",
       "0                21.000000            0.0      18.692308  \n",
       "1                21.000000            0.0      18.692308  \n",
       "2                21.000000            0.0      18.692308  \n",
       "3                21.000000            0.0      18.692308  \n",
       "4                21.000000            0.0      18.692308  \n",
       "...                    ...            ...            ...  \n",
       "37440            18.333333            0.0       2.666667  \n",
       "37441            18.333333            0.0       2.666667  \n",
       "37442            12.000000            0.0       3.000000  \n",
       "37443             0.000000            0.0      21.000000  \n",
       "37444            26.000000            0.0       0.000000  \n",
       "\n",
       "[37445 rows x 41 columns]"
      ]
     },
     "execution_count": 92,
     "metadata": {},
     "output_type": "execute_result"
    }
   ],
   "source": [
    "df_merged"
   ]
  },
  {
   "cell_type": "code",
   "execution_count": 57,
   "id": "4164dde2-0a14-4e7c-ae20-5b87bd20a235",
   "metadata": {},
   "outputs": [],
   "source": [
    "flights_test = create_pandas_table(\"SELECT * FROM flights_test WHERE fl_date IN ('2020-01-01','2020-01-02','2020-01-03','2020-01-04','2020-01-05','2020-01-06','2020-01-07')\")"
   ]
  },
  {
   "cell_type": "code",
   "execution_count": 58,
   "id": "7faff9f7-70b2-4646-a68c-b12a2e4ff51a",
   "metadata": {},
   "outputs": [
    {
     "data": {
      "text/plain": [
       "(150623, 20)"
      ]
     },
     "execution_count": 58,
     "metadata": {},
     "output_type": "execute_result"
    }
   ],
   "source": [
    "flights_test.shape"
   ]
  },
  {
   "cell_type": "code",
   "execution_count": 59,
   "id": "3994c87e-a4bc-4c6d-9c67-6acd639fffcf",
   "metadata": {},
   "outputs": [],
   "source": [
    "flights_test=pd.merge(flights_test,passengers_mean,on=['mkt_unique_carrier', 'origin','dest'], how='inner') "
   ]
  },
  {
   "cell_type": "code",
   "execution_count": 60,
   "id": "f0d4eda0-dba0-433f-b026-eb6164228f56",
   "metadata": {},
   "outputs": [],
   "source": [
    "flights_test=pd.merge(flights_test,fuel_mean, on=['op_unique_carrier'], how='inner') "
   ]
  },
  {
   "cell_type": "code",
   "execution_count": 61,
   "id": "93b83601-4bdb-4755-8304-ea5c298af62e",
   "metadata": {},
   "outputs": [
    {
     "data": {
      "text/plain": [
       "(101569, 23)"
      ]
     },
     "execution_count": 61,
     "metadata": {},
     "output_type": "execute_result"
    }
   ],
   "source": [
    "flights_test.shape"
   ]
  },
  {
   "cell_type": "code",
   "execution_count": null,
   "id": "4a48e5b6-90ff-4f44-a3a6-547229d66c2f",
   "metadata": {},
   "outputs": [],
   "source": []
  },
  {
   "cell_type": "code",
   "execution_count": null,
   "id": "b9ef6371-4bf9-4f8c-af0f-8223938f07e5",
   "metadata": {},
   "outputs": [],
   "source": []
  },
  {
   "cell_type": "code",
   "execution_count": null,
   "id": "cf5d97c3-c9fd-4513-9946-9b425fc887cb",
   "metadata": {},
   "outputs": [],
   "source": []
  },
  {
   "cell_type": "code",
   "execution_count": null,
   "id": "1e835c76-a2d4-4cf7-b9da-993ef1b64147",
   "metadata": {},
   "outputs": [],
   "source": []
  },
  {
   "cell_type": "code",
   "execution_count": null,
   "id": "7dc28faa-f55b-4bef-a56f-10f62846ab4e",
   "metadata": {},
   "outputs": [],
   "source": []
  },
  {
   "cell_type": "code",
   "execution_count": null,
   "id": "59c291fe-a0c6-4460-b34f-133b0c8db50d",
   "metadata": {},
   "outputs": [],
   "source": []
  },
  {
   "cell_type": "code",
   "execution_count": 62,
   "id": "afe6e7fb-b4c6-4fbf-a5ba-e8b18922811f",
   "metadata": {},
   "outputs": [],
   "source": [
    "flights_test.to_csv('flights_test_grouped.csv')"
   ]
  },
  {
   "cell_type": "code",
   "execution_count": 93,
   "id": "c75ac36d-a9f0-45af-9b42-c1113de2ce77",
   "metadata": {},
   "outputs": [],
   "source": [
    "df_merged.to_csv('flights_merged.csv')"
   ]
  },
  {
   "cell_type": "code",
   "execution_count": null,
   "id": "9ff7971f-2422-4233-aa92-e656190282c6",
   "metadata": {},
   "outputs": [],
   "source": [
    "df_merged"
   ]
  }
 ],
 "metadata": {
  "kernelspec": {
   "display_name": "Python 3 (ipykernel)",
   "language": "python",
   "name": "python3"
  },
  "language_info": {
   "codemirror_mode": {
    "name": "ipython",
    "version": 3
   },
   "file_extension": ".py",
   "mimetype": "text/x-python",
   "name": "python",
   "nbconvert_exporter": "python",
   "pygments_lexer": "ipython3",
   "version": "3.9.7"
  }
 },
 "nbformat": 4,
 "nbformat_minor": 5
}
