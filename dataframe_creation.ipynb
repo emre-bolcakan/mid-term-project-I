{
 "cells": [
  {
   "cell_type": "code",
   "execution_count": 2,
   "id": "7da6e0ca-4d46-44a8-8708-244721cfc4c2",
   "metadata": {},
   "outputs": [],
   "source": [
    "import pandas as pd\n",
    "from scipy.stats import shapiro\n",
    "from scipy.stats import ttest_1samp\n",
    "import numpy as np\n",
    "import psycopg2\n",
    "import seaborn as sns\n",
    "import matplotlib.pyplot as plt"
   ]
  },
  {
   "cell_type": "code",
   "execution_count": 3,
   "id": "3ee4c4d8-c934-416e-82dc-7c52fbcc37e8",
   "metadata": {},
   "outputs": [],
   "source": [
    "#opening connection & cursor\n",
    "conn = psycopg2.connect(\n",
    "                            host=\"lhl-data-bootcamp.crzjul5qln0e.ca-central-1.rds.amazonaws.com\",\n",
    "                            database=\"mid_term_project\",\n",
    "                            user=\"lhl_student\",\n",
    "                            password=\"lhl_student\")\n",
    "cursor = conn.cursor()\n",
    "\n",
    "def create_pandas_table(sql_query, database = conn):\n",
    "    table = pd.read_sql_query(sql_query, database)\n",
    "    return table"
   ]
  },
  {
   "cell_type": "code",
   "execution_count": 4,
   "id": "35db18fe-d970-4e2a-854c-3d2e69a7dbba",
   "metadata": {},
   "outputs": [],
   "source": [
    "df = pd.DataFrame()\n",
    "\n",
    "for i in range(1, 13):\n",
    "    if i == 1:\n",
    "        test2 = f\"SELECT * FROM flights WHERE arr_delay IS NOT NULL AND weather_delay IS NOT NULL AND arr_delay < 200 AND EXTRACT(month from CAST(fl_date as date)) = {i} AND EXTRACT(year from CAST(fl_date as date)) = 2019 LIMIT 10000;\"\n",
    "        df = create_pandas_table(test2)\n",
    "    else:\n",
    "        test2 = f\"SELECT * FROM flights WHERE arr_delay IS NOT NULL AND weather_delay IS NOT NULL AND arr_delay < 200 AND EXTRACT(month from CAST(fl_date as date)) = {i} AND EXTRACT(year from CAST(fl_date as date)) = 2019 LIMIT 10000;\"\n",
    "        test_pd_table = create_pandas_table(test2)\n",
    "        df = pd.concat([df, test_pd_table]) "
   ]
  },
  {
   "cell_type": "code",
   "execution_count": 5,
   "id": "49b40578-df99-4b4e-a0be-670a8c0739b2",
   "metadata": {},
   "outputs": [],
   "source": [
    "passengers = create_pandas_table(\"SELECT * FROM passengers TABLESAMPLE SYSTEM(10) WHERE year >= 2019 \")"
   ]
  },
  {
   "cell_type": "code",
   "execution_count": 6,
   "id": "e9ad84da-4b1f-4c6e-abbd-102113a24be9",
   "metadata": {},
   "outputs": [
    {
     "data": {
      "text/plain": [
       "(47902, 38)"
      ]
     },
     "execution_count": 6,
     "metadata": {},
     "output_type": "execute_result"
    }
   ],
   "source": [
    "passengers.shape"
   ]
  },
  {
   "cell_type": "code",
   "execution_count": 7,
   "id": "878c25e7-f3d3-47b6-bc30-9052af2a66c4",
   "metadata": {},
   "outputs": [
    {
     "data": {
      "text/html": [
       "<div>\n",
       "<style scoped>\n",
       "    .dataframe tbody tr th:only-of-type {\n",
       "        vertical-align: middle;\n",
       "    }\n",
       "\n",
       "    .dataframe tbody tr th {\n",
       "        vertical-align: top;\n",
       "    }\n",
       "\n",
       "    .dataframe thead th {\n",
       "        text-align: right;\n",
       "    }\n",
       "</style>\n",
       "<table border=\"1\" class=\"dataframe\">\n",
       "  <thead>\n",
       "    <tr style=\"text-align: right;\">\n",
       "      <th></th>\n",
       "      <th>departures_scheduled</th>\n",
       "      <th>departures_performed</th>\n",
       "      <th>payload</th>\n",
       "      <th>seats</th>\n",
       "      <th>passengers</th>\n",
       "      <th>freight</th>\n",
       "      <th>mail</th>\n",
       "      <th>distance</th>\n",
       "      <th>ramp_to_ramp</th>\n",
       "      <th>air_time</th>\n",
       "      <th>...</th>\n",
       "      <th>dest_country</th>\n",
       "      <th>dest_country_name</th>\n",
       "      <th>aircraft_group</th>\n",
       "      <th>aircraft_type</th>\n",
       "      <th>aircraft_config</th>\n",
       "      <th>year</th>\n",
       "      <th>month</th>\n",
       "      <th>distance_group</th>\n",
       "      <th>class</th>\n",
       "      <th>data_source</th>\n",
       "    </tr>\n",
       "  </thead>\n",
       "  <tbody>\n",
       "    <tr>\n",
       "      <th>0</th>\n",
       "      <td>0.0</td>\n",
       "      <td>15.0</td>\n",
       "      <td>570075.0</td>\n",
       "      <td>1800.0</td>\n",
       "      <td>1253.0</td>\n",
       "      <td>2317.0</td>\n",
       "      <td>0.0</td>\n",
       "      <td>1017.0</td>\n",
       "      <td>0.0</td>\n",
       "      <td>0.0</td>\n",
       "      <td>...</td>\n",
       "      <td>GT</td>\n",
       "      <td>Guatemala</td>\n",
       "      <td>6</td>\n",
       "      <td>698</td>\n",
       "      <td>1</td>\n",
       "      <td>2019</td>\n",
       "      <td>6</td>\n",
       "      <td>3</td>\n",
       "      <td>F</td>\n",
       "      <td>IF</td>\n",
       "    </tr>\n",
       "    <tr>\n",
       "      <th>1</th>\n",
       "      <td>0.0</td>\n",
       "      <td>19.0</td>\n",
       "      <td>742201.0</td>\n",
       "      <td>2859.0</td>\n",
       "      <td>2245.0</td>\n",
       "      <td>12005.0</td>\n",
       "      <td>0.0</td>\n",
       "      <td>1014.0</td>\n",
       "      <td>0.0</td>\n",
       "      <td>0.0</td>\n",
       "      <td>...</td>\n",
       "      <td>NI</td>\n",
       "      <td>Nicaragua</td>\n",
       "      <td>6</td>\n",
       "      <td>694</td>\n",
       "      <td>1</td>\n",
       "      <td>2019</td>\n",
       "      <td>6</td>\n",
       "      <td>3</td>\n",
       "      <td>F</td>\n",
       "      <td>IF</td>\n",
       "    </tr>\n",
       "    <tr>\n",
       "      <th>2</th>\n",
       "      <td>0.0</td>\n",
       "      <td>11.0</td>\n",
       "      <td>418055.0</td>\n",
       "      <td>1320.0</td>\n",
       "      <td>1109.0</td>\n",
       "      <td>7484.0</td>\n",
       "      <td>0.0</td>\n",
       "      <td>1014.0</td>\n",
       "      <td>0.0</td>\n",
       "      <td>0.0</td>\n",
       "      <td>...</td>\n",
       "      <td>NI</td>\n",
       "      <td>Nicaragua</td>\n",
       "      <td>6</td>\n",
       "      <td>698</td>\n",
       "      <td>1</td>\n",
       "      <td>2019</td>\n",
       "      <td>6</td>\n",
       "      <td>3</td>\n",
       "      <td>F</td>\n",
       "      <td>IF</td>\n",
       "    </tr>\n",
       "    <tr>\n",
       "      <th>3</th>\n",
       "      <td>0.0</td>\n",
       "      <td>5.0</td>\n",
       "      <td>195316.0</td>\n",
       "      <td>753.0</td>\n",
       "      <td>571.0</td>\n",
       "      <td>295.0</td>\n",
       "      <td>0.0</td>\n",
       "      <td>866.0</td>\n",
       "      <td>0.0</td>\n",
       "      <td>0.0</td>\n",
       "      <td>...</td>\n",
       "      <td>HN</td>\n",
       "      <td>Honduras</td>\n",
       "      <td>6</td>\n",
       "      <td>694</td>\n",
       "      <td>1</td>\n",
       "      <td>2019</td>\n",
       "      <td>6</td>\n",
       "      <td>2</td>\n",
       "      <td>F</td>\n",
       "      <td>IF</td>\n",
       "    </tr>\n",
       "    <tr>\n",
       "      <th>4</th>\n",
       "      <td>0.0</td>\n",
       "      <td>13.0</td>\n",
       "      <td>494065.0</td>\n",
       "      <td>1560.0</td>\n",
       "      <td>1199.0</td>\n",
       "      <td>1817.0</td>\n",
       "      <td>0.0</td>\n",
       "      <td>866.0</td>\n",
       "      <td>0.0</td>\n",
       "      <td>0.0</td>\n",
       "      <td>...</td>\n",
       "      <td>HN</td>\n",
       "      <td>Honduras</td>\n",
       "      <td>6</td>\n",
       "      <td>698</td>\n",
       "      <td>1</td>\n",
       "      <td>2019</td>\n",
       "      <td>6</td>\n",
       "      <td>2</td>\n",
       "      <td>F</td>\n",
       "      <td>IF</td>\n",
       "    </tr>\n",
       "  </tbody>\n",
       "</table>\n",
       "<p>5 rows × 38 columns</p>\n",
       "</div>"
      ],
      "text/plain": [
       "   departures_scheduled  departures_performed   payload   seats  passengers  \\\n",
       "0                   0.0                  15.0  570075.0  1800.0      1253.0   \n",
       "1                   0.0                  19.0  742201.0  2859.0      2245.0   \n",
       "2                   0.0                  11.0  418055.0  1320.0      1109.0   \n",
       "3                   0.0                   5.0  195316.0   753.0       571.0   \n",
       "4                   0.0                  13.0  494065.0  1560.0      1199.0   \n",
       "\n",
       "   freight  mail  distance  ramp_to_ramp  air_time  ... dest_country  \\\n",
       "0   2317.0   0.0    1017.0           0.0       0.0  ...           GT   \n",
       "1  12005.0   0.0    1014.0           0.0       0.0  ...           NI   \n",
       "2   7484.0   0.0    1014.0           0.0       0.0  ...           NI   \n",
       "3    295.0   0.0     866.0           0.0       0.0  ...           HN   \n",
       "4   1817.0   0.0     866.0           0.0       0.0  ...           HN   \n",
       "\n",
       "   dest_country_name aircraft_group aircraft_type aircraft_config  year  \\\n",
       "0          Guatemala              6           698               1  2019   \n",
       "1          Nicaragua              6           694               1  2019   \n",
       "2          Nicaragua              6           698               1  2019   \n",
       "3           Honduras              6           694               1  2019   \n",
       "4           Honduras              6           698               1  2019   \n",
       "\n",
       "   month  distance_group  class  data_source  \n",
       "0      6               3      F           IF  \n",
       "1      6               3      F           IF  \n",
       "2      6               3      F           IF  \n",
       "3      6               2      F           IF  \n",
       "4      6               2      F           IF  \n",
       "\n",
       "[5 rows x 38 columns]"
      ]
     },
     "execution_count": 7,
     "metadata": {},
     "output_type": "execute_result"
    }
   ],
   "source": [
    "passengers.head()"
   ]
  },
  {
   "cell_type": "code",
   "execution_count": 8,
   "id": "8faf6104-13e6-404b-ae82-80dfd2045493",
   "metadata": {},
   "outputs": [],
   "source": [
    "fuel = create_pandas_table(\"SELECT * FROM fuel_comsumption WHERE year >= 2019 \")"
   ]
  },
  {
   "cell_type": "code",
   "execution_count": 9,
   "id": "a3e6a2b3-821a-4895-b679-6248253be875",
   "metadata": {},
   "outputs": [
    {
     "data": {
      "text/plain": [
       "(458, 25)"
      ]
     },
     "execution_count": 9,
     "metadata": {},
     "output_type": "execute_result"
    }
   ],
   "source": [
    "fuel.shape"
   ]
  },
  {
   "cell_type": "code",
   "execution_count": 10,
   "id": "13c69f02-9271-44b2-94b5-ffde8d29b9f9",
   "metadata": {},
   "outputs": [],
   "source": [
    "fuel_mean=fuel[['unique_carrier','total_gallons']].groupby(['unique_carrier'],as_index=False).mean()"
   ]
  },
  {
   "cell_type": "code",
   "execution_count": 11,
   "id": "8e8cdabc-a5ed-498c-9e02-d84a0150a7d3",
   "metadata": {},
   "outputs": [],
   "source": [
    "fuel_mean.rename(columns={'unique_carrier':'mkt_unique_carrier'},inplace=True)\n"
   ]
  },
  {
   "cell_type": "code",
   "execution_count": 12,
   "id": "7d019f02-6d49-4dfc-af2f-6923917e4649",
   "metadata": {},
   "outputs": [],
   "source": [
    "passengers['capacity'] = passengers['seats'] - passengers['passengers']"
   ]
  },
  {
   "cell_type": "code",
   "execution_count": 13,
   "id": "70f98808-147b-4c20-87fc-180325481836",
   "metadata": {},
   "outputs": [],
   "source": [
    "passengers_mean=passengers[['unique_carrier', 'origin','dest', 'passengers', 'capacity']].groupby(['unique_carrier', 'origin','dest'],as_index=False).mean()\n"
   ]
  },
  {
   "cell_type": "code",
   "execution_count": 14,
   "id": "9c684b93-c8f6-44a8-99f1-485e91f40fca",
   "metadata": {},
   "outputs": [],
   "source": [
    "passengers_mean.rename(columns={'unique_carrier':'mkt_unique_carrier'},inplace=True)\n"
   ]
  },
  {
   "cell_type": "code",
   "execution_count": null,
   "id": "4e32340f-455d-4743-9184-9aff748d45a9",
   "metadata": {},
   "outputs": [],
   "source": []
  },
  {
   "cell_type": "code",
   "execution_count": null,
   "id": "3bfb85ac-770b-48ee-8bcc-7c3b4962e66b",
   "metadata": {},
   "outputs": [],
   "source": [
    "df_merged=pd.merge(left=df,right=passengers_mean,how='left',on=['mkt_unique_carrier'],) # Merge flights with passengers"
   ]
  },
  {
   "cell_type": "code",
   "execution_count": null,
   "id": "2091e41d-a6e0-4f5f-a368-aeef28d30d15",
   "metadata": {},
   "outputs": [],
   "source": [
    "df_merged=pd.merge(left=df_merged,right=fuel_mean,how='left',on=['mkt_unique_carrier'],) # Merge flights with passengers"
   ]
  },
  {
   "cell_type": "code",
   "execution_count": null,
   "id": "045c69b7-0804-4775-9215-733e25276a97",
   "metadata": {},
   "outputs": [],
   "source": [
    "df_merged.head()"
   ]
  },
  {
   "cell_type": "code",
   "execution_count": null,
   "id": "5c7ffa5a-62f1-4338-8daf-114826e4a94b",
   "metadata": {},
   "outputs": [],
   "source": [
    "df_merged.isna().sum()"
   ]
  },
  {
   "cell_type": "code",
   "execution_count": null,
   "id": "1bb34cf1-7e63-4ca8-be5a-b028580e1d0b",
   "metadata": {},
   "outputs": [],
   "source": [
    "# remember to close connection to allow for others to use the bandwidth\n",
    "cursor.close()\n",
    "conn.close()"
   ]
  },
  {
   "cell_type": "code",
   "execution_count": null,
   "id": "387cadd8-e226-4b1a-8b5f-e40f2a12a761",
   "metadata": {},
   "outputs": [],
   "source": [
    "df_merged.passengers.unique()"
   ]
  },
  {
   "cell_type": "code",
   "execution_count": null,
   "id": "e3ef0076-85e9-49b7-a872-be417eaedeae",
   "metadata": {},
   "outputs": [],
   "source": [
    "df_merged.to_csv('flights_merged.csv')"
   ]
  },
  {
   "cell_type": "code",
   "execution_count": null,
   "id": "3a4f881f-f030-437a-92e9-5b22b005fdcd",
   "metadata": {},
   "outputs": [],
   "source": []
  }
 ],
 "metadata": {
  "kernelspec": {
   "display_name": "Python 3 (ipykernel)",
   "language": "python",
   "name": "python3"
  },
  "language_info": {
   "codemirror_mode": {
    "name": "ipython",
    "version": 3
   },
   "file_extension": ".py",
   "mimetype": "text/x-python",
   "name": "python",
   "nbconvert_exporter": "python",
   "pygments_lexer": "ipython3",
   "version": "3.9.7"
  }
 },
 "nbformat": 4,
 "nbformat_minor": 5
}
