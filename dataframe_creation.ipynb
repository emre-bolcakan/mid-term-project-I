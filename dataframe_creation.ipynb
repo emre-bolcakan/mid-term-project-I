{
 "cells": [
  {
   "cell_type": "code",
   "execution_count": 1,
   "id": "7da6e0ca-4d46-44a8-8708-244721cfc4c2",
   "metadata": {},
   "outputs": [],
   "source": [
    "import pandas as pd\n",
    "from scipy.stats import shapiro\n",
    "from scipy.stats import ttest_1samp\n",
    "import numpy as np\n",
    "import psycopg2\n",
    "import seaborn as sns\n",
    "import matplotlib.pyplot as plt"
   ]
  },
  {
   "cell_type": "code",
   "execution_count": null,
   "id": "3ee4c4d8-c934-416e-82dc-7c52fbcc37e8",
   "metadata": {},
   "outputs": [],
   "source": [
    "#opening connection & cursor\n",
    "conn = psycopg2.connect(\n",
    "                            host=\"lhl-data-bootcamp.crzjul5qln0e.ca-central-1.rds.amazonaws.com\",\n",
    "                            database=\"mid_term_project\",\n",
    "                            user=\"lhl_student\",\n",
    "                            password=\"lhl_student\")\n",
    "cursor = conn.cursor()\n",
    "\n",
    "def create_pandas_table(sql_query, database = conn):\n",
    "    table = pd.read_sql_query(sql_query, database)\n",
    "    return table\n",
    "\n",
    "df = pd.DataFrame()\n",
    "\n",
    "for i in range(1, 13):\n",
    "    if i == 1:\n",
    "        test2 = f\"SELECT * FROM flights WHERE arr_delay IS NOT NULL AND weather_delay IS NOT NULL AND arr_delay < 200 AND EXTRACT(month from CAST(fl_date as date)) = {i} AND EXTRACT(year from CAST(fl_date as date)) = 2019 LIMIT 10000;\"\n",
    "        df = create_pandas_table(test2)\n",
    "    else:\n",
    "        test2 = f\"SELECT * FROM flights WHERE arr_delay IS NOT NULL AND weather_delay IS NOT NULL AND arr_delay < 200 AND EXTRACT(month from CAST(fl_date as date)) = {i} AND EXTRACT(year from CAST(fl_date as date)) = 2019 LIMIT 10000;\"\n",
    "        test_pd_table = create_pandas_table(test2)\n",
    "        df = pd.concat([df, test_pd_table]) \n",
    "\n",
    "# remember to close connection to allow for others to use the bandwidth\n",
    "cursor.close()\n",
    "conn.close()\n",
    "df.head() # show table querried"
   ]
  },
  {
   "cell_type": "code",
   "execution_count": null,
   "id": "49b40578-df99-4b4e-a0be-670a8c0739b2",
   "metadata": {},
   "outputs": [],
   "source": []
  },
  {
   "cell_type": "code",
   "execution_count": null,
   "id": "e9ad84da-4b1f-4c6e-abbd-102113a24be9",
   "metadata": {},
   "outputs": [],
   "source": []
  },
  {
   "cell_type": "code",
   "execution_count": null,
   "id": "878c25e7-f3d3-47b6-bc30-9052af2a66c4",
   "metadata": {},
   "outputs": [],
   "source": []
  },
  {
   "cell_type": "code",
   "execution_count": null,
   "id": "1bb34cf1-7e63-4ca8-be5a-b028580e1d0b",
   "metadata": {},
   "outputs": [],
   "source": []
  },
  {
   "cell_type": "code",
   "execution_count": null,
   "id": "387cadd8-e226-4b1a-8b5f-e40f2a12a761",
   "metadata": {},
   "outputs": [],
   "source": []
  }
 ],
 "metadata": {
  "kernelspec": {
   "display_name": "Python 3 (ipykernel)",
   "language": "python",
   "name": "python3"
  },
  "language_info": {
   "codemirror_mode": {
    "name": "ipython",
    "version": 3
   },
   "file_extension": ".py",
   "mimetype": "text/x-python",
   "name": "python",
   "nbconvert_exporter": "python",
   "pygments_lexer": "ipython3",
   "version": "3.9.7"
  }
 },
 "nbformat": 4,
 "nbformat_minor": 5
}
