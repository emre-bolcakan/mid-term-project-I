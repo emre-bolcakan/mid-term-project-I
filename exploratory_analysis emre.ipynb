{
 "cells": [
  {
   "cell_type": "markdown",
   "metadata": {},
   "source": [
    "## Exploratory Data Analysis\n",
    "\n",
    "Use this notebook to get familiar with the datasets we have. There is 10 questions we need to answer during the EDA.\n",
    "\n",
    "\n",
    "We shouldn't limit our EDA to these 10 questions. Let's be creative :)."
   ]
  },
  {
   "cell_type": "code",
   "execution_count": 2,
   "metadata": {},
   "outputs": [],
   "source": [
    "import pandas as pd\n",
    "from scipy.stats import shapiro\n",
    "from scipy.stats import ttest_1samp\n",
    "import numpy as np\n",
    "import psycopg2\n",
    "import seaborn as sns\n",
    "import matplotlib.pyplot as plt"
   ]
  },
  {
   "cell_type": "code",
   "execution_count": null,
   "metadata": {},
   "outputs": [],
   "source": []
  },
  {
   "cell_type": "code",
   "execution_count": 29,
   "metadata": {},
   "outputs": [],
   "source": [
    "df = pd.read_csv('flights_sample.csv', index_col=0)"
   ]
  },
  {
   "cell_type": "code",
   "execution_count": 22,
   "metadata": {},
   "outputs": [],
   "source": [
    "#df.isnull().sum()"
   ]
  },
  {
   "cell_type": "code",
   "execution_count": null,
   "metadata": {},
   "outputs": [],
   "source": []
  },
  {
   "cell_type": "code",
   "execution_count": null,
   "metadata": {},
   "outputs": [],
   "source": []
  },
  {
   "cell_type": "code",
   "execution_count": 98,
   "metadata": {},
   "outputs": [
    {
     "data": {
      "text/plain": [
       "Index(['fl_date', 'mkt_unique_carrier', 'branded_code_share', 'mkt_carrier',\n",
       "       'mkt_carrier_fl_num', 'op_unique_carrier', 'tail_num',\n",
       "       'op_carrier_fl_num', 'origin_airport_id', 'origin', 'origin_city_name',\n",
       "       'dest_airport_id', 'dest', 'dest_city_name', 'crs_dep_time', 'dep_time',\n",
       "       'dep_delay', 'taxi_out', 'wheels_off', 'wheels_on', 'taxi_in',\n",
       "       'crs_arr_time', 'arr_time', 'arr_delay', 'cancelled',\n",
       "       'cancellation_code', 'diverted', 'dup', 'crs_elapsed_time',\n",
       "       'actual_elapsed_time', 'air_time', 'flights', 'distance',\n",
       "       'carrier_delay', 'weather_delay', 'nas_delay', 'security_delay',\n",
       "       'late_aircraft_delay', 'first_dep_time', 'total_add_gtime',\n",
       "       'longest_add_gtime', 'no_name'],\n",
       "      dtype='object')"
      ]
     },
     "execution_count": 98,
     "metadata": {},
     "output_type": "execute_result"
    }
   ],
   "source": [
    "df.columns"
   ]
  },
  {
   "cell_type": "code",
   "execution_count": 99,
   "metadata": {},
   "outputs": [
    {
     "data": {
      "text/plain": [
       "(120000, 42)"
      ]
     },
     "execution_count": 99,
     "metadata": {},
     "output_type": "execute_result"
    }
   ],
   "source": [
    "df.shape"
   ]
  },
  {
   "cell_type": "code",
   "execution_count": null,
   "metadata": {},
   "outputs": [],
   "source": []
  },
  {
   "cell_type": "markdown",
   "metadata": {},
   "source": [
    "#### **Task 1**: Test the hypothesis that the delay is from Normal distribution. and that **mean** of the delay is 0. Be careful about the outliers."
   ]
  },
  {
   "cell_type": "code",
   "execution_count": 5,
   "metadata": {},
   "outputs": [
    {
     "data": {
      "text/plain": [
       "max       199.000000\n",
       "min        15.000000\n",
       "mean       53.041307\n",
       "std        40.483262\n",
       "median     38.000000\n",
       "Name: arr_delay, dtype: float64"
      ]
     },
     "execution_count": 5,
     "metadata": {},
     "output_type": "execute_result"
    }
   ],
   "source": [
    "df['arr_delay'].agg(['max', 'min', 'mean', 'std', 'median'])"
   ]
  },
  {
   "cell_type": "code",
   "execution_count": 6,
   "metadata": {},
   "outputs": [
    {
     "data": {
      "text/plain": [
       "14546     15.0\n",
       "2180      15.0\n",
       "42788     15.0\n",
       "14338     15.0\n",
       "14320     15.0\n",
       "         ...  \n",
       "9110     199.0\n",
       "29655    199.0\n",
       "36331    199.0\n",
       "37440    199.0\n",
       "10422    199.0\n",
       "Name: arr_delay, Length: 56988, dtype: float64"
      ]
     },
     "execution_count": 6,
     "metadata": {},
     "output_type": "execute_result"
    }
   ],
   "source": [
    "df['arr_delay'].sort_values()"
   ]
  },
  {
   "cell_type": "code",
   "execution_count": 7,
   "metadata": {},
   "outputs": [
    {
     "name": "stderr",
     "output_type": "stream",
     "text": [
      "/opt/anaconda3/lib/python3.9/site-packages/seaborn/distributions.py:2619: FutureWarning: `distplot` is a deprecated function and will be removed in a future version. Please adapt your code to use either `displot` (a figure-level function with similar flexibility) or `histplot` (an axes-level function for histograms).\n",
      "  warnings.warn(msg, FutureWarning)\n"
     ]
    },
    {
     "data": {
      "text/plain": [
       "<AxesSubplot:xlabel='arr_delay', ylabel='Density'>"
      ]
     },
     "execution_count": 7,
     "metadata": {},
     "output_type": "execute_result"
    },
    {
     "data": {
      "image/png": "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\n",
      "text/plain": [
       "<Figure size 432x288 with 1 Axes>"
      ]
     },
     "metadata": {
      "needs_background": "light"
     },
     "output_type": "display_data"
    }
   ],
   "source": [
    "sns.distplot(df.arr_delay)"
   ]
  },
  {
   "cell_type": "code",
   "execution_count": 8,
   "metadata": {},
   "outputs": [
    {
     "name": "stdout",
     "output_type": "stream",
     "text": [
      "stat=0.823, p=0.000\n",
      "Probably not Gaussian\n"
     ]
    },
    {
     "name": "stderr",
     "output_type": "stream",
     "text": [
      "/opt/anaconda3/lib/python3.9/site-packages/scipy/stats/morestats.py:1760: UserWarning: p-value may not be accurate for N > 5000.\n",
      "  warnings.warn(\"p-value may not be accurate for N > 5000.\")\n"
     ]
    }
   ],
   "source": [
    "stat, p = shapiro(df.arr_delay)\n",
    "print('stat=%.3f, p=%.3f' % (stat, p))\n",
    "if p > 0.05:\n",
    "    print('Probably Gaussian')\n",
    "else:\n",
    "    print('Probably not Gaussian')"
   ]
  },
  {
   "cell_type": "code",
   "execution_count": 9,
   "metadata": {},
   "outputs": [],
   "source": [
    "tset, pval = ttest_1samp(df.arr_delay, 0)"
   ]
  },
  {
   "cell_type": "code",
   "execution_count": 10,
   "metadata": {},
   "outputs": [
    {
     "name": "stdout",
     "output_type": "stream",
     "text": [
      "p-values 0.0\n",
      " we are rejecting null hypothesis\n"
     ]
    }
   ],
   "source": [
    "print(\"p-values\",pval)\n",
    "if pval < 0.05:    # alpha value is 0.05 or 5%\n",
    "    print(\" we are rejecting null hypothesis\")\n",
    "else:\n",
    "    print(\"we are accepting null hypothesis\")"
   ]
  },
  {
   "cell_type": "markdown",
   "metadata": {},
   "source": [
    "#### **Task 2**: Is average/median monthly delay different during the year? If yes, which are months with the biggest delays and what could be the reason?"
   ]
  },
  {
   "cell_type": "code",
   "execution_count": 11,
   "metadata": {},
   "outputs": [
    {
     "data": {
      "text/html": [
       "<div>\n",
       "<style scoped>\n",
       "    .dataframe tbody tr th:only-of-type {\n",
       "        vertical-align: middle;\n",
       "    }\n",
       "\n",
       "    .dataframe tbody tr th {\n",
       "        vertical-align: top;\n",
       "    }\n",
       "\n",
       "    .dataframe thead th {\n",
       "        text-align: right;\n",
       "    }\n",
       "</style>\n",
       "<table border=\"1\" class=\"dataframe\">\n",
       "  <thead>\n",
       "    <tr style=\"text-align: right;\">\n",
       "      <th></th>\n",
       "      <th>fl_date</th>\n",
       "      <th>mkt_unique_carrier</th>\n",
       "      <th>branded_code_share</th>\n",
       "      <th>mkt_carrier</th>\n",
       "      <th>mkt_carrier_fl_num</th>\n",
       "      <th>op_unique_carrier</th>\n",
       "      <th>tail_num</th>\n",
       "      <th>op_carrier_fl_num</th>\n",
       "      <th>origin_airport_id</th>\n",
       "      <th>origin</th>\n",
       "      <th>...</th>\n",
       "      <th>distance</th>\n",
       "      <th>carrier_delay</th>\n",
       "      <th>weather_delay</th>\n",
       "      <th>nas_delay</th>\n",
       "      <th>security_delay</th>\n",
       "      <th>late_aircraft_delay</th>\n",
       "      <th>first_dep_time</th>\n",
       "      <th>total_add_gtime</th>\n",
       "      <th>longest_add_gtime</th>\n",
       "      <th>no_name</th>\n",
       "    </tr>\n",
       "  </thead>\n",
       "  <tbody>\n",
       "    <tr>\n",
       "      <th>0</th>\n",
       "      <td>2018-01-01</td>\n",
       "      <td>AA</td>\n",
       "      <td>AA</td>\n",
       "      <td>AA</td>\n",
       "      <td>1339</td>\n",
       "      <td>AA</td>\n",
       "      <td>N928AM</td>\n",
       "      <td>1339</td>\n",
       "      <td>15304</td>\n",
       "      <td>TPA</td>\n",
       "      <td>...</td>\n",
       "      <td>929.0</td>\n",
       "      <td>22.0</td>\n",
       "      <td>0.0</td>\n",
       "      <td>18.0</td>\n",
       "      <td>0.0</td>\n",
       "      <td>0.0</td>\n",
       "      <td>NaN</td>\n",
       "      <td>NaN</td>\n",
       "      <td>NaN</td>\n",
       "      <td>NaN</td>\n",
       "    </tr>\n",
       "    <tr>\n",
       "      <th>52</th>\n",
       "      <td>2018-01-01</td>\n",
       "      <td>UA</td>\n",
       "      <td>UA_CODESHARE</td>\n",
       "      <td>UA</td>\n",
       "      <td>5682</td>\n",
       "      <td>OO</td>\n",
       "      <td>N106SY</td>\n",
       "      <td>5682</td>\n",
       "      <td>14771</td>\n",
       "      <td>SFO</td>\n",
       "      <td>...</td>\n",
       "      <td>1464.0</td>\n",
       "      <td>99.0</td>\n",
       "      <td>0.0</td>\n",
       "      <td>0.0</td>\n",
       "      <td>0.0</td>\n",
       "      <td>0.0</td>\n",
       "      <td>1056.0</td>\n",
       "      <td>24.0</td>\n",
       "      <td>24.0</td>\n",
       "      <td>NaN</td>\n",
       "    </tr>\n",
       "    <tr>\n",
       "      <th>51</th>\n",
       "      <td>2018-01-01</td>\n",
       "      <td>UA</td>\n",
       "      <td>UA_CODESHARE</td>\n",
       "      <td>UA</td>\n",
       "      <td>5670</td>\n",
       "      <td>OO</td>\n",
       "      <td>N787SK</td>\n",
       "      <td>5670</td>\n",
       "      <td>12266</td>\n",
       "      <td>IAH</td>\n",
       "      <td>...</td>\n",
       "      <td>657.0</td>\n",
       "      <td>0.0</td>\n",
       "      <td>0.0</td>\n",
       "      <td>0.0</td>\n",
       "      <td>0.0</td>\n",
       "      <td>17.0</td>\n",
       "      <td>NaN</td>\n",
       "      <td>NaN</td>\n",
       "      <td>NaN</td>\n",
       "      <td>NaN</td>\n",
       "    </tr>\n",
       "    <tr>\n",
       "      <th>50</th>\n",
       "      <td>2018-01-01</td>\n",
       "      <td>UA</td>\n",
       "      <td>UA_CODESHARE</td>\n",
       "      <td>UA</td>\n",
       "      <td>5668</td>\n",
       "      <td>OO</td>\n",
       "      <td>N971SW</td>\n",
       "      <td>5668</td>\n",
       "      <td>11292</td>\n",
       "      <td>DEN</td>\n",
       "      <td>...</td>\n",
       "      <td>196.0</td>\n",
       "      <td>27.0</td>\n",
       "      <td>0.0</td>\n",
       "      <td>3.0</td>\n",
       "      <td>0.0</td>\n",
       "      <td>0.0</td>\n",
       "      <td>NaN</td>\n",
       "      <td>NaN</td>\n",
       "      <td>NaN</td>\n",
       "      <td>NaN</td>\n",
       "    </tr>\n",
       "    <tr>\n",
       "      <th>49</th>\n",
       "      <td>2018-01-01</td>\n",
       "      <td>UA</td>\n",
       "      <td>UA_CODESHARE</td>\n",
       "      <td>UA</td>\n",
       "      <td>5662</td>\n",
       "      <td>OO</td>\n",
       "      <td>N124SY</td>\n",
       "      <td>5662</td>\n",
       "      <td>13930</td>\n",
       "      <td>ORD</td>\n",
       "      <td>...</td>\n",
       "      <td>612.0</td>\n",
       "      <td>0.0</td>\n",
       "      <td>0.0</td>\n",
       "      <td>0.0</td>\n",
       "      <td>0.0</td>\n",
       "      <td>82.0</td>\n",
       "      <td>NaN</td>\n",
       "      <td>NaN</td>\n",
       "      <td>NaN</td>\n",
       "      <td>NaN</td>\n",
       "    </tr>\n",
       "    <tr>\n",
       "      <th>...</th>\n",
       "      <td>...</td>\n",
       "      <td>...</td>\n",
       "      <td>...</td>\n",
       "      <td>...</td>\n",
       "      <td>...</td>\n",
       "      <td>...</td>\n",
       "      <td>...</td>\n",
       "      <td>...</td>\n",
       "      <td>...</td>\n",
       "      <td>...</td>\n",
       "      <td>...</td>\n",
       "      <td>...</td>\n",
       "      <td>...</td>\n",
       "      <td>...</td>\n",
       "      <td>...</td>\n",
       "      <td>...</td>\n",
       "      <td>...</td>\n",
       "      <td>...</td>\n",
       "      <td>...</td>\n",
       "      <td>...</td>\n",
       "      <td>...</td>\n",
       "    </tr>\n",
       "    <tr>\n",
       "      <th>31843</th>\n",
       "      <td>2019-12-31</td>\n",
       "      <td>AA</td>\n",
       "      <td>AA</td>\n",
       "      <td>AA</td>\n",
       "      <td>592</td>\n",
       "      <td>AA</td>\n",
       "      <td>N919US</td>\n",
       "      <td>592</td>\n",
       "      <td>12892</td>\n",
       "      <td>LAX</td>\n",
       "      <td>...</td>\n",
       "      <td>2125.0</td>\n",
       "      <td>16.0</td>\n",
       "      <td>0.0</td>\n",
       "      <td>0.0</td>\n",
       "      <td>0.0</td>\n",
       "      <td>0.0</td>\n",
       "      <td>NaN</td>\n",
       "      <td>NaN</td>\n",
       "      <td>NaN</td>\n",
       "      <td>NaN</td>\n",
       "    </tr>\n",
       "    <tr>\n",
       "      <th>31844</th>\n",
       "      <td>2019-12-31</td>\n",
       "      <td>AA</td>\n",
       "      <td>AA</td>\n",
       "      <td>AA</td>\n",
       "      <td>594</td>\n",
       "      <td>AA</td>\n",
       "      <td>N105UW</td>\n",
       "      <td>594</td>\n",
       "      <td>14100</td>\n",
       "      <td>PHL</td>\n",
       "      <td>...</td>\n",
       "      <td>2521.0</td>\n",
       "      <td>64.0</td>\n",
       "      <td>0.0</td>\n",
       "      <td>0.0</td>\n",
       "      <td>0.0</td>\n",
       "      <td>0.0</td>\n",
       "      <td>NaN</td>\n",
       "      <td>NaN</td>\n",
       "      <td>NaN</td>\n",
       "      <td>NaN</td>\n",
       "    </tr>\n",
       "    <tr>\n",
       "      <th>31845</th>\n",
       "      <td>2019-12-31</td>\n",
       "      <td>UA</td>\n",
       "      <td>UA_CODESHARE</td>\n",
       "      <td>UA</td>\n",
       "      <td>5662</td>\n",
       "      <td>OO</td>\n",
       "      <td>N108SY</td>\n",
       "      <td>5662</td>\n",
       "      <td>13930</td>\n",
       "      <td>ORD</td>\n",
       "      <td>...</td>\n",
       "      <td>646.0</td>\n",
       "      <td>5.0</td>\n",
       "      <td>0.0</td>\n",
       "      <td>39.0</td>\n",
       "      <td>0.0</td>\n",
       "      <td>0.0</td>\n",
       "      <td>NaN</td>\n",
       "      <td>NaN</td>\n",
       "      <td>NaN</td>\n",
       "      <td>NaN</td>\n",
       "    </tr>\n",
       "    <tr>\n",
       "      <th>31847</th>\n",
       "      <td>2019-12-31</td>\n",
       "      <td>UA</td>\n",
       "      <td>UA_CODESHARE</td>\n",
       "      <td>UA</td>\n",
       "      <td>5665</td>\n",
       "      <td>OO</td>\n",
       "      <td>N701BR</td>\n",
       "      <td>5665</td>\n",
       "      <td>10849</td>\n",
       "      <td>BZN</td>\n",
       "      <td>...</td>\n",
       "      <td>524.0</td>\n",
       "      <td>0.0</td>\n",
       "      <td>0.0</td>\n",
       "      <td>0.0</td>\n",
       "      <td>0.0</td>\n",
       "      <td>74.0</td>\n",
       "      <td>NaN</td>\n",
       "      <td>NaN</td>\n",
       "      <td>NaN</td>\n",
       "      <td>NaN</td>\n",
       "    </tr>\n",
       "    <tr>\n",
       "      <th>31829</th>\n",
       "      <td>2019-12-31</td>\n",
       "      <td>AA</td>\n",
       "      <td>AA_CODESHARE</td>\n",
       "      <td>AA</td>\n",
       "      <td>3111</td>\n",
       "      <td>OO</td>\n",
       "      <td>N709BR</td>\n",
       "      <td>3111</td>\n",
       "      <td>13930</td>\n",
       "      <td>ORD</td>\n",
       "      <td>...</td>\n",
       "      <td>566.0</td>\n",
       "      <td>0.0</td>\n",
       "      <td>22.0</td>\n",
       "      <td>5.0</td>\n",
       "      <td>0.0</td>\n",
       "      <td>0.0</td>\n",
       "      <td>NaN</td>\n",
       "      <td>NaN</td>\n",
       "      <td>NaN</td>\n",
       "      <td>NaN</td>\n",
       "    </tr>\n",
       "  </tbody>\n",
       "</table>\n",
       "<p>56988 rows × 42 columns</p>\n",
       "</div>"
      ],
      "text/plain": [
       "          fl_date mkt_unique_carrier branded_code_share mkt_carrier  \\\n",
       "0      2018-01-01                 AA                 AA          AA   \n",
       "52     2018-01-01                 UA       UA_CODESHARE          UA   \n",
       "51     2018-01-01                 UA       UA_CODESHARE          UA   \n",
       "50     2018-01-01                 UA       UA_CODESHARE          UA   \n",
       "49     2018-01-01                 UA       UA_CODESHARE          UA   \n",
       "...           ...                ...                ...         ...   \n",
       "31843  2019-12-31                 AA                 AA          AA   \n",
       "31844  2019-12-31                 AA                 AA          AA   \n",
       "31845  2019-12-31                 UA       UA_CODESHARE          UA   \n",
       "31847  2019-12-31                 UA       UA_CODESHARE          UA   \n",
       "31829  2019-12-31                 AA       AA_CODESHARE          AA   \n",
       "\n",
       "       mkt_carrier_fl_num op_unique_carrier tail_num  op_carrier_fl_num  \\\n",
       "0                    1339                AA   N928AM               1339   \n",
       "52                   5682                OO   N106SY               5682   \n",
       "51                   5670                OO   N787SK               5670   \n",
       "50                   5668                OO   N971SW               5668   \n",
       "49                   5662                OO   N124SY               5662   \n",
       "...                   ...               ...      ...                ...   \n",
       "31843                 592                AA   N919US                592   \n",
       "31844                 594                AA   N105UW                594   \n",
       "31845                5662                OO   N108SY               5662   \n",
       "31847                5665                OO   N701BR               5665   \n",
       "31829                3111                OO   N709BR               3111   \n",
       "\n",
       "       origin_airport_id origin  ... distance  carrier_delay weather_delay  \\\n",
       "0                  15304    TPA  ...    929.0           22.0           0.0   \n",
       "52                 14771    SFO  ...   1464.0           99.0           0.0   \n",
       "51                 12266    IAH  ...    657.0            0.0           0.0   \n",
       "50                 11292    DEN  ...    196.0           27.0           0.0   \n",
       "49                 13930    ORD  ...    612.0            0.0           0.0   \n",
       "...                  ...    ...  ...      ...            ...           ...   \n",
       "31843              12892    LAX  ...   2125.0           16.0           0.0   \n",
       "31844              14100    PHL  ...   2521.0           64.0           0.0   \n",
       "31845              13930    ORD  ...    646.0            5.0           0.0   \n",
       "31847              10849    BZN  ...    524.0            0.0           0.0   \n",
       "31829              13930    ORD  ...    566.0            0.0          22.0   \n",
       "\n",
       "      nas_delay  security_delay  late_aircraft_delay  first_dep_time  \\\n",
       "0          18.0             0.0                  0.0             NaN   \n",
       "52          0.0             0.0                  0.0          1056.0   \n",
       "51          0.0             0.0                 17.0             NaN   \n",
       "50          3.0             0.0                  0.0             NaN   \n",
       "49          0.0             0.0                 82.0             NaN   \n",
       "...         ...             ...                  ...             ...   \n",
       "31843       0.0             0.0                  0.0             NaN   \n",
       "31844       0.0             0.0                  0.0             NaN   \n",
       "31845      39.0             0.0                  0.0             NaN   \n",
       "31847       0.0             0.0                 74.0             NaN   \n",
       "31829       5.0             0.0                  0.0             NaN   \n",
       "\n",
       "       total_add_gtime  longest_add_gtime  no_name  \n",
       "0                  NaN                NaN      NaN  \n",
       "52                24.0               24.0      NaN  \n",
       "51                 NaN                NaN      NaN  \n",
       "50                 NaN                NaN      NaN  \n",
       "49                 NaN                NaN      NaN  \n",
       "...                ...                ...      ...  \n",
       "31843              NaN                NaN      NaN  \n",
       "31844              NaN                NaN      NaN  \n",
       "31845              NaN                NaN      NaN  \n",
       "31847              NaN                NaN      NaN  \n",
       "31829              NaN                NaN      NaN  \n",
       "\n",
       "[56988 rows x 42 columns]"
      ]
     },
     "execution_count": 11,
     "metadata": {},
     "output_type": "execute_result"
    }
   ],
   "source": [
    "df.sort_values('fl_date')"
   ]
  },
  {
   "cell_type": "code",
   "execution_count": 12,
   "metadata": {},
   "outputs": [],
   "source": [
    "df.fl_date = df.fl_date.apply(pd.to_datetime)"
   ]
  },
  {
   "cell_type": "code",
   "execution_count": 13,
   "metadata": {},
   "outputs": [
    {
     "data": {
      "text/plain": [
       "2018-12-28    281\n",
       "2019-04-01    252\n",
       "2018-12-27    222\n",
       "2018-08-13    208\n",
       "2019-07-18    207\n",
       "             ... \n",
       "2018-12-25     17\n",
       "2018-01-20     15\n",
       "2018-11-03     14\n",
       "2019-12-07     14\n",
       "2018-11-22     13\n",
       "Name: fl_date, Length: 730, dtype: int64"
      ]
     },
     "execution_count": 13,
     "metadata": {},
     "output_type": "execute_result"
    }
   ],
   "source": [
    "df.fl_date.value_counts()  "
   ]
  },
  {
   "cell_type": "code",
   "execution_count": 109,
   "metadata": {},
   "outputs": [
    {
     "data": {
      "text/plain": [
       "fl_date\n",
       "1     48.3841\n",
       "2     56.3148\n",
       "3     54.4891\n",
       "4     55.4513\n",
       "5     57.8667\n",
       "6     58.5824\n",
       "7     54.4715\n",
       "8     58.4411\n",
       "9     59.1694\n",
       "10    49.1133\n",
       "11    47.9077\n",
       "12    59.3962\n",
       "Name: arr_delay, dtype: float64"
      ]
     },
     "execution_count": 109,
     "metadata": {},
     "output_type": "execute_result"
    }
   ],
   "source": [
    "df.groupby(df.fl_date.dt.month)['arr_delay'].mean()"
   ]
  },
  {
   "cell_type": "code",
   "execution_count": 110,
   "metadata": {},
   "outputs": [
    {
     "data": {
      "text/plain": [
       "4.0904952494234195"
      ]
     },
     "execution_count": 110,
     "metadata": {},
     "output_type": "execute_result"
    }
   ],
   "source": [
    "np.std(df.groupby(df.fl_date.dt.month)['arr_delay'].mean())"
   ]
  },
  {
   "cell_type": "code",
   "execution_count": 152,
   "metadata": {},
   "outputs": [
    {
     "ename": "AttributeError",
     "evalue": "module 'seaborn' has no attribute 'dist'",
     "output_type": "error",
     "traceback": [
      "\u001b[0;31m---------------------------------------------------------------------------\u001b[0m",
      "\u001b[0;31mAttributeError\u001b[0m                            Traceback (most recent call last)",
      "\u001b[0;32m/var/folders/cw/0wrn5g9j1cl7b_02f0m2xtg00000gn/T/ipykernel_5878/3169940808.py\u001b[0m in \u001b[0;36m<module>\u001b[0;34m\u001b[0m\n\u001b[0;32m----> 1\u001b[0;31m \u001b[0msns\u001b[0m\u001b[0;34m.\u001b[0m\u001b[0mdist\u001b[0m\u001b[0;34m(\u001b[0m\u001b[0mdf\u001b[0m\u001b[0;34m.\u001b[0m\u001b[0mfl_date\u001b[0m\u001b[0;34m.\u001b[0m\u001b[0mdt\u001b[0m\u001b[0;34m.\u001b[0m\u001b[0mmonth\u001b[0m\u001b[0;34m.\u001b[0m\u001b[0mvalue_counts\u001b[0m\u001b[0;34m(\u001b[0m\u001b[0;34m)\u001b[0m\u001b[0;34m)\u001b[0m\u001b[0;34m\u001b[0m\u001b[0;34m\u001b[0m\u001b[0m\n\u001b[0m",
      "\u001b[0;31mAttributeError\u001b[0m: module 'seaborn' has no attribute 'dist'"
     ]
    }
   ],
   "source": [
    "sns.dist(df.fl_date.dt.month.value_counts())"
   ]
  },
  {
   "cell_type": "markdown",
   "metadata": {},
   "source": [
    "#### **Task 3**: Does the weather affect the delay? \n",
    "Use the API to pull the weather information for flights. There is no need to get weather for ALL flights. We can choose the right representative sample. Let's focus on four weather types:\n",
    "- sunny\n",
    "- cloudy\n",
    "- rainy\n",
    "- snow.\n",
    "Test the hypothesis that these 4 delays are from the same distribution. If they are not, which ones are significantly different?"
   ]
  },
  {
   "cell_type": "code",
   "execution_count": 54,
   "metadata": {},
   "outputs": [
    {
     "data": {
      "text/plain": [
       "True     96189\n",
       "False    23811\n",
       "Name: weather_delay, dtype: int64"
      ]
     },
     "execution_count": 54,
     "metadata": {},
     "output_type": "execute_result"
    }
   ],
   "source": [
    "df.weather_delay.isna().value_counts()"
   ]
  },
  {
   "cell_type": "code",
   "execution_count": 55,
   "metadata": {},
   "outputs": [
    {
     "data": {
      "text/plain": [
       "0.0      22655\n",
       "1.0         40\n",
       "2.0         32\n",
       "9.0         32\n",
       "15.0        31\n",
       "         ...  \n",
       "127.0        1\n",
       "126.0        1\n",
       "164.0        1\n",
       "94.0         1\n",
       "136.0        1\n",
       "Name: weather_delay, Length: 150, dtype: int64"
      ]
     },
     "execution_count": 55,
     "metadata": {},
     "output_type": "execute_result"
    }
   ],
   "source": [
    "df.weather_delay.value_counts()"
   ]
  },
  {
   "cell_type": "code",
   "execution_count": 93,
   "metadata": {},
   "outputs": [
    {
     "data": {
      "text/plain": [
       "max       199.000000\n",
       "min         0.000000\n",
       "mean        2.291733\n",
       "std        12.991763\n",
       "median      0.000000\n",
       "Name: weather_delay, dtype: float64"
      ]
     },
     "execution_count": 93,
     "metadata": {},
     "output_type": "execute_result"
    }
   ],
   "source": [
    "df['weather_delay'].agg(['max', 'min', 'mean', 'std', 'median'])"
   ]
  },
  {
   "cell_type": "markdown",
   "metadata": {},
   "source": [
    "#### **Task 4**: How taxi times changing during the day? Does higher traffic lead to bigger taxi times?"
   ]
  },
  {
   "cell_type": "code",
   "execution_count": null,
   "metadata": {},
   "outputs": [],
   "source": []
  },
  {
   "cell_type": "code",
   "execution_count": null,
   "metadata": {},
   "outputs": [],
   "source": []
  },
  {
   "cell_type": "markdown",
   "metadata": {},
   "source": [
    "#### **Task 5**: What is the average percentage of delays that is already created before departure? (aka are arrival delays caused by departure delays?) Are airlines able to lower the delay during the flights?"
   ]
  },
  {
   "cell_type": "code",
   "execution_count": 15,
   "metadata": {},
   "outputs": [
    {
     "data": {
      "text/plain": [
       "<matplotlib.collections.PathCollection at 0x7fba9d502e20>"
      ]
     },
     "execution_count": 15,
     "metadata": {},
     "output_type": "execute_result"
    },
    {
     "data": {
      "image/png": "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\n",
      "text/plain": [
       "<Figure size 432x288 with 1 Axes>"
      ]
     },
     "metadata": {
      "needs_background": "light"
     },
     "output_type": "display_data"
    }
   ],
   "source": [
    "plt.scatter(df[(df['dep_delay'] > 0) & (df['arr_delay'] > 0)]['dep_delay'], df[(df['dep_delay'] > 0) & (df['arr_delay'] > 0)]['arr_delay'])"
   ]
  },
  {
   "cell_type": "code",
   "execution_count": 16,
   "metadata": {},
   "outputs": [
    {
     "data": {
      "text/html": [
       "<div>\n",
       "<style scoped>\n",
       "    .dataframe tbody tr th:only-of-type {\n",
       "        vertical-align: middle;\n",
       "    }\n",
       "\n",
       "    .dataframe tbody tr th {\n",
       "        vertical-align: top;\n",
       "    }\n",
       "\n",
       "    .dataframe thead th {\n",
       "        text-align: right;\n",
       "    }\n",
       "</style>\n",
       "<table border=\"1\" class=\"dataframe\">\n",
       "  <thead>\n",
       "    <tr style=\"text-align: right;\">\n",
       "      <th></th>\n",
       "      <th>fl_date</th>\n",
       "      <th>mkt_unique_carrier</th>\n",
       "      <th>branded_code_share</th>\n",
       "      <th>mkt_carrier</th>\n",
       "      <th>mkt_carrier_fl_num</th>\n",
       "      <th>op_unique_carrier</th>\n",
       "      <th>tail_num</th>\n",
       "      <th>op_carrier_fl_num</th>\n",
       "      <th>origin_airport_id</th>\n",
       "      <th>origin</th>\n",
       "      <th>...</th>\n",
       "      <th>distance</th>\n",
       "      <th>carrier_delay</th>\n",
       "      <th>weather_delay</th>\n",
       "      <th>nas_delay</th>\n",
       "      <th>security_delay</th>\n",
       "      <th>late_aircraft_delay</th>\n",
       "      <th>first_dep_time</th>\n",
       "      <th>total_add_gtime</th>\n",
       "      <th>longest_add_gtime</th>\n",
       "      <th>no_name</th>\n",
       "    </tr>\n",
       "  </thead>\n",
       "  <tbody>\n",
       "    <tr>\n",
       "      <th>0</th>\n",
       "      <td>2018-01-01</td>\n",
       "      <td>AA</td>\n",
       "      <td>AA</td>\n",
       "      <td>AA</td>\n",
       "      <td>1339</td>\n",
       "      <td>AA</td>\n",
       "      <td>N928AM</td>\n",
       "      <td>1339</td>\n",
       "      <td>15304</td>\n",
       "      <td>TPA</td>\n",
       "      <td>...</td>\n",
       "      <td>929.0</td>\n",
       "      <td>22.0</td>\n",
       "      <td>0.0</td>\n",
       "      <td>18.0</td>\n",
       "      <td>0.0</td>\n",
       "      <td>0.0</td>\n",
       "      <td>NaN</td>\n",
       "      <td>NaN</td>\n",
       "      <td>NaN</td>\n",
       "      <td>NaN</td>\n",
       "    </tr>\n",
       "    <tr>\n",
       "      <th>1</th>\n",
       "      <td>2018-01-01</td>\n",
       "      <td>AA</td>\n",
       "      <td>AA</td>\n",
       "      <td>AA</td>\n",
       "      <td>1341</td>\n",
       "      <td>AA</td>\n",
       "      <td>N961AN</td>\n",
       "      <td>1341</td>\n",
       "      <td>13303</td>\n",
       "      <td>MIA</td>\n",
       "      <td>...</td>\n",
       "      <td>1045.0</td>\n",
       "      <td>36.0</td>\n",
       "      <td>0.0</td>\n",
       "      <td>0.0</td>\n",
       "      <td>0.0</td>\n",
       "      <td>0.0</td>\n",
       "      <td>NaN</td>\n",
       "      <td>NaN</td>\n",
       "      <td>NaN</td>\n",
       "      <td>NaN</td>\n",
       "    </tr>\n",
       "    <tr>\n",
       "      <th>2</th>\n",
       "      <td>2018-01-01</td>\n",
       "      <td>AA</td>\n",
       "      <td>AA</td>\n",
       "      <td>AA</td>\n",
       "      <td>1344</td>\n",
       "      <td>AA</td>\n",
       "      <td>N969AN</td>\n",
       "      <td>1344</td>\n",
       "      <td>13487</td>\n",
       "      <td>MSP</td>\n",
       "      <td>...</td>\n",
       "      <td>930.0</td>\n",
       "      <td>123.0</td>\n",
       "      <td>0.0</td>\n",
       "      <td>0.0</td>\n",
       "      <td>0.0</td>\n",
       "      <td>0.0</td>\n",
       "      <td>NaN</td>\n",
       "      <td>NaN</td>\n",
       "      <td>NaN</td>\n",
       "      <td>NaN</td>\n",
       "    </tr>\n",
       "    <tr>\n",
       "      <th>3</th>\n",
       "      <td>2018-01-01</td>\n",
       "      <td>AA</td>\n",
       "      <td>AA</td>\n",
       "      <td>AA</td>\n",
       "      <td>1350</td>\n",
       "      <td>AA</td>\n",
       "      <td>N9624T</td>\n",
       "      <td>1350</td>\n",
       "      <td>15016</td>\n",
       "      <td>STL</td>\n",
       "      <td>...</td>\n",
       "      <td>550.0</td>\n",
       "      <td>0.0</td>\n",
       "      <td>0.0</td>\n",
       "      <td>0.0</td>\n",
       "      <td>0.0</td>\n",
       "      <td>15.0</td>\n",
       "      <td>NaN</td>\n",
       "      <td>NaN</td>\n",
       "      <td>NaN</td>\n",
       "      <td>NaN</td>\n",
       "    </tr>\n",
       "    <tr>\n",
       "      <th>4</th>\n",
       "      <td>2018-01-01</td>\n",
       "      <td>AA</td>\n",
       "      <td>AA</td>\n",
       "      <td>AA</td>\n",
       "      <td>1354</td>\n",
       "      <td>AA</td>\n",
       "      <td>N355PU</td>\n",
       "      <td>1354</td>\n",
       "      <td>13303</td>\n",
       "      <td>MIA</td>\n",
       "      <td>...</td>\n",
       "      <td>192.0</td>\n",
       "      <td>125.0</td>\n",
       "      <td>0.0</td>\n",
       "      <td>16.0</td>\n",
       "      <td>0.0</td>\n",
       "      <td>0.0</td>\n",
       "      <td>NaN</td>\n",
       "      <td>NaN</td>\n",
       "      <td>NaN</td>\n",
       "      <td>NaN</td>\n",
       "    </tr>\n",
       "    <tr>\n",
       "      <th>...</th>\n",
       "      <td>...</td>\n",
       "      <td>...</td>\n",
       "      <td>...</td>\n",
       "      <td>...</td>\n",
       "      <td>...</td>\n",
       "      <td>...</td>\n",
       "      <td>...</td>\n",
       "      <td>...</td>\n",
       "      <td>...</td>\n",
       "      <td>...</td>\n",
       "      <td>...</td>\n",
       "      <td>...</td>\n",
       "      <td>...</td>\n",
       "      <td>...</td>\n",
       "      <td>...</td>\n",
       "      <td>...</td>\n",
       "      <td>...</td>\n",
       "      <td>...</td>\n",
       "      <td>...</td>\n",
       "      <td>...</td>\n",
       "      <td>...</td>\n",
       "    </tr>\n",
       "    <tr>\n",
       "      <th>57013</th>\n",
       "      <td>2019-07-31</td>\n",
       "      <td>DL</td>\n",
       "      <td>DL</td>\n",
       "      <td>DL</td>\n",
       "      <td>2062</td>\n",
       "      <td>DL</td>\n",
       "      <td>N322DN</td>\n",
       "      <td>2062</td>\n",
       "      <td>13487</td>\n",
       "      <td>MSP</td>\n",
       "      <td>...</td>\n",
       "      <td>1124.0</td>\n",
       "      <td>0.0</td>\n",
       "      <td>0.0</td>\n",
       "      <td>0.0</td>\n",
       "      <td>0.0</td>\n",
       "      <td>143.0</td>\n",
       "      <td>NaN</td>\n",
       "      <td>NaN</td>\n",
       "      <td>NaN</td>\n",
       "      <td>NaN</td>\n",
       "    </tr>\n",
       "    <tr>\n",
       "      <th>57014</th>\n",
       "      <td>2019-07-31</td>\n",
       "      <td>DL</td>\n",
       "      <td>DL</td>\n",
       "      <td>DL</td>\n",
       "      <td>2064</td>\n",
       "      <td>DL</td>\n",
       "      <td>N390DN</td>\n",
       "      <td>2064</td>\n",
       "      <td>11697</td>\n",
       "      <td>FLL</td>\n",
       "      <td>...</td>\n",
       "      <td>1076.0</td>\n",
       "      <td>30.0</td>\n",
       "      <td>0.0</td>\n",
       "      <td>2.0</td>\n",
       "      <td>0.0</td>\n",
       "      <td>97.0</td>\n",
       "      <td>NaN</td>\n",
       "      <td>NaN</td>\n",
       "      <td>NaN</td>\n",
       "      <td>NaN</td>\n",
       "    </tr>\n",
       "    <tr>\n",
       "      <th>57015</th>\n",
       "      <td>2019-07-31</td>\n",
       "      <td>DL</td>\n",
       "      <td>DL</td>\n",
       "      <td>DL</td>\n",
       "      <td>2067</td>\n",
       "      <td>DL</td>\n",
       "      <td>N994DL</td>\n",
       "      <td>2067</td>\n",
       "      <td>10397</td>\n",
       "      <td>ATL</td>\n",
       "      <td>...</td>\n",
       "      <td>332.0</td>\n",
       "      <td>17.0</td>\n",
       "      <td>0.0</td>\n",
       "      <td>0.0</td>\n",
       "      <td>0.0</td>\n",
       "      <td>47.0</td>\n",
       "      <td>NaN</td>\n",
       "      <td>NaN</td>\n",
       "      <td>NaN</td>\n",
       "      <td>NaN</td>\n",
       "    </tr>\n",
       "    <tr>\n",
       "      <th>57016</th>\n",
       "      <td>2019-07-31</td>\n",
       "      <td>DL</td>\n",
       "      <td>DL</td>\n",
       "      <td>DL</td>\n",
       "      <td>2067</td>\n",
       "      <td>DL</td>\n",
       "      <td>N994DL</td>\n",
       "      <td>2067</td>\n",
       "      <td>13244</td>\n",
       "      <td>MEM</td>\n",
       "      <td>...</td>\n",
       "      <td>332.0</td>\n",
       "      <td>0.0</td>\n",
       "      <td>0.0</td>\n",
       "      <td>0.0</td>\n",
       "      <td>0.0</td>\n",
       "      <td>38.0</td>\n",
       "      <td>NaN</td>\n",
       "      <td>NaN</td>\n",
       "      <td>NaN</td>\n",
       "      <td>NaN</td>\n",
       "    </tr>\n",
       "    <tr>\n",
       "      <th>57017</th>\n",
       "      <td>2019-07-31</td>\n",
       "      <td>DL</td>\n",
       "      <td>DL</td>\n",
       "      <td>DL</td>\n",
       "      <td>2078</td>\n",
       "      <td>DL</td>\n",
       "      <td>N992AT</td>\n",
       "      <td>2078</td>\n",
       "      <td>10397</td>\n",
       "      <td>ATL</td>\n",
       "      <td>...</td>\n",
       "      <td>151.0</td>\n",
       "      <td>1.0</td>\n",
       "      <td>0.0</td>\n",
       "      <td>0.0</td>\n",
       "      <td>0.0</td>\n",
       "      <td>47.0</td>\n",
       "      <td>NaN</td>\n",
       "      <td>NaN</td>\n",
       "      <td>NaN</td>\n",
       "      <td>NaN</td>\n",
       "    </tr>\n",
       "  </tbody>\n",
       "</table>\n",
       "<p>49370 rows × 42 columns</p>\n",
       "</div>"
      ],
      "text/plain": [
       "         fl_date mkt_unique_carrier branded_code_share mkt_carrier  \\\n",
       "0     2018-01-01                 AA                 AA          AA   \n",
       "1     2018-01-01                 AA                 AA          AA   \n",
       "2     2018-01-01                 AA                 AA          AA   \n",
       "3     2018-01-01                 AA                 AA          AA   \n",
       "4     2018-01-01                 AA                 AA          AA   \n",
       "...          ...                ...                ...         ...   \n",
       "57013 2019-07-31                 DL                 DL          DL   \n",
       "57014 2019-07-31                 DL                 DL          DL   \n",
       "57015 2019-07-31                 DL                 DL          DL   \n",
       "57016 2019-07-31                 DL                 DL          DL   \n",
       "57017 2019-07-31                 DL                 DL          DL   \n",
       "\n",
       "       mkt_carrier_fl_num op_unique_carrier tail_num  op_carrier_fl_num  \\\n",
       "0                    1339                AA   N928AM               1339   \n",
       "1                    1341                AA   N961AN               1341   \n",
       "2                    1344                AA   N969AN               1344   \n",
       "3                    1350                AA   N9624T               1350   \n",
       "4                    1354                AA   N355PU               1354   \n",
       "...                   ...               ...      ...                ...   \n",
       "57013                2062                DL   N322DN               2062   \n",
       "57014                2064                DL   N390DN               2064   \n",
       "57015                2067                DL   N994DL               2067   \n",
       "57016                2067                DL   N994DL               2067   \n",
       "57017                2078                DL   N992AT               2078   \n",
       "\n",
       "       origin_airport_id origin  ... distance  carrier_delay weather_delay  \\\n",
       "0                  15304    TPA  ...    929.0           22.0           0.0   \n",
       "1                  13303    MIA  ...   1045.0           36.0           0.0   \n",
       "2                  13487    MSP  ...    930.0          123.0           0.0   \n",
       "3                  15016    STL  ...    550.0            0.0           0.0   \n",
       "4                  13303    MIA  ...    192.0          125.0           0.0   \n",
       "...                  ...    ...  ...      ...            ...           ...   \n",
       "57013              13487    MSP  ...   1124.0            0.0           0.0   \n",
       "57014              11697    FLL  ...   1076.0           30.0           0.0   \n",
       "57015              10397    ATL  ...    332.0           17.0           0.0   \n",
       "57016              13244    MEM  ...    332.0            0.0           0.0   \n",
       "57017              10397    ATL  ...    151.0            1.0           0.0   \n",
       "\n",
       "      nas_delay  security_delay  late_aircraft_delay  first_dep_time  \\\n",
       "0          18.0             0.0                  0.0             NaN   \n",
       "1           0.0             0.0                  0.0             NaN   \n",
       "2           0.0             0.0                  0.0             NaN   \n",
       "3           0.0             0.0                 15.0             NaN   \n",
       "4          16.0             0.0                  0.0             NaN   \n",
       "...         ...             ...                  ...             ...   \n",
       "57013       0.0             0.0                143.0             NaN   \n",
       "57014       2.0             0.0                 97.0             NaN   \n",
       "57015       0.0             0.0                 47.0             NaN   \n",
       "57016       0.0             0.0                 38.0             NaN   \n",
       "57017       0.0             0.0                 47.0             NaN   \n",
       "\n",
       "       total_add_gtime  longest_add_gtime  no_name  \n",
       "0                  NaN                NaN      NaN  \n",
       "1                  NaN                NaN      NaN  \n",
       "2                  NaN                NaN      NaN  \n",
       "3                  NaN                NaN      NaN  \n",
       "4                  NaN                NaN      NaN  \n",
       "...                ...                ...      ...  \n",
       "57013              NaN                NaN      NaN  \n",
       "57014              NaN                NaN      NaN  \n",
       "57015              NaN                NaN      NaN  \n",
       "57016              NaN                NaN      NaN  \n",
       "57017              NaN                NaN      NaN  \n",
       "\n",
       "[49370 rows x 42 columns]"
      ]
     },
     "execution_count": 16,
     "metadata": {},
     "output_type": "execute_result"
    }
   ],
   "source": [
    "df[(df['dep_delay'] > 0)]"
   ]
  },
  {
   "cell_type": "code",
   "execution_count": 32,
   "metadata": {},
   "outputs": [
    {
     "data": {
      "text/html": [
       "<div>\n",
       "<style scoped>\n",
       "    .dataframe tbody tr th:only-of-type {\n",
       "        vertical-align: middle;\n",
       "    }\n",
       "\n",
       "    .dataframe tbody tr th {\n",
       "        vertical-align: top;\n",
       "    }\n",
       "\n",
       "    .dataframe thead th {\n",
       "        text-align: right;\n",
       "    }\n",
       "</style>\n",
       "<table border=\"1\" class=\"dataframe\">\n",
       "  <thead>\n",
       "    <tr style=\"text-align: right;\">\n",
       "      <th></th>\n",
       "      <th>dep_delay</th>\n",
       "      <th>arr_delay</th>\n",
       "      <th>carrier_delay</th>\n",
       "      <th>weather_delay</th>\n",
       "      <th>nas_delay</th>\n",
       "      <th>security_delay</th>\n",
       "      <th>late_aircraft_delay</th>\n",
       "    </tr>\n",
       "  </thead>\n",
       "  <tbody>\n",
       "    <tr>\n",
       "      <th>7</th>\n",
       "      <td>-8.0</td>\n",
       "      <td>28.0</td>\n",
       "      <td>0.0</td>\n",
       "      <td>0.0</td>\n",
       "      <td>28.0</td>\n",
       "      <td>0.0</td>\n",
       "      <td>0.0</td>\n",
       "    </tr>\n",
       "    <tr>\n",
       "      <th>50</th>\n",
       "      <td>-6.0</td>\n",
       "      <td>17.0</td>\n",
       "      <td>0.0</td>\n",
       "      <td>0.0</td>\n",
       "      <td>17.0</td>\n",
       "      <td>0.0</td>\n",
       "      <td>0.0</td>\n",
       "    </tr>\n",
       "    <tr>\n",
       "      <th>63</th>\n",
       "      <td>-4.0</td>\n",
       "      <td>18.0</td>\n",
       "      <td>0.0</td>\n",
       "      <td>0.0</td>\n",
       "      <td>18.0</td>\n",
       "      <td>0.0</td>\n",
       "      <td>0.0</td>\n",
       "    </tr>\n",
       "    <tr>\n",
       "      <th>65</th>\n",
       "      <td>-6.0</td>\n",
       "      <td>18.0</td>\n",
       "      <td>0.0</td>\n",
       "      <td>0.0</td>\n",
       "      <td>18.0</td>\n",
       "      <td>0.0</td>\n",
       "      <td>0.0</td>\n",
       "    </tr>\n",
       "    <tr>\n",
       "      <th>85</th>\n",
       "      <td>-2.0</td>\n",
       "      <td>17.0</td>\n",
       "      <td>0.0</td>\n",
       "      <td>0.0</td>\n",
       "      <td>17.0</td>\n",
       "      <td>0.0</td>\n",
       "      <td>0.0</td>\n",
       "    </tr>\n",
       "    <tr>\n",
       "      <th>...</th>\n",
       "      <td>...</td>\n",
       "      <td>...</td>\n",
       "      <td>...</td>\n",
       "      <td>...</td>\n",
       "      <td>...</td>\n",
       "      <td>...</td>\n",
       "      <td>...</td>\n",
       "    </tr>\n",
       "    <tr>\n",
       "      <th>623945</th>\n",
       "      <td>-1.0</td>\n",
       "      <td>35.0</td>\n",
       "      <td>0.0</td>\n",
       "      <td>0.0</td>\n",
       "      <td>35.0</td>\n",
       "      <td>0.0</td>\n",
       "      <td>0.0</td>\n",
       "    </tr>\n",
       "    <tr>\n",
       "      <th>623950</th>\n",
       "      <td>-3.0</td>\n",
       "      <td>41.0</td>\n",
       "      <td>0.0</td>\n",
       "      <td>0.0</td>\n",
       "      <td>41.0</td>\n",
       "      <td>0.0</td>\n",
       "      <td>0.0</td>\n",
       "    </tr>\n",
       "    <tr>\n",
       "      <th>624029</th>\n",
       "      <td>-7.0</td>\n",
       "      <td>73.0</td>\n",
       "      <td>0.0</td>\n",
       "      <td>0.0</td>\n",
       "      <td>73.0</td>\n",
       "      <td>0.0</td>\n",
       "      <td>0.0</td>\n",
       "    </tr>\n",
       "    <tr>\n",
       "      <th>624031</th>\n",
       "      <td>-2.0</td>\n",
       "      <td>72.0</td>\n",
       "      <td>0.0</td>\n",
       "      <td>0.0</td>\n",
       "      <td>72.0</td>\n",
       "      <td>0.0</td>\n",
       "      <td>0.0</td>\n",
       "    </tr>\n",
       "    <tr>\n",
       "      <th>624054</th>\n",
       "      <td>-4.0</td>\n",
       "      <td>16.0</td>\n",
       "      <td>0.0</td>\n",
       "      <td>0.0</td>\n",
       "      <td>16.0</td>\n",
       "      <td>0.0</td>\n",
       "      <td>0.0</td>\n",
       "    </tr>\n",
       "  </tbody>\n",
       "</table>\n",
       "<p>13081 rows × 7 columns</p>\n",
       "</div>"
      ],
      "text/plain": [
       "        dep_delay  arr_delay  carrier_delay  weather_delay  nas_delay  \\\n",
       "7            -8.0       28.0            0.0            0.0       28.0   \n",
       "50           -6.0       17.0            0.0            0.0       17.0   \n",
       "63           -4.0       18.0            0.0            0.0       18.0   \n",
       "65           -6.0       18.0            0.0            0.0       18.0   \n",
       "85           -2.0       17.0            0.0            0.0       17.0   \n",
       "...           ...        ...            ...            ...        ...   \n",
       "623945       -1.0       35.0            0.0            0.0       35.0   \n",
       "623950       -3.0       41.0            0.0            0.0       41.0   \n",
       "624029       -7.0       73.0            0.0            0.0       73.0   \n",
       "624031       -2.0       72.0            0.0            0.0       72.0   \n",
       "624054       -4.0       16.0            0.0            0.0       16.0   \n",
       "\n",
       "        security_delay  late_aircraft_delay  \n",
       "7                  0.0                  0.0  \n",
       "50                 0.0                  0.0  \n",
       "63                 0.0                  0.0  \n",
       "65                 0.0                  0.0  \n",
       "85                 0.0                  0.0  \n",
       "...                ...                  ...  \n",
       "623945             0.0                  0.0  \n",
       "623950             0.0                  0.0  \n",
       "624029             0.0                  0.0  \n",
       "624031             0.0                  0.0  \n",
       "624054             0.0                  0.0  \n",
       "\n",
       "[13081 rows x 7 columns]"
      ]
     },
     "execution_count": 32,
     "metadata": {},
     "output_type": "execute_result"
    }
   ],
   "source": [
    "df[(df['dep_delay'] < 0)][['dep_delay', 'arr_delay', 'carrier_delay', 'weather_delay', 'nas_delay', 'security_delay', 'late_aircraft_delay']]"
   ]
  },
  {
   "cell_type": "code",
<<<<<<< HEAD
   "execution_count": 61,
=======
   "execution_count": 33,
>>>>>>> parent of f8f920c (EDA departure delay to arrival delay ratio)
   "metadata": {},
   "outputs": [
    {
     "data": {
      "text/html": [
       "<div>\n",
       "<style scoped>\n",
       "    .dataframe tbody tr th:only-of-type {\n",
       "        vertical-align: middle;\n",
       "    }\n",
       "\n",
       "    .dataframe tbody tr th {\n",
       "        vertical-align: top;\n",
       "    }\n",
       "\n",
       "    .dataframe thead th {\n",
       "        text-align: right;\n",
       "    }\n",
       "</style>\n",
       "<table border=\"1\" class=\"dataframe\">\n",
       "  <thead>\n",
       "    <tr style=\"text-align: right;\">\n",
       "      <th></th>\n",
       "      <th>fl_date</th>\n",
       "      <th>mkt_unique_carrier</th>\n",
       "      <th>branded_code_share</th>\n",
       "      <th>mkt_carrier</th>\n",
       "      <th>mkt_carrier_fl_num</th>\n",
       "      <th>op_unique_carrier</th>\n",
       "      <th>tail_num</th>\n",
       "      <th>op_carrier_fl_num</th>\n",
       "      <th>origin_airport_id</th>\n",
       "      <th>origin</th>\n",
       "      <th>...</th>\n",
       "      <th>distance</th>\n",
       "      <th>carrier_delay</th>\n",
       "      <th>weather_delay</th>\n",
       "      <th>nas_delay</th>\n",
       "      <th>security_delay</th>\n",
       "      <th>late_aircraft_delay</th>\n",
       "      <th>first_dep_time</th>\n",
       "      <th>total_add_gtime</th>\n",
       "      <th>longest_add_gtime</th>\n",
       "      <th>no_name</th>\n",
       "    </tr>\n",
       "  </thead>\n",
       "  <tbody>\n",
       "  </tbody>\n",
       "</table>\n",
       "<p>0 rows × 42 columns</p>\n",
       "</div>"
      ],
      "text/plain": [
       "Empty DataFrame\n",
       "Columns: [fl_date, mkt_unique_carrier, branded_code_share, mkt_carrier, mkt_carrier_fl_num, op_unique_carrier, tail_num, op_carrier_fl_num, origin_airport_id, origin, origin_city_name, dest_airport_id, dest, dest_city_name, crs_dep_time, dep_time, dep_delay, taxi_out, wheels_off, wheels_on, taxi_in, crs_arr_time, arr_time, arr_delay, cancelled, cancellation_code, diverted, dup, crs_elapsed_time, actual_elapsed_time, air_time, flights, distance, carrier_delay, weather_delay, nas_delay, security_delay, late_aircraft_delay, first_dep_time, total_add_gtime, longest_add_gtime, no_name]\n",
       "Index: []\n",
       "\n",
       "[0 rows x 42 columns]"
      ]
     },
     "execution_count": 33,
     "metadata": {},
     "output_type": "execute_result"
    }
   ],
   "source": [
    "df[df['arr_delay'] < 0]"
   ]
  },
  {
   "cell_type": "code",
   "execution_count": 19,
   "metadata": {},
   "outputs": [
    {
     "data": {
      "text/html": [
       "<div>\n",
       "<style scoped>\n",
       "    .dataframe tbody tr th:only-of-type {\n",
       "        vertical-align: middle;\n",
       "    }\n",
       "\n",
       "    .dataframe tbody tr th {\n",
       "        vertical-align: top;\n",
       "    }\n",
       "\n",
       "    .dataframe thead th {\n",
       "        text-align: right;\n",
       "    }\n",
       "</style>\n",
       "<table border=\"1\" class=\"dataframe\">\n",
       "  <thead>\n",
       "    <tr style=\"text-align: right;\">\n",
       "      <th></th>\n",
       "      <th>fl_date</th>\n",
       "      <th>mkt_unique_carrier</th>\n",
       "      <th>branded_code_share</th>\n",
       "      <th>mkt_carrier</th>\n",
       "      <th>mkt_carrier_fl_num</th>\n",
       "      <th>op_unique_carrier</th>\n",
       "      <th>tail_num</th>\n",
       "      <th>op_carrier_fl_num</th>\n",
       "      <th>origin_airport_id</th>\n",
       "      <th>origin</th>\n",
       "      <th>...</th>\n",
       "      <th>distance</th>\n",
       "      <th>carrier_delay</th>\n",
       "      <th>weather_delay</th>\n",
       "      <th>nas_delay</th>\n",
       "      <th>security_delay</th>\n",
       "      <th>late_aircraft_delay</th>\n",
       "      <th>first_dep_time</th>\n",
       "      <th>total_add_gtime</th>\n",
       "      <th>longest_add_gtime</th>\n",
       "      <th>no_name</th>\n",
       "    </tr>\n",
       "  </thead>\n",
       "  <tbody>\n",
       "    <tr>\n",
       "      <th>0</th>\n",
       "      <td>2018-01-01</td>\n",
       "      <td>AA</td>\n",
       "      <td>AA</td>\n",
       "      <td>AA</td>\n",
<<<<<<< HEAD
       "      <td>5606</td>\n",
       "      <td>OH</td>\n",
       "      <td>N575NN</td>\n",
       "      <td>5606</td>\n",
       "      <td>13577</td>\n",
       "      <td>MYR</td>\n",
       "      <td>...</td>\n",
       "      <td>157.0</td>\n",
       "      <td>1325.400000</td>\n",
       "      <td>157.0</td>\n",
       "      <td>0.000000e+00</td>\n",
       "      <td>2.76087</td>\n",
       "      <td>3.875</td>\n",
=======
       "      <td>1339</td>\n",
       "      <td>AA</td>\n",
       "      <td>N928AM</td>\n",
       "      <td>1339</td>\n",
       "      <td>15304</td>\n",
       "      <td>TPA</td>\n",
       "      <td>...</td>\n",
       "      <td>929.0</td>\n",
       "      <td>22.0</td>\n",
       "      <td>0.0</td>\n",
       "      <td>18.0</td>\n",
>>>>>>> parent of f8f920c (EDA departure delay to arrival delay ratio)
       "      <td>0.0</td>\n",
       "      <td>0.0</td>\n",
       "      <td>NaN</td>\n",
       "      <td>NaN</td>\n",
       "      <td>NaN</td>\n",
       "      <td>NaN</td>\n",
       "    </tr>\n",
       "    <tr>\n",
       "      <th>1</th>\n",
<<<<<<< HEAD
       "      <td>2019-01-01</td>\n",
=======
       "      <td>2018-01-01</td>\n",
>>>>>>> parent of f8f920c (EDA departure delay to arrival delay ratio)
       "      <td>AA</td>\n",
       "      <td>AA</td>\n",
<<<<<<< HEAD
       "      <td>5243</td>\n",
       "      <td>OH</td>\n",
       "      <td>N591NN</td>\n",
       "      <td>5243</td>\n",
       "      <td>13577</td>\n",
       "      <td>MYR</td>\n",
       "      <td>...</td>\n",
       "      <td>157.0</td>\n",
       "      <td>1325.400000</td>\n",
       "      <td>157.0</td>\n",
       "      <td>0.000000e+00</td>\n",
       "      <td>2.76087</td>\n",
       "      <td>3.875</td>\n",
=======
       "      <td>AA</td>\n",
       "      <td>1341</td>\n",
       "      <td>AA</td>\n",
       "      <td>N961AN</td>\n",
       "      <td>1341</td>\n",
       "      <td>13303</td>\n",
       "      <td>MIA</td>\n",
       "      <td>...</td>\n",
       "      <td>1045.0</td>\n",
       "      <td>36.0</td>\n",
       "      <td>0.0</td>\n",
       "      <td>0.0</td>\n",
>>>>>>> parent of f8f920c (EDA departure delay to arrival delay ratio)
       "      <td>0.0</td>\n",
       "      <td>0.0</td>\n",
       "      <td>NaN</td>\n",
       "      <td>NaN</td>\n",
       "      <td>NaN</td>\n",
       "      <td>NaN</td>\n",
       "    </tr>\n",
       "    <tr>\n",
       "      <th>2</th>\n",
<<<<<<< HEAD
       "      <td>2019-01-01</td>\n",
=======
       "      <td>2018-01-01</td>\n",
>>>>>>> parent of f8f920c (EDA departure delay to arrival delay ratio)
       "      <td>AA</td>\n",
       "      <td>AA</td>\n",
<<<<<<< HEAD
       "      <td>5249</td>\n",
       "      <td>OH</td>\n",
       "      <td>N578NN</td>\n",
       "      <td>5249</td>\n",
       "      <td>13577</td>\n",
       "      <td>MYR</td>\n",
       "      <td>...</td>\n",
       "      <td>157.0</td>\n",
       "      <td>1325.400000</td>\n",
       "      <td>157.0</td>\n",
       "      <td>0.000000e+00</td>\n",
       "      <td>2.76087</td>\n",
       "      <td>3.875</td>\n",
=======
       "      <td>AA</td>\n",
       "      <td>1344</td>\n",
       "      <td>AA</td>\n",
       "      <td>N969AN</td>\n",
       "      <td>1344</td>\n",
       "      <td>13487</td>\n",
       "      <td>MSP</td>\n",
       "      <td>...</td>\n",
       "      <td>930.0</td>\n",
       "      <td>123.0</td>\n",
>>>>>>> parent of f8f920c (EDA departure delay to arrival delay ratio)
       "      <td>0.0</td>\n",
       "      <td>0.0</td>\n",
       "      <td>0.0</td>\n",
       "      <td>0.0</td>\n",
       "      <td>NaN</td>\n",
       "      <td>NaN</td>\n",
       "      <td>NaN</td>\n",
       "      <td>NaN</td>\n",
       "    </tr>\n",
       "    <tr>\n",
       "      <th>3</th>\n",
<<<<<<< HEAD
       "      <td>2019-01-01</td>\n",
=======
       "      <td>2018-01-01</td>\n",
>>>>>>> parent of f8f920c (EDA departure delay to arrival delay ratio)
       "      <td>AA</td>\n",
       "      <td>AA</td>\n",
<<<<<<< HEAD
       "      <td>5261</td>\n",
       "      <td>OH</td>\n",
       "      <td>N584NN</td>\n",
       "      <td>5261</td>\n",
       "      <td>13577</td>\n",
       "      <td>MYR</td>\n",
       "      <td>...</td>\n",
       "      <td>157.0</td>\n",
       "      <td>1325.400000</td>\n",
       "      <td>157.0</td>\n",
       "      <td>0.000000e+00</td>\n",
       "      <td>2.76087</td>\n",
       "      <td>3.875</td>\n",
=======
       "      <td>AA</td>\n",
       "      <td>1350</td>\n",
       "      <td>AA</td>\n",
       "      <td>N9624T</td>\n",
       "      <td>1350</td>\n",
       "      <td>15016</td>\n",
       "      <td>STL</td>\n",
       "      <td>...</td>\n",
       "      <td>550.0</td>\n",
>>>>>>> parent of f8f920c (EDA departure delay to arrival delay ratio)
       "      <td>0.0</td>\n",
       "      <td>0.0</td>\n",
       "      <td>0.0</td>\n",
       "      <td>0.0</td>\n",
       "      <td>15.0</td>\n",
       "      <td>NaN</td>\n",
       "      <td>NaN</td>\n",
       "      <td>NaN</td>\n",
       "      <td>NaN</td>\n",
       "    </tr>\n",
       "    <tr>\n",
       "      <th>4</th>\n",
<<<<<<< HEAD
       "      <td>2019-01-01</td>\n",
=======
       "      <td>2018-01-01</td>\n",
       "      <td>AA</td>\n",
>>>>>>> parent of f8f920c (EDA departure delay to arrival delay ratio)
       "      <td>AA</td>\n",
       "      <td>AA</td>\n",
<<<<<<< HEAD
       "      <td>5358</td>\n",
       "      <td>OH</td>\n",
       "      <td>N577NN</td>\n",
       "      <td>5358</td>\n",
       "      <td>13577</td>\n",
       "      <td>MYR</td>\n",
       "      <td>...</td>\n",
       "      <td>157.0</td>\n",
       "      <td>1325.400000</td>\n",
       "      <td>157.0</td>\n",
       "      <td>0.000000e+00</td>\n",
       "      <td>2.76087</td>\n",
       "      <td>3.875</td>\n",
=======
       "      <td>1354</td>\n",
       "      <td>AA</td>\n",
       "      <td>N355PU</td>\n",
       "      <td>1354</td>\n",
       "      <td>13303</td>\n",
       "      <td>MIA</td>\n",
       "      <td>...</td>\n",
       "      <td>192.0</td>\n",
       "      <td>125.0</td>\n",
       "      <td>0.0</td>\n",
       "      <td>16.0</td>\n",
>>>>>>> parent of f8f920c (EDA departure delay to arrival delay ratio)
       "      <td>0.0</td>\n",
       "      <td>0.0</td>\n",
       "      <td>NaN</td>\n",
       "      <td>NaN</td>\n",
       "      <td>NaN</td>\n",
       "      <td>NaN</td>\n",
       "    </tr>\n",
       "    <tr>\n",
       "      <th>...</th>\n",
       "      <td>...</td>\n",
       "      <td>...</td>\n",
       "      <td>...</td>\n",
       "      <td>...</td>\n",
       "      <td>...</td>\n",
       "      <td>...</td>\n",
       "      <td>...</td>\n",
       "      <td>...</td>\n",
       "      <td>...</td>\n",
       "      <td>...</td>\n",
       "      <td>...</td>\n",
       "      <td>...</td>\n",
       "      <td>...</td>\n",
       "      <td>...</td>\n",
       "      <td>...</td>\n",
       "      <td>...</td>\n",
       "      <td>...</td>\n",
       "      <td>...</td>\n",
       "      <td>...</td>\n",
       "      <td>...</td>\n",
       "      <td>...</td>\n",
       "    </tr>\n",
       "    <tr>\n",
<<<<<<< HEAD
       "      <th>195291</th>\n",
       "      <td>2018-01-04</td>\n",
       "      <td>F9</td>\n",
       "      <td>F9</td>\n",
       "      <td>F9</td>\n",
       "      <td>1445</td>\n",
       "      <td>F9</td>\n",
       "      <td>N919FR</td>\n",
       "      <td>1445</td>\n",
       "      <td>10397</td>\n",
       "      <td>ATL</td>\n",
       "      <td>...</td>\n",
       "      <td>874.0</td>\n",
       "      <td>1292.000000</td>\n",
       "      <td>196.0</td>\n",
       "      <td>2.353042e+07</td>\n",
       "      <td>74.00000</td>\n",
       "      <td>2.000</td>\n",
       "      <td>0.0</td>\n",
       "      <td>95.0</td>\n",
       "      <td>0.0</td>\n",
       "      <td>13.5</td>\n",
=======
       "      <th>57013</th>\n",
       "      <td>2019-07-31</td>\n",
       "      <td>DL</td>\n",
       "      <td>DL</td>\n",
       "      <td>DL</td>\n",
       "      <td>2062</td>\n",
       "      <td>DL</td>\n",
       "      <td>N322DN</td>\n",
       "      <td>2062</td>\n",
       "      <td>13487</td>\n",
       "      <td>MSP</td>\n",
       "      <td>...</td>\n",
       "      <td>1124.0</td>\n",
       "      <td>0.0</td>\n",
       "      <td>0.0</td>\n",
       "      <td>0.0</td>\n",
       "      <td>0.0</td>\n",
       "      <td>143.0</td>\n",
       "      <td>NaN</td>\n",
       "      <td>NaN</td>\n",
       "      <td>NaN</td>\n",
       "      <td>NaN</td>\n",
       "    </tr>\n",
       "    <tr>\n",
       "      <th>57014</th>\n",
       "      <td>2019-07-31</td>\n",
       "      <td>DL</td>\n",
       "      <td>DL</td>\n",
       "      <td>DL</td>\n",
       "      <td>2064</td>\n",
       "      <td>DL</td>\n",
       "      <td>N390DN</td>\n",
       "      <td>2064</td>\n",
       "      <td>11697</td>\n",
       "      <td>FLL</td>\n",
       "      <td>...</td>\n",
       "      <td>1076.0</td>\n",
       "      <td>30.0</td>\n",
       "      <td>0.0</td>\n",
       "      <td>2.0</td>\n",
       "      <td>0.0</td>\n",
       "      <td>97.0</td>\n",
       "      <td>NaN</td>\n",
       "      <td>NaN</td>\n",
       "      <td>NaN</td>\n",
       "      <td>NaN</td>\n",
>>>>>>> parent of f8f920c (EDA departure delay to arrival delay ratio)
       "    </tr>\n",
       "    <tr>\n",
       "      <th>57015</th>\n",
       "      <td>2019-07-31</td>\n",
       "      <td>DL</td>\n",
       "      <td>DL</td>\n",
       "      <td>DL</td>\n",
       "      <td>2067</td>\n",
       "      <td>DL</td>\n",
       "      <td>N994DL</td>\n",
       "      <td>2067</td>\n",
       "      <td>10397</td>\n",
       "      <td>ATL</td>\n",
       "      <td>...</td>\n",
<<<<<<< HEAD
       "      <td>874.0</td>\n",
       "      <td>1292.000000</td>\n",
       "      <td>196.0</td>\n",
       "      <td>2.353042e+07</td>\n",
       "      <td>74.00000</td>\n",
       "      <td>2.000</td>\n",
=======
       "      <td>332.0</td>\n",
       "      <td>17.0</td>\n",
>>>>>>> parent of f8f920c (EDA departure delay to arrival delay ratio)
       "      <td>0.0</td>\n",
       "      <td>0.0</td>\n",
       "      <td>0.0</td>\n",
       "      <td>47.0</td>\n",
       "      <td>NaN</td>\n",
       "      <td>NaN</td>\n",
       "      <td>NaN</td>\n",
       "      <td>NaN</td>\n",
       "    </tr>\n",
       "    <tr>\n",
<<<<<<< HEAD
       "      <th>195293</th>\n",
       "      <td>2018-01-02</td>\n",
       "      <td>F9</td>\n",
       "      <td>F9</td>\n",
       "      <td>F9</td>\n",
       "      <td>1111</td>\n",
       "      <td>F9</td>\n",
       "      <td>N313FR</td>\n",
       "      <td>1111</td>\n",
       "      <td>12266</td>\n",
       "      <td>IAH</td>\n",
       "      <td>...</td>\n",
       "      <td>1222.0</td>\n",
       "      <td>1324.333333</td>\n",
       "      <td>129.0</td>\n",
       "      <td>2.353042e+07</td>\n",
       "      <td>9.00000</td>\n",
       "      <td>20.000</td>\n",
       "      <td>0.0</td>\n",
       "      <td>0.0</td>\n",
       "      <td>7.0</td>\n",
       "      <td>0.0</td>\n",
       "    </tr>\n",
       "    <tr>\n",
       "      <th>195294</th>\n",
       "      <td>2018-01-04</td>\n",
       "      <td>F9</td>\n",
       "      <td>F9</td>\n",
       "      <td>F9</td>\n",
       "      <td>1111</td>\n",
       "      <td>F9</td>\n",
       "      <td>N211FR</td>\n",
       "      <td>1111</td>\n",
       "      <td>12266</td>\n",
       "      <td>IAH</td>\n",
       "      <td>...</td>\n",
       "      <td>1222.0</td>\n",
       "      <td>1324.333333</td>\n",
       "      <td>129.0</td>\n",
       "      <td>2.353042e+07</td>\n",
       "      <td>9.00000</td>\n",
       "      <td>20.000</td>\n",
=======
       "      <th>57016</th>\n",
       "      <td>2019-07-31</td>\n",
       "      <td>DL</td>\n",
       "      <td>DL</td>\n",
       "      <td>DL</td>\n",
       "      <td>2067</td>\n",
       "      <td>DL</td>\n",
       "      <td>N994DL</td>\n",
       "      <td>2067</td>\n",
       "      <td>13244</td>\n",
       "      <td>MEM</td>\n",
       "      <td>...</td>\n",
       "      <td>332.0</td>\n",
>>>>>>> parent of f8f920c (EDA departure delay to arrival delay ratio)
       "      <td>0.0</td>\n",
       "      <td>0.0</td>\n",
       "      <td>0.0</td>\n",
       "      <td>0.0</td>\n",
       "      <td>38.0</td>\n",
       "      <td>NaN</td>\n",
       "      <td>NaN</td>\n",
       "      <td>NaN</td>\n",
       "      <td>NaN</td>\n",
       "    </tr>\n",
       "    <tr>\n",
       "      <th>57017</th>\n",
       "      <td>2019-07-31</td>\n",
       "      <td>DL</td>\n",
       "      <td>DL</td>\n",
       "      <td>DL</td>\n",
       "      <td>2078</td>\n",
       "      <td>DL</td>\n",
       "      <td>N992AT</td>\n",
       "      <td>2078</td>\n",
       "      <td>10397</td>\n",
       "      <td>ATL</td>\n",
       "      <td>...</td>\n",
<<<<<<< HEAD
       "      <td>1222.0</td>\n",
       "      <td>1324.333333</td>\n",
       "      <td>129.0</td>\n",
       "      <td>2.353042e+07</td>\n",
       "      <td>9.00000</td>\n",
       "      <td>20.000</td>\n",
=======
       "      <td>151.0</td>\n",
       "      <td>1.0</td>\n",
>>>>>>> parent of f8f920c (EDA departure delay to arrival delay ratio)
       "      <td>0.0</td>\n",
       "      <td>0.0</td>\n",
       "      <td>0.0</td>\n",
       "      <td>47.0</td>\n",
       "      <td>NaN</td>\n",
       "      <td>NaN</td>\n",
       "      <td>NaN</td>\n",
       "      <td>NaN</td>\n",
       "    </tr>\n",
       "  </tbody>\n",
       "</table>\n",
<<<<<<< HEAD
       "<p>181437 rows × 41 columns</p>\n",
       "</div>"
      ],
      "text/plain": [
       "          fl_date mkt_unique_carrier branded_code_share mkt_carrier  \\\n",
       "0      2019-01-01                 AA       AA_CODESHARE          AA   \n",
       "1      2019-01-01                 AA       AA_CODESHARE          AA   \n",
       "2      2019-01-01                 AA       AA_CODESHARE          AA   \n",
       "3      2019-01-01                 AA       AA_CODESHARE          AA   \n",
       "4      2019-01-01                 AA       AA_CODESHARE          AA   \n",
       "...           ...                ...                ...         ...   \n",
       "195291 2018-01-04                 F9                 F9          F9   \n",
       "195292 2018-01-07                 F9                 F9          F9   \n",
       "195293 2018-01-02                 F9                 F9          F9   \n",
       "195294 2018-01-04                 F9                 F9          F9   \n",
       "195295 2018-01-07                 F9                 F9          F9   \n",
       "\n",
       "        mkt_carrier_fl_num op_unique_carrier tail_num  op_carrier_fl_num  \\\n",
       "0                     5606                OH   N575NN               5606   \n",
       "1                     5243                OH   N591NN               5243   \n",
       "2                     5249                OH   N578NN               5249   \n",
       "3                     5261                OH   N584NN               5261   \n",
       "4                     5358                OH   N577NN               5358   \n",
       "...                    ...               ...      ...                ...   \n",
       "195291                1445                F9   N919FR               1445   \n",
       "195292                1445                F9   N902FR               1445   \n",
       "195293                1111                F9   N313FR               1111   \n",
       "195294                1111                F9   N211FR               1111   \n",
       "195295                1111                F9   N223FR               1111   \n",
       "\n",
       "        origin_airport_id origin  ... distance   passengers capacity  \\\n",
       "0                   13577    MYR  ...    157.0  1325.400000    157.0   \n",
       "1                   13577    MYR  ...    157.0  1325.400000    157.0   \n",
       "2                   13577    MYR  ...    157.0  1325.400000    157.0   \n",
       "3                   13577    MYR  ...    157.0  1325.400000    157.0   \n",
       "4                   13577    MYR  ...    157.0  1325.400000    157.0   \n",
       "...                   ...    ...  ...      ...          ...      ...   \n",
       "195291              10397    ATL  ...    874.0  1292.000000    196.0   \n",
       "195292              10397    ATL  ...    874.0  1292.000000    196.0   \n",
       "195293              12266    IAH  ...   1222.0  1324.333333    129.0   \n",
       "195294              12266    IAH  ...   1222.0  1324.333333    129.0   \n",
       "195295              12266    IAH  ...   1222.0  1324.333333    129.0   \n",
       "\n",
       "       total_gallons  dep_delay  nas_delay  security_delay  \\\n",
       "0       0.000000e+00    2.76087      3.875             0.0   \n",
       "1       0.000000e+00    2.76087      3.875             0.0   \n",
       "2       0.000000e+00    2.76087      3.875             0.0   \n",
       "3       0.000000e+00    2.76087      3.875             0.0   \n",
       "4       0.000000e+00    2.76087      3.875             0.0   \n",
       "...              ...        ...        ...             ...   \n",
       "195291  2.353042e+07   74.00000      2.000             0.0   \n",
       "195292  2.353042e+07   74.00000      2.000             0.0   \n",
       "195293  2.353042e+07    9.00000     20.000             0.0   \n",
       "195294  2.353042e+07    9.00000     20.000             0.0   \n",
       "195295  2.353042e+07    9.00000     20.000             0.0   \n",
       "\n",
       "        late_aircraft_delay  weather_delay  carrier_delay  \n",
       "0                      30.0            0.0            6.5  \n",
       "1                      30.0            0.0            6.5  \n",
       "2                      30.0            0.0            6.5  \n",
       "3                      30.0            0.0            6.5  \n",
       "4                      30.0            0.0            6.5  \n",
       "...                     ...            ...            ...  \n",
       "195291                 95.0            0.0           13.5  \n",
       "195292                 95.0            0.0           13.5  \n",
       "195293                  0.0            7.0            0.0  \n",
       "195294                  0.0            7.0            0.0  \n",
       "195295                  0.0            7.0            0.0  \n",
       "\n",
       "[181437 rows x 41 columns]"
      ]
     },
     "execution_count": 61,
     "metadata": {},
     "output_type": "execute_result"
    }
   ],
   "source": [
    "df[df['dep_delay'] > 0]"
   ]
  },
  {
   "cell_type": "code",
   "execution_count": 59,
   "metadata": {},
   "outputs": [
    {
     "data": {
      "text/plain": [
       "0.06595097297668982"
      ]
     },
     "execution_count": 59,
     "metadata": {},
     "output_type": "execute_result"
    }
   ],
   "source": [
    "len(df[(df['dep_delay'] < 0) & (df['arr_delay'] < 0)])/len(df[df['arr_delay'] < 0])"
   ]
  },
  {
   "cell_type": "code",
   "execution_count": 57,
   "metadata": {},
   "outputs": [
    {
     "data": {
      "text/plain": [
       "0.966971913563013"
=======
       "<p>49370 rows × 42 columns</p>\n",
       "</div>"
      ],
      "text/plain": [
       "         fl_date mkt_unique_carrier branded_code_share mkt_carrier  \\\n",
       "0     2018-01-01                 AA                 AA          AA   \n",
       "1     2018-01-01                 AA                 AA          AA   \n",
       "2     2018-01-01                 AA                 AA          AA   \n",
       "3     2018-01-01                 AA                 AA          AA   \n",
       "4     2018-01-01                 AA                 AA          AA   \n",
       "...          ...                ...                ...         ...   \n",
       "57013 2019-07-31                 DL                 DL          DL   \n",
       "57014 2019-07-31                 DL                 DL          DL   \n",
       "57015 2019-07-31                 DL                 DL          DL   \n",
       "57016 2019-07-31                 DL                 DL          DL   \n",
       "57017 2019-07-31                 DL                 DL          DL   \n",
       "\n",
       "       mkt_carrier_fl_num op_unique_carrier tail_num  op_carrier_fl_num  \\\n",
       "0                    1339                AA   N928AM               1339   \n",
       "1                    1341                AA   N961AN               1341   \n",
       "2                    1344                AA   N969AN               1344   \n",
       "3                    1350                AA   N9624T               1350   \n",
       "4                    1354                AA   N355PU               1354   \n",
       "...                   ...               ...      ...                ...   \n",
       "57013                2062                DL   N322DN               2062   \n",
       "57014                2064                DL   N390DN               2064   \n",
       "57015                2067                DL   N994DL               2067   \n",
       "57016                2067                DL   N994DL               2067   \n",
       "57017                2078                DL   N992AT               2078   \n",
       "\n",
       "       origin_airport_id origin  ... distance  carrier_delay weather_delay  \\\n",
       "0                  15304    TPA  ...    929.0           22.0           0.0   \n",
       "1                  13303    MIA  ...   1045.0           36.0           0.0   \n",
       "2                  13487    MSP  ...    930.0          123.0           0.0   \n",
       "3                  15016    STL  ...    550.0            0.0           0.0   \n",
       "4                  13303    MIA  ...    192.0          125.0           0.0   \n",
       "...                  ...    ...  ...      ...            ...           ...   \n",
       "57013              13487    MSP  ...   1124.0            0.0           0.0   \n",
       "57014              11697    FLL  ...   1076.0           30.0           0.0   \n",
       "57015              10397    ATL  ...    332.0           17.0           0.0   \n",
       "57016              13244    MEM  ...    332.0            0.0           0.0   \n",
       "57017              10397    ATL  ...    151.0            1.0           0.0   \n",
       "\n",
       "      nas_delay  security_delay  late_aircraft_delay  first_dep_time  \\\n",
       "0          18.0             0.0                  0.0             NaN   \n",
       "1           0.0             0.0                  0.0             NaN   \n",
       "2           0.0             0.0                  0.0             NaN   \n",
       "3           0.0             0.0                 15.0             NaN   \n",
       "4          16.0             0.0                  0.0             NaN   \n",
       "...         ...             ...                  ...             ...   \n",
       "57013       0.0             0.0                143.0             NaN   \n",
       "57014       2.0             0.0                 97.0             NaN   \n",
       "57015       0.0             0.0                 47.0             NaN   \n",
       "57016       0.0             0.0                 38.0             NaN   \n",
       "57017       0.0             0.0                 47.0             NaN   \n",
       "\n",
       "       total_add_gtime  longest_add_gtime  no_name  \n",
       "0                  NaN                NaN      NaN  \n",
       "1                  NaN                NaN      NaN  \n",
       "2                  NaN                NaN      NaN  \n",
       "3                  NaN                NaN      NaN  \n",
       "4                  NaN                NaN      NaN  \n",
       "...                ...                ...      ...  \n",
       "57013              NaN                NaN      NaN  \n",
       "57014              NaN                NaN      NaN  \n",
       "57015              NaN                NaN      NaN  \n",
       "57016              NaN                NaN      NaN  \n",
       "57017              NaN                NaN      NaN  \n",
       "\n",
       "[49370 rows x 42 columns]"
>>>>>>> parent of f8f920c (EDA departure delay to arrival delay ratio)
      ]
     },
     "execution_count": 19,
     "metadata": {},
     "output_type": "execute_result"
    }
   ],
   "source": [
    "df[(df['dep_delay'] > 0) & (df['arr_delay'] > 0)]"
   ]
  },
  {
   "cell_type": "markdown",
   "metadata": {},
   "source": [
    "#### **Task 6**: How many states cover 50% of US air traffic? "
   ]
  },
  {
   "cell_type": "code",
   "execution_count": 31,
   "metadata": {},
   "outputs": [
    {
     "data": {
      "text/plain": [
       "Chicago, IL              7003\n",
       "Atlanta, GA              5584\n",
       "Denver, CO               4569\n",
       "Dallas/Fort Worth, TX    4241\n",
       "Houston, TX              4039\n",
       "Los Angeles, CA          3851\n",
       "New York, NY             3759\n",
       "Washington, DC           3241\n",
       "Charlotte, NC            3234\n",
       "Phoenix, AZ              3172\n",
       "Las Vegas, NV            3096\n",
       "San Francisco, CA        2539\n",
       "Seattle, WA              2523\n",
       "Orlando, FL              2404\n",
       "Detroit, MI              2363\n",
       "Baltimore, MD            2270\n",
       "Minneapolis, MN          2215\n",
       "Name: dest_city_name, dtype: int64"
      ]
     },
     "execution_count": 31,
     "metadata": {},
     "output_type": "execute_result"
    }
   ],
   "source": [
    "df.dest_city_name.value_counts().head(17)"
   ]
  },
  {
   "cell_type": "code",
   "execution_count": 149,
   "metadata": {},
   "outputs": [],
   "source": [
    "origin_state= df.origin_city_name.str.split(pat=\", \",expand=True).iloc[:,1]\n"
   ]
  },
  {
   "cell_type": "code",
   "execution_count": 139,
   "metadata": {},
   "outputs": [],
   "source": [
    "destination_state= df.dest_city_name.str.split(pat=\", \",expand=True).iloc[:,1]\n"
   ]
  },
  {
   "cell_type": "code",
   "execution_count": null,
   "metadata": {},
   "outputs": [],
   "source": [
    "air_traffic= pd.concat(origin_state, destination_state)"
   ]
  },
  {
   "cell_type": "code",
   "execution_count": 150,
   "metadata": {},
   "outputs": [
    {
     "data": {
      "text/plain": [
       "71.81074194837892"
      ]
     },
     "execution_count": 150,
     "metadata": {},
     "output_type": "execute_result"
    }
   ],
   "source": [
    "air_traffic.value_counts().head().sum()/air_traffic.value_counts().sum()*100"
   ]
  },
  {
   "cell_type": "code",
   "execution_count": 151,
   "metadata": {},
   "outputs": [
    {
     "data": {
      "text/plain": [
       "1 \n",
       "TX    143529820\n",
       "CA    135701332\n",
       "IL     85224936\n",
       "FL     84120960\n",
       "NY     63483480\n",
       "dtype: int64"
      ]
     },
     "execution_count": 151,
     "metadata": {},
     "output_type": "execute_result"
    }
   ],
   "source": [
    "air_traffic.value_counts().head()"
   ]
  },
  {
   "cell_type": "markdown",
   "metadata": {},
   "source": [
    "#### **Task 7**: Test the hypothesis whether planes fly faster when there is the departure delay? "
   ]
  },
  {
   "cell_type": "code",
   "execution_count": 146,
   "metadata": {},
   "outputs": [],
   "source": [
    "df['duration_diff'] = df.crs_elapsed_time - df.actual_elapsed_time"
   ]
  },
  {
   "cell_type": "code",
   "execution_count": 147,
   "metadata": {},
   "outputs": [
    {
     "data": {
      "text/plain": [
       "-0.5765562486964106"
      ]
     },
     "execution_count": 147,
     "metadata": {},
     "output_type": "execute_result"
    }
   ],
   "source": [
    "df[df['dep_delay'] > 0]['duration_diff'].mean()"
   ]
  },
  {
   "cell_type": "code",
   "execution_count": null,
   "metadata": {},
   "outputs": [],
   "source": []
  },
  {
   "cell_type": "code",
   "execution_count": null,
   "metadata": {},
   "outputs": [],
   "source": []
  },
  {
   "cell_type": "markdown",
   "metadata": {},
   "source": [
    "#### **Task 8**: When (which hour) do most 'LONG', 'SHORT', 'MEDIUM' haul flights take off?"
   ]
  },
  {
   "cell_type": "code",
   "execution_count": null,
   "metadata": {},
   "outputs": [],
   "source": []
  },
  {
   "cell_type": "code",
   "execution_count": null,
   "metadata": {},
   "outputs": [],
   "source": []
  },
  {
   "cell_type": "markdown",
   "metadata": {},
   "source": [
    "#### **Task 9**: Find the top 10 the bussiest airports. Does the biggest number of flights mean that the biggest number of passengers went through the particular airport? How much traffic do these 10 airports cover?"
   ]
  },
  {
   "cell_type": "code",
   "execution_count": 42,
   "metadata": {},
   "outputs": [
    {
     "data": {
      "text/plain": [
       "Chicago, IL              7003\n",
       "Atlanta, GA              5584\n",
       "Denver, CO               4569\n",
       "Dallas/Fort Worth, TX    4241\n",
       "Houston, TX              4039\n",
       "Los Angeles, CA          3851\n",
       "New York, NY             3759\n",
       "Washington, DC           3241\n",
       "Charlotte, NC            3234\n",
       "Phoenix, AZ              3172\n",
       "Name: dest_city_name, dtype: int64"
      ]
     },
     "execution_count": 42,
     "metadata": {},
     "output_type": "execute_result"
    }
   ],
   "source": [
    "df.dest_city_name.value_counts().head(10)"
   ]
  },
  {
   "cell_type": "code",
   "execution_count": 43,
   "metadata": {},
   "outputs": [
    {
     "data": {
      "text/plain": [
       "43273"
      ]
     },
     "execution_count": 43,
     "metadata": {},
     "output_type": "execute_result"
    }
   ],
   "source": [
    "df.origin_city_name.value_counts().head(10).sum()"
   ]
  },
  {
   "cell_type": "markdown",
   "metadata": {},
   "source": [
    "#### **Task 10**: Do bigger delays lead to bigger fuel comsumption per passenger? \n",
    "We need to do four things to answer this as accurate as possible:\n",
    "- Find out average monthly delay per air carrier (monthly delay is sum of all delays in 1 month)\n",
    "- Find out distance covered monthly by different air carriers\n",
    "- Find out number of passengers that were carried by different air carriers\n",
    "- Find out total fuel comsumption per air carrier.\n",
    "\n",
    "Use this information to get the average fuel comsumption per passenger per km. Is this higher for the airlines with bigger average delays?"
   ]
  },
  {
   "cell_type": "code",
   "execution_count": 21,
   "metadata": {},
   "outputs": [
    {
     "data": {
      "text/plain": [
       "161931855.66782308"
      ]
     },
     "execution_count": 21,
     "metadata": {},
     "output_type": "execute_result"
    }
   ],
   "source": [
    "df[df['arr_delay']> 0]['total_gallons'].mean()"
   ]
  },
  {
   "cell_type": "code",
   "execution_count": 25,
   "metadata": {},
   "outputs": [
    {
     "data": {
      "text/html": [
       "<div>\n",
       "<style scoped>\n",
       "    .dataframe tbody tr th:only-of-type {\n",
       "        vertical-align: middle;\n",
       "    }\n",
       "\n",
       "    .dataframe tbody tr th {\n",
       "        vertical-align: top;\n",
       "    }\n",
       "\n",
       "    .dataframe thead th {\n",
       "        text-align: right;\n",
       "    }\n",
       "</style>\n",
       "<table border=\"1\" class=\"dataframe\">\n",
       "  <thead>\n",
       "    <tr style=\"text-align: right;\">\n",
       "      <th></th>\n",
       "      <th>fl_date</th>\n",
       "      <th>mkt_unique_carrier</th>\n",
       "      <th>branded_code_share</th>\n",
       "      <th>mkt_carrier</th>\n",
       "      <th>mkt_carrier_fl_num</th>\n",
       "      <th>op_unique_carrier</th>\n",
       "      <th>tail_num</th>\n",
       "      <th>op_carrier_fl_num</th>\n",
       "      <th>origin_airport_id</th>\n",
       "      <th>origin</th>\n",
       "      <th>...</th>\n",
       "      <th>distance</th>\n",
       "      <th>passengers</th>\n",
       "      <th>capacity</th>\n",
       "      <th>total_gallons</th>\n",
       "      <th>dep_delay</th>\n",
       "      <th>nas_delay</th>\n",
       "      <th>security_delay</th>\n",
       "      <th>late_aircraft_delay</th>\n",
       "      <th>weather_delay</th>\n",
       "      <th>carrier_delay</th>\n",
       "    </tr>\n",
       "  </thead>\n",
       "  <tbody>\n",
       "  </tbody>\n",
       "</table>\n",
       "<p>0 rows × 41 columns</p>\n",
       "</div>"
      ],
      "text/plain": [
       "Empty DataFrame\n",
       "Columns: [fl_date, mkt_unique_carrier, branded_code_share, mkt_carrier, mkt_carrier_fl_num, op_unique_carrier, tail_num, op_carrier_fl_num, origin_airport_id, origin, origin_city_name, dest_airport_id, dest, dest_city_name, crs_dep_time, dep_time, taxi_out, wheels_off, wheels_on, taxi_in, crs_arr_time, arr_time, arr_delay, cancelled, cancellation_code, diverted, dup, crs_elapsed_time, actual_elapsed_time, air_time, flights, distance, passengers, capacity, total_gallons, dep_delay, nas_delay, security_delay, late_aircraft_delay, weather_delay, carrier_delay]\n",
       "Index: []\n",
       "\n",
       "[0 rows x 41 columns]"
      ]
     },
     "execution_count": 25,
     "metadata": {},
     "output_type": "execute_result"
    }
   ],
   "source": [
    "df[df['arr_delay']< 0]"
   ]
  },
  {
   "cell_type": "code",
   "execution_count": 30,
   "metadata": {},
   "outputs": [
    {
     "data": {
      "text/plain": [
       "15.0"
      ]
     },
     "execution_count": 30,
     "metadata": {},
     "output_type": "execute_result"
    }
   ],
   "source": [
    "df['arr_delay'].min()"
   ]
  },
  {
   "cell_type": "code",
   "execution_count": null,
   "metadata": {},
   "outputs": [],
   "source": []
  }
 ],
 "metadata": {
  "kernelspec": {
   "display_name": "Python 3 (ipykernel)",
   "language": "python",
   "name": "python3"
  },
  "language_info": {
   "codemirror_mode": {
    "name": "ipython",
    "version": 3
   },
   "file_extension": ".py",
   "mimetype": "text/x-python",
   "name": "python",
   "nbconvert_exporter": "python",
   "pygments_lexer": "ipython3",
   "version": "3.9.7"
  },
  "toc": {
   "base_numbering": 1,
   "nav_menu": {},
   "number_sections": true,
   "sideBar": true,
   "skip_h1_title": false,
   "title_cell": "Table of Contents",
   "title_sidebar": "Contents",
   "toc_cell": false,
   "toc_position": {},
   "toc_section_display": true,
   "toc_window_display": false
  },
  "varInspector": {
   "cols": {
    "lenName": 16,
    "lenType": 16,
    "lenVar": 40
   },
   "kernels_config": {
    "python": {
     "delete_cmd_postfix": "",
     "delete_cmd_prefix": "del ",
     "library": "var_list.py",
     "varRefreshCmd": "print(var_dic_list())"
    },
    "r": {
     "delete_cmd_postfix": ") ",
     "delete_cmd_prefix": "rm(",
     "library": "var_list.r",
     "varRefreshCmd": "cat(var_dic_list()) "
    }
   },
   "types_to_exclude": [
    "module",
    "function",
    "builtin_function_or_method",
    "instance",
    "_Feature"
   ],
   "window_display": false
  }
 },
 "nbformat": 4,
 "nbformat_minor": 4
}
