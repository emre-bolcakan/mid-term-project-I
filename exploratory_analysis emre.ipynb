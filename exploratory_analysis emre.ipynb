{
 "cells": [
  {
   "cell_type": "markdown",
   "metadata": {},
   "source": [
    "## Exploratory Data Analysis\n",
    "\n",
    "Use this notebook to get familiar with the datasets we have. There is 10 questions we need to answer during the EDA.\n",
    "\n",
    "\n",
    "We shouldn't limit our EDA to these 10 questions. Let's be creative :)."
   ]
  },
  {
   "cell_type": "code",
   "execution_count": 20,
   "metadata": {},
   "outputs": [],
   "source": [
    "import pandas as pd\n",
    "from scipy.stats import shapiro\n",
    "from scipy.stats import ttest_1samp\n",
    "import numpy as np\n",
    "import psycopg2"
   ]
  },
  {
   "cell_type": "code",
   "execution_count": null,
   "metadata": {},
   "outputs": [],
   "source": []
  },
  {
   "cell_type": "code",
   "execution_count": null,
   "metadata": {},
   "outputs": [],
   "source": []
  },
  {
   "cell_type": "code",
   "execution_count": 134,
   "metadata": {},
   "outputs": [],
   "source": [
    "df.to_csv('flights2.csv')"
   ]
  },
  {
   "cell_type": "code",
   "execution_count": 128,
   "metadata": {},
   "outputs": [
    {
     "data": {
      "text/html": [
       "<div>\n",
       "<style scoped>\n",
       "    .dataframe tbody tr th:only-of-type {\n",
       "        vertical-align: middle;\n",
       "    }\n",
       "\n",
       "    .dataframe tbody tr th {\n",
       "        vertical-align: top;\n",
       "    }\n",
       "\n",
       "    .dataframe thead th {\n",
       "        text-align: right;\n",
       "    }\n",
       "</style>\n",
       "<table border=\"1\" class=\"dataframe\">\n",
       "  <thead>\n",
       "    <tr style=\"text-align: right;\">\n",
       "      <th></th>\n",
       "      <th>fl_date</th>\n",
       "      <th>mkt_unique_carrier</th>\n",
       "      <th>branded_code_share</th>\n",
       "      <th>mkt_carrier</th>\n",
       "      <th>mkt_carrier_fl_num</th>\n",
       "      <th>op_unique_carrier</th>\n",
       "      <th>tail_num</th>\n",
       "      <th>op_carrier_fl_num</th>\n",
       "      <th>origin_airport_id</th>\n",
       "      <th>origin</th>\n",
       "      <th>...</th>\n",
       "      <th>distance</th>\n",
       "      <th>carrier_delay</th>\n",
       "      <th>weather_delay</th>\n",
       "      <th>nas_delay</th>\n",
       "      <th>security_delay</th>\n",
       "      <th>late_aircraft_delay</th>\n",
       "      <th>first_dep_time</th>\n",
       "      <th>total_add_gtime</th>\n",
       "      <th>longest_add_gtime</th>\n",
       "      <th>no_name</th>\n",
       "    </tr>\n",
       "  </thead>\n",
       "  <tbody>\n",
       "    <tr>\n",
       "      <th>0</th>\n",
       "      <td>2019-01-01</td>\n",
       "      <td>NK</td>\n",
       "      <td>NK</td>\n",
       "      <td>NK</td>\n",
       "      <td>1207</td>\n",
       "      <td>NK</td>\n",
       "      <td>N651NK</td>\n",
       "      <td>1207</td>\n",
       "      <td>10397</td>\n",
       "      <td>ATL</td>\n",
       "      <td>...</td>\n",
       "      <td>404.0</td>\n",
       "      <td>NaN</td>\n",
       "      <td>NaN</td>\n",
       "      <td>NaN</td>\n",
       "      <td>NaN</td>\n",
       "      <td>NaN</td>\n",
       "      <td>None</td>\n",
       "      <td>NaN</td>\n",
       "      <td>NaN</td>\n",
       "      <td>None</td>\n",
       "    </tr>\n",
       "    <tr>\n",
       "      <th>1</th>\n",
       "      <td>2019-01-01</td>\n",
       "      <td>NK</td>\n",
       "      <td>NK</td>\n",
       "      <td>NK</td>\n",
       "      <td>877</td>\n",
       "      <td>NK</td>\n",
       "      <td>N506NK</td>\n",
       "      <td>877</td>\n",
       "      <td>10397</td>\n",
       "      <td>ATL</td>\n",
       "      <td>...</td>\n",
       "      <td>581.0</td>\n",
       "      <td>NaN</td>\n",
       "      <td>NaN</td>\n",
       "      <td>NaN</td>\n",
       "      <td>NaN</td>\n",
       "      <td>NaN</td>\n",
       "      <td>None</td>\n",
       "      <td>NaN</td>\n",
       "      <td>NaN</td>\n",
       "      <td>None</td>\n",
       "    </tr>\n",
       "    <tr>\n",
       "      <th>2</th>\n",
       "      <td>2019-01-01</td>\n",
       "      <td>NK</td>\n",
       "      <td>NK</td>\n",
       "      <td>NK</td>\n",
       "      <td>1079</td>\n",
       "      <td>NK</td>\n",
       "      <td>N668NK</td>\n",
       "      <td>1079</td>\n",
       "      <td>10397</td>\n",
       "      <td>ATL</td>\n",
       "      <td>...</td>\n",
       "      <td>581.0</td>\n",
       "      <td>NaN</td>\n",
       "      <td>NaN</td>\n",
       "      <td>NaN</td>\n",
       "      <td>NaN</td>\n",
       "      <td>NaN</td>\n",
       "      <td>None</td>\n",
       "      <td>NaN</td>\n",
       "      <td>NaN</td>\n",
       "      <td>None</td>\n",
       "    </tr>\n",
       "    <tr>\n",
       "      <th>3</th>\n",
       "      <td>2019-01-01</td>\n",
       "      <td>NK</td>\n",
       "      <td>NK</td>\n",
       "      <td>NK</td>\n",
       "      <td>1165</td>\n",
       "      <td>NK</td>\n",
       "      <td>N671NK</td>\n",
       "      <td>1165</td>\n",
       "      <td>10397</td>\n",
       "      <td>ATL</td>\n",
       "      <td>...</td>\n",
       "      <td>746.0</td>\n",
       "      <td>NaN</td>\n",
       "      <td>NaN</td>\n",
       "      <td>NaN</td>\n",
       "      <td>NaN</td>\n",
       "      <td>NaN</td>\n",
       "      <td>None</td>\n",
       "      <td>NaN</td>\n",
       "      <td>NaN</td>\n",
       "      <td>None</td>\n",
       "    </tr>\n",
       "    <tr>\n",
       "      <th>4</th>\n",
       "      <td>2019-01-01</td>\n",
       "      <td>NK</td>\n",
       "      <td>NK</td>\n",
       "      <td>NK</td>\n",
       "      <td>146</td>\n",
       "      <td>NK</td>\n",
       "      <td>N602NK</td>\n",
       "      <td>146</td>\n",
       "      <td>10397</td>\n",
       "      <td>ATL</td>\n",
       "      <td>...</td>\n",
       "      <td>731.0</td>\n",
       "      <td>NaN</td>\n",
       "      <td>NaN</td>\n",
       "      <td>NaN</td>\n",
       "      <td>NaN</td>\n",
       "      <td>NaN</td>\n",
       "      <td>None</td>\n",
       "      <td>NaN</td>\n",
       "      <td>NaN</td>\n",
       "      <td>None</td>\n",
       "    </tr>\n",
       "  </tbody>\n",
       "</table>\n",
       "<p>5 rows × 42 columns</p>\n",
       "</div>"
      ],
      "text/plain": [
       "      fl_date mkt_unique_carrier branded_code_share mkt_carrier  \\\n",
       "0  2019-01-01                 NK                 NK          NK   \n",
       "1  2019-01-01                 NK                 NK          NK   \n",
       "2  2019-01-01                 NK                 NK          NK   \n",
       "3  2019-01-01                 NK                 NK          NK   \n",
       "4  2019-01-01                 NK                 NK          NK   \n",
       "\n",
       "   mkt_carrier_fl_num op_unique_carrier tail_num  op_carrier_fl_num  \\\n",
       "0                1207                NK   N651NK               1207   \n",
       "1                 877                NK   N506NK                877   \n",
       "2                1079                NK   N668NK               1079   \n",
       "3                1165                NK   N671NK               1165   \n",
       "4                 146                NK   N602NK                146   \n",
       "\n",
       "   origin_airport_id origin  ... distance  carrier_delay weather_delay  \\\n",
       "0              10397    ATL  ...    404.0            NaN           NaN   \n",
       "1              10397    ATL  ...    581.0            NaN           NaN   \n",
       "2              10397    ATL  ...    581.0            NaN           NaN   \n",
       "3              10397    ATL  ...    746.0            NaN           NaN   \n",
       "4              10397    ATL  ...    731.0            NaN           NaN   \n",
       "\n",
       "  nas_delay  security_delay  late_aircraft_delay  first_dep_time  \\\n",
       "0       NaN             NaN                  NaN            None   \n",
       "1       NaN             NaN                  NaN            None   \n",
       "2       NaN             NaN                  NaN            None   \n",
       "3       NaN             NaN                  NaN            None   \n",
       "4       NaN             NaN                  NaN            None   \n",
       "\n",
       "   total_add_gtime  longest_add_gtime  no_name  \n",
       "0              NaN                NaN     None  \n",
       "1              NaN                NaN     None  \n",
       "2              NaN                NaN     None  \n",
       "3              NaN                NaN     None  \n",
       "4              NaN                NaN     None  \n",
       "\n",
       "[5 rows x 42 columns]"
      ]
     },
     "execution_count": 128,
     "metadata": {},
     "output_type": "execute_result"
    }
   ],
   "source": [
    "#opening connection & cursor\n",
    "conn = psycopg2.connect(\n",
    "                            host=\"lhl-data-bootcamp.crzjul5qln0e.ca-central-1.rds.amazonaws.com\",\n",
    "                            database=\"mid_term_project\",\n",
    "                            user=\"lhl_student\",\n",
    "                            password=\"lhl_student\")\n",
    "cursor = conn.cursor()\n",
    "\n",
    "def create_pandas_table(sql_query, database = conn):\n",
    "    table = pd.read_sql_query(sql_query, database)\n",
    "\n",
    "    return table\n",
    "df = pd.DataFrame()\n",
    "for i in range(1, 13):\n",
    "    if i == 1:\n",
    "        df = f\"SELECT * FROM flights WHERE arr_delay IS NOT NULL AND arr_delay < 200 AND origin_airport_id = 10397 AND EXTRACT(month from CAST(fl_date as date)) = {i} AND EXTRACT(year from CAST(fl_date as date)) = 2019 LIMIT 10000;\"\n",
    "        df = create_pandas_table(df)\n",
    "    else:\n",
    "        test2= f\"SELECT * FROM flights WHERE arr_delay IS NOT NULL AND arr_delay < 200 AND origin_airport_id = 10397 AND EXTRACT(month from CAST(fl_date as date)) = {i} AND EXTRACT(year from CAST(fl_date as date)) = 2019 LIMIT 10000;\"\n",
    "        test_pd_table = create_pandas_table(test2)\n",
    "        df = pd.concat([df, test_pd_table]) \n",
    "# remember to close connection to allow for others to use the bandwidth\n",
    "cursor.close()\n",
    "conn.close()\n",
    "\n",
    "df.head() # show table querried"
   ]
  },
  {
   "cell_type": "code",
   "execution_count": 129,
   "metadata": {},
   "outputs": [
    {
     "data": {
      "text/plain": [
       "10397    120000\n",
       "Name: origin_airport_id, dtype: int64"
      ]
     },
     "execution_count": 129,
     "metadata": {},
     "output_type": "execute_result"
    }
   ],
   "source": [
    "df.origin_airport_id.value_counts()"
   ]
  },
  {
   "cell_type": "code",
   "execution_count": 108,
   "metadata": {},
   "outputs": [
    {
     "data": {
      "text/plain": [
       "Index(['fl_date', 'mkt_unique_carrier', 'branded_code_share', 'mkt_carrier',\n",
       "       'mkt_carrier_fl_num', 'op_unique_carrier', 'tail_num',\n",
       "       'op_carrier_fl_num', 'origin_airport_id', 'origin', 'origin_city_name',\n",
       "       'dest_airport_id', 'dest', 'dest_city_name', 'crs_dep_time', 'dep_time',\n",
       "       'dep_delay', 'taxi_out', 'wheels_off', 'wheels_on', 'taxi_in',\n",
       "       'crs_arr_time', 'arr_time', 'arr_delay', 'cancelled',\n",
       "       'cancellation_code', 'diverted', 'dup', 'crs_elapsed_time',\n",
       "       'actual_elapsed_time', 'air_time', 'flights', 'distance',\n",
       "       'carrier_delay', 'weather_delay', 'nas_delay', 'security_delay',\n",
       "       'late_aircraft_delay', 'first_dep_time', 'total_add_gtime',\n",
       "       'longest_add_gtime', 'no_name'],\n",
       "      dtype='object')"
      ]
     },
     "execution_count": 108,
     "metadata": {},
     "output_type": "execute_result"
    }
   ],
   "source": [
    "df.columns"
   ]
  },
  {
   "cell_type": "code",
   "execution_count": 91,
   "metadata": {},
   "outputs": [
    {
     "data": {
      "text/plain": [
       "(1000000, 42)"
      ]
     },
     "execution_count": 91,
     "metadata": {},
     "output_type": "execute_result"
    }
   ],
   "source": [
    "df.shape"
   ]
  },
  {
   "cell_type": "code",
   "execution_count": null,
   "metadata": {},
   "outputs": [],
   "source": []
  },
  {
   "cell_type": "markdown",
   "metadata": {},
   "source": [
    "#### **Task 1**: Test the hypothesis that the delay is from Normal distribution. and that **mean** of the delay is 0. Be careful about the outliers."
   ]
  },
  {
   "cell_type": "code",
   "execution_count": 119,
   "metadata": {},
   "outputs": [
    {
     "data": {
      "text/plain": [
       "max       199.000000\n",
       "min       -87.000000\n",
       "mean        3.211583\n",
       "std        32.456724\n",
       "median     -6.000000\n",
       "Name: arr_delay, dtype: float64"
      ]
     },
     "execution_count": 119,
     "metadata": {},
     "output_type": "execute_result"
    }
   ],
   "source": [
    "df['arr_delay'].agg(['max', 'min', 'mean', 'std', 'median'])"
   ]
  },
  {
   "cell_type": "code",
   "execution_count": 120,
   "metadata": {},
   "outputs": [
    {
     "data": {
      "text/plain": [
       "5573    -87.0\n",
       "6114    -70.0\n",
       "5676    -69.0\n",
       "9281    -66.0\n",
       "6096    -63.0\n",
       "        ...  \n",
       "382     199.0\n",
       "2772    199.0\n",
       "2069    199.0\n",
       "4955    199.0\n",
       "1473    199.0\n",
       "Name: arr_delay, Length: 120000, dtype: float64"
      ]
     },
     "execution_count": 120,
     "metadata": {},
     "output_type": "execute_result"
    }
   ],
   "source": [
    "df['arr_delay'].sort_values()"
   ]
  },
  {
   "cell_type": "code",
   "execution_count": 94,
   "metadata": {},
   "outputs": [
    {
     "data": {
      "text/plain": [
       "0"
      ]
     },
     "execution_count": 94,
     "metadata": {},
     "output_type": "execute_result"
    }
   ],
   "source": [
    "len(df[df['arr_delay'] > 200])"
   ]
  },
  {
   "cell_type": "code",
   "execution_count": 96,
   "metadata": {},
   "outputs": [
    {
     "name": "stdout",
     "output_type": "stream",
     "text": [
      "stat=0.745, p=0.000\n",
      "Probably not Gaussian\n"
     ]
    },
    {
     "name": "stderr",
     "output_type": "stream",
     "text": [
      "/opt/anaconda3/lib/python3.9/site-packages/scipy/stats/morestats.py:1760: UserWarning: p-value may not be accurate for N > 5000.\n",
      "  warnings.warn(\"p-value may not be accurate for N > 5000.\")\n"
     ]
    }
   ],
   "source": [
    "stat, p = shapiro(df.arr_delay)\n",
    "print('stat=%.3f, p=%.3f' % (stat, p))\n",
    "if p > 0.05:\n",
    "    print('Probably Gaussian')\n",
    "else:\n",
    "    print('Probably not Gaussian')"
   ]
  },
  {
   "cell_type": "code",
   "execution_count": 97,
   "metadata": {},
   "outputs": [],
   "source": [
    "tset, pval = ttest_1samp(df.arr_delay, 0)"
   ]
  },
  {
   "cell_type": "code",
   "execution_count": 98,
   "metadata": {},
   "outputs": [
    {
     "name": "stdout",
     "output_type": "stream",
     "text": [
      "p-values 0.0\n",
      " we are rejecting null hypothesis\n"
     ]
    }
   ],
   "source": [
    "print(\"p-values\",pval)\n",
    "if pval < 0.05:    # alpha value is 0.05 or 5%\n",
    "    print(\" we are rejecting null hypothesis\")\n",
    "else:\n",
    "    print(\"we are accepting null hypothesis\")"
   ]
  },
  {
   "cell_type": "markdown",
   "metadata": {},
   "source": [
    "#### **Task 2**: Is average/median monthly delay different during the year? If yes, which are months with the biggest delays and what could be the reason?"
   ]
  },
  {
   "cell_type": "code",
   "execution_count": 122,
   "metadata": {},
   "outputs": [
    {
     "data": {
      "text/html": [
       "<div>\n",
       "<style scoped>\n",
       "    .dataframe tbody tr th:only-of-type {\n",
       "        vertical-align: middle;\n",
       "    }\n",
       "\n",
       "    .dataframe tbody tr th {\n",
       "        vertical-align: top;\n",
       "    }\n",
       "\n",
       "    .dataframe thead th {\n",
       "        text-align: right;\n",
       "    }\n",
       "</style>\n",
       "<table border=\"1\" class=\"dataframe\">\n",
       "  <thead>\n",
       "    <tr style=\"text-align: right;\">\n",
       "      <th></th>\n",
       "      <th>fl_date</th>\n",
       "      <th>mkt_unique_carrier</th>\n",
       "      <th>branded_code_share</th>\n",
       "      <th>mkt_carrier</th>\n",
       "      <th>mkt_carrier_fl_num</th>\n",
       "      <th>op_unique_carrier</th>\n",
       "      <th>tail_num</th>\n",
       "      <th>op_carrier_fl_num</th>\n",
       "      <th>origin_airport_id</th>\n",
       "      <th>origin</th>\n",
       "      <th>...</th>\n",
       "      <th>distance</th>\n",
       "      <th>carrier_delay</th>\n",
       "      <th>weather_delay</th>\n",
       "      <th>nas_delay</th>\n",
       "      <th>security_delay</th>\n",
       "      <th>late_aircraft_delay</th>\n",
       "      <th>first_dep_time</th>\n",
       "      <th>total_add_gtime</th>\n",
       "      <th>longest_add_gtime</th>\n",
       "      <th>no_name</th>\n",
       "    </tr>\n",
       "  </thead>\n",
       "  <tbody>\n",
       "    <tr>\n",
       "      <th>0</th>\n",
       "      <td>2019-01-01</td>\n",
       "      <td>AA</td>\n",
       "      <td>AA_CODESHARE</td>\n",
       "      <td>AA</td>\n",
       "      <td>5225</td>\n",
       "      <td>OH</td>\n",
       "      <td>N594NN</td>\n",
       "      <td>5225</td>\n",
       "      <td>11057</td>\n",
       "      <td>CLT</td>\n",
       "      <td>...</td>\n",
       "      <td>761.0</td>\n",
       "      <td>NaN</td>\n",
       "      <td>NaN</td>\n",
       "      <td>NaN</td>\n",
       "      <td>NaN</td>\n",
       "      <td>NaN</td>\n",
       "      <td>None</td>\n",
       "      <td>NaN</td>\n",
       "      <td>NaN</td>\n",
       "      <td>None</td>\n",
       "    </tr>\n",
       "    <tr>\n",
       "      <th>6663</th>\n",
       "      <td>2019-01-01</td>\n",
       "      <td>G4</td>\n",
       "      <td>G4</td>\n",
       "      <td>G4</td>\n",
       "      <td>1670</td>\n",
       "      <td>G4</td>\n",
       "      <td>215NV</td>\n",
       "      <td>1670</td>\n",
       "      <td>14082</td>\n",
       "      <td>PGD</td>\n",
       "      <td>...</td>\n",
       "      <td>1127.0</td>\n",
       "      <td>0.0</td>\n",
       "      <td>0.0</td>\n",
       "      <td>33.0</td>\n",
       "      <td>0.0</td>\n",
       "      <td>0.0</td>\n",
       "      <td>None</td>\n",
       "      <td>NaN</td>\n",
       "      <td>NaN</td>\n",
       "      <td>None</td>\n",
       "    </tr>\n",
       "    <tr>\n",
       "      <th>6664</th>\n",
       "      <td>2019-01-01</td>\n",
       "      <td>G4</td>\n",
       "      <td>G4</td>\n",
       "      <td>G4</td>\n",
       "      <td>598</td>\n",
       "      <td>G4</td>\n",
       "      <td>252NV</td>\n",
       "      <td>598</td>\n",
       "      <td>10466</td>\n",
       "      <td>AZA</td>\n",
       "      <td>...</td>\n",
       "      <td>978.0</td>\n",
       "      <td>94.0</td>\n",
       "      <td>0.0</td>\n",
       "      <td>8.0</td>\n",
       "      <td>0.0</td>\n",
       "      <td>0.0</td>\n",
       "      <td>None</td>\n",
       "      <td>NaN</td>\n",
       "      <td>NaN</td>\n",
       "      <td>None</td>\n",
       "    </tr>\n",
       "    <tr>\n",
       "      <th>6665</th>\n",
       "      <td>2019-01-01</td>\n",
       "      <td>G4</td>\n",
       "      <td>G4</td>\n",
       "      <td>G4</td>\n",
       "      <td>401</td>\n",
       "      <td>G4</td>\n",
       "      <td>326NV</td>\n",
       "      <td>401</td>\n",
       "      <td>14761</td>\n",
       "      <td>SFB</td>\n",
       "      <td>...</td>\n",
       "      <td>511.0</td>\n",
       "      <td>NaN</td>\n",
       "      <td>NaN</td>\n",
       "      <td>NaN</td>\n",
       "      <td>NaN</td>\n",
       "      <td>NaN</td>\n",
       "      <td>None</td>\n",
       "      <td>NaN</td>\n",
       "      <td>NaN</td>\n",
       "      <td>None</td>\n",
       "    </tr>\n",
       "    <tr>\n",
       "      <th>6666</th>\n",
       "      <td>2019-01-01</td>\n",
       "      <td>G4</td>\n",
       "      <td>G4</td>\n",
       "      <td>G4</td>\n",
       "      <td>537</td>\n",
       "      <td>G4</td>\n",
       "      <td>249NV</td>\n",
       "      <td>537</td>\n",
       "      <td>11637</td>\n",
       "      <td>FAR</td>\n",
       "      <td>...</td>\n",
       "      <td>1220.0</td>\n",
       "      <td>NaN</td>\n",
       "      <td>NaN</td>\n",
       "      <td>NaN</td>\n",
       "      <td>NaN</td>\n",
       "      <td>NaN</td>\n",
       "      <td>None</td>\n",
       "      <td>NaN</td>\n",
       "      <td>NaN</td>\n",
       "      <td>None</td>\n",
       "    </tr>\n",
       "    <tr>\n",
       "      <th>...</th>\n",
       "      <td>...</td>\n",
       "      <td>...</td>\n",
       "      <td>...</td>\n",
       "      <td>...</td>\n",
       "      <td>...</td>\n",
       "      <td>...</td>\n",
       "      <td>...</td>\n",
       "      <td>...</td>\n",
       "      <td>...</td>\n",
       "      <td>...</td>\n",
       "      <td>...</td>\n",
       "      <td>...</td>\n",
       "      <td>...</td>\n",
       "      <td>...</td>\n",
       "      <td>...</td>\n",
       "      <td>...</td>\n",
       "      <td>...</td>\n",
       "      <td>...</td>\n",
       "      <td>...</td>\n",
       "      <td>...</td>\n",
       "      <td>...</td>\n",
       "    </tr>\n",
       "    <tr>\n",
       "      <th>3333</th>\n",
       "      <td>2019-12-01</td>\n",
       "      <td>DL</td>\n",
       "      <td>DL</td>\n",
       "      <td>DL</td>\n",
       "      <td>783</td>\n",
       "      <td>DL</td>\n",
       "      <td>N965AT</td>\n",
       "      <td>783</td>\n",
       "      <td>11298</td>\n",
       "      <td>DFW</td>\n",
       "      <td>...</td>\n",
       "      <td>852.0</td>\n",
       "      <td>NaN</td>\n",
       "      <td>NaN</td>\n",
       "      <td>NaN</td>\n",
       "      <td>NaN</td>\n",
       "      <td>NaN</td>\n",
       "      <td>None</td>\n",
       "      <td>NaN</td>\n",
       "      <td>NaN</td>\n",
       "      <td>None</td>\n",
       "    </tr>\n",
       "    <tr>\n",
       "      <th>3334</th>\n",
       "      <td>2019-12-01</td>\n",
       "      <td>DL</td>\n",
       "      <td>DL</td>\n",
       "      <td>DL</td>\n",
       "      <td>783</td>\n",
       "      <td>DL</td>\n",
       "      <td>N965AT</td>\n",
       "      <td>783</td>\n",
       "      <td>13487</td>\n",
       "      <td>MSP</td>\n",
       "      <td>...</td>\n",
       "      <td>852.0</td>\n",
       "      <td>NaN</td>\n",
       "      <td>NaN</td>\n",
       "      <td>NaN</td>\n",
       "      <td>NaN</td>\n",
       "      <td>NaN</td>\n",
       "      <td>None</td>\n",
       "      <td>NaN</td>\n",
       "      <td>NaN</td>\n",
       "      <td>None</td>\n",
       "    </tr>\n",
       "    <tr>\n",
       "      <th>3335</th>\n",
       "      <td>2019-12-01</td>\n",
       "      <td>DL</td>\n",
       "      <td>DL</td>\n",
       "      <td>DL</td>\n",
       "      <td>785</td>\n",
       "      <td>DL</td>\n",
       "      <td>N964AT</td>\n",
       "      <td>785</td>\n",
       "      <td>11433</td>\n",
       "      <td>DTW</td>\n",
       "      <td>...</td>\n",
       "      <td>120.0</td>\n",
       "      <td>NaN</td>\n",
       "      <td>NaN</td>\n",
       "      <td>NaN</td>\n",
       "      <td>NaN</td>\n",
       "      <td>NaN</td>\n",
       "      <td>None</td>\n",
       "      <td>NaN</td>\n",
       "      <td>NaN</td>\n",
       "      <td>None</td>\n",
       "    </tr>\n",
       "    <tr>\n",
       "      <th>3328</th>\n",
       "      <td>2019-12-01</td>\n",
       "      <td>DL</td>\n",
       "      <td>DL</td>\n",
       "      <td>DL</td>\n",
       "      <td>776</td>\n",
       "      <td>DL</td>\n",
       "      <td>N954AT</td>\n",
       "      <td>776</td>\n",
       "      <td>12448</td>\n",
       "      <td>JAN</td>\n",
       "      <td>...</td>\n",
       "      <td>341.0</td>\n",
       "      <td>NaN</td>\n",
       "      <td>NaN</td>\n",
       "      <td>NaN</td>\n",
       "      <td>NaN</td>\n",
       "      <td>NaN</td>\n",
       "      <td>None</td>\n",
       "      <td>NaN</td>\n",
       "      <td>NaN</td>\n",
       "      <td>None</td>\n",
       "    </tr>\n",
       "    <tr>\n",
       "      <th>9999</th>\n",
       "      <td>2019-12-01</td>\n",
       "      <td>WN</td>\n",
       "      <td>WN</td>\n",
       "      <td>WN</td>\n",
       "      <td>4970</td>\n",
       "      <td>WN</td>\n",
       "      <td>N8527Q</td>\n",
       "      <td>4970</td>\n",
       "      <td>15016</td>\n",
       "      <td>STL</td>\n",
       "      <td>...</td>\n",
       "      <td>296.0</td>\n",
       "      <td>NaN</td>\n",
       "      <td>NaN</td>\n",
       "      <td>NaN</td>\n",
       "      <td>NaN</td>\n",
       "      <td>NaN</td>\n",
       "      <td>None</td>\n",
       "      <td>NaN</td>\n",
       "      <td>NaN</td>\n",
       "      <td>None</td>\n",
       "    </tr>\n",
       "  </tbody>\n",
       "</table>\n",
       "<p>120000 rows × 42 columns</p>\n",
       "</div>"
      ],
      "text/plain": [
       "         fl_date mkt_unique_carrier branded_code_share mkt_carrier  \\\n",
       "0     2019-01-01                 AA       AA_CODESHARE          AA   \n",
       "6663  2019-01-01                 G4                 G4          G4   \n",
       "6664  2019-01-01                 G4                 G4          G4   \n",
       "6665  2019-01-01                 G4                 G4          G4   \n",
       "6666  2019-01-01                 G4                 G4          G4   \n",
       "...          ...                ...                ...         ...   \n",
       "3333  2019-12-01                 DL                 DL          DL   \n",
       "3334  2019-12-01                 DL                 DL          DL   \n",
       "3335  2019-12-01                 DL                 DL          DL   \n",
       "3328  2019-12-01                 DL                 DL          DL   \n",
       "9999  2019-12-01                 WN                 WN          WN   \n",
       "\n",
       "      mkt_carrier_fl_num op_unique_carrier tail_num  op_carrier_fl_num  \\\n",
       "0                   5225                OH   N594NN               5225   \n",
       "6663                1670                G4    215NV               1670   \n",
       "6664                 598                G4    252NV                598   \n",
       "6665                 401                G4    326NV                401   \n",
       "6666                 537                G4    249NV                537   \n",
       "...                  ...               ...      ...                ...   \n",
       "3333                 783                DL   N965AT                783   \n",
       "3334                 783                DL   N965AT                783   \n",
       "3335                 785                DL   N964AT                785   \n",
       "3328                 776                DL   N954AT                776   \n",
       "9999                4970                WN   N8527Q               4970   \n",
       "\n",
       "      origin_airport_id origin  ... distance  carrier_delay weather_delay  \\\n",
       "0                 11057    CLT  ...    761.0            NaN           NaN   \n",
       "6663              14082    PGD  ...   1127.0            0.0           0.0   \n",
       "6664              10466    AZA  ...    978.0           94.0           0.0   \n",
       "6665              14761    SFB  ...    511.0            NaN           NaN   \n",
       "6666              11637    FAR  ...   1220.0            NaN           NaN   \n",
       "...                 ...    ...  ...      ...            ...           ...   \n",
       "3333              11298    DFW  ...    852.0            NaN           NaN   \n",
       "3334              13487    MSP  ...    852.0            NaN           NaN   \n",
       "3335              11433    DTW  ...    120.0            NaN           NaN   \n",
       "3328              12448    JAN  ...    341.0            NaN           NaN   \n",
       "9999              15016    STL  ...    296.0            NaN           NaN   \n",
       "\n",
       "     nas_delay  security_delay  late_aircraft_delay  first_dep_time  \\\n",
       "0          NaN             NaN                  NaN            None   \n",
       "6663      33.0             0.0                  0.0            None   \n",
       "6664       8.0             0.0                  0.0            None   \n",
       "6665       NaN             NaN                  NaN            None   \n",
       "6666       NaN             NaN                  NaN            None   \n",
       "...        ...             ...                  ...             ...   \n",
       "3333       NaN             NaN                  NaN            None   \n",
       "3334       NaN             NaN                  NaN            None   \n",
       "3335       NaN             NaN                  NaN            None   \n",
       "3328       NaN             NaN                  NaN            None   \n",
       "9999       NaN             NaN                  NaN            None   \n",
       "\n",
       "      total_add_gtime  longest_add_gtime  no_name  \n",
       "0                 NaN                NaN     None  \n",
       "6663              NaN                NaN     None  \n",
       "6664              NaN                NaN     None  \n",
       "6665              NaN                NaN     None  \n",
       "6666              NaN                NaN     None  \n",
       "...               ...                ...      ...  \n",
       "3333              NaN                NaN     None  \n",
       "3334              NaN                NaN     None  \n",
       "3335              NaN                NaN     None  \n",
       "3328              NaN                NaN     None  \n",
       "9999              NaN                NaN     None  \n",
       "\n",
       "[120000 rows x 42 columns]"
      ]
     },
     "execution_count": 122,
     "metadata": {},
     "output_type": "execute_result"
    }
   ],
   "source": [
    "df.sort_values('fl_date')"
   ]
  },
  {
   "cell_type": "code",
   "execution_count": 130,
   "metadata": {},
   "outputs": [],
   "source": [
    "df.fl_date = df.fl_date.apply(pd.to_datetime)"
   ]
  },
  {
   "cell_type": "code",
   "execution_count": 131,
   "metadata": {},
   "outputs": [
    {
     "data": {
      "text/plain": [
       "1     10000\n",
       "2     10000\n",
       "3     10000\n",
       "4     10000\n",
       "5     10000\n",
       "6     10000\n",
       "7     10000\n",
       "8     10000\n",
       "9     10000\n",
       "10    10000\n",
       "11    10000\n",
       "12    10000\n",
       "Name: fl_date, dtype: int64"
      ]
     },
     "execution_count": 133,
     "metadata": {},
     "output_type": "execute_result"
    }
   ],
   "source": [
    "df.fl_date.value_counts()  "
   ]
  },
  {
   "cell_type": "code",
   "execution_count": 137,
   "metadata": {},
   "outputs": [
    {
     "data": {
      "text/plain": [
       "fl_date\n",
       "1    -4.7217\n",
       "2    -3.5338\n",
       "3     3.4020\n",
       "4    -2.7648\n",
       "5    -0.0397\n",
       "6     7.4128\n",
       "7    -0.3305\n",
       "8     5.1696\n",
       "9    -4.1829\n",
       "10   -2.0320\n",
       "11   -5.6391\n",
       "12   -0.9933\n",
       "Name: arr_delay, dtype: float64"
      ]
     },
     "execution_count": 137,
     "metadata": {},
     "output_type": "execute_result"
    }
   ],
   "source": [
    "df.groupby(df.fl_date.dt.month)['arr_delay'].mean()"
   ]
  },
  {
   "cell_type": "code",
   "execution_count": 139,
   "metadata": {},
   "outputs": [
    {
     "data": {
      "text/plain": [
       "3.9213125975947842"
      ]
     },
     "execution_count": 139,
     "metadata": {},
     "output_type": "execute_result"
    }
   ],
   "source": [
    "np.std(df.groupby(df.fl_date.dt.month)['arr_delay'].mean())"
   ]
  },
  {
   "cell_type": "markdown",
   "metadata": {},
   "source": [
    "#### **Task 3**: Does the weather affect the delay? \n",
    "Use the API to pull the weather information for flights. There is no need to get weather for ALL flights. We can choose the right representative sample. Let's focus on four weather types:\n",
    "- sunny\n",
    "- cloudy\n",
    "- rainy\n",
    "- snow.\n",
    "Test the hypothesis that these 4 delays are from the same distribution. If they are not, which ones are significantly different?"
   ]
  },
  {
   "cell_type": "code",
   "execution_count": null,
   "metadata": {},
   "outputs": [],
   "source": []
  },
  {
   "cell_type": "code",
   "execution_count": null,
   "metadata": {},
   "outputs": [],
   "source": []
  },
  {
   "cell_type": "markdown",
   "metadata": {},
   "source": [
    "#### **Task 4**: How taxi times changing during the day? Does higher traffic lead to bigger taxi times?"
   ]
  },
  {
   "cell_type": "code",
   "execution_count": null,
   "metadata": {},
   "outputs": [],
   "source": []
  },
  {
   "cell_type": "code",
   "execution_count": null,
   "metadata": {},
   "outputs": [],
   "source": []
  },
  {
   "cell_type": "markdown",
   "metadata": {},
   "source": [
    "#### **Task 5**: What is the average percentage of delays that is already created before departure? (aka are arrival delays caused by departure delays?) Are airlines able to lower the delay during the flights?"
   ]
  },
  {
   "cell_type": "code",
   "execution_count": null,
   "metadata": {},
   "outputs": [],
   "source": []
  },
  {
   "cell_type": "code",
   "execution_count": null,
   "metadata": {},
   "outputs": [],
   "source": []
  },
  {
   "cell_type": "markdown",
   "metadata": {},
   "source": [
    "#### **Task 6**: How many states cover 50% of US air traffic? "
   ]
  },
  {
   "cell_type": "code",
   "execution_count": null,
   "metadata": {},
   "outputs": [],
   "source": []
  },
  {
   "cell_type": "code",
   "execution_count": null,
   "metadata": {},
   "outputs": [],
   "source": []
  },
  {
   "cell_type": "markdown",
   "metadata": {},
   "source": [
    "#### **Task 7**: Test the hypothesis whether planes fly faster when there is the departure delay? "
   ]
  },
  {
   "cell_type": "code",
   "execution_count": null,
   "metadata": {},
   "outputs": [],
   "source": []
  },
  {
   "cell_type": "code",
   "execution_count": null,
   "metadata": {},
   "outputs": [],
   "source": []
  },
  {
   "cell_type": "markdown",
   "metadata": {},
   "source": [
    "#### **Task 8**: When (which hour) do most 'LONG', 'SHORT', 'MEDIUM' haul flights take off?"
   ]
  },
  {
   "cell_type": "code",
   "execution_count": null,
   "metadata": {},
   "outputs": [],
   "source": []
  },
  {
   "cell_type": "code",
   "execution_count": null,
   "metadata": {},
   "outputs": [],
   "source": []
  },
  {
   "cell_type": "markdown",
   "metadata": {},
   "source": [
    "#### **Task 9**: Find the top 10 the bussiest airports. Does the biggest number of flights mean that the biggest number of passengers went through the particular airport? How much traffic do these 10 airports cover?"
   ]
  },
  {
   "cell_type": "code",
   "execution_count": null,
   "metadata": {},
   "outputs": [],
   "source": []
  },
  {
   "cell_type": "code",
   "execution_count": null,
   "metadata": {},
   "outputs": [],
   "source": []
  },
  {
   "cell_type": "markdown",
   "metadata": {},
   "source": [
    "#### **Task 10**: Do bigger delays lead to bigger fuel comsumption per passenger? \n",
    "We need to do four things to answer this as accurate as possible:\n",
    "- Find out average monthly delay per air carrier (monthly delay is sum of all delays in 1 month)\n",
    "- Find out distance covered monthly by different air carriers\n",
    "- Find out number of passengers that were carried by different air carriers\n",
    "- Find out total fuel comsumption per air carrier.\n",
    "\n",
    "Use this information to get the average fuel comsumption per passenger per km. Is this higher for the airlines with bigger average delays?"
   ]
  },
  {
   "cell_type": "code",
   "execution_count": null,
   "metadata": {},
   "outputs": [],
   "source": []
  },
  {
   "cell_type": "code",
   "execution_count": null,
   "metadata": {},
   "outputs": [],
   "source": []
  }
 ],
 "metadata": {
  "kernelspec": {
   "display_name": "Python 3 (ipykernel)",
   "language": "python",
   "name": "python3"
  },
  "language_info": {
   "codemirror_mode": {
    "name": "ipython",
    "version": 3
   },
   "file_extension": ".py",
   "mimetype": "text/x-python",
   "name": "python",
   "nbconvert_exporter": "python",
   "pygments_lexer": "ipython3",
   "version": "3.9.7"
  },
  "toc": {
   "base_numbering": 1,
   "nav_menu": {},
   "number_sections": true,
   "sideBar": true,
   "skip_h1_title": false,
   "title_cell": "Table of Contents",
   "title_sidebar": "Contents",
   "toc_cell": false,
   "toc_position": {},
   "toc_section_display": true,
   "toc_window_display": false
  },
  "varInspector": {
   "cols": {
    "lenName": 16,
    "lenType": 16,
    "lenVar": 40
   },
   "kernels_config": {
    "python": {
     "delete_cmd_postfix": "",
     "delete_cmd_prefix": "del ",
     "library": "var_list.py",
     "varRefreshCmd": "print(var_dic_list())"
    },
    "r": {
     "delete_cmd_postfix": ") ",
     "delete_cmd_prefix": "rm(",
     "library": "var_list.r",
     "varRefreshCmd": "cat(var_dic_list()) "
    }
   },
   "types_to_exclude": [
    "module",
    "function",
    "builtin_function_or_method",
    "instance",
    "_Feature"
   ],
   "window_display": false
  }
 },
 "nbformat": 4,
 "nbformat_minor": 4
}
