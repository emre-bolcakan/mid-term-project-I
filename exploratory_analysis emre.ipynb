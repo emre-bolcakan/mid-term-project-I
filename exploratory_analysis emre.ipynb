{
 "cells": [
  {
   "cell_type": "markdown",
   "metadata": {},
   "source": [
    "## Exploratory Data Analysis\n",
    "\n",
    "Use this notebook to get familiar with the datasets we have. There is 10 questions we need to answer during the EDA.\n",
    "\n",
    "\n",
    "We shouldn't limit our EDA to these 10 questions. Let's be creative :)."
   ]
  },
  {
   "cell_type": "code",
   "execution_count": 35,
   "metadata": {},
   "outputs": [],
   "source": [
    "import pandas as pd\n",
    "from scipy.stats import shapiro\n",
    "from scipy.stats import ttest_1samp\n",
    "import numpy as np\n",
    "import psycopg2\n",
    "import seaborn as sns\n",
    "import matplotlib.pyplot as plt"
   ]
  },
  {
   "cell_type": "code",
   "execution_count": null,
   "metadata": {},
   "outputs": [],
   "source": []
  },
  {
   "cell_type": "code",
   "execution_count": 36,
   "metadata": {},
   "outputs": [],
   "source": [
    "df = pd.read_csv('flights_merged.csv', index_col=0)"
   ]
  },
  {
   "cell_type": "code",
   "execution_count": 37,
   "metadata": {},
   "outputs": [
    {
     "data": {
      "text/plain": [
       "fl_date                     0\n",
       "mkt_unique_carrier          0\n",
       "branded_code_share          0\n",
       "mkt_carrier                 0\n",
       "mkt_carrier_fl_num          0\n",
       "op_unique_carrier           0\n",
       "tail_num                    0\n",
       "op_carrier_fl_num           0\n",
       "origin_airport_id           0\n",
       "origin                      0\n",
       "origin_city_name            0\n",
       "dest_airport_id             0\n",
       "dest                        0\n",
       "dest_city_name              0\n",
       "crs_dep_time                0\n",
       "dep_time                    0\n",
       "taxi_out                    0\n",
       "wheels_off                  0\n",
       "wheels_on                   0\n",
       "taxi_in                     0\n",
       "crs_arr_time                0\n",
       "arr_time                    0\n",
       "arr_delay                   0\n",
       "cancelled                   0\n",
       "cancellation_code      191745\n",
       "diverted                    0\n",
       "dup                         0\n",
       "crs_elapsed_time            0\n",
       "actual_elapsed_time         0\n",
       "air_time                    0\n",
       "flights                     0\n",
       "distance                    0\n",
       "passengers                  0\n",
       "capacity                    0\n",
       "total_gallons               0\n",
       "dep_delay                   0\n",
       "nas_delay                   0\n",
       "security_delay              0\n",
       "late_aircraft_delay         0\n",
       "weather_delay               0\n",
       "carrier_delay               0\n",
       "dtype: int64"
      ]
     },
     "execution_count": 37,
     "metadata": {},
     "output_type": "execute_result"
    }
   ],
   "source": [
    "df.isnull().sum()"
   ]
  },
  {
   "cell_type": "code",
   "execution_count": null,
   "metadata": {},
   "outputs": [],
   "source": []
  },
  {
   "cell_type": "code",
   "execution_count": null,
   "metadata": {},
   "outputs": [],
   "source": []
  },
  {
   "cell_type": "code",
   "execution_count": 98,
   "metadata": {},
   "outputs": [
    {
     "data": {
      "text/plain": [
       "Index(['fl_date', 'mkt_unique_carrier', 'branded_code_share', 'mkt_carrier',\n",
       "       'mkt_carrier_fl_num', 'op_unique_carrier', 'tail_num',\n",
       "       'op_carrier_fl_num', 'origin_airport_id', 'origin', 'origin_city_name',\n",
       "       'dest_airport_id', 'dest', 'dest_city_name', 'crs_dep_time', 'dep_time',\n",
       "       'dep_delay', 'taxi_out', 'wheels_off', 'wheels_on', 'taxi_in',\n",
       "       'crs_arr_time', 'arr_time', 'arr_delay', 'cancelled',\n",
       "       'cancellation_code', 'diverted', 'dup', 'crs_elapsed_time',\n",
       "       'actual_elapsed_time', 'air_time', 'flights', 'distance',\n",
       "       'carrier_delay', 'weather_delay', 'nas_delay', 'security_delay',\n",
       "       'late_aircraft_delay', 'first_dep_time', 'total_add_gtime',\n",
       "       'longest_add_gtime', 'no_name'],\n",
       "      dtype='object')"
      ]
     },
     "execution_count": 98,
     "metadata": {},
     "output_type": "execute_result"
    }
   ],
   "source": [
    "df.columns"
   ]
  },
  {
   "cell_type": "code",
   "execution_count": 99,
   "metadata": {},
   "outputs": [
    {
     "data": {
      "text/plain": [
       "(120000, 42)"
      ]
     },
     "execution_count": 99,
     "metadata": {},
     "output_type": "execute_result"
    }
   ],
   "source": [
    "df.shape"
   ]
  },
  {
   "cell_type": "code",
   "execution_count": null,
   "metadata": {},
   "outputs": [],
   "source": []
  },
  {
   "cell_type": "markdown",
   "metadata": {},
   "source": [
    "#### **Task 1**: Test the hypothesis that the delay is from Normal distribution. and that **mean** of the delay is 0. Be careful about the outliers."
   ]
  },
  {
   "cell_type": "code",
   "execution_count": 38,
   "metadata": {},
   "outputs": [
    {
     "data": {
      "text/plain": [
       "max       199.000000\n",
       "min       -78.000000\n",
       "mean        2.453842\n",
       "std        30.966384\n",
       "median     -5.000000\n",
       "Name: arr_delay, dtype: float64"
      ]
     },
     "execution_count": 38,
     "metadata": {},
     "output_type": "execute_result"
    }
   ],
   "source": [
    "df['arr_delay'].agg(['max', 'min', 'mean', 'std', 'median'])"
   ]
  },
  {
   "cell_type": "code",
   "execution_count": 39,
   "metadata": {},
   "outputs": [
    {
     "data": {
      "text/plain": [
       "131971    -78.0\n",
       "130202    -76.0\n",
       "110803    -74.0\n",
       "110832    -73.0\n",
       "151534    -73.0\n",
       "          ...  \n",
       "44623     199.0\n",
       "183827    199.0\n",
       "149647    199.0\n",
       "101243    199.0\n",
       "85772     199.0\n",
       "Name: arr_delay, Length: 191745, dtype: float64"
      ]
     },
     "execution_count": 39,
     "metadata": {},
     "output_type": "execute_result"
    }
   ],
   "source": [
    "df['arr_delay'].sort_values()"
   ]
  },
  {
   "cell_type": "code",
   "execution_count": 40,
   "metadata": {},
   "outputs": [
    {
     "name": "stderr",
     "output_type": "stream",
     "text": [
      "/opt/anaconda3/lib/python3.9/site-packages/seaborn/distributions.py:2619: FutureWarning: `distplot` is a deprecated function and will be removed in a future version. Please adapt your code to use either `displot` (a figure-level function with similar flexibility) or `histplot` (an axes-level function for histograms).\n",
      "  warnings.warn(msg, FutureWarning)\n"
     ]
    },
    {
     "data": {
      "text/plain": [
       "<AxesSubplot:xlabel='arr_delay', ylabel='Density'>"
      ]
     },
     "execution_count": 40,
     "metadata": {},
     "output_type": "execute_result"
    },
    {
     "data": {
      "image/png": "[encoded data removed]",
      "text/plain": [
       "<Figure size 432x288 with 1 Axes>"
      ]
     },
     "metadata": {
      "needs_background": "light"
     },
     "output_type": "display_data"
    }
   ],
   "source": [
    "sns.distplot(df.arr_delay)"
   ]
  },
  {
   "cell_type": "code",
   "execution_count": 41,
   "metadata": {},
   "outputs": [
    {
     "name": "stdout",
     "output_type": "stream",
     "text": [
      "stat=0.773, p=0.000\n",
      "Probably not Gaussian\n"
     ]
    },
    {
     "name": "stderr",
     "output_type": "stream",
     "text": [
      "/opt/anaconda3/lib/python3.9/site-packages/scipy/stats/morestats.py:1760: UserWarning: p-value may not be accurate for N > 5000.\n",
      "  warnings.warn(\"p-value may not be accurate for N > 5000.\")\n"
     ]
    }
   ],
   "source": [
    "stat, p = shapiro(df.arr_delay)\n",
    "print('stat=%.3f, p=%.3f' % (stat, p))\n",
    "if p > 0.05:\n",
    "    print('Probably Gaussian')\n",
    "else:\n",
    "    print('Probably not Gaussian')"
   ]
  },
  {
   "cell_type": "code",
   "execution_count": 42,
   "metadata": {},
   "outputs": [],
   "source": [
    "tset, pval = ttest_1samp(df.arr_delay, 0)"
   ]
  },
  {
   "cell_type": "code",
   "execution_count": 43,
   "metadata": {},
   "outputs": [
    {
     "name": "stdout",
     "output_type": "stream",
     "text": [
      "p-values 5.3559787818834534e-263\n",
      " we are rejecting null hypothesis\n"
     ]
    }
   ],
   "source": [
    "print(\"p-values\",pval)\n",
    "if pval < 0.05:    # alpha value is 0.05 or 5%\n",
    "    print(\" we are rejecting null hypothesis\")\n",
    "else:\n",
    "    print(\"we are accepting null hypothesis\")"
   ]
  },
  {
   "cell_type": "markdown",
   "metadata": {},
   "source": [
    "#### **Task 2**: Is average/median monthly delay different during the year? If yes, which are months with the biggest delays and what could be the reason?"
   ]
  },
  {
   "cell_type": "code",
   "execution_count": 44,
   "metadata": {},
   "outputs": [
    {
     "data": {
      "text/html": [
       "<div>\n",
       "<style scoped>\n",
       "    .dataframe tbody tr th:only-of-type {\n",
       "        vertical-align: middle;\n",
       "    }\n",
       "\n",
       "    .dataframe tbody tr th {\n",
       "        vertical-align: top;\n",
       "    }\n",
       "\n",
       "    .dataframe thead th {\n",
       "        text-align: right;\n",
       "    }\n",
       "</style>\n",
       "<table border=\"1\" class=\"dataframe\">\n",
       "  <thead>\n",
       "    <tr style=\"text-align: right;\">\n",
       "      <th></th>\n",
       "      <th>fl_date</th>\n",
       "      <th>mkt_unique_carrier</th>\n",
       "      <th>branded_code_share</th>\n",
       "      <th>mkt_carrier</th>\n",
       "      <th>mkt_carrier_fl_num</th>\n",
       "      <th>op_unique_carrier</th>\n",
       "      <th>tail_num</th>\n",
       "      <th>op_carrier_fl_num</th>\n",
       "      <th>origin_airport_id</th>\n",
       "      <th>origin</th>\n",
       "      <th>...</th>\n",
       "      <th>distance</th>\n",
       "      <th>passengers</th>\n",
       "      <th>capacity</th>\n",
       "      <th>total_gallons</th>\n",
       "      <th>dep_delay</th>\n",
       "      <th>nas_delay</th>\n",
       "      <th>security_delay</th>\n",
       "      <th>late_aircraft_delay</th>\n",
       "      <th>weather_delay</th>\n",
       "      <th>carrier_delay</th>\n",
       "    </tr>\n",
       "  </thead>\n",
       "  <tbody>\n",
       "    <tr>\n",
       "      <th>99796</th>\n",
       "      <td>2018-01-01</td>\n",
       "      <td>DL</td>\n",
       "      <td>DL</td>\n",
       "      <td>DL</td>\n",
       "      <td>2514</td>\n",
       "      <td>DL</td>\n",
       "      <td>N950AT</td>\n",
       "      <td>2514</td>\n",
       "      <td>10397</td>\n",
       "      <td>ATL</td>\n",
       "      <td>...</td>\n",
       "      <td>442.0</td>\n",
       "      <td>1874.000000</td>\n",
       "      <td>212.000000</td>\n",
       "      <td>3.087060e+08</td>\n",
       "      <td>1.792453</td>\n",
       "      <td>18.600000</td>\n",
       "      <td>0.0</td>\n",
       "      <td>0.600000</td>\n",
       "      <td>10.800000</td>\n",
       "      <td>4.400000</td>\n",
       "    </tr>\n",
       "    <tr>\n",
       "      <th>87309</th>\n",
       "      <td>2018-01-01</td>\n",
       "      <td>NK</td>\n",
       "      <td>NK</td>\n",
       "      <td>NK</td>\n",
       "      <td>386</td>\n",
       "      <td>NK</td>\n",
       "      <td>N507NK</td>\n",
       "      <td>386</td>\n",
       "      <td>13204</td>\n",
       "      <td>MCO</td>\n",
       "      <td>...</td>\n",
       "      <td>861.0</td>\n",
       "      <td>1749.666667</td>\n",
       "      <td>210.333333</td>\n",
       "      <td>3.937194e+07</td>\n",
       "      <td>3.076923</td>\n",
       "      <td>11.000000</td>\n",
       "      <td>0.0</td>\n",
       "      <td>0.000000</td>\n",
       "      <td>0.000000</td>\n",
       "      <td>33.500000</td>\n",
       "    </tr>\n",
       "    <tr>\n",
       "      <th>87322</th>\n",
       "      <td>2018-01-01</td>\n",
       "      <td>NK</td>\n",
       "      <td>NK</td>\n",
       "      <td>NK</td>\n",
       "      <td>387</td>\n",
       "      <td>NK</td>\n",
       "      <td>N504NK</td>\n",
       "      <td>387</td>\n",
       "      <td>10874</td>\n",
       "      <td>CAK</td>\n",
       "      <td>...</td>\n",
       "      <td>861.0</td>\n",
       "      <td>1165.500000</td>\n",
       "      <td>108.500000</td>\n",
       "      <td>3.937194e+07</td>\n",
       "      <td>-4.538462</td>\n",
       "      <td>10.500000</td>\n",
       "      <td>0.0</td>\n",
       "      <td>15.500000</td>\n",
       "      <td>0.000000</td>\n",
       "      <td>3.500000</td>\n",
       "    </tr>\n",
       "    <tr>\n",
       "      <th>46293</th>\n",
       "      <td>2018-01-01</td>\n",
       "      <td>UA</td>\n",
       "      <td>UA_CODESHARE</td>\n",
       "      <td>UA</td>\n",
       "      <td>6218</td>\n",
       "      <td>YV</td>\n",
       "      <td>N88335</td>\n",
       "      <td>6218</td>\n",
       "      <td>12266</td>\n",
       "      <td>IAH</td>\n",
       "      <td>...</td>\n",
       "      <td>1208.0</td>\n",
       "      <td>2954.666667</td>\n",
       "      <td>552.000000</td>\n",
       "      <td>0.000000e+00</td>\n",
       "      <td>8.144444</td>\n",
       "      <td>5.000000</td>\n",
       "      <td>0.0</td>\n",
       "      <td>8.187500</td>\n",
       "      <td>1.375000</td>\n",
       "      <td>31.625000</td>\n",
       "    </tr>\n",
       "    <tr>\n",
       "      <th>17666</th>\n",
       "      <td>2018-01-01</td>\n",
       "      <td>AA</td>\n",
       "      <td>AA_CODESHARE</td>\n",
       "      <td>AA</td>\n",
       "      <td>5947</td>\n",
       "      <td>YV</td>\n",
       "      <td>N942LR</td>\n",
       "      <td>5947</td>\n",
       "      <td>14107</td>\n",
       "      <td>PHX</td>\n",
       "      <td>...</td>\n",
       "      <td>325.0</td>\n",
       "      <td>2233.000000</td>\n",
       "      <td>422.333333</td>\n",
       "      <td>0.000000e+00</td>\n",
       "      <td>13.830986</td>\n",
       "      <td>7.529412</td>\n",
       "      <td>0.0</td>\n",
       "      <td>42.058824</td>\n",
       "      <td>0.000000</td>\n",
       "      <td>13.764706</td>\n",
       "    </tr>\n",
       "    <tr>\n",
       "      <th>...</th>\n",
       "      <td>...</td>\n",
       "      <td>...</td>\n",
       "      <td>...</td>\n",
       "      <td>...</td>\n",
       "      <td>...</td>\n",
       "      <td>...</td>\n",
       "      <td>...</td>\n",
       "      <td>...</td>\n",
       "      <td>...</td>\n",
       "      <td>...</td>\n",
       "      <td>...</td>\n",
       "      <td>...</td>\n",
       "      <td>...</td>\n",
       "      <td>...</td>\n",
       "      <td>...</td>\n",
       "      <td>...</td>\n",
       "      <td>...</td>\n",
       "      <td>...</td>\n",
       "      <td>...</td>\n",
       "      <td>...</td>\n",
       "      <td>...</td>\n",
       "    </tr>\n",
       "    <tr>\n",
       "      <th>171504</th>\n",
       "      <td>2019-01-07</td>\n",
       "      <td>WN</td>\n",
       "      <td>WN</td>\n",
       "      <td>WN</td>\n",
       "      <td>1778</td>\n",
       "      <td>WN</td>\n",
       "      <td>N444WN</td>\n",
       "      <td>1778</td>\n",
       "      <td>14679</td>\n",
       "      <td>SAN</td>\n",
       "      <td>...</td>\n",
       "      <td>853.0</td>\n",
       "      <td>4052.000000</td>\n",
       "      <td>410.500000</td>\n",
       "      <td>1.723195e+08</td>\n",
       "      <td>13.084337</td>\n",
       "      <td>8.947368</td>\n",
       "      <td>0.0</td>\n",
       "      <td>35.157895</td>\n",
       "      <td>2.052632</td>\n",
       "      <td>3.842105</td>\n",
       "    </tr>\n",
       "    <tr>\n",
       "      <th>171503</th>\n",
       "      <td>2019-01-07</td>\n",
       "      <td>WN</td>\n",
       "      <td>WN</td>\n",
       "      <td>WN</td>\n",
       "      <td>1469</td>\n",
       "      <td>WN</td>\n",
       "      <td>N8568Z</td>\n",
       "      <td>1469</td>\n",
       "      <td>14679</td>\n",
       "      <td>SAN</td>\n",
       "      <td>...</td>\n",
       "      <td>853.0</td>\n",
       "      <td>4052.000000</td>\n",
       "      <td>410.500000</td>\n",
       "      <td>1.723195e+08</td>\n",
       "      <td>13.084337</td>\n",
       "      <td>8.947368</td>\n",
       "      <td>0.0</td>\n",
       "      <td>35.157895</td>\n",
       "      <td>2.052632</td>\n",
       "      <td>3.842105</td>\n",
       "    </tr>\n",
       "    <tr>\n",
       "      <th>171502</th>\n",
       "      <td>2019-01-07</td>\n",
       "      <td>WN</td>\n",
       "      <td>WN</td>\n",
       "      <td>WN</td>\n",
       "      <td>1406</td>\n",
       "      <td>WN</td>\n",
       "      <td>N959WN</td>\n",
       "      <td>1406</td>\n",
       "      <td>14679</td>\n",
       "      <td>SAN</td>\n",
       "      <td>...</td>\n",
       "      <td>853.0</td>\n",
       "      <td>4052.000000</td>\n",
       "      <td>410.500000</td>\n",
       "      <td>1.723195e+08</td>\n",
       "      <td>13.084337</td>\n",
       "      <td>8.947368</td>\n",
       "      <td>0.0</td>\n",
       "      <td>35.157895</td>\n",
       "      <td>2.052632</td>\n",
       "      <td>3.842105</td>\n",
       "    </tr>\n",
       "    <tr>\n",
       "      <th>23406</th>\n",
       "      <td>2019-01-07</td>\n",
       "      <td>AA</td>\n",
       "      <td>AA</td>\n",
       "      <td>AA</td>\n",
       "      <td>385</td>\n",
       "      <td>AA</td>\n",
       "      <td>N964TW</td>\n",
       "      <td>385</td>\n",
       "      <td>11298</td>\n",
       "      <td>DFW</td>\n",
       "      <td>...</td>\n",
       "      <td>550.0</td>\n",
       "      <td>1075.600000</td>\n",
       "      <td>476.200000</td>\n",
       "      <td>3.079852e+08</td>\n",
       "      <td>8.373626</td>\n",
       "      <td>12.090909</td>\n",
       "      <td>0.0</td>\n",
       "      <td>16.818182</td>\n",
       "      <td>1.636364</td>\n",
       "      <td>16.227273</td>\n",
       "    </tr>\n",
       "    <tr>\n",
       "      <th>99792</th>\n",
       "      <td>2019-01-07</td>\n",
       "      <td>DL</td>\n",
       "      <td>DL</td>\n",
       "      <td>DL</td>\n",
       "      <td>2076</td>\n",
       "      <td>DL</td>\n",
       "      <td>N950DL</td>\n",
       "      <td>2076</td>\n",
       "      <td>10397</td>\n",
       "      <td>ATL</td>\n",
       "      <td>...</td>\n",
       "      <td>442.0</td>\n",
       "      <td>1874.000000</td>\n",
       "      <td>212.000000</td>\n",
       "      <td>3.087060e+08</td>\n",
       "      <td>1.792453</td>\n",
       "      <td>18.600000</td>\n",
       "      <td>0.0</td>\n",
       "      <td>0.600000</td>\n",
       "      <td>10.800000</td>\n",
       "      <td>4.400000</td>\n",
       "    </tr>\n",
       "  </tbody>\n",
       "</table>\n",
       "<p>191745 rows × 41 columns</p>\n",
       "</div>"
      ],
      "text/plain": [
       "           fl_date mkt_unique_carrier branded_code_share mkt_carrier  \\\n",
       "99796   2018-01-01                 DL                 DL          DL   \n",
       "87309   2018-01-01                 NK                 NK          NK   \n",
       "87322   2018-01-01                 NK                 NK          NK   \n",
       "46293   2018-01-01                 UA       UA_CODESHARE          UA   \n",
       "17666   2018-01-01                 AA       AA_CODESHARE          AA   \n",
       "...            ...                ...                ...         ...   \n",
       "171504  2019-01-07                 WN                 WN          WN   \n",
       "171503  2019-01-07                 WN                 WN          WN   \n",
       "171502  2019-01-07                 WN                 WN          WN   \n",
       "23406   2019-01-07                 AA                 AA          AA   \n",
       "99792   2019-01-07                 DL                 DL          DL   \n",
       "\n",
       "        mkt_carrier_fl_num op_unique_carrier tail_num  op_carrier_fl_num  \\\n",
       "99796                 2514                DL   N950AT               2514   \n",
       "87309                  386                NK   N507NK                386   \n",
       "87322                  387                NK   N504NK                387   \n",
       "46293                 6218                YV   N88335               6218   \n",
       "17666                 5947                YV   N942LR               5947   \n",
       "...                    ...               ...      ...                ...   \n",
       "171504                1778                WN   N444WN               1778   \n",
       "171503                1469                WN   N8568Z               1469   \n",
       "171502                1406                WN   N959WN               1406   \n",
       "23406                  385                AA   N964TW                385   \n",
       "99792                 2076                DL   N950DL               2076   \n",
       "\n",
       "        origin_airport_id origin  ... distance   passengers    capacity  \\\n",
       "99796               10397    ATL  ...    442.0  1874.000000  212.000000   \n",
       "87309               13204    MCO  ...    861.0  1749.666667  210.333333   \n",
       "87322               10874    CAK  ...    861.0  1165.500000  108.500000   \n",
       "46293               12266    IAH  ...   1208.0  2954.666667  552.000000   \n",
       "17666               14107    PHX  ...    325.0  2233.000000  422.333333   \n",
       "...                   ...    ...  ...      ...          ...         ...   \n",
       "171504              14679    SAN  ...    853.0  4052.000000  410.500000   \n",
       "171503              14679    SAN  ...    853.0  4052.000000  410.500000   \n",
       "171502              14679    SAN  ...    853.0  4052.000000  410.500000   \n",
       "23406               11298    DFW  ...    550.0  1075.600000  476.200000   \n",
       "99792               10397    ATL  ...    442.0  1874.000000  212.000000   \n",
       "\n",
       "       total_gallons  dep_delay  nas_delay  security_delay  \\\n",
       "99796   3.087060e+08   1.792453  18.600000             0.0   \n",
       "87309   3.937194e+07   3.076923  11.000000             0.0   \n",
       "87322   3.937194e+07  -4.538462  10.500000             0.0   \n",
       "46293   0.000000e+00   8.144444   5.000000             0.0   \n",
       "17666   0.000000e+00  13.830986   7.529412             0.0   \n",
       "...              ...        ...        ...             ...   \n",
       "171504  1.723195e+08  13.084337   8.947368             0.0   \n",
       "171503  1.723195e+08  13.084337   8.947368             0.0   \n",
       "171502  1.723195e+08  13.084337   8.947368             0.0   \n",
       "23406   3.079852e+08   8.373626  12.090909             0.0   \n",
       "99792   3.087060e+08   1.792453  18.600000             0.0   \n",
       "\n",
       "        late_aircraft_delay  weather_delay  carrier_delay  \n",
       "99796              0.600000      10.800000       4.400000  \n",
       "87309              0.000000       0.000000      33.500000  \n",
       "87322             15.500000       0.000000       3.500000  \n",
       "46293              8.187500       1.375000      31.625000  \n",
       "17666             42.058824       0.000000      13.764706  \n",
       "...                     ...            ...            ...  \n",
       "171504            35.157895       2.052632       3.842105  \n",
       "171503            35.157895       2.052632       3.842105  \n",
       "171502            35.157895       2.052632       3.842105  \n",
       "23406             16.818182       1.636364      16.227273  \n",
       "99792              0.600000      10.800000       4.400000  \n",
       "\n",
       "[191745 rows x 41 columns]"
      ]
     },
     "execution_count": 44,
     "metadata": {},
     "output_type": "execute_result"
    }
   ],
   "source": [
    "df.sort_values('fl_date')"
   ]
  },
  {
   "cell_type": "code",
   "execution_count": 45,
   "metadata": {},
   "outputs": [],
   "source": [
    "df.fl_date = df.fl_date.apply(pd.to_datetime)"
   ]
  },
  {
   "cell_type": "code",
   "execution_count": 46,
   "metadata": {},
   "outputs": [
    {
     "data": {
      "text/plain": [
       "2019-01-02    15289\n",
       "2019-01-07    14820\n",
       "2018-01-02    14766\n",
       "2019-01-04    14708\n",
       "2019-01-03    14584\n",
       "2019-01-06    14175\n",
       "2018-01-03    13888\n",
       "2018-01-07    13728\n",
       "2019-01-01    13615\n",
       "2018-01-05    13328\n",
       "2018-01-01    13247\n",
       "2019-01-05    12422\n",
       "2018-01-06    11627\n",
       "2018-01-04    11548\n",
       "Name: fl_date, dtype: int64"
      ]
     },
     "execution_count": 46,
     "metadata": {},
     "output_type": "execute_result"
    }
   ],
   "source": [
    "df.fl_date.value_counts()  "
   ]
  },
  {
   "cell_type": "code",
   "execution_count": 47,
   "metadata": {},
   "outputs": [
    {
     "data": {
      "text/plain": [
       "fl_date\n",
       "1    2.453842\n",
       "Name: arr_delay, dtype: float64"
      ]
     },
     "execution_count": 47,
     "metadata": {},
     "output_type": "execute_result"
    }
   ],
   "source": [
    "df.groupby(df.fl_date.dt.month)['arr_delay'].mean()"
   ]
  },
  {
   "cell_type": "code",
   "execution_count": 48,
   "metadata": {},
   "outputs": [
    {
     "data": {
      "text/plain": [
       "0.0"
      ]
     },
     "execution_count": 48,
     "metadata": {},
     "output_type": "execute_result"
    }
   ],
   "source": [
    "np.std(df.groupby(df.fl_date.dt.month)['arr_delay'].mean())"
   ]
  },
  {
   "cell_type": "code",
   "execution_count": 49,
   "metadata": {},
   "outputs": [
    {
     "ename": "AttributeError",
     "evalue": "module 'seaborn' has no attribute 'dist'",
     "output_type": "error",
     "traceback": [
      "\u001b[0;31m---------------------------------------------------------------------------\u001b[0m",
      "\u001b[0;31mAttributeError\u001b[0m                            Traceback (most recent call last)",
      "\u001b[0;32m/var/folders/v3/tlw8h42110q8xv05pjkdtcpc0000gp/T/ipykernel_987/3169940808.py\u001b[0m in \u001b[0;36m<module>\u001b[0;34m\u001b[0m\n\u001b[0;32m----> 1\u001b[0;31m \u001b[0msns\u001b[0m\u001b[0;34m.\u001b[0m\u001b[0mdist\u001b[0m\u001b[0;34m(\u001b[0m\u001b[0mdf\u001b[0m\u001b[0;34m.\u001b[0m\u001b[0mfl_date\u001b[0m\u001b[0;34m.\u001b[0m\u001b[0mdt\u001b[0m\u001b[0;34m.\u001b[0m\u001b[0mmonth\u001b[0m\u001b[0;34m.\u001b[0m\u001b[0mvalue_counts\u001b[0m\u001b[0;34m(\u001b[0m\u001b[0;34m)\u001b[0m\u001b[0;34m)\u001b[0m\u001b[0;34m\u001b[0m\u001b[0;34m\u001b[0m\u001b[0m\n\u001b[0m",
      "\u001b[0;31mAttributeError\u001b[0m: module 'seaborn' has no attribute 'dist'"
     ]
    }
   ],
   "source": [
    "sns.dist(df.fl_date.dt.month.value_counts())"
   ]
  },
  {
   "cell_type": "markdown",
   "metadata": {},
   "source": [
    "#### **Task 3**: Does the weather affect the delay? \n",
    "Use the API to pull the weather information for flights. There is no need to get weather for ALL flights. We can choose the right representative sample. Let's focus on four weather types:\n",
    "- sunny\n",
    "- cloudy\n",
    "- rainy\n",
    "- snow.\n",
    "Test the hypothesis that these 4 delays are from the same distribution. If they are not, which ones are significantly different?"
   ]
  },
  {
   "cell_type": "code",
   "execution_count": 54,
   "metadata": {},
   "outputs": [
    {
     "data": {
      "text/plain": [
       "True     96189\n",
       "False    23811\n",
       "Name: weather_delay, dtype: int64"
      ]
     },
     "execution_count": 54,
     "metadata": {},
     "output_type": "execute_result"
    }
   ],
   "source": [
    "df.weather_delay.isna().value_counts()"
   ]
  },
  {
   "cell_type": "code",
   "execution_count": 55,
   "metadata": {},
   "outputs": [
    {
     "data": {
      "text/plain": [
       "0.0      22655\n",
       "1.0         40\n",
       "2.0         32\n",
       "9.0         32\n",
       "15.0        31\n",
       "         ...  \n",
       "127.0        1\n",
       "126.0        1\n",
       "164.0        1\n",
       "94.0         1\n",
       "136.0        1\n",
       "Name: weather_delay, Length: 150, dtype: int64"
      ]
     },
     "execution_count": 55,
     "metadata": {},
     "output_type": "execute_result"
    }
   ],
   "source": [
    "df.weather_delay.value_counts()"
   ]
  },
  {
   "cell_type": "code",
   "execution_count": 93,
   "metadata": {},
   "outputs": [
    {
     "data": {
      "text/plain": [
       "max       199.000000\n",
       "min         0.000000\n",
       "mean        2.291733\n",
       "std        12.991763\n",
       "median      0.000000\n",
       "Name: weather_delay, dtype: float64"
      ]
     },
     "execution_count": 93,
     "metadata": {},
     "output_type": "execute_result"
    }
   ],
   "source": [
    "df['weather_delay'].agg(['max', 'min', 'mean', 'std', 'median'])"
   ]
  },
  {
   "cell_type": "markdown",
   "metadata": {},
   "source": [
    "#### **Task 4**: How taxi times changing during the day? Does higher traffic lead to bigger taxi times?"
   ]
  },
  {
   "cell_type": "code",
   "execution_count": null,
   "metadata": {},
   "outputs": [],
   "source": []
  },
  {
   "cell_type": "code",
   "execution_count": null,
   "metadata": {},
   "outputs": [],
   "source": []
  },
  {
   "cell_type": "markdown",
   "metadata": {},
   "source": [
    "#### **Task 5**: What is the average percentage of delays that is already created before departure? (aka are arrival delays caused by departure delays?) Are airlines able to lower the delay during the flights?"
   ]
  },
  {
   "cell_type": "code",
   "execution_count": 50,
   "metadata": {},
   "outputs": [
    {
     "data": {
      "text/plain": [
       "<matplotlib.collections.PathCollection at 0x7fba72000f40>"
      ]
     },
     "execution_count": 50,
     "metadata": {},
     "output_type": "execute_result"
    },
    {
     "data": {
      "image/png": "[encoded data removed]",
      "text/plain": [
       "<Figure size 432x288 with 1 Axes>"
      ]
     },
     "metadata": {
      "needs_background": "light"
     },
     "output_type": "display_data"
    }
   ],
   "source": [
    "plt.scatter(df[(df['dep_delay'] > 0) & (df['arr_delay'] > 0)]['dep_delay'], df[(df['dep_delay'] > 0) & (df['arr_delay'] > 0)]['arr_delay'])"
   ]
  },
  {
   "cell_type": "code",
   "execution_count": 51,
   "metadata": {},
   "outputs": [
    {
     "data": {
      "text/html": [
       "<div>\n",
       "<style scoped>\n",
       "    .dataframe tbody tr th:only-of-type {\n",
       "        vertical-align: middle;\n",
       "    }\n",
       "\n",
       "    .dataframe tbody tr th {\n",
       "        vertical-align: top;\n",
       "    }\n",
       "\n",
       "    .dataframe thead th {\n",
       "        text-align: right;\n",
       "    }\n",
       "</style>\n",
       "<table border=\"1\" class=\"dataframe\">\n",
       "  <thead>\n",
       "    <tr style=\"text-align: right;\">\n",
       "      <th></th>\n",
       "      <th>fl_date</th>\n",
       "      <th>mkt_unique_carrier</th>\n",
       "      <th>branded_code_share</th>\n",
       "      <th>mkt_carrier</th>\n",
       "      <th>mkt_carrier_fl_num</th>\n",
       "      <th>op_unique_carrier</th>\n",
       "      <th>tail_num</th>\n",
       "      <th>op_carrier_fl_num</th>\n",
       "      <th>origin_airport_id</th>\n",
       "      <th>origin</th>\n",
       "      <th>...</th>\n",
       "      <th>distance</th>\n",
       "      <th>passengers</th>\n",
       "      <th>capacity</th>\n",
       "      <th>total_gallons</th>\n",
       "      <th>dep_delay</th>\n",
       "      <th>nas_delay</th>\n",
       "      <th>security_delay</th>\n",
       "      <th>late_aircraft_delay</th>\n",
       "      <th>weather_delay</th>\n",
       "      <th>carrier_delay</th>\n",
       "    </tr>\n",
       "  </thead>\n",
       "  <tbody>\n",
       "    <tr>\n",
       "      <th>0</th>\n",
       "      <td>2019-01-01</td>\n",
       "      <td>AA</td>\n",
       "      <td>AA_CODESHARE</td>\n",
       "      <td>AA</td>\n",
       "      <td>5606</td>\n",
       "      <td>OH</td>\n",
       "      <td>N575NN</td>\n",
       "      <td>5606</td>\n",
       "      <td>13577</td>\n",
       "      <td>MYR</td>\n",
       "      <td>...</td>\n",
       "      <td>157.0</td>\n",
       "      <td>1325.400000</td>\n",
       "      <td>157.0</td>\n",
       "      <td>0.000000e+00</td>\n",
       "      <td>2.76087</td>\n",
       "      <td>3.875</td>\n",
       "      <td>0.0</td>\n",
       "      <td>30.0</td>\n",
       "      <td>0.0</td>\n",
       "      <td>6.5</td>\n",
       "    </tr>\n",
       "    <tr>\n",
       "      <th>1</th>\n",
       "      <td>2019-01-01</td>\n",
       "      <td>AA</td>\n",
       "      <td>AA_CODESHARE</td>\n",
       "      <td>AA</td>\n",
       "      <td>5243</td>\n",
       "      <td>OH</td>\n",
       "      <td>N591NN</td>\n",
       "      <td>5243</td>\n",
       "      <td>13577</td>\n",
       "      <td>MYR</td>\n",
       "      <td>...</td>\n",
       "      <td>157.0</td>\n",
       "      <td>1325.400000</td>\n",
       "      <td>157.0</td>\n",
       "      <td>0.000000e+00</td>\n",
       "      <td>2.76087</td>\n",
       "      <td>3.875</td>\n",
       "      <td>0.0</td>\n",
       "      <td>30.0</td>\n",
       "      <td>0.0</td>\n",
       "      <td>6.5</td>\n",
       "    </tr>\n",
       "    <tr>\n",
       "      <th>2</th>\n",
       "      <td>2019-01-01</td>\n",
       "      <td>AA</td>\n",
       "      <td>AA_CODESHARE</td>\n",
       "      <td>AA</td>\n",
       "      <td>5249</td>\n",
       "      <td>OH</td>\n",
       "      <td>N578NN</td>\n",
       "      <td>5249</td>\n",
       "      <td>13577</td>\n",
       "      <td>MYR</td>\n",
       "      <td>...</td>\n",
       "      <td>157.0</td>\n",
       "      <td>1325.400000</td>\n",
       "      <td>157.0</td>\n",
       "      <td>0.000000e+00</td>\n",
       "      <td>2.76087</td>\n",
       "      <td>3.875</td>\n",
       "      <td>0.0</td>\n",
       "      <td>30.0</td>\n",
       "      <td>0.0</td>\n",
       "      <td>6.5</td>\n",
       "    </tr>\n",
       "    <tr>\n",
       "      <th>3</th>\n",
       "      <td>2019-01-01</td>\n",
       "      <td>AA</td>\n",
       "      <td>AA_CODESHARE</td>\n",
       "      <td>AA</td>\n",
       "      <td>5261</td>\n",
       "      <td>OH</td>\n",
       "      <td>N584NN</td>\n",
       "      <td>5261</td>\n",
       "      <td>13577</td>\n",
       "      <td>MYR</td>\n",
       "      <td>...</td>\n",
       "      <td>157.0</td>\n",
       "      <td>1325.400000</td>\n",
       "      <td>157.0</td>\n",
       "      <td>0.000000e+00</td>\n",
       "      <td>2.76087</td>\n",
       "      <td>3.875</td>\n",
       "      <td>0.0</td>\n",
       "      <td>30.0</td>\n",
       "      <td>0.0</td>\n",
       "      <td>6.5</td>\n",
       "    </tr>\n",
       "    <tr>\n",
       "      <th>4</th>\n",
       "      <td>2019-01-01</td>\n",
       "      <td>AA</td>\n",
       "      <td>AA_CODESHARE</td>\n",
       "      <td>AA</td>\n",
       "      <td>5358</td>\n",
       "      <td>OH</td>\n",
       "      <td>N577NN</td>\n",
       "      <td>5358</td>\n",
       "      <td>13577</td>\n",
       "      <td>MYR</td>\n",
       "      <td>...</td>\n",
       "      <td>157.0</td>\n",
       "      <td>1325.400000</td>\n",
       "      <td>157.0</td>\n",
       "      <td>0.000000e+00</td>\n",
       "      <td>2.76087</td>\n",
       "      <td>3.875</td>\n",
       "      <td>0.0</td>\n",
       "      <td>30.0</td>\n",
       "      <td>0.0</td>\n",
       "      <td>6.5</td>\n",
       "    </tr>\n",
       "    <tr>\n",
       "      <th>...</th>\n",
       "      <td>...</td>\n",
       "      <td>...</td>\n",
       "      <td>...</td>\n",
       "      <td>...</td>\n",
       "      <td>...</td>\n",
       "      <td>...</td>\n",
       "      <td>...</td>\n",
       "      <td>...</td>\n",
       "      <td>...</td>\n",
       "      <td>...</td>\n",
       "      <td>...</td>\n",
       "      <td>...</td>\n",
       "      <td>...</td>\n",
       "      <td>...</td>\n",
       "      <td>...</td>\n",
       "      <td>...</td>\n",
       "      <td>...</td>\n",
       "      <td>...</td>\n",
       "      <td>...</td>\n",
       "      <td>...</td>\n",
       "      <td>...</td>\n",
       "    </tr>\n",
       "    <tr>\n",
       "      <th>195291</th>\n",
       "      <td>2018-01-04</td>\n",
       "      <td>F9</td>\n",
       "      <td>F9</td>\n",
       "      <td>F9</td>\n",
       "      <td>1445</td>\n",
       "      <td>F9</td>\n",
       "      <td>N919FR</td>\n",
       "      <td>1445</td>\n",
       "      <td>10397</td>\n",
       "      <td>ATL</td>\n",
       "      <td>...</td>\n",
       "      <td>874.0</td>\n",
       "      <td>1292.000000</td>\n",
       "      <td>196.0</td>\n",
       "      <td>2.353042e+07</td>\n",
       "      <td>74.00000</td>\n",
       "      <td>2.000</td>\n",
       "      <td>0.0</td>\n",
       "      <td>95.0</td>\n",
       "      <td>0.0</td>\n",
       "      <td>13.5</td>\n",
       "    </tr>\n",
       "    <tr>\n",
       "      <th>195292</th>\n",
       "      <td>2018-01-07</td>\n",
       "      <td>F9</td>\n",
       "      <td>F9</td>\n",
       "      <td>F9</td>\n",
       "      <td>1445</td>\n",
       "      <td>F9</td>\n",
       "      <td>N902FR</td>\n",
       "      <td>1445</td>\n",
       "      <td>10397</td>\n",
       "      <td>ATL</td>\n",
       "      <td>...</td>\n",
       "      <td>874.0</td>\n",
       "      <td>1292.000000</td>\n",
       "      <td>196.0</td>\n",
       "      <td>2.353042e+07</td>\n",
       "      <td>74.00000</td>\n",
       "      <td>2.000</td>\n",
       "      <td>0.0</td>\n",
       "      <td>95.0</td>\n",
       "      <td>0.0</td>\n",
       "      <td>13.5</td>\n",
       "    </tr>\n",
       "    <tr>\n",
       "      <th>195293</th>\n",
       "      <td>2018-01-02</td>\n",
       "      <td>F9</td>\n",
       "      <td>F9</td>\n",
       "      <td>F9</td>\n",
       "      <td>1111</td>\n",
       "      <td>F9</td>\n",
       "      <td>N313FR</td>\n",
       "      <td>1111</td>\n",
       "      <td>12266</td>\n",
       "      <td>IAH</td>\n",
       "      <td>...</td>\n",
       "      <td>1222.0</td>\n",
       "      <td>1324.333333</td>\n",
       "      <td>129.0</td>\n",
       "      <td>2.353042e+07</td>\n",
       "      <td>9.00000</td>\n",
       "      <td>20.000</td>\n",
       "      <td>0.0</td>\n",
       "      <td>0.0</td>\n",
       "      <td>7.0</td>\n",
       "      <td>0.0</td>\n",
       "    </tr>\n",
       "    <tr>\n",
       "      <th>195294</th>\n",
       "      <td>2018-01-04</td>\n",
       "      <td>F9</td>\n",
       "      <td>F9</td>\n",
       "      <td>F9</td>\n",
       "      <td>1111</td>\n",
       "      <td>F9</td>\n",
       "      <td>N211FR</td>\n",
       "      <td>1111</td>\n",
       "      <td>12266</td>\n",
       "      <td>IAH</td>\n",
       "      <td>...</td>\n",
       "      <td>1222.0</td>\n",
       "      <td>1324.333333</td>\n",
       "      <td>129.0</td>\n",
       "      <td>2.353042e+07</td>\n",
       "      <td>9.00000</td>\n",
       "      <td>20.000</td>\n",
       "      <td>0.0</td>\n",
       "      <td>0.0</td>\n",
       "      <td>7.0</td>\n",
       "      <td>0.0</td>\n",
       "    </tr>\n",
       "    <tr>\n",
       "      <th>195295</th>\n",
       "      <td>2018-01-07</td>\n",
       "      <td>F9</td>\n",
       "      <td>F9</td>\n",
       "      <td>F9</td>\n",
       "      <td>1111</td>\n",
       "      <td>F9</td>\n",
       "      <td>N223FR</td>\n",
       "      <td>1111</td>\n",
       "      <td>12266</td>\n",
       "      <td>IAH</td>\n",
       "      <td>...</td>\n",
       "      <td>1222.0</td>\n",
       "      <td>1324.333333</td>\n",
       "      <td>129.0</td>\n",
       "      <td>2.353042e+07</td>\n",
       "      <td>9.00000</td>\n",
       "      <td>20.000</td>\n",
       "      <td>0.0</td>\n",
       "      <td>0.0</td>\n",
       "      <td>7.0</td>\n",
       "      <td>0.0</td>\n",
       "    </tr>\n",
       "  </tbody>\n",
       "</table>\n",
       "<p>181437 rows × 41 columns</p>\n",
       "</div>"
      ],
      "text/plain": [
       "          fl_date mkt_unique_carrier branded_code_share mkt_carrier  \\\n",
       "0      2019-01-01                 AA       AA_CODESHARE          AA   \n",
       "1      2019-01-01                 AA       AA_CODESHARE          AA   \n",
       "2      2019-01-01                 AA       AA_CODESHARE          AA   \n",
       "3      2019-01-01                 AA       AA_CODESHARE          AA   \n",
       "4      2019-01-01                 AA       AA_CODESHARE          AA   \n",
       "...           ...                ...                ...         ...   \n",
       "195291 2018-01-04                 F9                 F9          F9   \n",
       "195292 2018-01-07                 F9                 F9          F9   \n",
       "195293 2018-01-02                 F9                 F9          F9   \n",
       "195294 2018-01-04                 F9                 F9          F9   \n",
       "195295 2018-01-07                 F9                 F9          F9   \n",
       "\n",
       "        mkt_carrier_fl_num op_unique_carrier tail_num  op_carrier_fl_num  \\\n",
       "0                     5606                OH   N575NN               5606   \n",
       "1                     5243                OH   N591NN               5243   \n",
       "2                     5249                OH   N578NN               5249   \n",
       "3                     5261                OH   N584NN               5261   \n",
       "4                     5358                OH   N577NN               5358   \n",
       "...                    ...               ...      ...                ...   \n",
       "195291                1445                F9   N919FR               1445   \n",
       "195292                1445                F9   N902FR               1445   \n",
       "195293                1111                F9   N313FR               1111   \n",
       "195294                1111                F9   N211FR               1111   \n",
       "195295                1111                F9   N223FR               1111   \n",
       "\n",
       "        origin_airport_id origin  ... distance   passengers capacity  \\\n",
       "0                   13577    MYR  ...    157.0  1325.400000    157.0   \n",
       "1                   13577    MYR  ...    157.0  1325.400000    157.0   \n",
       "2                   13577    MYR  ...    157.0  1325.400000    157.0   \n",
       "3                   13577    MYR  ...    157.0  1325.400000    157.0   \n",
       "4                   13577    MYR  ...    157.0  1325.400000    157.0   \n",
       "...                   ...    ...  ...      ...          ...      ...   \n",
       "195291              10397    ATL  ...    874.0  1292.000000    196.0   \n",
       "195292              10397    ATL  ...    874.0  1292.000000    196.0   \n",
       "195293              12266    IAH  ...   1222.0  1324.333333    129.0   \n",
       "195294              12266    IAH  ...   1222.0  1324.333333    129.0   \n",
       "195295              12266    IAH  ...   1222.0  1324.333333    129.0   \n",
       "\n",
       "       total_gallons  dep_delay  nas_delay  security_delay  \\\n",
       "0       0.000000e+00    2.76087      3.875             0.0   \n",
       "1       0.000000e+00    2.76087      3.875             0.0   \n",
       "2       0.000000e+00    2.76087      3.875             0.0   \n",
       "3       0.000000e+00    2.76087      3.875             0.0   \n",
       "4       0.000000e+00    2.76087      3.875             0.0   \n",
       "...              ...        ...        ...             ...   \n",
       "195291  2.353042e+07   74.00000      2.000             0.0   \n",
       "195292  2.353042e+07   74.00000      2.000             0.0   \n",
       "195293  2.353042e+07    9.00000     20.000             0.0   \n",
       "195294  2.353042e+07    9.00000     20.000             0.0   \n",
       "195295  2.353042e+07    9.00000     20.000             0.0   \n",
       "\n",
       "        late_aircraft_delay  weather_delay  carrier_delay  \n",
       "0                      30.0            0.0            6.5  \n",
       "1                      30.0            0.0            6.5  \n",
       "2                      30.0            0.0            6.5  \n",
       "3                      30.0            0.0            6.5  \n",
       "4                      30.0            0.0            6.5  \n",
       "...                     ...            ...            ...  \n",
       "195291                 95.0            0.0           13.5  \n",
       "195292                 95.0            0.0           13.5  \n",
       "195293                  0.0            7.0            0.0  \n",
       "195294                  0.0            7.0            0.0  \n",
       "195295                  0.0            7.0            0.0  \n",
       "\n",
       "[181437 rows x 41 columns]"
      ]
     },
     "execution_count": 51,
     "metadata": {},
     "output_type": "execute_result"
    }
   ],
   "source": [
    "df[(df['dep_delay'] > 0)]"
   ]
  },
  {
   "cell_type": "code",
   "execution_count": 52,
   "metadata": {},
   "outputs": [
    {
     "data": {
      "text/html": [
       "<div>\n",
       "<style scoped>\n",
       "    .dataframe tbody tr th:only-of-type {\n",
       "        vertical-align: middle;\n",
       "    }\n",
       "\n",
       "    .dataframe tbody tr th {\n",
       "        vertical-align: top;\n",
       "    }\n",
       "\n",
       "    .dataframe thead th {\n",
       "        text-align: right;\n",
       "    }\n",
       "</style>\n",
       "<table border=\"1\" class=\"dataframe\">\n",
       "  <thead>\n",
       "    <tr style=\"text-align: right;\">\n",
       "      <th></th>\n",
       "      <th>dep_delay</th>\n",
       "      <th>arr_delay</th>\n",
       "      <th>carrier_delay</th>\n",
       "      <th>weather_delay</th>\n",
       "      <th>nas_delay</th>\n",
       "      <th>security_delay</th>\n",
       "      <th>late_aircraft_delay</th>\n",
       "    </tr>\n",
       "  </thead>\n",
       "  <tbody>\n",
       "    <tr>\n",
       "      <th>2243</th>\n",
       "      <td>-4.057143</td>\n",
       "      <td>-10.0</td>\n",
       "      <td>0.25</td>\n",
       "      <td>0.0</td>\n",
       "      <td>13.75</td>\n",
       "      <td>0.0</td>\n",
       "      <td>8.5</td>\n",
       "    </tr>\n",
       "    <tr>\n",
       "      <th>2244</th>\n",
       "      <td>-4.057143</td>\n",
       "      <td>-12.0</td>\n",
       "      <td>0.25</td>\n",
       "      <td>0.0</td>\n",
       "      <td>13.75</td>\n",
       "      <td>0.0</td>\n",
       "      <td>8.5</td>\n",
       "    </tr>\n",
       "    <tr>\n",
       "      <th>2245</th>\n",
       "      <td>-4.057143</td>\n",
       "      <td>-19.0</td>\n",
       "      <td>0.25</td>\n",
       "      <td>0.0</td>\n",
       "      <td>13.75</td>\n",
       "      <td>0.0</td>\n",
       "      <td>8.5</td>\n",
       "    </tr>\n",
       "    <tr>\n",
       "      <th>2246</th>\n",
       "      <td>-4.057143</td>\n",
       "      <td>-21.0</td>\n",
       "      <td>0.25</td>\n",
       "      <td>0.0</td>\n",
       "      <td>13.75</td>\n",
       "      <td>0.0</td>\n",
       "      <td>8.5</td>\n",
       "    </tr>\n",
       "    <tr>\n",
       "      <th>2247</th>\n",
       "      <td>-4.057143</td>\n",
       "      <td>-2.0</td>\n",
       "      <td>0.25</td>\n",
       "      <td>0.0</td>\n",
       "      <td>13.75</td>\n",
       "      <td>0.0</td>\n",
       "      <td>8.5</td>\n",
       "    </tr>\n",
       "    <tr>\n",
       "      <th>...</th>\n",
       "      <td>...</td>\n",
       "      <td>...</td>\n",
       "      <td>...</td>\n",
       "      <td>...</td>\n",
       "      <td>...</td>\n",
       "      <td>...</td>\n",
       "      <td>...</td>\n",
       "    </tr>\n",
       "    <tr>\n",
       "      <th>195240</th>\n",
       "      <td>-2.600000</td>\n",
       "      <td>-12.0</td>\n",
       "      <td>0.00</td>\n",
       "      <td>0.0</td>\n",
       "      <td>18.00</td>\n",
       "      <td>0.0</td>\n",
       "      <td>0.0</td>\n",
       "    </tr>\n",
       "    <tr>\n",
       "      <th>195241</th>\n",
       "      <td>-2.600000</td>\n",
       "      <td>-29.0</td>\n",
       "      <td>0.00</td>\n",
       "      <td>0.0</td>\n",
       "      <td>18.00</td>\n",
       "      <td>0.0</td>\n",
       "      <td>0.0</td>\n",
       "    </tr>\n",
       "    <tr>\n",
       "      <th>195242</th>\n",
       "      <td>-2.600000</td>\n",
       "      <td>18.0</td>\n",
       "      <td>0.00</td>\n",
       "      <td>0.0</td>\n",
       "      <td>18.00</td>\n",
       "      <td>0.0</td>\n",
       "      <td>0.0</td>\n",
       "    </tr>\n",
       "    <tr>\n",
       "      <th>195243</th>\n",
       "      <td>-2.600000</td>\n",
       "      <td>-21.0</td>\n",
       "      <td>0.00</td>\n",
       "      <td>0.0</td>\n",
       "      <td>18.00</td>\n",
       "      <td>0.0</td>\n",
       "      <td>0.0</td>\n",
       "    </tr>\n",
       "    <tr>\n",
       "      <th>195244</th>\n",
       "      <td>-2.600000</td>\n",
       "      <td>12.0</td>\n",
       "      <td>0.00</td>\n",
       "      <td>0.0</td>\n",
       "      <td>18.00</td>\n",
       "      <td>0.0</td>\n",
       "      <td>0.0</td>\n",
       "    </tr>\n",
       "  </tbody>\n",
       "</table>\n",
       "<p>10197 rows × 7 columns</p>\n",
       "</div>"
      ],
      "text/plain": [
       "        dep_delay  arr_delay  carrier_delay  weather_delay  nas_delay  \\\n",
       "2243    -4.057143      -10.0           0.25            0.0      13.75   \n",
       "2244    -4.057143      -12.0           0.25            0.0      13.75   \n",
       "2245    -4.057143      -19.0           0.25            0.0      13.75   \n",
       "2246    -4.057143      -21.0           0.25            0.0      13.75   \n",
       "2247    -4.057143       -2.0           0.25            0.0      13.75   \n",
       "...           ...        ...            ...            ...        ...   \n",
       "195240  -2.600000      -12.0           0.00            0.0      18.00   \n",
       "195241  -2.600000      -29.0           0.00            0.0      18.00   \n",
       "195242  -2.600000       18.0           0.00            0.0      18.00   \n",
       "195243  -2.600000      -21.0           0.00            0.0      18.00   \n",
       "195244  -2.600000       12.0           0.00            0.0      18.00   \n",
       "\n",
       "        security_delay  late_aircraft_delay  \n",
       "2243               0.0                  8.5  \n",
       "2244               0.0                  8.5  \n",
       "2245               0.0                  8.5  \n",
       "2246               0.0                  8.5  \n",
       "2247               0.0                  8.5  \n",
       "...                ...                  ...  \n",
       "195240             0.0                  0.0  \n",
       "195241             0.0                  0.0  \n",
       "195242             0.0                  0.0  \n",
       "195243             0.0                  0.0  \n",
       "195244             0.0                  0.0  \n",
       "\n",
       "[10197 rows x 7 columns]"
      ]
     },
     "execution_count": 52,
     "metadata": {},
     "output_type": "execute_result"
    }
   ],
   "source": [
    "df[(df['dep_delay'] < 0)][['dep_delay', 'arr_delay', 'carrier_delay', 'weather_delay', 'nas_delay', 'security_delay', 'late_aircraft_delay']]"
   ]
  },
  {
   "cell_type": "code",
   "execution_count": 54,
   "metadata": {},
   "outputs": [
    {
     "data": {
      "text/html": [
       "<div>\n",
       "<style scoped>\n",
       "    .dataframe tbody tr th:only-of-type {\n",
       "        vertical-align: middle;\n",
       "    }\n",
       "\n",
       "    .dataframe tbody tr th {\n",
       "        vertical-align: top;\n",
       "    }\n",
       "\n",
       "    .dataframe thead th {\n",
       "        text-align: right;\n",
       "    }\n",
       "</style>\n",
       "<table border=\"1\" class=\"dataframe\">\n",
       "  <thead>\n",
       "    <tr style=\"text-align: right;\">\n",
       "      <th></th>\n",
       "      <th>fl_date</th>\n",
       "      <th>mkt_unique_carrier</th>\n",
       "      <th>branded_code_share</th>\n",
       "      <th>mkt_carrier</th>\n",
       "      <th>mkt_carrier_fl_num</th>\n",
       "      <th>op_unique_carrier</th>\n",
       "      <th>tail_num</th>\n",
       "      <th>op_carrier_fl_num</th>\n",
       "      <th>origin_airport_id</th>\n",
       "      <th>origin</th>\n",
       "      <th>...</th>\n",
       "      <th>distance</th>\n",
       "      <th>passengers</th>\n",
       "      <th>capacity</th>\n",
       "      <th>total_gallons</th>\n",
       "      <th>dep_delay</th>\n",
       "      <th>nas_delay</th>\n",
       "      <th>security_delay</th>\n",
       "      <th>late_aircraft_delay</th>\n",
       "      <th>weather_delay</th>\n",
       "      <th>carrier_delay</th>\n",
       "    </tr>\n",
       "  </thead>\n",
       "  <tbody>\n",
       "    <tr>\n",
       "      <th>0</th>\n",
       "      <td>2019-01-01</td>\n",
       "      <td>AA</td>\n",
       "      <td>AA_CODESHARE</td>\n",
       "      <td>AA</td>\n",
       "      <td>5606</td>\n",
       "      <td>OH</td>\n",
       "      <td>N575NN</td>\n",
       "      <td>5606</td>\n",
       "      <td>13577</td>\n",
       "      <td>MYR</td>\n",
       "      <td>...</td>\n",
       "      <td>157.0</td>\n",
       "      <td>1325.400000</td>\n",
       "      <td>157.0</td>\n",
       "      <td>0.000000e+00</td>\n",
       "      <td>2.760870</td>\n",
       "      <td>3.875</td>\n",
       "      <td>0.0</td>\n",
       "      <td>30.0</td>\n",
       "      <td>0.0</td>\n",
       "      <td>6.5</td>\n",
       "    </tr>\n",
       "    <tr>\n",
       "      <th>4</th>\n",
       "      <td>2019-01-01</td>\n",
       "      <td>AA</td>\n",
       "      <td>AA_CODESHARE</td>\n",
       "      <td>AA</td>\n",
       "      <td>5358</td>\n",
       "      <td>OH</td>\n",
       "      <td>N577NN</td>\n",
       "      <td>5358</td>\n",
       "      <td>13577</td>\n",
       "      <td>MYR</td>\n",
       "      <td>...</td>\n",
       "      <td>157.0</td>\n",
       "      <td>1325.400000</td>\n",
       "      <td>157.0</td>\n",
       "      <td>0.000000e+00</td>\n",
       "      <td>2.760870</td>\n",
       "      <td>3.875</td>\n",
       "      <td>0.0</td>\n",
       "      <td>30.0</td>\n",
       "      <td>0.0</td>\n",
       "      <td>6.5</td>\n",
       "    </tr>\n",
       "    <tr>\n",
       "      <th>5</th>\n",
       "      <td>2019-01-01</td>\n",
       "      <td>AA</td>\n",
       "      <td>AA_CODESHARE</td>\n",
       "      <td>AA</td>\n",
       "      <td>5385</td>\n",
       "      <td>OH</td>\n",
       "      <td>N565NN</td>\n",
       "      <td>5385</td>\n",
       "      <td>13577</td>\n",
       "      <td>MYR</td>\n",
       "      <td>...</td>\n",
       "      <td>157.0</td>\n",
       "      <td>1325.400000</td>\n",
       "      <td>157.0</td>\n",
       "      <td>0.000000e+00</td>\n",
       "      <td>2.760870</td>\n",
       "      <td>3.875</td>\n",
       "      <td>0.0</td>\n",
       "      <td>30.0</td>\n",
       "      <td>0.0</td>\n",
       "      <td>6.5</td>\n",
       "    </tr>\n",
       "    <tr>\n",
       "      <th>9</th>\n",
       "      <td>2019-01-02</td>\n",
       "      <td>AA</td>\n",
       "      <td>AA_CODESHARE</td>\n",
       "      <td>AA</td>\n",
       "      <td>5453</td>\n",
       "      <td>OH</td>\n",
       "      <td>N575NN</td>\n",
       "      <td>5453</td>\n",
       "      <td>13577</td>\n",
       "      <td>MYR</td>\n",
       "      <td>...</td>\n",
       "      <td>157.0</td>\n",
       "      <td>1325.400000</td>\n",
       "      <td>157.0</td>\n",
       "      <td>0.000000e+00</td>\n",
       "      <td>2.760870</td>\n",
       "      <td>3.875</td>\n",
       "      <td>0.0</td>\n",
       "      <td>30.0</td>\n",
       "      <td>0.0</td>\n",
       "      <td>6.5</td>\n",
       "    </tr>\n",
       "    <tr>\n",
       "      <th>10</th>\n",
       "      <td>2019-01-02</td>\n",
       "      <td>AA</td>\n",
       "      <td>AA_CODESHARE</td>\n",
       "      <td>AA</td>\n",
       "      <td>5243</td>\n",
       "      <td>OH</td>\n",
       "      <td>N572NN</td>\n",
       "      <td>5243</td>\n",
       "      <td>13577</td>\n",
       "      <td>MYR</td>\n",
       "      <td>...</td>\n",
       "      <td>157.0</td>\n",
       "      <td>1325.400000</td>\n",
       "      <td>157.0</td>\n",
       "      <td>0.000000e+00</td>\n",
       "      <td>2.760870</td>\n",
       "      <td>3.875</td>\n",
       "      <td>0.0</td>\n",
       "      <td>30.0</td>\n",
       "      <td>0.0</td>\n",
       "      <td>6.5</td>\n",
       "    </tr>\n",
       "    <tr>\n",
       "      <th>...</th>\n",
       "      <td>...</td>\n",
       "      <td>...</td>\n",
       "      <td>...</td>\n",
       "      <td>...</td>\n",
       "      <td>...</td>\n",
       "      <td>...</td>\n",
       "      <td>...</td>\n",
       "      <td>...</td>\n",
       "      <td>...</td>\n",
       "      <td>...</td>\n",
       "      <td>...</td>\n",
       "      <td>...</td>\n",
       "      <td>...</td>\n",
       "      <td>...</td>\n",
       "      <td>...</td>\n",
       "      <td>...</td>\n",
       "      <td>...</td>\n",
       "      <td>...</td>\n",
       "      <td>...</td>\n",
       "      <td>...</td>\n",
       "      <td>...</td>\n",
       "    </tr>\n",
       "    <tr>\n",
       "      <th>195278</th>\n",
       "      <td>2018-01-05</td>\n",
       "      <td>F9</td>\n",
       "      <td>F9</td>\n",
       "      <td>F9</td>\n",
       "      <td>1104</td>\n",
       "      <td>F9</td>\n",
       "      <td>N308FR</td>\n",
       "      <td>1104</td>\n",
       "      <td>12889</td>\n",
       "      <td>LAS</td>\n",
       "      <td>...</td>\n",
       "      <td>2174.0</td>\n",
       "      <td>666.000000</td>\n",
       "      <td>54.0</td>\n",
       "      <td>2.353042e+07</td>\n",
       "      <td>12.166667</td>\n",
       "      <td>0.000</td>\n",
       "      <td>0.0</td>\n",
       "      <td>0.0</td>\n",
       "      <td>0.0</td>\n",
       "      <td>48.0</td>\n",
       "    </tr>\n",
       "    <tr>\n",
       "      <th>195279</th>\n",
       "      <td>2018-01-06</td>\n",
       "      <td>F9</td>\n",
       "      <td>F9</td>\n",
       "      <td>F9</td>\n",
       "      <td>1104</td>\n",
       "      <td>F9</td>\n",
       "      <td>N317FR</td>\n",
       "      <td>1104</td>\n",
       "      <td>12889</td>\n",
       "      <td>LAS</td>\n",
       "      <td>...</td>\n",
       "      <td>2174.0</td>\n",
       "      <td>666.000000</td>\n",
       "      <td>54.0</td>\n",
       "      <td>2.353042e+07</td>\n",
       "      <td>12.166667</td>\n",
       "      <td>0.000</td>\n",
       "      <td>0.0</td>\n",
       "      <td>0.0</td>\n",
       "      <td>0.0</td>\n",
       "      <td>48.0</td>\n",
       "    </tr>\n",
       "    <tr>\n",
       "      <th>195292</th>\n",
       "      <td>2018-01-07</td>\n",
       "      <td>F9</td>\n",
       "      <td>F9</td>\n",
       "      <td>F9</td>\n",
       "      <td>1445</td>\n",
       "      <td>F9</td>\n",
       "      <td>N902FR</td>\n",
       "      <td>1445</td>\n",
       "      <td>10397</td>\n",
       "      <td>ATL</td>\n",
       "      <td>...</td>\n",
       "      <td>874.0</td>\n",
       "      <td>1292.000000</td>\n",
       "      <td>196.0</td>\n",
       "      <td>2.353042e+07</td>\n",
       "      <td>74.000000</td>\n",
       "      <td>2.000</td>\n",
       "      <td>0.0</td>\n",
       "      <td>95.0</td>\n",
       "      <td>0.0</td>\n",
       "      <td>13.5</td>\n",
       "    </tr>\n",
       "    <tr>\n",
       "      <th>195294</th>\n",
       "      <td>2018-01-04</td>\n",
       "      <td>F9</td>\n",
       "      <td>F9</td>\n",
       "      <td>F9</td>\n",
       "      <td>1111</td>\n",
       "      <td>F9</td>\n",
       "      <td>N211FR</td>\n",
       "      <td>1111</td>\n",
       "      <td>12266</td>\n",
       "      <td>IAH</td>\n",
       "      <td>...</td>\n",
       "      <td>1222.0</td>\n",
       "      <td>1324.333333</td>\n",
       "      <td>129.0</td>\n",
       "      <td>2.353042e+07</td>\n",
       "      <td>9.000000</td>\n",
       "      <td>20.000</td>\n",
       "      <td>0.0</td>\n",
       "      <td>0.0</td>\n",
       "      <td>7.0</td>\n",
       "      <td>0.0</td>\n",
       "    </tr>\n",
       "    <tr>\n",
       "      <th>195295</th>\n",
       "      <td>2018-01-07</td>\n",
       "      <td>F9</td>\n",
       "      <td>F9</td>\n",
       "      <td>F9</td>\n",
       "      <td>1111</td>\n",
       "      <td>F9</td>\n",
       "      <td>N223FR</td>\n",
       "      <td>1111</td>\n",
       "      <td>12266</td>\n",
       "      <td>IAH</td>\n",
       "      <td>...</td>\n",
       "      <td>1222.0</td>\n",
       "      <td>1324.333333</td>\n",
       "      <td>129.0</td>\n",
       "      <td>2.353042e+07</td>\n",
       "      <td>9.000000</td>\n",
       "      <td>20.000</td>\n",
       "      <td>0.0</td>\n",
       "      <td>0.0</td>\n",
       "      <td>7.0</td>\n",
       "      <td>0.0</td>\n",
       "    </tr>\n",
       "  </tbody>\n",
       "</table>\n",
       "<p>116344 rows × 41 columns</p>\n",
       "</div>"
      ],
      "text/plain": [
       "          fl_date mkt_unique_carrier branded_code_share mkt_carrier  \\\n",
       "0      2019-01-01                 AA       AA_CODESHARE          AA   \n",
       "4      2019-01-01                 AA       AA_CODESHARE          AA   \n",
       "5      2019-01-01                 AA       AA_CODESHARE          AA   \n",
       "9      2019-01-02                 AA       AA_CODESHARE          AA   \n",
       "10     2019-01-02                 AA       AA_CODESHARE          AA   \n",
       "...           ...                ...                ...         ...   \n",
       "195278 2018-01-05                 F9                 F9          F9   \n",
       "195279 2018-01-06                 F9                 F9          F9   \n",
       "195292 2018-01-07                 F9                 F9          F9   \n",
       "195294 2018-01-04                 F9                 F9          F9   \n",
       "195295 2018-01-07                 F9                 F9          F9   \n",
       "\n",
       "        mkt_carrier_fl_num op_unique_carrier tail_num  op_carrier_fl_num  \\\n",
       "0                     5606                OH   N575NN               5606   \n",
       "4                     5358                OH   N577NN               5358   \n",
       "5                     5385                OH   N565NN               5385   \n",
       "9                     5453                OH   N575NN               5453   \n",
       "10                    5243                OH   N572NN               5243   \n",
       "...                    ...               ...      ...                ...   \n",
       "195278                1104                F9   N308FR               1104   \n",
       "195279                1104                F9   N317FR               1104   \n",
       "195292                1445                F9   N902FR               1445   \n",
       "195294                1111                F9   N211FR               1111   \n",
       "195295                1111                F9   N223FR               1111   \n",
       "\n",
       "        origin_airport_id origin  ... distance   passengers capacity  \\\n",
       "0                   13577    MYR  ...    157.0  1325.400000    157.0   \n",
       "4                   13577    MYR  ...    157.0  1325.400000    157.0   \n",
       "5                   13577    MYR  ...    157.0  1325.400000    157.0   \n",
       "9                   13577    MYR  ...    157.0  1325.400000    157.0   \n",
       "10                  13577    MYR  ...    157.0  1325.400000    157.0   \n",
       "...                   ...    ...  ...      ...          ...      ...   \n",
       "195278              12889    LAS  ...   2174.0   666.000000     54.0   \n",
       "195279              12889    LAS  ...   2174.0   666.000000     54.0   \n",
       "195292              10397    ATL  ...    874.0  1292.000000    196.0   \n",
       "195294              12266    IAH  ...   1222.0  1324.333333    129.0   \n",
       "195295              12266    IAH  ...   1222.0  1324.333333    129.0   \n",
       "\n",
       "       total_gallons  dep_delay  nas_delay  security_delay  \\\n",
       "0       0.000000e+00   2.760870      3.875             0.0   \n",
       "4       0.000000e+00   2.760870      3.875             0.0   \n",
       "5       0.000000e+00   2.760870      3.875             0.0   \n",
       "9       0.000000e+00   2.760870      3.875             0.0   \n",
       "10      0.000000e+00   2.760870      3.875             0.0   \n",
       "...              ...        ...        ...             ...   \n",
       "195278  2.353042e+07  12.166667      0.000             0.0   \n",
       "195279  2.353042e+07  12.166667      0.000             0.0   \n",
       "195292  2.353042e+07  74.000000      2.000             0.0   \n",
       "195294  2.353042e+07   9.000000     20.000             0.0   \n",
       "195295  2.353042e+07   9.000000     20.000             0.0   \n",
       "\n",
       "        late_aircraft_delay  weather_delay  carrier_delay  \n",
       "0                      30.0            0.0            6.5  \n",
       "4                      30.0            0.0            6.5  \n",
       "5                      30.0            0.0            6.5  \n",
       "9                      30.0            0.0            6.5  \n",
       "10                     30.0            0.0            6.5  \n",
       "...                     ...            ...            ...  \n",
       "195278                  0.0            0.0           48.0  \n",
       "195279                  0.0            0.0           48.0  \n",
       "195292                 95.0            0.0           13.5  \n",
       "195294                  0.0            7.0            0.0  \n",
       "195295                  0.0            7.0            0.0  \n",
       "\n",
       "[116344 rows x 41 columns]"
      ]
     },
     "execution_count": 54,
     "metadata": {},
     "output_type": "execute_result"
    }
   ],
   "source": [
    "df[df['arr_delay'] < 0]"
   ]
  },
  {
   "cell_type": "code",
   "execution_count": 58,
   "metadata": {},
   "outputs": [
    {
     "data": {
      "text/plain": [
       "0.933327030186344"
      ]
     },
     "execution_count": 58,
     "metadata": {},
     "output_type": "execute_result"
    }
   ],
   "source": [
    "len(df[(df['dep_delay'] > 0) & (df['arr_delay'] < 0)])/len(df[df['arr_delay'] < 0])"
   ]
  },
  {
   "cell_type": "code",
   "execution_count": 57,
   "metadata": {},
   "outputs": [
    {
     "data": {
      "text/plain": [
       "0.966971913563013"
      ]
     },
     "execution_count": 57,
     "metadata": {},
     "output_type": "execute_result"
    }
   ],
   "source": [
    "len(df[(df['dep_delay'] > 0) & (df['arr_delay'] > 0)])/len(df[df['arr_delay'] > 0])"
   ]
  },
  {
   "cell_type": "markdown",
   "metadata": {},
   "source": [
    "#### **Task 6**: How many states cover 50% of US air traffic? "
   ]
  },
  {
   "cell_type": "code",
   "execution_count": 31,
   "metadata": {},
   "outputs": [
    {
     "data": {
      "text/plain": [
       "Chicago, IL              7003\n",
       "Atlanta, GA              5584\n",
       "Denver, CO               4569\n",
       "Dallas/Fort Worth, TX    4241\n",
       "Houston, TX              4039\n",
       "Los Angeles, CA          3851\n",
       "New York, NY             3759\n",
       "Washington, DC           3241\n",
       "Charlotte, NC            3234\n",
       "Phoenix, AZ              3172\n",
       "Las Vegas, NV            3096\n",
       "San Francisco, CA        2539\n",
       "Seattle, WA              2523\n",
       "Orlando, FL              2404\n",
       "Detroit, MI              2363\n",
       "Baltimore, MD            2270\n",
       "Minneapolis, MN          2215\n",
       "Name: dest_city_name, dtype: int64"
      ]
     },
     "execution_count": 31,
     "metadata": {},
     "output_type": "execute_result"
    }
   ],
   "source": [
    "df.dest_city_name.value_counts().head(17)"
   ]
  },
  {
   "cell_type": "code",
   "execution_count": 149,
   "metadata": {},
   "outputs": [],
   "source": [
    "origin_state= df.origin_city_name.str.split(pat=\", \",expand=True).iloc[:,1]\n"
   ]
  },
  {
   "cell_type": "code",
   "execution_count": 139,
   "metadata": {},
   "outputs": [],
   "source": [
    "destination_state= df.dest_city_name.str.split(pat=\", \",expand=True).iloc[:,1]\n"
   ]
  },
  {
   "cell_type": "code",
   "execution_count": null,
   "metadata": {},
   "outputs": [],
   "source": [
    "air_traffic= pd.concat(origin_state, destination_state)"
   ]
  },
  {
   "cell_type": "code",
   "execution_count": 150,
   "metadata": {},
   "outputs": [
    {
     "data": {
      "text/plain": [
       "71.81074194837892"
      ]
     },
     "execution_count": 150,
     "metadata": {},
     "output_type": "execute_result"
    }
   ],
   "source": [
    "air_traffic.value_counts().head().sum()/air_traffic.value_counts().sum()*100"
   ]
  },
  {
   "cell_type": "code",
   "execution_count": 151,
   "metadata": {},
   "outputs": [
    {
     "data": {
      "text/plain": [
       "1 \n",
       "TX    143529820\n",
       "CA    135701332\n",
       "IL     85224936\n",
       "FL     84120960\n",
       "NY     63483480\n",
       "dtype: int64"
      ]
     },
     "execution_count": 151,
     "metadata": {},
     "output_type": "execute_result"
    }
   ],
   "source": [
    "air_traffic.value_counts().head()"
   ]
  },
  {
   "cell_type": "markdown",
   "metadata": {},
   "source": [
    "#### **Task 7**: Test the hypothesis whether planes fly faster when there is the departure delay? "
   ]
  },
  {
   "cell_type": "code",
   "execution_count": 146,
   "metadata": {},
   "outputs": [],
   "source": [
    "df['duration_diff'] = df.crs_elapsed_time - df.actual_elapsed_time"
   ]
  },
  {
   "cell_type": "code",
   "execution_count": 147,
   "metadata": {},
   "outputs": [
    {
     "data": {
      "text/plain": [
       "-0.5765562486964106"
      ]
     },
     "execution_count": 147,
     "metadata": {},
     "output_type": "execute_result"
    }
   ],
   "source": [
    "df[df['dep_delay'] > 0]['duration_diff'].mean()"
   ]
  },
  {
   "cell_type": "code",
   "execution_count": null,
   "metadata": {},
   "outputs": [],
   "source": []
  },
  {
   "cell_type": "code",
   "execution_count": null,
   "metadata": {},
   "outputs": [],
   "source": []
  },
  {
   "cell_type": "markdown",
   "metadata": {},
   "source": [
    "#### **Task 8**: When (which hour) do most 'LONG', 'SHORT', 'MEDIUM' haul flights take off?"
   ]
  },
  {
   "cell_type": "code",
   "execution_count": null,
   "metadata": {},
   "outputs": [],
   "source": []
  },
  {
   "cell_type": "code",
   "execution_count": null,
   "metadata": {},
   "outputs": [],
   "source": []
  },
  {
   "cell_type": "markdown",
   "metadata": {},
   "source": [
    "#### **Task 9**: Find the top 10 the bussiest airports. Does the biggest number of flights mean that the biggest number of passengers went through the particular airport? How much traffic do these 10 airports cover?"
   ]
  },
  {
   "cell_type": "code",
   "execution_count": 42,
   "metadata": {},
   "outputs": [
    {
     "data": {
      "text/plain": [
       "Chicago, IL              7003\n",
       "Atlanta, GA              5584\n",
       "Denver, CO               4569\n",
       "Dallas/Fort Worth, TX    4241\n",
       "Houston, TX              4039\n",
       "Los Angeles, CA          3851\n",
       "New York, NY             3759\n",
       "Washington, DC           3241\n",
       "Charlotte, NC            3234\n",
       "Phoenix, AZ              3172\n",
       "Name: dest_city_name, dtype: int64"
      ]
     },
     "execution_count": 42,
     "metadata": {},
     "output_type": "execute_result"
    }
   ],
   "source": [
    "df.dest_city_name.value_counts().head(10)"
   ]
  },
  {
   "cell_type": "code",
   "execution_count": 43,
   "metadata": {},
   "outputs": [
    {
     "data": {
      "text/plain": [
       "43273"
      ]
     },
     "execution_count": 43,
     "metadata": {},
     "output_type": "execute_result"
    }
   ],
   "source": [
    "df.origin_city_name.value_counts().head(10).sum()"
   ]
  },
  {
   "cell_type": "markdown",
   "metadata": {},
   "source": [
    "#### **Task 10**: Do bigger delays lead to bigger fuel comsumption per passenger? \n",
    "We need to do four things to answer this as accurate as possible:\n",
    "- Find out average monthly delay per air carrier (monthly delay is sum of all delays in 1 month)\n",
    "- Find out distance covered monthly by different air carriers\n",
    "- Find out number of passengers that were carried by different air carriers\n",
    "- Find out total fuel comsumption per air carrier.\n",
    "\n",
    "Use this information to get the average fuel comsumption per passenger per km. Is this higher for the airlines with bigger average delays?"
   ]
  },
  {
   "cell_type": "code",
   "execution_count": 21,
   "metadata": {},
   "outputs": [
    {
     "data": {
      "text/plain": [
       "161931855.66782308"
      ]
     },
     "execution_count": 21,
     "metadata": {},
     "output_type": "execute_result"
    }
   ],
   "source": [
    "df[df['arr_delay']> 0]['total_gallons'].mean()"
   ]
  },
  {
   "cell_type": "code",
   "execution_count": 25,
   "metadata": {},
   "outputs": [
    {
     "data": {
      "text/html": [
       "<div>\n",
       "<style scoped>\n",
       "    .dataframe tbody tr th:only-of-type {\n",
       "        vertical-align: middle;\n",
       "    }\n",
       "\n",
       "    .dataframe tbody tr th {\n",
       "        vertical-align: top;\n",
       "    }\n",
       "\n",
       "    .dataframe thead th {\n",
       "        text-align: right;\n",
       "    }\n",
       "</style>\n",
       "<table border=\"1\" class=\"dataframe\">\n",
       "  <thead>\n",
       "    <tr style=\"text-align: right;\">\n",
       "      <th></th>\n",
       "      <th>fl_date</th>\n",
       "      <th>mkt_unique_carrier</th>\n",
       "      <th>branded_code_share</th>\n",
       "      <th>mkt_carrier</th>\n",
       "      <th>mkt_carrier_fl_num</th>\n",
       "      <th>op_unique_carrier</th>\n",
       "      <th>tail_num</th>\n",
       "      <th>op_carrier_fl_num</th>\n",
       "      <th>origin_airport_id</th>\n",
       "      <th>origin</th>\n",
       "      <th>...</th>\n",
       "      <th>distance</th>\n",
       "      <th>passengers</th>\n",
       "      <th>capacity</th>\n",
       "      <th>total_gallons</th>\n",
       "      <th>dep_delay</th>\n",
       "      <th>nas_delay</th>\n",
       "      <th>security_delay</th>\n",
       "      <th>late_aircraft_delay</th>\n",
       "      <th>weather_delay</th>\n",
       "      <th>carrier_delay</th>\n",
       "    </tr>\n",
       "  </thead>\n",
       "  <tbody>\n",
       "  </tbody>\n",
       "</table>\n",
       "<p>0 rows × 41 columns</p>\n",
       "</div>"
      ],
      "text/plain": [
       "Empty DataFrame\n",
       "Columns: [fl_date, mkt_unique_carrier, branded_code_share, mkt_carrier, mkt_carrier_fl_num, op_unique_carrier, tail_num, op_carrier_fl_num, origin_airport_id, origin, origin_city_name, dest_airport_id, dest, dest_city_name, crs_dep_time, dep_time, taxi_out, wheels_off, wheels_on, taxi_in, crs_arr_time, arr_time, arr_delay, cancelled, cancellation_code, diverted, dup, crs_elapsed_time, actual_elapsed_time, air_time, flights, distance, passengers, capacity, total_gallons, dep_delay, nas_delay, security_delay, late_aircraft_delay, weather_delay, carrier_delay]\n",
       "Index: []\n",
       "\n",
       "[0 rows x 41 columns]"
      ]
     },
     "execution_count": 25,
     "metadata": {},
     "output_type": "execute_result"
    }
   ],
   "source": [
    "df[df['arr_delay']< 0]"
   ]
  },
  {
   "cell_type": "code",
   "execution_count": 30,
   "metadata": {},
   "outputs": [
    {
     "data": {
      "text/plain": [
       "15.0"
      ]
     },
     "execution_count": 30,
     "metadata": {},
     "output_type": "execute_result"
    }
   ],
   "source": [
    "df['arr_delay'].min()"
   ]
  },
  {
   "cell_type": "code",
   "execution_count": null,
   "metadata": {},
   "outputs": [],
   "source": []
  }
 ],
 "metadata": {
  "kernelspec": {
   "display_name": "Python 3 (ipykernel)",
   "language": "python",
   "name": "python3"
  },
  "language_info": {
   "codemirror_mode": {
    "name": "ipython",
    "version": 3
   },
   "file_extension": ".py",
   "mimetype": "text/x-python",
   "name": "python",
   "nbconvert_exporter": "python",
   "pygments_lexer": "ipython3",
   "version": "3.9.7"
  },
  "toc": {
   "base_numbering": 1,
   "nav_menu": {},
   "number_sections": true,
   "sideBar": true,
   "skip_h1_title": false,
   "title_cell": "Table of Contents",
   "title_sidebar": "Contents",
   "toc_cell": false,
   "toc_position": {},
   "toc_section_display": true,
   "toc_window_display": false
  },
  "varInspector": {
   "cols": {
    "lenName": 16,
    "lenType": 16,
    "lenVar": 40
   },
   "kernels_config": {
    "python": {
     "delete_cmd_postfix": "",
     "delete_cmd_prefix": "del ",
     "library": "var_list.py",
     "varRefreshCmd": "print(var_dic_list())"
    },
    "r": {
     "delete_cmd_postfix": ") ",
     "delete_cmd_prefix": "rm(",
     "library": "var_list.r",
     "varRefreshCmd": "cat(var_dic_list()) "
    }
   },
   "types_to_exclude": [
    "module",
    "function",
    "builtin_function_or_method",
    "instance",
    "_Feature"
   ],
   "window_display": false
  }
 },
 "nbformat": 4,
 "nbformat_minor": 4
}
